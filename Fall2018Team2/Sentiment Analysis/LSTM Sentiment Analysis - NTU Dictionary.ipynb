{
 "cells": [
  {
   "cell_type": "markdown",
   "metadata": {},
   "source": [
    "# Sentiment Analysis Using RNN"
   ]
  },
  {
   "cell_type": "markdown",
   "metadata": {},
   "source": [
    "We use an Sequential LSTM to create a supervised learning approach for predicting the sentiment of an article. This notebook was adapted from https://www.kaggle.com/ngyptr/lstm-sentiment-analysis-keras.  "
   ]
  },
  {
   "cell_type": "markdown",
   "metadata": {},
   "source": [
    "#### Data and Packages Importing"
   ]
  },
  {
   "cell_type": "code",
   "execution_count": 1,
   "metadata": {},
   "outputs": [
    {
     "name": "stderr",
     "output_type": "stream",
     "text": [
      "/Users/sudarshan/anaconda/lib/python3.6/site-packages/h5py/__init__.py:34: FutureWarning: Conversion of the second argument of issubdtype from `float` to `np.floating` is deprecated. In future, it will be treated as `np.float64 == np.dtype(float).type`.\n",
      "  from ._conv import register_converters as _register_converters\n",
      "Using TensorFlow backend.\n"
     ]
    },
    {
     "name": "stdout",
     "output_type": "stream",
     "text": [
      "Couldn't import dot_parser, loading of dot files will not be possible.\n"
     ]
    }
   ],
   "source": [
    "import numpy as np\n",
    "import pandas as pd\n",
    "\n",
    "from sklearn.feature_extraction.text import CountVectorizer\n",
    "from keras.preprocessing.text import Tokenizer\n",
    "from keras.preprocessing.sequence import pad_sequences\n",
    "from keras.models import Sequential\n",
    "from keras.layers import Dense, Embedding, LSTM, SpatialDropout1D\n",
    "from sklearn.model_selection import train_test_split\n",
    "from keras.utils.np_utils import to_categorical\n",
    "import re\n",
    "\n",
    "training_data_folder = \"./Sentiment Training Data/\""
   ]
  },
  {
   "cell_type": "markdown",
   "metadata": {},
   "source": [
    "#### Initializing the Word Dictionaries\n",
    "We use Pandas to initialize the word dictionary corpus from NTU and ensure that all the words are standardized into lower case format."
   ]
  },
  {
   "cell_type": "code",
   "execution_count": 238,
   "metadata": {},
   "outputs": [],
   "source": [
    "vocabulary = pd.read_csv(training_data_folder + \"vocabulary.csv\")\n",
    "vocabulary[\"Word\"] = vocabulary[\"Word\"].str.lower()\n",
    "vocabulary_string = \"\"\n",
    "\n",
    "for word in vocabulary[\"Word\"]:\n",
    "    vocabulary_string += word + \" \"\n",
    "    \n",
    "max_features = 2000"
   ]
  },
  {
   "cell_type": "markdown",
   "metadata": {},
   "source": [
    "### Tokenizer\n",
    "We tokenize the word dictionary in order to train the RNN."
   ]
  },
  {
   "cell_type": "code",
   "execution_count": 239,
   "metadata": {},
   "outputs": [],
   "source": [
    "tokenizer = Tokenizer(num_words=len(vocabulary[\"Word\"]), split=\" \", char_level=False)\n",
    "tokenizer.fit_on_texts(vocabulary[\"Word\"].values)"
   ]
  },
  {
   "cell_type": "code",
   "execution_count": 240,
   "metadata": {},
   "outputs": [],
   "source": [
    "X = tokenizer.texts_to_sequences(vocabulary[\"Word\"].values)\n",
    "\n",
    "temp = []\n",
    "for i in X:\n",
    "    temp.append(len(i))\n",
    "X = pad_sequences(X, maxlen = max_features)"
   ]
  },
  {
   "cell_type": "code",
   "execution_count": 241,
   "metadata": {},
   "outputs": [],
   "source": [
    "Y = []\n",
    "\n",
    "for i, row in vocabulary.iterrows():\n",
    "    y = row[\"Sentiment\"]\n",
    "    Y.append(y)"
   ]
  },
  {
   "cell_type": "markdown",
   "metadata": {},
   "source": [
    "#### Building the LSTM Model"
   ]
  },
  {
   "cell_type": "code",
   "execution_count": 242,
   "metadata": {},
   "outputs": [
    {
     "name": "stdout",
     "output_type": "stream",
     "text": [
      "_________________________________________________________________\n",
      "Layer (type)                 Output Shape              Param #   \n",
      "=================================================================\n",
      "embedding_18 (Embedding)     (None, 2000, 128)         2433280   \n",
      "_________________________________________________________________\n",
      "spatial_dropout1d_18 (Spatia (None, 2000, 128)         0         \n",
      "_________________________________________________________________\n",
      "lstm_18 (LSTM)               (None, 196)               254800    \n",
      "_________________________________________________________________\n",
      "dense_18 (Dense)             (None, 2)                 394       \n",
      "=================================================================\n",
      "Total params: 2,688,474\n",
      "Trainable params: 2,688,474\n",
      "Non-trainable params: 0\n",
      "_________________________________________________________________\n",
      "None\n"
     ]
    }
   ],
   "source": [
    "embed_dim = 128\n",
    "lstm_out = 196\n",
    "max_features = X.shape[0]\n",
    "\n",
    "model = Sequential()\n",
    "model.add(Embedding(max_features, embed_dim,input_length = X.shape[1]))\n",
    "model.add(SpatialDropout1D(0.4))\n",
    "model.add(LSTM(lstm_out, dropout=0.5, recurrent_dropout=0.5))\n",
    "model.add(Dense(2,activation='softmax'))\n",
    "model.compile(loss = 'categorical_crossentropy', optimizer='adam',metrics = ['accuracy'])\n",
    "print(model.summary())"
   ]
  },
  {
   "cell_type": "markdown",
   "metadata": {},
   "source": [
    "#### Building a Training and Test Set"
   ]
  },
  {
   "cell_type": "code",
   "execution_count": 243,
   "metadata": {},
   "outputs": [
    {
     "name": "stdout",
     "output_type": "stream",
     "text": [
      "(9505, 2000) (9505, 2)\n",
      "(9505, 2000) (9505, 2)\n"
     ]
    }
   ],
   "source": [
    "Y_dummies = []\n",
    "\n",
    "for i in Y:\n",
    "    if i > 0.5:\n",
    "        Y_dummies.append([y, (1-y)])\n",
    "    else:\n",
    "        Y_dummies.append([(1-y), y])\n",
    "\n",
    "Y_dummies = np.matrix(Y_dummies)\n",
    "\n",
    "X_train, X_test, Y_train, Y_test = train_test_split(X,Y_dummies, test_size = 0.5, random_state = 42)\n",
    "print(X_train.shape,Y_train.shape)\n",
    "print(X_test.shape,Y_test.shape)"
   ]
  },
  {
   "cell_type": "markdown",
   "metadata": {},
   "source": [
    "#### Training the RNN\n",
    "\n",
    "Multiple resources recommended that the RNN should be trained with around 4000 iterations of data from start to the end of the network. After experimentation, we identified a batch_size of 32 to minimze the loss. Hence, we calculate the epoch size based on the batch size, in order to ensure to that we can achieve the 4000 iterations."
   ]
  },
  {
   "cell_type": "code",
   "execution_count": 245,
   "metadata": {},
   "outputs": [
    {
     "name": "stdout",
     "output_type": "stream",
     "text": [
      "Epoch 1/13\n",
      "9505/9505 [==============================] - 1577s 166ms/step - loss: 0.6935 - acc: 0.5170\n",
      "Epoch 2/13\n",
      "9505/9505 [==============================] - 2088s 220ms/step - loss: 0.6850 - acc: 0.6882\n",
      "Epoch 3/13\n",
      "9505/9505 [==============================] - 1991s 209ms/step - loss: 0.6618 - acc: 0.9294\n",
      "Epoch 4/13\n",
      "9505/9505 [==============================] - 1344s 141ms/step - loss: 0.6585 - acc: 0.9420\n",
      "Epoch 5/13\n",
      "9505/9505 [==============================] - 1234s 130ms/step - loss: 0.6567 - acc: 0.9596\n",
      "Epoch 6/13\n",
      "9505/9505 [==============================] - 988s 104ms/step - loss: 0.6549 - acc: 0.9639\n",
      "Epoch 7/13\n",
      "9505/9505 [==============================] - 1090s 115ms/step - loss: 0.6537 - acc: 0.9659\n",
      "Epoch 8/13\n",
      "9505/9505 [==============================] - 1192s 125ms/step - loss: 0.6529 - acc: 0.9651\n",
      "Epoch 9/13\n",
      "9505/9505 [==============================] - 1522s 160ms/step - loss: 0.6522 - acc: 0.9661\n",
      "Epoch 10/13\n",
      "9505/9505 [==============================] - 2193s 231ms/step - loss: 0.6519 - acc: 0.9660\n",
      "Epoch 11/13\n",
      "9505/9505 [==============================] - 1807s 190ms/step - loss: 0.6515 - acc: 0.9673\n",
      "Epoch 12/13\n",
      "9505/9505 [==============================] - 1375s 145ms/step - loss: 0.6513 - acc: 0.9657\n",
      "Epoch 13/13\n",
      "9505/9505 [==============================] - 1054s 111ms/step - loss: 0.6511 - acc: 0.9653\n"
     ]
    },
    {
     "data": {
      "text/plain": [
       "<keras.callbacks.History at 0x169d575c0>"
      ]
     },
     "execution_count": 245,
     "metadata": {},
     "output_type": "execute_result"
    }
   ],
   "source": [
    "batch_size = 32\n",
    "epochs = int(4000 / (X_train.shape[0] / batch_size))\n",
    "model.fit(X_train, Y_train, epochs = epochs, batch_size=batch_size, verbose = 1)"
   ]
  },
  {
   "cell_type": "markdown",
   "metadata": {},
   "source": [
    "#### Evaluating the Model"
   ]
  },
  {
   "cell_type": "code",
   "execution_count": 253,
   "metadata": {},
   "outputs": [
    {
     "name": "stdout",
     "output_type": "stream",
     "text": [
      "9505/9505 [==============================] - 400s 42ms/step\n",
      "score: 0.69\n",
      "acc: 0.55\n"
     ]
    }
   ],
   "source": [
    "score,acc = model.evaluate(X_test, Y_test, verbose = 1, batch_size = batch_size)\n",
    "print(\"score: %.2f\" % (score))\n",
    "print(\"acc: %.2f\" % (acc))"
   ]
  },
  {
   "cell_type": "markdown",
   "metadata": {},
   "source": [
    "#### Testing RNN Accuracy on Hand-Labelled Articles"
   ]
  },
  {
   "cell_type": "code",
   "execution_count": 254,
   "metadata": {},
   "outputs": [],
   "source": [
    "import pandas as pd\n",
    "import numpy as np\n",
    "\n",
    "df1 = pd.read_csv(\"./Sentiment Analysis Data/Classified Articles.csv\")\n",
    "\n",
    "df2 = pd.read_csv(\"./Sentiment Analysis Data/Articles Reading Assignment.csv\")\n",
    "df2 = df2.dropna()\n",
    "df2[\"Sentiment\"] += 1\n",
    "df2[\"Sentiment\"] /= 2\n",
    "\n",
    "df2[\"Content\"] = [\"\" for i in range(len(df2))]\n",
    "df2[\"Content Length\"] = [0 for i in range(len(df2))]\n",
    "\n",
    "for i, row in df2.iterrows():\n",
    "    x = row[\"URL\"]\n",
    "    \n",
    "    key_words = df1[df1[\"source_url\"] == x][:1][\"contents\"].values[0]\n",
    "    df2.at[i, \"Content\"] = str(key_words)\n",
    "    df2.at[i, \"Content Length\"] = len(key_words)"
   ]
  },
  {
   "cell_type": "code",
   "execution_count": 255,
   "metadata": {},
   "outputs": [
    {
     "name": "stdout",
     "output_type": "stream",
     "text": [
      "246/246 [==============================] - 12s 49ms/step\n"
     ]
    },
    {
     "data": {
      "text/html": [
       "<div>\n",
       "<style>\n",
       "    .dataframe thead tr:only-child th {\n",
       "        text-align: right;\n",
       "    }\n",
       "\n",
       "    .dataframe thead th {\n",
       "        text-align: left;\n",
       "    }\n",
       "\n",
       "    .dataframe tbody tr th {\n",
       "        vertical-align: top;\n",
       "    }\n",
       "</style>\n",
       "<table border=\"1\" class=\"dataframe\">\n",
       "  <thead>\n",
       "    <tr style=\"text-align: right;\">\n",
       "      <th></th>\n",
       "      <th>Name</th>\n",
       "      <th>URL</th>\n",
       "      <th>Sentiment</th>\n",
       "      <th>Content</th>\n",
       "      <th>Content Length</th>\n",
       "      <th>Predicted Quantitative Sentiment</th>\n",
       "      <th>Predicted Qualitative Sentiment</th>\n",
       "    </tr>\n",
       "  </thead>\n",
       "  <tbody>\n",
       "    <tr>\n",
       "      <th>0</th>\n",
       "      <td>Sudarshan</td>\n",
       "      <td>https://www.wykop.pl/link/4223359/blockchain-a...</td>\n",
       "      <td>0.5</td>\n",
       "      <td>ciastka strona korzysta z plik w cookies w cel...</td>\n",
       "      <td>347</td>\n",
       "      <td>0.0</td>\n",
       "      <td>Moderately Negative</td>\n",
       "    </tr>\n",
       "    <tr>\n",
       "      <th>1</th>\n",
       "      <td>Sudarshan</td>\n",
       "      <td>http://www.computerweekly.com/news/252434855/C...</td>\n",
       "      <td>0.0</td>\n",
       "      <td>santiago silver fotolia criminals using crypto...</td>\n",
       "      <td>6472</td>\n",
       "      <td>0.0</td>\n",
       "      <td>Moderately Negative</td>\n",
       "    </tr>\n",
       "    <tr>\n",
       "      <th>2</th>\n",
       "      <td>Sudarshan</td>\n",
       "      <td>http://www.mcclatchydc.com/news/politics-gover...</td>\n",
       "      <td>0.0</td>\n",
       "      <td>franco ordo ez anita kumar fordonez mcclatchyd...</td>\n",
       "      <td>5233</td>\n",
       "      <td>0.0</td>\n",
       "      <td>Moderately Negative</td>\n",
       "    </tr>\n",
       "    <tr>\n",
       "      <th>3</th>\n",
       "      <td>Sudarshan</td>\n",
       "      <td>https://slashdot.org/submission/7844329/coinch...</td>\n",
       "      <td>0.0</td>\n",
       "      <td>catch stories past week beyond slashdot story ...</td>\n",
       "      <td>310</td>\n",
       "      <td>1.0</td>\n",
       "      <td>Moderately Positive</td>\n",
       "    </tr>\n",
       "    <tr>\n",
       "      <th>4</th>\n",
       "      <td>Sudarshan</td>\n",
       "      <td>https://cointelegraph.com/news/philippines-sen...</td>\n",
       "      <td>0.0</td>\n",
       "      <td>cointelegraph philippine senator leila de lima...</td>\n",
       "      <td>1750</td>\n",
       "      <td>1.0</td>\n",
       "      <td>Moderately Positive</td>\n",
       "    </tr>\n",
       "  </tbody>\n",
       "</table>\n",
       "</div>"
      ],
      "text/plain": [
       "        Name                                                URL  Sentiment  \\\n",
       "0  Sudarshan  https://www.wykop.pl/link/4223359/blockchain-a...        0.5   \n",
       "1  Sudarshan  http://www.computerweekly.com/news/252434855/C...        0.0   \n",
       "2  Sudarshan  http://www.mcclatchydc.com/news/politics-gover...        0.0   \n",
       "3  Sudarshan  https://slashdot.org/submission/7844329/coinch...        0.0   \n",
       "4  Sudarshan  https://cointelegraph.com/news/philippines-sen...        0.0   \n",
       "\n",
       "                                             Content  Content Length  \\\n",
       "0  ciastka strona korzysta z plik w cookies w cel...             347   \n",
       "1  santiago silver fotolia criminals using crypto...            6472   \n",
       "2  franco ordo ez anita kumar fordonez mcclatchyd...            5233   \n",
       "3  catch stories past week beyond slashdot story ...             310   \n",
       "4  cointelegraph philippine senator leila de lima...            1750   \n",
       "\n",
       "   Predicted Quantitative Sentiment Predicted Qualitative Sentiment  \n",
       "0                               0.0             Moderately Negative  \n",
       "1                               0.0             Moderately Negative  \n",
       "2                               0.0             Moderately Negative  \n",
       "3                               1.0             Moderately Positive  \n",
       "4                               1.0             Moderately Positive  "
      ]
     },
     "execution_count": 255,
     "metadata": {},
     "output_type": "execute_result"
    }
   ],
   "source": [
    "tokenizer.fit_on_texts(df2['Content'].values)\n",
    "X = tokenizer.texts_to_sequences(df2['Content'].values)\n",
    "X = pad_sequences(X, maxlen = 2000)\n",
    "\n",
    "predictions = model.predict(X, batch_size=batch_size, verbose=1, steps=None)\n",
    "\n",
    "numerical_predictions_assigned = []\n",
    "qualitative_prediction_assigned = []\n",
    "\n",
    "for i in predictions:\n",
    "    i = i[1]\n",
    "    if i > 0.60:\n",
    "        numerical_predictions_assigned.append(1)\n",
    "    elif i > 0.40:\n",
    "        numerical_predictions_assigned.append(0.5)\n",
    "    else:\n",
    "        numerical_predictions_assigned.append(0)\n",
    "    \n",
    "    if i > 0.8:\n",
    "        qualitative_prediction_assigned.append(\"Strongly Positive\")\n",
    "    elif i > 0.6:\n",
    "        qualitative_prediction_assigned.append(\"Moderately Positive\")\n",
    "    elif i > 0.4:\n",
    "        qualitative_prediction_assigned.append(\"Neutral\")\n",
    "    elif i > 0.2:\n",
    "        qualitative_prediction_assigned.append(\"Moderately Negative\")\n",
    "    else:\n",
    "        qualitative_prediction_assigned.append(\"Strongly Negative\")\n",
    "\n",
    "df2[\"Predicted Quantitative Sentiment\"] = numerical_predictions_assigned\n",
    "df2[\"Predicted Qualitative Sentiment\"] = qualitative_prediction_assigned\n",
    "\n",
    "df2.head()"
   ]
  },
  {
   "cell_type": "code",
   "execution_count": 256,
   "metadata": {},
   "outputs": [
    {
     "name": "stdout",
     "output_type": "stream",
     "text": [
      "The accuracy on the manually labelled data set is 0.3252032520325203\n"
     ]
    }
   ],
   "source": [
    "success_count = 0\n",
    "total_count = 0\n",
    "for i, row in df2.iterrows():\n",
    "    manual_sentiment = row[\"Sentiment\"]\n",
    "    predicted_sentiment = row[\"Predicted Quantitative Sentiment\"]\n",
    "    qualitative_sentiment = row[\"Predicted Qualitative Sentiment\"]\n",
    "    \n",
    "    if manual_sentiment == predicted_sentiment:\n",
    "        success_count += 1\n",
    "    \n",
    "    total_count += 1\n",
    "    \n",
    "#     print(manual_sentiment, predicted_sentiment, qualitative_sentiment)\n",
    "    \n",
    "print(\"The accuracy on the manually labelled data set is {}\".format(float(success_count/total_count)))    "
   ]
  },
  {
   "cell_type": "markdown",
   "metadata": {},
   "source": [
    "#### Testing RNN Accuracy on Spring 2018 Data"
   ]
  },
  {
   "cell_type": "code",
   "execution_count": 257,
   "metadata": {},
   "outputs": [
    {
     "name": "stdout",
     "output_type": "stream",
     "text": [
      "(40732, 13)\n"
     ]
    },
    {
     "data": {
      "text/html": [
       "<div>\n",
       "<style>\n",
       "    .dataframe thead tr:only-child th {\n",
       "        text-align: right;\n",
       "    }\n",
       "\n",
       "    .dataframe thead th {\n",
       "        text-align: left;\n",
       "    }\n",
       "\n",
       "    .dataframe tbody tr th {\n",
       "        vertical-align: top;\n",
       "    }\n",
       "</style>\n",
       "<table border=\"1\" class=\"dataframe\">\n",
       "  <thead>\n",
       "    <tr style=\"text-align: right;\">\n",
       "      <th></th>\n",
       "      <th>Unnamed: 0</th>\n",
       "      <th>index</th>\n",
       "      <th>author</th>\n",
       "      <th>contents</th>\n",
       "      <th>description</th>\n",
       "      <th>publisher</th>\n",
       "      <th>source_url</th>\n",
       "      <th>title</th>\n",
       "      <th>date</th>\n",
       "      <th>time</th>\n",
       "      <th>label</th>\n",
       "      <th>c</th>\n",
       "      <th>marks</th>\n",
       "    </tr>\n",
       "  </thead>\n",
       "  <tbody>\n",
       "    <tr>\n",
       "      <th>0</th>\n",
       "      <td>0</td>\n",
       "      <td>0</td>\n",
       "      <td>Stripe.com</td>\n",
       "      <td>complete payments platform engineered growth b...</td>\n",
       "      <td>At Stripe, we’ve long been excited about the p...</td>\n",
       "      <td>Stripe.com</td>\n",
       "      <td>https://stripe.com/blog/ending-bitcoin-support</td>\n",
       "      <td>Ending Bitcoin Support</td>\n",
       "      <td>2018-01-23</td>\n",
       "      <td>00:00:00</td>\n",
       "      <td>0.0</td>\n",
       "      <td>['complete', 'payments', 'platform', 'engineer...</td>\n",
       "      <td>0</td>\n",
       "    </tr>\n",
       "    <tr>\n",
       "      <th>1</th>\n",
       "      <td>31650</td>\n",
       "      <td>31650</td>\n",
       "      <td>fisco</td>\n",
       "      <td>bitcoin news price information analysis week s...</td>\n",
       "      <td>In the week starting Monday, March 5, some top...</td>\n",
       "      <td>Newsbtc.com</td>\n",
       "      <td>https://www.newsbtc.com/2018/03/13/services-br...</td>\n",
       "      <td>Services Bridging Cryptocurrencies and Investo...</td>\n",
       "      <td>2018-03-13</td>\n",
       "      <td>07:39:30</td>\n",
       "      <td>0.0</td>\n",
       "      <td>['bitcoin', 'news', 'price', 'information', 'a...</td>\n",
       "      <td>0</td>\n",
       "    </tr>\n",
       "    <tr>\n",
       "      <th>2</th>\n",
       "      <td>31651</td>\n",
       "      <td>31651</td>\n",
       "      <td>Apple</td>\n",
       "      <td>category video tutorial</td>\n",
       "      <td>Blockchain EOS - Discover How To Get &amp; Send Et...</td>\n",
       "      <td>Gfxbing.com</td>\n",
       "      <td>http://gfxbing.com/video-tutorial/845272-block...</td>\n",
       "      <td>Blockchain EOS - Discover How To Get &amp; Send Et...</td>\n",
       "      <td>2018-03-13</td>\n",
       "      <td>07:39:49</td>\n",
       "      <td>0.0</td>\n",
       "      <td>['category', 'video', 'tutorial']</td>\n",
       "      <td>0</td>\n",
       "    </tr>\n",
       "    <tr>\n",
       "      <th>3</th>\n",
       "      <td>31652</td>\n",
       "      <td>31652</td>\n",
       "      <td>Steven Hay</td>\n",
       "      <td>last updated march th initial coin offerings i...</td>\n",
       "      <td>The post What are ERC-20 Tokens? A Beginner’s ...</td>\n",
       "      <td>99bitcoins.com</td>\n",
       "      <td>https://99bitcoins.com/what-are-erc-20-tokens/</td>\n",
       "      <td>What are ERC-20 Tokens? A Beginner’s Explanation</td>\n",
       "      <td>2018-03-13</td>\n",
       "      <td>07:44:37</td>\n",
       "      <td>0.0</td>\n",
       "      <td>['last', 'updated', 'march', 'th', 'initial', ...</td>\n",
       "      <td>0</td>\n",
       "    </tr>\n",
       "    <tr>\n",
       "      <th>4</th>\n",
       "      <td>31653</td>\n",
       "      <td>31653</td>\n",
       "      <td>e27.co/elena.prokopets</td>\n",
       "      <td>future startups check tea talk week discussion...</td>\n",
       "      <td>Blockchain can resolve a lot issues, for consu...</td>\n",
       "      <td>E27.co</td>\n",
       "      <td>https://e27.co/4-ways-blockchain-revolutionisi...</td>\n",
       "      <td>4 ways blockchain is revolutionising the trave...</td>\n",
       "      <td>2018-03-13</td>\n",
       "      <td>07:46:06</td>\n",
       "      <td>0.0</td>\n",
       "      <td>['future', 'startups', 'check', 'tea', 'talk',...</td>\n",
       "      <td>0</td>\n",
       "    </tr>\n",
       "  </tbody>\n",
       "</table>\n",
       "</div>"
      ],
      "text/plain": [
       "   Unnamed: 0  index                  author  \\\n",
       "0           0      0              Stripe.com   \n",
       "1       31650  31650                   fisco   \n",
       "2       31651  31651                   Apple   \n",
       "3       31652  31652              Steven Hay   \n",
       "4       31653  31653  e27.co/elena.prokopets   \n",
       "\n",
       "                                            contents  \\\n",
       "0  complete payments platform engineered growth b...   \n",
       "1  bitcoin news price information analysis week s...   \n",
       "2                            category video tutorial   \n",
       "3  last updated march th initial coin offerings i...   \n",
       "4  future startups check tea talk week discussion...   \n",
       "\n",
       "                                         description       publisher  \\\n",
       "0  At Stripe, we’ve long been excited about the p...      Stripe.com   \n",
       "1  In the week starting Monday, March 5, some top...     Newsbtc.com   \n",
       "2  Blockchain EOS - Discover How To Get & Send Et...     Gfxbing.com   \n",
       "3  The post What are ERC-20 Tokens? A Beginner’s ...  99bitcoins.com   \n",
       "4  Blockchain can resolve a lot issues, for consu...          E27.co   \n",
       "\n",
       "                                          source_url  \\\n",
       "0     https://stripe.com/blog/ending-bitcoin-support   \n",
       "1  https://www.newsbtc.com/2018/03/13/services-br...   \n",
       "2  http://gfxbing.com/video-tutorial/845272-block...   \n",
       "3     https://99bitcoins.com/what-are-erc-20-tokens/   \n",
       "4  https://e27.co/4-ways-blockchain-revolutionisi...   \n",
       "\n",
       "                                               title        date      time  \\\n",
       "0                             Ending Bitcoin Support  2018-01-23  00:00:00   \n",
       "1  Services Bridging Cryptocurrencies and Investo...  2018-03-13  07:39:30   \n",
       "2  Blockchain EOS - Discover How To Get & Send Et...  2018-03-13  07:39:49   \n",
       "3   What are ERC-20 Tokens? A Beginner’s Explanation  2018-03-13  07:44:37   \n",
       "4  4 ways blockchain is revolutionising the trave...  2018-03-13  07:46:06   \n",
       "\n",
       "   label                                                  c  marks  \n",
       "0    0.0  ['complete', 'payments', 'platform', 'engineer...      0  \n",
       "1    0.0  ['bitcoin', 'news', 'price', 'information', 'a...      0  \n",
       "2    0.0                  ['category', 'video', 'tutorial']      0  \n",
       "3    0.0  ['last', 'updated', 'march', 'th', 'initial', ...      0  \n",
       "4    0.0  ['future', 'startups', 'check', 'tea', 'talk',...      0  "
      ]
     },
     "execution_count": 257,
     "metadata": {},
     "output_type": "execute_result"
    }
   ],
   "source": [
    "sp18_df = pd.read_csv(\"./Sentiment Analysis Data/Classified Articles.csv\")\n",
    "print(sp18_df.shape)\n",
    "sp18_df.head()"
   ]
  },
  {
   "cell_type": "code",
   "execution_count": 258,
   "metadata": {},
   "outputs": [
    {
     "name": "stdout",
     "output_type": "stream",
     "text": [
      "40732/40732 [==============================] - 1181s 29ms/step\n"
     ]
    },
    {
     "data": {
      "text/html": [
       "<div>\n",
       "<style>\n",
       "    .dataframe thead tr:only-child th {\n",
       "        text-align: right;\n",
       "    }\n",
       "\n",
       "    .dataframe thead th {\n",
       "        text-align: left;\n",
       "    }\n",
       "\n",
       "    .dataframe tbody tr th {\n",
       "        vertical-align: top;\n",
       "    }\n",
       "</style>\n",
       "<table border=\"1\" class=\"dataframe\">\n",
       "  <thead>\n",
       "    <tr style=\"text-align: right;\">\n",
       "      <th></th>\n",
       "      <th>Unnamed: 0</th>\n",
       "      <th>index</th>\n",
       "      <th>author</th>\n",
       "      <th>contents</th>\n",
       "      <th>description</th>\n",
       "      <th>publisher</th>\n",
       "      <th>source_url</th>\n",
       "      <th>title</th>\n",
       "      <th>date</th>\n",
       "      <th>time</th>\n",
       "      <th>label</th>\n",
       "      <th>c</th>\n",
       "      <th>marks</th>\n",
       "      <th>Predicted Quantitative Sentiment</th>\n",
       "      <th>Predicted Qualitative Sentiment</th>\n",
       "    </tr>\n",
       "  </thead>\n",
       "  <tbody>\n",
       "    <tr>\n",
       "      <th>0</th>\n",
       "      <td>0</td>\n",
       "      <td>0</td>\n",
       "      <td>Stripe.com</td>\n",
       "      <td>complete payments platform engineered growth b...</td>\n",
       "      <td>At Stripe, we’ve long been excited about the p...</td>\n",
       "      <td>Stripe.com</td>\n",
       "      <td>https://stripe.com/blog/ending-bitcoin-support</td>\n",
       "      <td>Ending Bitcoin Support</td>\n",
       "      <td>2018-01-23</td>\n",
       "      <td>00:00:00</td>\n",
       "      <td>0.0</td>\n",
       "      <td>['complete', 'payments', 'platform', 'engineer...</td>\n",
       "      <td>0</td>\n",
       "      <td>0</td>\n",
       "      <td>Moderately Negative</td>\n",
       "    </tr>\n",
       "    <tr>\n",
       "      <th>1</th>\n",
       "      <td>31650</td>\n",
       "      <td>31650</td>\n",
       "      <td>fisco</td>\n",
       "      <td>bitcoin news price information analysis week s...</td>\n",
       "      <td>In the week starting Monday, March 5, some top...</td>\n",
       "      <td>Newsbtc.com</td>\n",
       "      <td>https://www.newsbtc.com/2018/03/13/services-br...</td>\n",
       "      <td>Services Bridging Cryptocurrencies and Investo...</td>\n",
       "      <td>2018-03-13</td>\n",
       "      <td>07:39:30</td>\n",
       "      <td>0.0</td>\n",
       "      <td>['bitcoin', 'news', 'price', 'information', 'a...</td>\n",
       "      <td>0</td>\n",
       "      <td>0</td>\n",
       "      <td>Moderately Negative</td>\n",
       "    </tr>\n",
       "    <tr>\n",
       "      <th>2</th>\n",
       "      <td>31651</td>\n",
       "      <td>31651</td>\n",
       "      <td>Apple</td>\n",
       "      <td>category video tutorial</td>\n",
       "      <td>Blockchain EOS - Discover How To Get &amp; Send Et...</td>\n",
       "      <td>Gfxbing.com</td>\n",
       "      <td>http://gfxbing.com/video-tutorial/845272-block...</td>\n",
       "      <td>Blockchain EOS - Discover How To Get &amp; Send Et...</td>\n",
       "      <td>2018-03-13</td>\n",
       "      <td>07:39:49</td>\n",
       "      <td>0.0</td>\n",
       "      <td>['category', 'video', 'tutorial']</td>\n",
       "      <td>0</td>\n",
       "      <td>0</td>\n",
       "      <td>Neutral</td>\n",
       "    </tr>\n",
       "    <tr>\n",
       "      <th>3</th>\n",
       "      <td>31652</td>\n",
       "      <td>31652</td>\n",
       "      <td>Steven Hay</td>\n",
       "      <td>last updated march th initial coin offerings i...</td>\n",
       "      <td>The post What are ERC-20 Tokens? A Beginner’s ...</td>\n",
       "      <td>99bitcoins.com</td>\n",
       "      <td>https://99bitcoins.com/what-are-erc-20-tokens/</td>\n",
       "      <td>What are ERC-20 Tokens? A Beginner’s Explanation</td>\n",
       "      <td>2018-03-13</td>\n",
       "      <td>07:44:37</td>\n",
       "      <td>0.0</td>\n",
       "      <td>['last', 'updated', 'march', 'th', 'initial', ...</td>\n",
       "      <td>0</td>\n",
       "      <td>0</td>\n",
       "      <td>Moderately Negative</td>\n",
       "    </tr>\n",
       "    <tr>\n",
       "      <th>4</th>\n",
       "      <td>31653</td>\n",
       "      <td>31653</td>\n",
       "      <td>e27.co/elena.prokopets</td>\n",
       "      <td>future startups check tea talk week discussion...</td>\n",
       "      <td>Blockchain can resolve a lot issues, for consu...</td>\n",
       "      <td>E27.co</td>\n",
       "      <td>https://e27.co/4-ways-blockchain-revolutionisi...</td>\n",
       "      <td>4 ways blockchain is revolutionising the trave...</td>\n",
       "      <td>2018-03-13</td>\n",
       "      <td>07:46:06</td>\n",
       "      <td>0.0</td>\n",
       "      <td>['future', 'startups', 'check', 'tea', 'talk',...</td>\n",
       "      <td>0</td>\n",
       "      <td>1</td>\n",
       "      <td>Moderately Positive</td>\n",
       "    </tr>\n",
       "  </tbody>\n",
       "</table>\n",
       "</div>"
      ],
      "text/plain": [
       "   Unnamed: 0  index                  author  \\\n",
       "0           0      0              Stripe.com   \n",
       "1       31650  31650                   fisco   \n",
       "2       31651  31651                   Apple   \n",
       "3       31652  31652              Steven Hay   \n",
       "4       31653  31653  e27.co/elena.prokopets   \n",
       "\n",
       "                                            contents  \\\n",
       "0  complete payments platform engineered growth b...   \n",
       "1  bitcoin news price information analysis week s...   \n",
       "2                            category video tutorial   \n",
       "3  last updated march th initial coin offerings i...   \n",
       "4  future startups check tea talk week discussion...   \n",
       "\n",
       "                                         description       publisher  \\\n",
       "0  At Stripe, we’ve long been excited about the p...      Stripe.com   \n",
       "1  In the week starting Monday, March 5, some top...     Newsbtc.com   \n",
       "2  Blockchain EOS - Discover How To Get & Send Et...     Gfxbing.com   \n",
       "3  The post What are ERC-20 Tokens? A Beginner’s ...  99bitcoins.com   \n",
       "4  Blockchain can resolve a lot issues, for consu...          E27.co   \n",
       "\n",
       "                                          source_url  \\\n",
       "0     https://stripe.com/blog/ending-bitcoin-support   \n",
       "1  https://www.newsbtc.com/2018/03/13/services-br...   \n",
       "2  http://gfxbing.com/video-tutorial/845272-block...   \n",
       "3     https://99bitcoins.com/what-are-erc-20-tokens/   \n",
       "4  https://e27.co/4-ways-blockchain-revolutionisi...   \n",
       "\n",
       "                                               title        date      time  \\\n",
       "0                             Ending Bitcoin Support  2018-01-23  00:00:00   \n",
       "1  Services Bridging Cryptocurrencies and Investo...  2018-03-13  07:39:30   \n",
       "2  Blockchain EOS - Discover How To Get & Send Et...  2018-03-13  07:39:49   \n",
       "3   What are ERC-20 Tokens? A Beginner’s Explanation  2018-03-13  07:44:37   \n",
       "4  4 ways blockchain is revolutionising the trave...  2018-03-13  07:46:06   \n",
       "\n",
       "   label                                                  c  marks  \\\n",
       "0    0.0  ['complete', 'payments', 'platform', 'engineer...      0   \n",
       "1    0.0  ['bitcoin', 'news', 'price', 'information', 'a...      0   \n",
       "2    0.0                  ['category', 'video', 'tutorial']      0   \n",
       "3    0.0  ['last', 'updated', 'march', 'th', 'initial', ...      0   \n",
       "4    0.0  ['future', 'startups', 'check', 'tea', 'talk',...      0   \n",
       "\n",
       "   Predicted Quantitative Sentiment Predicted Qualitative Sentiment  \n",
       "0                                 0             Moderately Negative  \n",
       "1                                 0             Moderately Negative  \n",
       "2                                 0                         Neutral  \n",
       "3                                 0             Moderately Negative  \n",
       "4                                 1             Moderately Positive  "
      ]
     },
     "execution_count": 258,
     "metadata": {},
     "output_type": "execute_result"
    }
   ],
   "source": [
    "tokenizer.fit_on_texts(sp18_df['contents'].values)\n",
    "X = tokenizer.texts_to_sequences(sp18_df['contents'].values)\n",
    "X = pad_sequences(X, maxlen = 2000)\n",
    "\n",
    "predictions = model.predict(X, batch_size=batch_size, verbose=1, steps=None)\n",
    "\n",
    "numerical_predictions_assigned = []\n",
    "qualitative_prediction_assigned = []\n",
    "\n",
    "for i in predictions:\n",
    "    if i[1] > i[0]:\n",
    "        numerical_predictions_assigned.append(1)\n",
    "    else:\n",
    "        numerical_predictions_assigned.append(0)\n",
    "    \n",
    "    i = i[1]\n",
    "    if i > 0.8:\n",
    "        qualitative_prediction_assigned.append(\"Strongly Positive\")\n",
    "    elif i > 0.6:\n",
    "        qualitative_prediction_assigned.append(\"Moderately Positive\")\n",
    "    elif i > 0.4:\n",
    "        qualitative_prediction_assigned.append(\"Neutral\")\n",
    "    elif i > 0.2:\n",
    "        qualitative_prediction_assigned.append(\"Moderately Negative\")\n",
    "    else:\n",
    "        qualitative_prediction_assigned.append(\"Strongly Negative\")\n",
    "\n",
    "sp18_df[\"Predicted Quantitative Sentiment\"] = numerical_predictions_assigned\n",
    "sp18_df[\"Predicted Qualitative Sentiment\"] = qualitative_prediction_assigned\n",
    "\n",
    "sp18_df.head()"
   ]
  },
  {
   "cell_type": "code",
   "execution_count": 259,
   "metadata": {},
   "outputs": [
    {
     "name": "stdout",
     "output_type": "stream",
     "text": [
      "The accuracy on the manually labelled data set is 0.4852204654816852\n"
     ]
    }
   ],
   "source": [
    "success_count = 0\n",
    "total_count = 0\n",
    "for i, row in sp18_df.iterrows():\n",
    "    manual_sentiment = row[\"marks\"]\n",
    "    predicted_sentiment = row[\"Predicted Quantitative Sentiment\"]\n",
    "    qualitative_sentiment = row[\"Predicted Qualitative Sentiment\"]\n",
    "    \n",
    "    if manual_sentiment == predicted_sentiment:\n",
    "        success_count += 1\n",
    "    \n",
    "    total_count += 1\n",
    "    \n",
    "#     print(manual_sentiment, predicted_sentiment, qualitative_sentiment)\n",
    "    \n",
    "print(\"The accuracy on the manually labelled data set is {}\".format(float(success_count/total_count)))    "
   ]
  }
 ],
 "metadata": {
  "kernelspec": {
   "display_name": "Python 3",
   "language": "python",
   "name": "python3"
  },
  "language_info": {
   "codemirror_mode": {
    "name": "ipython",
    "version": 3
   },
   "file_extension": ".py",
   "mimetype": "text/x-python",
   "name": "python",
   "nbconvert_exporter": "python",
   "pygments_lexer": "ipython3",
   "version": "3.6.1"
  }
 },
 "nbformat": 4,
 "nbformat_minor": 2
}
