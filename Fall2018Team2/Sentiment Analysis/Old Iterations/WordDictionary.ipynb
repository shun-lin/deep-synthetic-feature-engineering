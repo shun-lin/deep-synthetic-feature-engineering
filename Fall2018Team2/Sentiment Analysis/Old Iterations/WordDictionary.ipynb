{
 "cells": [
  {
   "cell_type": "markdown",
   "metadata": {},
   "source": [
    "# Creating Financial Industry Word Dictionary"
   ]
  },
  {
   "cell_type": "code",
   "execution_count": 4,
   "metadata": {},
   "outputs": [],
   "source": [
    "training_data_folder = \"/Users/sudarshan/Google Drive/1. Academic Files/Semesters/Fall 2018/INDENG 135/Paradigm (Fall 18) - Team 2/Jupyter Notebooks/Sentiment Analysis/Sentiment Training Data/\""
   ]
  },
  {
   "cell_type": "code",
   "execution_count": 18,
   "metadata": {},
   "outputs": [
    {
     "name": "stdout",
     "output_type": "stream",
     "text": [
      "Positive Words: 6670\n",
      "Neutral Words: 0\n",
      "Negative Words: 1661\n",
      "\n",
      "Normalized Positive Words: 6670\n",
      "Normalized Neutral Words: 0\n",
      "Normalized Negative Words: 1661\n"
     ]
    }
   ],
   "source": [
    "import json\n",
    "import pandas as pd\n",
    "\n",
    "json_data = training_data_folder + \"ntusd_data.json\"\n",
    "\n",
    "with open(json_data) as f:\n",
    "    json_df = pd.read_json(f)\n",
    "\n",
    "print(\"Positive Words: {}\".format(len(json_df[json_df[\"market_sentiment\"] > 0])))\n",
    "print(\"Neutral Words: {}\".format(len(json_df[json_df[\"market_sentiment\"] == 0])))\n",
    "print(\"Negative Words: {}\".format(len(json_df[json_df[\"market_sentiment\"] < 0])))\n",
    "\n",
    "min_val = json_df[\"market_sentiment\"].min()\n",
    "max_val = json_df[\"market_sentiment\"].max()\n",
    "\n",
    "for i, row in json_df.iterrows():\n",
    "    x = row[\"market_sentiment\"]\n",
    "    if x > 0:\n",
    "        x = x / max_val\n",
    "    else:\n",
    "        x = -1 * (x / min_val)\n",
    "\n",
    "    json_df.at[i,'market_sentiment'] = x\n",
    "\n",
    "json_df[\"market_sentiment\"] = json_df[\"market_sentiment\"] + 1\n",
    "json_df[\"market_sentiment\"] = json_df[\"market_sentiment\"] / 2\n",
    "\n",
    "print(\"\\nNormalized Positive Words: {}\".format(len(json_df[json_df[\"market_sentiment\"] > 0.5])))\n",
    "print(\"Normalized Neutral Words: {}\".format(len(json_df[json_df[\"market_sentiment\"] == 0.5])))\n",
    "print(\"Normalized Negative Words: {}\".format(len(json_df[json_df[\"market_sentiment\"] < 0.5])))\n",
    "\n",
    "json_df.to_csv(\"NTUSD_data.csv\")"
   ]
  },
  {
   "cell_type": "markdown",
   "metadata": {},
   "source": [
    "-----------------------------------------------"
   ]
  },
  {
   "cell_type": "code",
   "execution_count": 59,
   "metadata": {},
   "outputs": [],
   "source": [
    "vocabulary = pd.read_csv(training_data_folder + \"vocabulary.csv\")\n",
    "vocabulary[\"Word\"] = vocabulary[\"Word\"].str.lower()"
   ]
  },
  {
   "cell_type": "code",
   "execution_count": 60,
   "metadata": {},
   "outputs": [
    {
     "data": {
      "text/plain": [
       "array([[    0,     0,     0,   717],\n",
       "       [    0,     0,     0,     4],\n",
       "       [    0,     0,     0,   111],\n",
       "       ...,\n",
       "       [    0,     0,     0, 15093],\n",
       "       [    0,     0,     0, 15094],\n",
       "       [    0,     0,     0, 15095]], dtype=int32)"
      ]
     },
     "execution_count": 60,
     "metadata": {},
     "output_type": "execute_result"
    }
   ],
   "source": [
    "from keras.preprocessing.text import Tokenizer\n",
    "from keras.preprocessing.sequence import pad_sequences\n",
    "\n",
    "vocabulary_string = \"\"\n",
    "\n",
    "for word in vocabulary[\"Word\"]:\n",
    "    vocabulary_string += word + \",\"\n",
    "\n",
    "tokenizer = Tokenizer(num_words=len(vocabulary[\"Word\"]), split=\",\", char_level=False)\n",
    "tokenizer.fit_on_texts(vocabulary[\"Word\"].values)\n",
    "X = tokenizer.texts_to_sequences(vocabulary[\"Word\"].values)\n",
    "\n",
    "temp = []\n",
    "for i in X:\n",
    "    temp.append(len(i))\n",
    "X = pad_sequences(X, maxlen = max(temp))"
   ]
  },
  {
   "cell_type": "code",
   "execution_count": null,
   "metadata": {},
   "outputs": [],
   "source": []
  }
 ],
 "metadata": {
  "kernelspec": {
   "display_name": "Python 3",
   "language": "python",
   "name": "python3"
  },
  "language_info": {
   "codemirror_mode": {
    "name": "ipython",
    "version": 3
   },
   "file_extension": ".py",
   "mimetype": "text/x-python",
   "name": "python",
   "nbconvert_exporter": "python",
   "pygments_lexer": "ipython3",
   "version": "3.6.1"
  }
 },
 "nbformat": 4,
 "nbformat_minor": 2
}
