{
 "cells": [
  {
   "cell_type": "markdown",
   "metadata": {},
   "source": [
    "# Predicting the Impact of News Articles on Cryptocurrency Prices using Sentiment Analysis"
   ]
  },
  {
   "cell_type": "markdown",
   "metadata": {},
   "source": [
    "#### Strategy:\n",
    "1. Predict Sentiment using RNNs. \n",
    "2. Show relationship between sentiment and price.\n",
    "3. Create article scoring based on price prediction using sentiment and vectorized article text as features. \n"
   ]
  },
  {
   "cell_type": "markdown",
   "metadata": {},
   "source": [
    "### 1. Import and Preprocess Data"
   ]
  },
  {
   "cell_type": "markdown",
   "metadata": {},
   "source": [
    "#### 1.1 Import and pre-process articles"
   ]
  },
  {
   "cell_type": "markdown",
   "metadata": {},
   "source": [
    "Our data sources are Bitcoin price data and news articles related to Bitcoin"
   ]
  },
  {
   "cell_type": "code",
   "execution_count": 1,
   "metadata": {},
   "outputs": [],
   "source": [
    "import numpy as np \n",
    "import pandas as pd\n",
    "import matplotlib.pyplot as plt\n",
    "import seaborn as sns\n",
    "import datetime as dt\n",
    "\n",
    "from pandas import DataFrame\n",
    "from datetime import datetime,tzinfo\n",
    "from pytz import timezone\n",
    "import time\n",
    "import pytz\n",
    "import csv\n",
    "\n",
    "\n",
    "plt.style.use('fivethirtyeight')\n",
    "%config InlineBackend.figure_format = 'retina'\n",
    "%matplotlib inline"
   ]
  },
  {
   "cell_type": "code",
   "execution_count": 2,
   "metadata": {},
   "outputs": [],
   "source": [
    "articles = pd.read_csv(\"./data/Classified Articles.csv\")\n"
   ]
  },
  {
   "cell_type": "code",
   "execution_count": 3,
   "metadata": {},
   "outputs": [],
   "source": [
    "articles[\"timeStamp\"] = pd.to_datetime(articles['date'] + ' ' + articles['time'])\n",
    "\n",
    "articles = articles.set_index(\"timeStamp\")"
   ]
  },
  {
   "cell_type": "code",
   "execution_count": 4,
   "metadata": {},
   "outputs": [
    {
     "data": {
      "text/html": [
       "<div>\n",
       "<style scoped>\n",
       "    .dataframe tbody tr th:only-of-type {\n",
       "        vertical-align: middle;\n",
       "    }\n",
       "\n",
       "    .dataframe tbody tr th {\n",
       "        vertical-align: top;\n",
       "    }\n",
       "\n",
       "    .dataframe thead th {\n",
       "        text-align: right;\n",
       "    }\n",
       "</style>\n",
       "<table border=\"1\" class=\"dataframe\">\n",
       "  <thead>\n",
       "    <tr style=\"text-align: right;\">\n",
       "      <th></th>\n",
       "      <th>Unnamed: 0</th>\n",
       "      <th>index</th>\n",
       "      <th>author</th>\n",
       "      <th>contents</th>\n",
       "      <th>description</th>\n",
       "      <th>publisher</th>\n",
       "      <th>source_url</th>\n",
       "      <th>title</th>\n",
       "      <th>date</th>\n",
       "      <th>time</th>\n",
       "      <th>label</th>\n",
       "      <th>c</th>\n",
       "      <th>marks</th>\n",
       "    </tr>\n",
       "    <tr>\n",
       "      <th>timeStamp</th>\n",
       "      <th></th>\n",
       "      <th></th>\n",
       "      <th></th>\n",
       "      <th></th>\n",
       "      <th></th>\n",
       "      <th></th>\n",
       "      <th></th>\n",
       "      <th></th>\n",
       "      <th></th>\n",
       "      <th></th>\n",
       "      <th></th>\n",
       "      <th></th>\n",
       "      <th></th>\n",
       "    </tr>\n",
       "  </thead>\n",
       "  <tbody>\n",
       "    <tr>\n",
       "      <th>2018-01-23</th>\n",
       "      <td>0</td>\n",
       "      <td>0</td>\n",
       "      <td>Stripe.com</td>\n",
       "      <td>complete payments platform engineered growth b...</td>\n",
       "      <td>At Stripe, we’ve long been excited about the p...</td>\n",
       "      <td>Stripe.com</td>\n",
       "      <td>https://stripe.com/blog/ending-bitcoin-support</td>\n",
       "      <td>Ending Bitcoin Support</td>\n",
       "      <td>2018-01-23</td>\n",
       "      <td>00:00:00</td>\n",
       "      <td>0.0</td>\n",
       "      <td>['complete', 'payments', 'platform', 'engineer...</td>\n",
       "      <td>0</td>\n",
       "    </tr>\n",
       "  </tbody>\n",
       "</table>\n",
       "</div>"
      ],
      "text/plain": [
       "            Unnamed: 0  index      author  \\\n",
       "timeStamp                                   \n",
       "2018-01-23           0      0  Stripe.com   \n",
       "\n",
       "                                                     contents  \\\n",
       "timeStamp                                                       \n",
       "2018-01-23  complete payments platform engineered growth b...   \n",
       "\n",
       "                                                  description   publisher  \\\n",
       "timeStamp                                                                   \n",
       "2018-01-23  At Stripe, we’ve long been excited about the p...  Stripe.com   \n",
       "\n",
       "                                                source_url  \\\n",
       "timeStamp                                                    \n",
       "2018-01-23  https://stripe.com/blog/ending-bitcoin-support   \n",
       "\n",
       "                             title        date      time  label  \\\n",
       "timeStamp                                                         \n",
       "2018-01-23  Ending Bitcoin Support  2018-01-23  00:00:00    0.0   \n",
       "\n",
       "                                                            c  marks  \n",
       "timeStamp                                                             \n",
       "2018-01-23  ['complete', 'payments', 'platform', 'engineer...      0  "
      ]
     },
     "execution_count": 4,
     "metadata": {},
     "output_type": "execute_result"
    }
   ],
   "source": [
    "articles.head(1)"
   ]
  },
  {
   "cell_type": "code",
   "execution_count": 5,
   "metadata": {},
   "outputs": [
    {
     "data": {
      "text/plain": [
       "40732"
      ]
     },
     "execution_count": 5,
     "metadata": {},
     "output_type": "execute_result"
    }
   ],
   "source": [
    "len(articles)"
   ]
  },
  {
   "cell_type": "code",
   "execution_count": 6,
   "metadata": {},
   "outputs": [
    {
     "data": {
      "text/plain": [
       "Timestamp('2018-01-23 00:00:00')"
      ]
     },
     "execution_count": 6,
     "metadata": {},
     "output_type": "execute_result"
    }
   ],
   "source": [
    "min(articles.index)"
   ]
  },
  {
   "cell_type": "code",
   "execution_count": 7,
   "metadata": {},
   "outputs": [
    {
     "data": {
      "text/plain": [
       "Timestamp('2018-03-27 23:46:45')"
      ]
     },
     "execution_count": 7,
     "metadata": {},
     "output_type": "execute_result"
    }
   ],
   "source": [
    "max(articles.index)"
   ]
  },
  {
   "cell_type": "markdown",
   "metadata": {},
   "source": [
    "#### 1.1.1 Import and Pre-process hand-labeled sentiment "
   ]
  },
  {
   "cell_type": "markdown",
   "metadata": {},
   "source": [
    "Since our data does not have sentiment labels, we will use different strategies to come up with labels. One of them is hand-labeling the data by reading articles (roughly 250 articles). Those articles are imported."
   ]
  },
  {
   "cell_type": "code",
   "execution_count": 8,
   "metadata": {},
   "outputs": [
    {
     "data": {
      "text/html": [
       "<div>\n",
       "<style scoped>\n",
       "    .dataframe tbody tr th:only-of-type {\n",
       "        vertical-align: middle;\n",
       "    }\n",
       "\n",
       "    .dataframe tbody tr th {\n",
       "        vertical-align: top;\n",
       "    }\n",
       "\n",
       "    .dataframe thead th {\n",
       "        text-align: right;\n",
       "    }\n",
       "</style>\n",
       "<table border=\"1\" class=\"dataframe\">\n",
       "  <thead>\n",
       "    <tr style=\"text-align: right;\">\n",
       "      <th></th>\n",
       "      <th>Name</th>\n",
       "      <th>URL</th>\n",
       "      <th>Sentiment</th>\n",
       "    </tr>\n",
       "  </thead>\n",
       "  <tbody>\n",
       "    <tr>\n",
       "      <th>0</th>\n",
       "      <td>Sudarshan</td>\n",
       "      <td>https://www.wykop.pl/link/4223359/blockchain-a...</td>\n",
       "      <td>0.0</td>\n",
       "    </tr>\n",
       "  </tbody>\n",
       "</table>\n",
       "</div>"
      ],
      "text/plain": [
       "        Name                                                URL  Sentiment\n",
       "0  Sudarshan  https://www.wykop.pl/link/4223359/blockchain-a...        0.0"
      ]
     },
     "execution_count": 8,
     "metadata": {},
     "output_type": "execute_result"
    }
   ],
   "source": [
    "data = pd.read_csv(\"./data/Articles Reading Assignment.csv\")\n",
    "data.head(1)"
   ]
  },
  {
   "cell_type": "code",
   "execution_count": 9,
   "metadata": {},
   "outputs": [
    {
     "data": {
      "text/html": [
       "<div>\n",
       "<style scoped>\n",
       "    .dataframe tbody tr th:only-of-type {\n",
       "        vertical-align: middle;\n",
       "    }\n",
       "\n",
       "    .dataframe tbody tr th {\n",
       "        vertical-align: top;\n",
       "    }\n",
       "\n",
       "    .dataframe thead th {\n",
       "        text-align: right;\n",
       "    }\n",
       "</style>\n",
       "<table border=\"1\" class=\"dataframe\">\n",
       "  <thead>\n",
       "    <tr style=\"text-align: right;\">\n",
       "      <th></th>\n",
       "      <th>Name</th>\n",
       "      <th>URL</th>\n",
       "      <th>Sentiment</th>\n",
       "      <th>contents</th>\n",
       "      <th>title</th>\n",
       "      <th>date</th>\n",
       "      <th>time</th>\n",
       "      <th>marks</th>\n",
       "    </tr>\n",
       "  </thead>\n",
       "  <tbody>\n",
       "    <tr>\n",
       "      <th>0</th>\n",
       "      <td>Sudarshan</td>\n",
       "      <td>https://www.wykop.pl/link/4223359/blockchain-a...</td>\n",
       "      <td>0.0</td>\n",
       "      <td>ciastka strona korzysta z plik w cookies w cel...</td>\n",
       "      <td>Blockchain &amp; Bitcoin Conference Berlin on Apri...</td>\n",
       "      <td>2018-03-21</td>\n",
       "      <td>11:54:35</td>\n",
       "      <td>1</td>\n",
       "    </tr>\n",
       "  </tbody>\n",
       "</table>\n",
       "</div>"
      ],
      "text/plain": [
       "        Name                                                URL  Sentiment  \\\n",
       "0  Sudarshan  https://www.wykop.pl/link/4223359/blockchain-a...        0.0   \n",
       "\n",
       "                                            contents  \\\n",
       "0  ciastka strona korzysta z plik w cookies w cel...   \n",
       "\n",
       "                                               title        date      time  \\\n",
       "0  Blockchain & Bitcoin Conference Berlin on Apri...  2018-03-21  11:54:35   \n",
       "\n",
       "  marks  \n",
       "0     1  "
      ]
     },
     "execution_count": 9,
     "metadata": {},
     "output_type": "execute_result"
    }
   ],
   "source": [
    "data = data.dropna()\n",
    "\n",
    "data[\"contents\"] = [\"\" for i in range(len(data))]\n",
    "data[\"title\"] = [\"\" for i in range(len(data))]\n",
    "data[\"date\"] = [\"\" for i in range(len(data))]\n",
    "data[\"time\"] = [\"\" for i in range(len(data))]\n",
    "data[\"marks\"] = [\"\" for i in range(len(data))]\n",
    "\n",
    "\n",
    "for i, row in data.iterrows():\n",
    "    x = row[\"URL\"]\n",
    "    \n",
    "    key_words = articles[articles[\"source_url\"] == x][:1][\"contents\"].values[0]\n",
    "    data.at[i, \"contents\"] = str(key_words)\n",
    "    \n",
    "    title = articles[articles[\"source_url\"] == x][:1][\"title\"].values[0]\n",
    "    data.at[i, \"title\"] = str(title)\n",
    "    \n",
    "    date = articles[articles[\"source_url\"] == x][:1][\"date\"].values[0]\n",
    "    data.at[i, \"date\"] = date\n",
    "    \n",
    "    time = articles[articles[\"source_url\"] == x][:1][\"time\"].values[0]\n",
    "    data.at[i, \"time\"] = time\n",
    "    \n",
    "    marks = articles[articles[\"source_url\"] == x][:1][\"marks\"].values[0]\n",
    "    data.at[i, \"marks\"] = marks\n",
    "      \n",
    "data.head(1)"
   ]
  },
  {
   "cell_type": "code",
   "execution_count": 10,
   "metadata": {},
   "outputs": [],
   "source": [
    "data[\"timeStamp\"] = pd.to_datetime(data['date'] + ' ' + data['time'])\n",
    "\n",
    "data = data.set_index(\"timeStamp\")"
   ]
  },
  {
   "cell_type": "code",
   "execution_count": 11,
   "metadata": {},
   "outputs": [
    {
     "data": {
      "text/html": [
       "<div>\n",
       "<style scoped>\n",
       "    .dataframe tbody tr th:only-of-type {\n",
       "        vertical-align: middle;\n",
       "    }\n",
       "\n",
       "    .dataframe tbody tr th {\n",
       "        vertical-align: top;\n",
       "    }\n",
       "\n",
       "    .dataframe thead th {\n",
       "        text-align: right;\n",
       "    }\n",
       "</style>\n",
       "<table border=\"1\" class=\"dataframe\">\n",
       "  <thead>\n",
       "    <tr style=\"text-align: right;\">\n",
       "      <th></th>\n",
       "      <th>Name</th>\n",
       "      <th>URL</th>\n",
       "      <th>Sentiment</th>\n",
       "      <th>contents</th>\n",
       "      <th>title</th>\n",
       "      <th>date</th>\n",
       "      <th>time</th>\n",
       "      <th>marks</th>\n",
       "    </tr>\n",
       "    <tr>\n",
       "      <th>timeStamp</th>\n",
       "      <th></th>\n",
       "      <th></th>\n",
       "      <th></th>\n",
       "      <th></th>\n",
       "      <th></th>\n",
       "      <th></th>\n",
       "      <th></th>\n",
       "      <th></th>\n",
       "    </tr>\n",
       "  </thead>\n",
       "  <tbody>\n",
       "    <tr>\n",
       "      <th>2018-03-21 11:54:35</th>\n",
       "      <td>Sudarshan</td>\n",
       "      <td>https://www.wykop.pl/link/4223359/blockchain-a...</td>\n",
       "      <td>0.0</td>\n",
       "      <td>ciastka strona korzysta z plik w cookies w cel...</td>\n",
       "      <td>Blockchain &amp; Bitcoin Conference Berlin on Apri...</td>\n",
       "      <td>2018-03-21</td>\n",
       "      <td>11:54:35</td>\n",
       "      <td>1</td>\n",
       "    </tr>\n",
       "  </tbody>\n",
       "</table>\n",
       "</div>"
      ],
      "text/plain": [
       "                          Name  \\\n",
       "timeStamp                        \n",
       "2018-03-21 11:54:35  Sudarshan   \n",
       "\n",
       "                                                                   URL  \\\n",
       "timeStamp                                                                \n",
       "2018-03-21 11:54:35  https://www.wykop.pl/link/4223359/blockchain-a...   \n",
       "\n",
       "                     Sentiment  \\\n",
       "timeStamp                        \n",
       "2018-03-21 11:54:35        0.0   \n",
       "\n",
       "                                                              contents  \\\n",
       "timeStamp                                                                \n",
       "2018-03-21 11:54:35  ciastka strona korzysta z plik w cookies w cel...   \n",
       "\n",
       "                                                                 title  \\\n",
       "timeStamp                                                                \n",
       "2018-03-21 11:54:35  Blockchain & Bitcoin Conference Berlin on Apri...   \n",
       "\n",
       "                           date      time marks  \n",
       "timeStamp                                        \n",
       "2018-03-21 11:54:35  2018-03-21  11:54:35     1  "
      ]
     },
     "execution_count": 11,
     "metadata": {},
     "output_type": "execute_result"
    }
   ],
   "source": [
    "data.head(1)"
   ]
  },
  {
   "cell_type": "code",
   "execution_count": 12,
   "metadata": {},
   "outputs": [
    {
     "data": {
      "text/plain": [
       "83"
      ]
     },
     "execution_count": 12,
     "metadata": {},
     "output_type": "execute_result"
    }
   ],
   "source": [
    "len(data.loc[data[\"Sentiment\"] == data[\"marks\"]])"
   ]
  },
  {
   "cell_type": "code",
   "execution_count": 13,
   "metadata": {},
   "outputs": [
    {
     "data": {
      "text/plain": [
       "246"
      ]
     },
     "execution_count": 13,
     "metadata": {},
     "output_type": "execute_result"
    }
   ],
   "source": [
    "len(data)"
   ]
  },
  {
   "cell_type": "code",
   "execution_count": 14,
   "metadata": {},
   "outputs": [],
   "source": [
    "data[\"Sentiment\"] = pd.to_numeric(data[\"Sentiment\"])\n",
    "data[\"marks\"] = pd.to_numeric(data[\"marks\"])"
   ]
  },
  {
   "cell_type": "code",
   "execution_count": 15,
   "metadata": {},
   "outputs": [
    {
     "data": {
      "text/html": [
       "<div>\n",
       "<style scoped>\n",
       "    .dataframe tbody tr th:only-of-type {\n",
       "        vertical-align: middle;\n",
       "    }\n",
       "\n",
       "    .dataframe tbody tr th {\n",
       "        vertical-align: top;\n",
       "    }\n",
       "\n",
       "    .dataframe thead th {\n",
       "        text-align: right;\n",
       "    }\n",
       "</style>\n",
       "<table border=\"1\" class=\"dataframe\">\n",
       "  <thead>\n",
       "    <tr style=\"text-align: right;\">\n",
       "      <th></th>\n",
       "      <th>Name</th>\n",
       "      <th>URL</th>\n",
       "      <th>Sentiment</th>\n",
       "      <th>contents</th>\n",
       "      <th>title</th>\n",
       "      <th>date</th>\n",
       "      <th>time</th>\n",
       "      <th>marks</th>\n",
       "    </tr>\n",
       "    <tr>\n",
       "      <th>timeStamp</th>\n",
       "      <th></th>\n",
       "      <th></th>\n",
       "      <th></th>\n",
       "      <th></th>\n",
       "      <th></th>\n",
       "      <th></th>\n",
       "      <th></th>\n",
       "      <th></th>\n",
       "    </tr>\n",
       "  </thead>\n",
       "  <tbody>\n",
       "    <tr>\n",
       "      <th>2018-03-21 11:54:35</th>\n",
       "      <td>Sudarshan</td>\n",
       "      <td>https://www.wykop.pl/link/4223359/blockchain-a...</td>\n",
       "      <td>0.0</td>\n",
       "      <td>ciastka strona korzysta z plik w cookies w cel...</td>\n",
       "      <td>Blockchain &amp; Bitcoin Conference Berlin on Apri...</td>\n",
       "      <td>2018-03-21</td>\n",
       "      <td>11:54:35</td>\n",
       "      <td>1</td>\n",
       "    </tr>\n",
       "  </tbody>\n",
       "</table>\n",
       "</div>"
      ],
      "text/plain": [
       "                          Name  \\\n",
       "timeStamp                        \n",
       "2018-03-21 11:54:35  Sudarshan   \n",
       "\n",
       "                                                                   URL  \\\n",
       "timeStamp                                                                \n",
       "2018-03-21 11:54:35  https://www.wykop.pl/link/4223359/blockchain-a...   \n",
       "\n",
       "                     Sentiment  \\\n",
       "timeStamp                        \n",
       "2018-03-21 11:54:35        0.0   \n",
       "\n",
       "                                                              contents  \\\n",
       "timeStamp                                                                \n",
       "2018-03-21 11:54:35  ciastka strona korzysta z plik w cookies w cel...   \n",
       "\n",
       "                                                                 title  \\\n",
       "timeStamp                                                                \n",
       "2018-03-21 11:54:35  Blockchain & Bitcoin Conference Berlin on Apri...   \n",
       "\n",
       "                           date      time  marks  \n",
       "timeStamp                                         \n",
       "2018-03-21 11:54:35  2018-03-21  11:54:35      1  "
      ]
     },
     "execution_count": 15,
     "metadata": {},
     "output_type": "execute_result"
    }
   ],
   "source": [
    "data.head(1)"
   ]
  },
  {
   "cell_type": "markdown",
   "metadata": {},
   "source": [
    "#### 1.2 Import and pre-process Bitcoin price data "
   ]
  },
  {
   "cell_type": "markdown",
   "metadata": {},
   "source": [
    "We import Bitcoin data on a minute basis. "
   ]
  },
  {
   "cell_type": "code",
   "execution_count": 16,
   "metadata": {},
   "outputs": [],
   "source": [
    "# import data: bitcoin prices\n",
    "btc = pd.read_csv(\"./data/coinbaseUSD_1-min_data_2014-12-01_to_2018-03-27.csv\")\n",
    "\n",
    "# preprocess bitcoin price data \n",
    "btc.Timestamp = pd.to_datetime(btc.Timestamp, unit='s')\n",
    "btc.Timestamp = btc.Timestamp.dt.tz_localize('UTC')\n",
    "\n",
    "btc['log_close'] = np.log(btc.Close) - np.log(btc.Close.shift(1))\n",
    "btc['Date'] = pd.to_datetime(btc['Timestamp']).dt.date\n",
    "\n",
    "min_periods = 43200 # 60minutes*24hours*30days \n",
    "\n",
    "price=btc['Close']\n",
    "# Calculate the sd and volatility\n",
    "mean=price.rolling(min_periods).mean()\n",
    "sd=price.rolling(min_periods).std()\n",
    "vol = price.rolling(min_periods).std() * np.sqrt(min_periods) \n",
    "btc['Average']=mean\n",
    "btc['Volatility']=vol\n",
    "btc['SD']=sd\n",
    "\n",
    "price_log=btc['log_close']\n",
    "# Calculate the sd and volatility\n",
    "mean=price_log.rolling(min_periods).mean()\n",
    "sd=price_log.rolling(min_periods).std()\n",
    "vol = price_log.rolling(min_periods).std() * np.sqrt(min_periods) \n",
    "btc['Average_log']=mean\n",
    "btc['Volatility_log']=vol\n",
    "btc['SD_log']=sd\n",
    "\n",
    "index_1 = btc[btc.Date == datetime.date(dt.datetime.strptime('01/23/18', '%x'))].index[0]\n",
    "index_2 = btc[btc.Date == datetime.date(dt.datetime.strptime('03/27/18', '%x'))].index[0]\n",
    "btc_1= btc.loc[index_1:index_2]\n",
    "\n",
    "btc_1 = btc_1.set_index(\"Timestamp\")\n"
   ]
  },
  {
   "cell_type": "code",
   "execution_count": 17,
   "metadata": {},
   "outputs": [
    {
     "data": {
      "text/plain": [
       "Timestamp('2018-03-27 23:46:45')"
      ]
     },
     "execution_count": 17,
     "metadata": {},
     "output_type": "execute_result"
    }
   ],
   "source": [
    "max(articles.index)"
   ]
  },
  {
   "cell_type": "code",
   "execution_count": 18,
   "metadata": {},
   "outputs": [
    {
     "data": {
      "text/plain": [
       "Timestamp('2018-01-23 00:00:00')"
      ]
     },
     "execution_count": 18,
     "metadata": {},
     "output_type": "execute_result"
    }
   ],
   "source": [
    "min(articles.index)"
   ]
  },
  {
   "cell_type": "markdown",
   "metadata": {},
   "source": [
    "Plot data"
   ]
  },
  {
   "cell_type": "code",
   "execution_count": 19,
   "metadata": {},
   "outputs": [
    {
     "data": {
      "image/png": "[encoded data removed]",
      "text/plain": [
       "<Figure size 432x288 with 1 Axes>"
      ]
     },
     "metadata": {
      "image/png": {
       "height": 246,
       "width": 448
      },
      "needs_background": "light"
     },
     "output_type": "display_data"
    },
    {
     "data": {
      "image/png": "[encoded data removed]",
      "text/plain": [
       "<Figure size 432x288 with 1 Axes>"
      ]
     },
     "metadata": {
      "image/png": {
       "height": 244,
       "width": 447
      },
      "needs_background": "light"
     },
     "output_type": "display_data"
    }
   ],
   "source": [
    "btc_close = btc_1['Close']\n",
    "plt.plot(btc_close)\n",
    "plt.show()\n",
    "\n",
    "\n",
    "btc_log_close = btc_1['log_close']\n",
    "plt.plot(btc_log_close)\n",
    "plt.show()\n"
   ]
  },
  {
   "cell_type": "markdown",
   "metadata": {},
   "source": [
    "The charts show our sample period. "
   ]
  },
  {
   "cell_type": "markdown",
   "metadata": {},
   "source": [
    "### 1.3 Create lags of Bitcoin price data"
   ]
  },
  {
   "cell_type": "markdown",
   "metadata": {},
   "source": [
    "Since we are testing the impact of news on Bitcoin prices for different time lags, we need to create Bitcoin prices for diffrent time lags based on when a news article is published (e.g. if we have 1 day time lag, we are looking at the Bittcoin price 24 hours after a given article was published).\n",
    "Caution: this code takes like 30 minutes to run. "
   ]
  },
  {
   "cell_type": "code",
   "execution_count": 20,
   "metadata": {},
   "outputs": [
    {
     "name": "stdout",
     "output_type": "stream",
     "text": [
      "time elapsed: 23.6 minutes\n"
     ]
    }
   ],
   "source": [
    "# create response add response with multiple lags in seconds\n",
    "import datetime\n",
    "import time\n",
    "\n",
    "start = time.time()\n",
    "\n",
    "response = pd.DataFrame()\n",
    "benchmark_naive = pd.DataFrame()\n",
    "\n",
    "# 1 minute, 5 minutes, 10 minutes, 30 minutes, 60 minutes, 12 hours, 1 day, 2 days, 4 days \n",
    "colnames = {\"lag_1m\":60,\"lag_5m\":300,\"lag_10m\":600,\"lag_30m\":1800,\"lag_60m\":3600,\"lag_12h\":43200,\"lag_1d\":86400,\n",
    "            \"lag_2d\":172800,\"lag_4d\" : 345600}\n",
    "\n",
    "\n",
    "train_time = pd.to_datetime(articles.index)\n",
    "\n",
    "for colname in colnames:\n",
    "    stock_return = []\n",
    "    stock_return_naive = []\n",
    "    lag = colnames[colname]\n",
    "    \n",
    "    for i in train_time:\n",
    "        try:\n",
    "            start_price = btc_1.Close.iloc[btc_1.index.get_loc(i,method = \"nearest\")]\n",
    "            end_price = btc_1.Close.iloc[btc_1.index.get_loc((i+datetime.timedelta(0,lag)),method = \"nearest\")]\n",
    "            stock_return.append(end_price/start_price-1)\n",
    "            \n",
    "            end_price_naive = btc_1.Close.iloc[btc_1.index.get_loc(i,method = \"nearest\")]\n",
    "            start_price_naive = btc_1.Close.iloc[btc_1.index.get_loc((i-datetime.timedelta(0,lag)),method = \"nearest\")]\n",
    "            stock_return_naive.append(end_price_naive/start_price_naive-1)\n",
    "            \n",
    "        except:\n",
    "            stock_return.append(0)\n",
    "            stock_return_naive.append(0)\n",
    "            print(\"exception raised\")\n",
    "\n",
    "    response[colname] = stock_return\n",
    "    benchmark_naive[colname] = stock_return_naive\n",
    "    \n",
    "\n",
    "print(\"time elapsed:\",round((time.time()-start)/60,1),\"minutes\")"
   ]
  },
  {
   "cell_type": "code",
   "execution_count": 21,
   "metadata": {},
   "outputs": [
    {
     "data": {
      "text/html": [
       "<div>\n",
       "<style scoped>\n",
       "    .dataframe tbody tr th:only-of-type {\n",
       "        vertical-align: middle;\n",
       "    }\n",
       "\n",
       "    .dataframe tbody tr th {\n",
       "        vertical-align: top;\n",
       "    }\n",
       "\n",
       "    .dataframe thead th {\n",
       "        text-align: right;\n",
       "    }\n",
       "</style>\n",
       "<table border=\"1\" class=\"dataframe\">\n",
       "  <thead>\n",
       "    <tr style=\"text-align: right;\">\n",
       "      <th></th>\n",
       "      <th>lag_1m</th>\n",
       "      <th>lag_5m</th>\n",
       "      <th>lag_10m</th>\n",
       "      <th>lag_30m</th>\n",
       "      <th>lag_60m</th>\n",
       "      <th>lag_12h</th>\n",
       "      <th>lag_1d</th>\n",
       "      <th>lag_2d</th>\n",
       "      <th>lag_4d</th>\n",
       "    </tr>\n",
       "  </thead>\n",
       "  <tbody>\n",
       "    <tr>\n",
       "      <th>0</th>\n",
       "      <td>-0.000255</td>\n",
       "      <td>-0.004628</td>\n",
       "      <td>0.003677</td>\n",
       "      <td>-0.006573</td>\n",
       "      <td>9.259276e-07</td>\n",
       "      <td>-0.066983</td>\n",
       "      <td>0.008283</td>\n",
       "      <td>0.048753</td>\n",
       "      <td>0.026566</td>\n",
       "    </tr>\n",
       "  </tbody>\n",
       "</table>\n",
       "</div>"
      ],
      "text/plain": [
       "     lag_1m    lag_5m   lag_10m   lag_30m       lag_60m   lag_12h    lag_1d  \\\n",
       "0 -0.000255 -0.004628  0.003677 -0.006573  9.259276e-07 -0.066983  0.008283   \n",
       "\n",
       "     lag_2d    lag_4d  \n",
       "0  0.048753  0.026566  "
      ]
     },
     "execution_count": 21,
     "metadata": {},
     "output_type": "execute_result"
    }
   ],
   "source": [
    "response.head(1)"
   ]
  },
  {
   "cell_type": "code",
   "execution_count": 22,
   "metadata": {},
   "outputs": [
    {
     "data": {
      "text/html": [
       "<div>\n",
       "<style scoped>\n",
       "    .dataframe tbody tr th:only-of-type {\n",
       "        vertical-align: middle;\n",
       "    }\n",
       "\n",
       "    .dataframe tbody tr th {\n",
       "        vertical-align: top;\n",
       "    }\n",
       "\n",
       "    .dataframe thead th {\n",
       "        text-align: right;\n",
       "    }\n",
       "</style>\n",
       "<table border=\"1\" class=\"dataframe\">\n",
       "  <thead>\n",
       "    <tr style=\"text-align: right;\">\n",
       "      <th></th>\n",
       "      <th>lag_1m</th>\n",
       "      <th>lag_5m</th>\n",
       "      <th>lag_10m</th>\n",
       "      <th>lag_30m</th>\n",
       "      <th>lag_60m</th>\n",
       "      <th>lag_12h</th>\n",
       "      <th>lag_1d</th>\n",
       "      <th>lag_2d</th>\n",
       "      <th>lag_4d</th>\n",
       "    </tr>\n",
       "  </thead>\n",
       "  <tbody>\n",
       "    <tr>\n",
       "      <th>0</th>\n",
       "      <td>0.0</td>\n",
       "      <td>0.0</td>\n",
       "      <td>0.0</td>\n",
       "      <td>0.0</td>\n",
       "      <td>0.0</td>\n",
       "      <td>0.0</td>\n",
       "      <td>0.0</td>\n",
       "      <td>0.0</td>\n",
       "      <td>0.0</td>\n",
       "    </tr>\n",
       "  </tbody>\n",
       "</table>\n",
       "</div>"
      ],
      "text/plain": [
       "   lag_1m  lag_5m  lag_10m  lag_30m  lag_60m  lag_12h  lag_1d  lag_2d  lag_4d\n",
       "0     0.0     0.0      0.0      0.0      0.0      0.0     0.0     0.0     0.0"
      ]
     },
     "execution_count": 22,
     "metadata": {},
     "output_type": "execute_result"
    }
   ],
   "source": [
    "benchmark_naive.head(1)"
   ]
  },
  {
   "cell_type": "markdown",
   "metadata": {},
   "source": [
    "## 2. Sentiment Prediction"
   ]
  },
  {
   "cell_type": "markdown",
   "metadata": {},
   "source": [
    "We predict the news articles' sentiment using different strategies and different models. "
   ]
  },
  {
   "cell_type": "markdown",
   "metadata": {},
   "source": [
    "### 2.1 Sentiment Prediction using RNNs"
   ]
  },
  {
   "cell_type": "markdown",
   "metadata": {},
   "source": [
    "### 2.1.1 Sentiment Prediction using self-labeled Data"
   ]
  },
  {
   "cell_type": "code",
   "execution_count": 23,
   "metadata": {},
   "outputs": [],
   "source": [
    "rnn_sentiment = pd.read_csv(\"./data/Articles with Sentiment.csv\")\n",
    "rnn_sentiment = rnn_sentiment[\"marks\"]"
   ]
  },
  {
   "cell_type": "code",
   "execution_count": 24,
   "metadata": {},
   "outputs": [
    {
     "data": {
      "text/plain": [
       "0    1\n",
       "1    1\n",
       "Name: marks, dtype: int64"
      ]
     },
     "execution_count": 24,
     "metadata": {},
     "output_type": "execute_result"
    }
   ],
   "source": [
    "rnn_sentiment.head(2)"
   ]
  },
  {
   "cell_type": "code",
   "execution_count": 25,
   "metadata": {},
   "outputs": [
    {
     "data": {
      "text/plain": [
       "(40732,)"
      ]
     },
     "execution_count": 25,
     "metadata": {},
     "output_type": "execute_result"
    }
   ],
   "source": [
    "rnn_sentiment.shape"
   ]
  },
  {
   "cell_type": "code",
   "execution_count": 26,
   "metadata": {},
   "outputs": [],
   "source": [
    "articles[\"rnn sentiment\"] = list(rnn_sentiment)"
   ]
  },
  {
   "cell_type": "code",
   "execution_count": 27,
   "metadata": {},
   "outputs": [
    {
     "data": {
      "text/html": [
       "<div>\n",
       "<style scoped>\n",
       "    .dataframe tbody tr th:only-of-type {\n",
       "        vertical-align: middle;\n",
       "    }\n",
       "\n",
       "    .dataframe tbody tr th {\n",
       "        vertical-align: top;\n",
       "    }\n",
       "\n",
       "    .dataframe thead th {\n",
       "        text-align: right;\n",
       "    }\n",
       "</style>\n",
       "<table border=\"1\" class=\"dataframe\">\n",
       "  <thead>\n",
       "    <tr style=\"text-align: right;\">\n",
       "      <th></th>\n",
       "      <th>Unnamed: 0</th>\n",
       "      <th>index</th>\n",
       "      <th>author</th>\n",
       "      <th>contents</th>\n",
       "      <th>description</th>\n",
       "      <th>publisher</th>\n",
       "      <th>source_url</th>\n",
       "      <th>title</th>\n",
       "      <th>date</th>\n",
       "      <th>time</th>\n",
       "      <th>label</th>\n",
       "      <th>c</th>\n",
       "      <th>marks</th>\n",
       "      <th>rnn sentiment</th>\n",
       "    </tr>\n",
       "    <tr>\n",
       "      <th>timeStamp</th>\n",
       "      <th></th>\n",
       "      <th></th>\n",
       "      <th></th>\n",
       "      <th></th>\n",
       "      <th></th>\n",
       "      <th></th>\n",
       "      <th></th>\n",
       "      <th></th>\n",
       "      <th></th>\n",
       "      <th></th>\n",
       "      <th></th>\n",
       "      <th></th>\n",
       "      <th></th>\n",
       "      <th></th>\n",
       "    </tr>\n",
       "  </thead>\n",
       "  <tbody>\n",
       "    <tr>\n",
       "      <th>2018-01-23 00:00:00</th>\n",
       "      <td>0</td>\n",
       "      <td>0</td>\n",
       "      <td>Stripe.com</td>\n",
       "      <td>complete payments platform engineered growth b...</td>\n",
       "      <td>At Stripe, we’ve long been excited about the p...</td>\n",
       "      <td>Stripe.com</td>\n",
       "      <td>https://stripe.com/blog/ending-bitcoin-support</td>\n",
       "      <td>Ending Bitcoin Support</td>\n",
       "      <td>2018-01-23</td>\n",
       "      <td>00:00:00</td>\n",
       "      <td>0.0</td>\n",
       "      <td>['complete', 'payments', 'platform', 'engineer...</td>\n",
       "      <td>0</td>\n",
       "      <td>1</td>\n",
       "    </tr>\n",
       "    <tr>\n",
       "      <th>2018-03-13 07:39:30</th>\n",
       "      <td>31650</td>\n",
       "      <td>31650</td>\n",
       "      <td>fisco</td>\n",
       "      <td>bitcoin news price information analysis week s...</td>\n",
       "      <td>In the week starting Monday, March 5, some top...</td>\n",
       "      <td>Newsbtc.com</td>\n",
       "      <td>https://www.newsbtc.com/2018/03/13/services-br...</td>\n",
       "      <td>Services Bridging Cryptocurrencies and Investo...</td>\n",
       "      <td>2018-03-13</td>\n",
       "      <td>07:39:30</td>\n",
       "      <td>0.0</td>\n",
       "      <td>['bitcoin', 'news', 'price', 'information', 'a...</td>\n",
       "      <td>0</td>\n",
       "      <td>1</td>\n",
       "    </tr>\n",
       "    <tr>\n",
       "      <th>2018-03-13 07:39:49</th>\n",
       "      <td>31651</td>\n",
       "      <td>31651</td>\n",
       "      <td>Apple</td>\n",
       "      <td>category video tutorial</td>\n",
       "      <td>Blockchain EOS - Discover How To Get &amp; Send Et...</td>\n",
       "      <td>Gfxbing.com</td>\n",
       "      <td>http://gfxbing.com/video-tutorial/845272-block...</td>\n",
       "      <td>Blockchain EOS - Discover How To Get &amp; Send Et...</td>\n",
       "      <td>2018-03-13</td>\n",
       "      <td>07:39:49</td>\n",
       "      <td>0.0</td>\n",
       "      <td>['category', 'video', 'tutorial']</td>\n",
       "      <td>0</td>\n",
       "      <td>1</td>\n",
       "    </tr>\n",
       "    <tr>\n",
       "      <th>2018-03-13 07:44:37</th>\n",
       "      <td>31652</td>\n",
       "      <td>31652</td>\n",
       "      <td>Steven Hay</td>\n",
       "      <td>last updated march th initial coin offerings i...</td>\n",
       "      <td>The post What are ERC-20 Tokens? A Beginner’s ...</td>\n",
       "      <td>99bitcoins.com</td>\n",
       "      <td>https://99bitcoins.com/what-are-erc-20-tokens/</td>\n",
       "      <td>What are ERC-20 Tokens? A Beginner’s Explanation</td>\n",
       "      <td>2018-03-13</td>\n",
       "      <td>07:44:37</td>\n",
       "      <td>0.0</td>\n",
       "      <td>['last', 'updated', 'march', 'th', 'initial', ...</td>\n",
       "      <td>0</td>\n",
       "      <td>1</td>\n",
       "    </tr>\n",
       "    <tr>\n",
       "      <th>2018-03-13 07:46:06</th>\n",
       "      <td>31653</td>\n",
       "      <td>31653</td>\n",
       "      <td>e27.co/elena.prokopets</td>\n",
       "      <td>future startups check tea talk week discussion...</td>\n",
       "      <td>Blockchain can resolve a lot issues, for consu...</td>\n",
       "      <td>E27.co</td>\n",
       "      <td>https://e27.co/4-ways-blockchain-revolutionisi...</td>\n",
       "      <td>4 ways blockchain is revolutionising the trave...</td>\n",
       "      <td>2018-03-13</td>\n",
       "      <td>07:46:06</td>\n",
       "      <td>0.0</td>\n",
       "      <td>['future', 'startups', 'check', 'tea', 'talk',...</td>\n",
       "      <td>0</td>\n",
       "      <td>1</td>\n",
       "    </tr>\n",
       "  </tbody>\n",
       "</table>\n",
       "</div>"
      ],
      "text/plain": [
       "                     Unnamed: 0  index                  author  \\\n",
       "timeStamp                                                        \n",
       "2018-01-23 00:00:00           0      0              Stripe.com   \n",
       "2018-03-13 07:39:30       31650  31650                   fisco   \n",
       "2018-03-13 07:39:49       31651  31651                   Apple   \n",
       "2018-03-13 07:44:37       31652  31652              Steven Hay   \n",
       "2018-03-13 07:46:06       31653  31653  e27.co/elena.prokopets   \n",
       "\n",
       "                                                              contents  \\\n",
       "timeStamp                                                                \n",
       "2018-01-23 00:00:00  complete payments platform engineered growth b...   \n",
       "2018-03-13 07:39:30  bitcoin news price information analysis week s...   \n",
       "2018-03-13 07:39:49                            category video tutorial   \n",
       "2018-03-13 07:44:37  last updated march th initial coin offerings i...   \n",
       "2018-03-13 07:46:06  future startups check tea talk week discussion...   \n",
       "\n",
       "                                                           description  \\\n",
       "timeStamp                                                                \n",
       "2018-01-23 00:00:00  At Stripe, we’ve long been excited about the p...   \n",
       "2018-03-13 07:39:30  In the week starting Monday, March 5, some top...   \n",
       "2018-03-13 07:39:49  Blockchain EOS - Discover How To Get & Send Et...   \n",
       "2018-03-13 07:44:37  The post What are ERC-20 Tokens? A Beginner’s ...   \n",
       "2018-03-13 07:46:06  Blockchain can resolve a lot issues, for consu...   \n",
       "\n",
       "                          publisher  \\\n",
       "timeStamp                             \n",
       "2018-01-23 00:00:00      Stripe.com   \n",
       "2018-03-13 07:39:30     Newsbtc.com   \n",
       "2018-03-13 07:39:49     Gfxbing.com   \n",
       "2018-03-13 07:44:37  99bitcoins.com   \n",
       "2018-03-13 07:46:06          E27.co   \n",
       "\n",
       "                                                            source_url  \\\n",
       "timeStamp                                                                \n",
       "2018-01-23 00:00:00     https://stripe.com/blog/ending-bitcoin-support   \n",
       "2018-03-13 07:39:30  https://www.newsbtc.com/2018/03/13/services-br...   \n",
       "2018-03-13 07:39:49  http://gfxbing.com/video-tutorial/845272-block...   \n",
       "2018-03-13 07:44:37     https://99bitcoins.com/what-are-erc-20-tokens/   \n",
       "2018-03-13 07:46:06  https://e27.co/4-ways-blockchain-revolutionisi...   \n",
       "\n",
       "                                                                 title  \\\n",
       "timeStamp                                                                \n",
       "2018-01-23 00:00:00                             Ending Bitcoin Support   \n",
       "2018-03-13 07:39:30  Services Bridging Cryptocurrencies and Investo...   \n",
       "2018-03-13 07:39:49  Blockchain EOS - Discover How To Get & Send Et...   \n",
       "2018-03-13 07:44:37   What are ERC-20 Tokens? A Beginner’s Explanation   \n",
       "2018-03-13 07:46:06  4 ways blockchain is revolutionising the trave...   \n",
       "\n",
       "                           date      time  label  \\\n",
       "timeStamp                                          \n",
       "2018-01-23 00:00:00  2018-01-23  00:00:00    0.0   \n",
       "2018-03-13 07:39:30  2018-03-13  07:39:30    0.0   \n",
       "2018-03-13 07:39:49  2018-03-13  07:39:49    0.0   \n",
       "2018-03-13 07:44:37  2018-03-13  07:44:37    0.0   \n",
       "2018-03-13 07:46:06  2018-03-13  07:46:06    0.0   \n",
       "\n",
       "                                                                     c  marks  \\\n",
       "timeStamp                                                                       \n",
       "2018-01-23 00:00:00  ['complete', 'payments', 'platform', 'engineer...      0   \n",
       "2018-03-13 07:39:30  ['bitcoin', 'news', 'price', 'information', 'a...      0   \n",
       "2018-03-13 07:39:49                  ['category', 'video', 'tutorial']      0   \n",
       "2018-03-13 07:44:37  ['last', 'updated', 'march', 'th', 'initial', ...      0   \n",
       "2018-03-13 07:46:06  ['future', 'startups', 'check', 'tea', 'talk',...      0   \n",
       "\n",
       "                     rnn sentiment  \n",
       "timeStamp                           \n",
       "2018-01-23 00:00:00              1  \n",
       "2018-03-13 07:39:30              1  \n",
       "2018-03-13 07:39:49              1  \n",
       "2018-03-13 07:44:37              1  \n",
       "2018-03-13 07:46:06              1  "
      ]
     },
     "execution_count": 27,
     "metadata": {},
     "output_type": "execute_result"
    }
   ],
   "source": [
    "articles.head()"
   ]
  },
  {
   "cell_type": "markdown",
   "metadata": {},
   "source": [
    "### 2.2 Sentiment Prediction using decison-tree based models (random forest, gradient boosting)"
   ]
  },
  {
   "cell_type": "code",
   "execution_count": 28,
   "metadata": {},
   "outputs": [
    {
     "data": {
      "text/html": [
       "<div>\n",
       "<style scoped>\n",
       "    .dataframe tbody tr th:only-of-type {\n",
       "        vertical-align: middle;\n",
       "    }\n",
       "\n",
       "    .dataframe tbody tr th {\n",
       "        vertical-align: top;\n",
       "    }\n",
       "\n",
       "    .dataframe thead th {\n",
       "        text-align: right;\n",
       "    }\n",
       "</style>\n",
       "<table border=\"1\" class=\"dataframe\">\n",
       "  <thead>\n",
       "    <tr style=\"text-align: right;\">\n",
       "      <th></th>\n",
       "      <th>Name</th>\n",
       "      <th>URL</th>\n",
       "      <th>Sentiment</th>\n",
       "      <th>contents</th>\n",
       "      <th>title</th>\n",
       "      <th>date</th>\n",
       "      <th>time</th>\n",
       "      <th>marks</th>\n",
       "    </tr>\n",
       "    <tr>\n",
       "      <th>timeStamp</th>\n",
       "      <th></th>\n",
       "      <th></th>\n",
       "      <th></th>\n",
       "      <th></th>\n",
       "      <th></th>\n",
       "      <th></th>\n",
       "      <th></th>\n",
       "      <th></th>\n",
       "    </tr>\n",
       "  </thead>\n",
       "  <tbody>\n",
       "    <tr>\n",
       "      <th>2018-03-21 11:54:35</th>\n",
       "      <td>Sudarshan</td>\n",
       "      <td>https://www.wykop.pl/link/4223359/blockchain-a...</td>\n",
       "      <td>0.0</td>\n",
       "      <td>ciastka strona korzysta z plik w cookies w cel...</td>\n",
       "      <td>Blockchain &amp; Bitcoin Conference Berlin on Apri...</td>\n",
       "      <td>2018-03-21</td>\n",
       "      <td>11:54:35</td>\n",
       "      <td>1</td>\n",
       "    </tr>\n",
       "  </tbody>\n",
       "</table>\n",
       "</div>"
      ],
      "text/plain": [
       "                          Name  \\\n",
       "timeStamp                        \n",
       "2018-03-21 11:54:35  Sudarshan   \n",
       "\n",
       "                                                                   URL  \\\n",
       "timeStamp                                                                \n",
       "2018-03-21 11:54:35  https://www.wykop.pl/link/4223359/blockchain-a...   \n",
       "\n",
       "                     Sentiment  \\\n",
       "timeStamp                        \n",
       "2018-03-21 11:54:35        0.0   \n",
       "\n",
       "                                                              contents  \\\n",
       "timeStamp                                                                \n",
       "2018-03-21 11:54:35  ciastka strona korzysta z plik w cookies w cel...   \n",
       "\n",
       "                                                                 title  \\\n",
       "timeStamp                                                                \n",
       "2018-03-21 11:54:35  Blockchain & Bitcoin Conference Berlin on Apri...   \n",
       "\n",
       "                           date      time  marks  \n",
       "timeStamp                                         \n",
       "2018-03-21 11:54:35  2018-03-21  11:54:35      1  "
      ]
     },
     "execution_count": 28,
     "metadata": {},
     "output_type": "execute_result"
    }
   ],
   "source": [
    "data.head(1)"
   ]
  },
  {
   "cell_type": "code",
   "execution_count": 29,
   "metadata": {},
   "outputs": [
    {
     "data": {
      "text/plain": [
       "246"
      ]
     },
     "execution_count": 29,
     "metadata": {},
     "output_type": "execute_result"
    }
   ],
   "source": [
    "len(data)"
   ]
  },
  {
   "cell_type": "markdown",
   "metadata": {},
   "source": [
    "#### 2.2.1 NLP "
   ]
  },
  {
   "cell_type": "markdown",
   "metadata": {},
   "source": [
    "We creaet a simple class that contains different NLP pre-processing methods. "
   ]
  },
  {
   "cell_type": "code",
   "execution_count": 30,
   "metadata": {},
   "outputs": [],
   "source": [
    "# create class which handles NLP tokenization, stemming/lemmatizing and tranformation to vector \n",
    "class nlp_validation_sets:\n",
    "    \n",
    "    def __init__(self,fold,validation,train_data,max_features=10,method_nlp = \"stem\",ngram = 1):\n",
    "        self.fold = fold\n",
    "        self.validation = validation\n",
    "        self.max_features = max_features \n",
    "        self.method_nlp = method_nlp\n",
    "        self.ngram = ngram\n",
    "        self.train_data = train_data\n",
    "        \n",
    "        self.stemmed_word_list = []\n",
    "        self.tokenized_word_list = []\n",
    "        self.stemmed_word_list_only_bad = []\n",
    "        self.tokenized_word_list_only_bad = []\n",
    "        self.stemmed_word_list_val = []\n",
    "        self.tokenized_word_list_val = []\n",
    "        self.stemmed_word_list_train = []\n",
    "        self.tokenized_word_list_train = []\n",
    "    \n",
    "    def choose_w2v(self,method = \"tfidf\"):\n",
    "        from sklearn.feature_extraction.text import CountVectorizer\n",
    "        from sklearn.feature_extraction.text import TfidfVectorizer\n",
    "        \n",
    "        if method == \"tfidf\":\n",
    "            self.tfidf = TfidfVectorizer(max_features = self.max_features,ngram_range =(1,self.ngram),\n",
    "                                        max_df = 1.0,min_df = 1)\n",
    "        if method == \"count\":\n",
    "            self.tfidf = CountVectorizer(max_features = self.max_features,ngram_range = (1,self.ngram),\n",
    "                                        max_df = 1.0,min_df = 1)\n",
    "        \n",
    "    def fit(self):\n",
    "        import time \n",
    "        from nltk.stem.porter import PorterStemmer\n",
    "        from nltk.corpus import stopwords\n",
    "        import re\n",
    "         \n",
    "        start = time.time()\n",
    "        stop_words_english = set(stopwords.words('english'))\n",
    "        \n",
    "        stem = PorterStemmer()\n",
    "\n",
    "        \n",
    "        for text in self.fold.contents:\n",
    "            wordList = re.sub(\"[^\\w]\", \" \",text).split()\n",
    "            stem_words = []\n",
    "            token_words = []\n",
    "    \n",
    "            for word in wordList: \n",
    "                if not word.lower() in stop_words_english: \n",
    "                    stem_words.append(stem.stem(word.lower()))\n",
    "                    token_words.append(word.lower())\n",
    "    \n",
    "            self.stemmed_word_list.append(\" \".join(str(x) for x in stem_words))\n",
    "            self.tokenized_word_list.append(\" \".join(str(x) for x in token_words))\n",
    "            \n",
    "        for text in self.train_data.contents:\n",
    "            wordList = re.sub(\"[^\\w]\", \" \",text).split()\n",
    "            stem_words = []\n",
    "            token_words = []\n",
    "    \n",
    "            for word in wordList: \n",
    "                if not word.lower() in stop_words_english: \n",
    "                    stem_words.append(stem.stem(word.lower()))\n",
    "                    token_words.append(word.lower())\n",
    "    \n",
    "            self.stemmed_word_list_train.append(\" \".join(str(x) for x in stem_words))\n",
    "            self.tokenized_word_list_train.append(\" \".join(str(x) for x in token_words))\n",
    "        \n",
    "        \n",
    "        if self.method_nlp == \"stem\":\n",
    "            self.tfidf.fit(self.stemmed_word_list_train)\n",
    "        if self.method_nlp == \"token\":\n",
    "            self.tfidf.fit(self.tokenized_word_list_train)\n",
    "                \n",
    "                \n",
    "        for text in self.validation.contents:\n",
    "            wordList = re.sub(\"[^\\w]\", \" \",text).split()\n",
    "            stem_words = []\n",
    "            token_words = []\n",
    "    \n",
    "            for word in wordList: \n",
    "                if not word.lower() in stop_words_english: \n",
    "                    stem_words.append(stem.stem(word.lower()))\n",
    "                    token_words.append(word.lower())\n",
    "    \n",
    "            self.stemmed_word_list_val.append(\" \".join(str(x) for x in stem_words))\n",
    "            self.tokenized_word_list_val.append(\" \".join(str(x) for x in token_words))\n",
    "    \n",
    "        print(\"time elapsed\",round((time.time()-start)/60,1))\n",
    "        \n",
    "    def transform_test(self):\n",
    "        if self.method_nlp == \"stem\":\n",
    "            return self.tfidf.transform(self.stemmed_word_list_val)\n",
    "        if self.method_nlp == \"token\":\n",
    "            return self.tfidf.transform(self.tokenized_word_list_val)\n",
    "            \n",
    "    \n",
    "    def transform_train(self):\n",
    "        return self.tfidf.transform(self.stemmed_word_list)\n",
    "                    "
   ]
  },
  {
   "cell_type": "markdown",
   "metadata": {},
   "source": [
    "Before we create the NLP features, we create the training and testing data. "
   ]
  },
  {
   "cell_type": "code",
   "execution_count": 31,
   "metadata": {},
   "outputs": [],
   "source": [
    "from sklearn.model_selection import train_test_split\n",
    "\n",
    "X_train, X_test, Y_train_sen, Y_test_sen = train_test_split(data,data.Sentiment, test_size = 0.25, random_state = 42)\n",
    "X_train, X_test, Y_train_mar, Y_test_mar = train_test_split(data,data.marks, test_size = 0.25, random_state = 42)\n",
    "Y_train_sen_rnn, Y_test_sen_rnn = train_test_split(rnn_sentiment, test_size = 0.25, random_state = 42)"
   ]
  },
  {
   "cell_type": "code",
   "execution_count": 32,
   "metadata": {},
   "outputs": [
    {
     "data": {
      "text/plain": [
       "(62, 8)"
      ]
     },
     "execution_count": 32,
     "metadata": {},
     "output_type": "execute_result"
    }
   ],
   "source": [
    "X_test.shape"
   ]
  },
  {
   "cell_type": "code",
   "execution_count": 33,
   "metadata": {},
   "outputs": [
    {
     "data": {
      "text/plain": [
       "(184, 8)"
      ]
     },
     "execution_count": 33,
     "metadata": {},
     "output_type": "execute_result"
    }
   ],
   "source": [
    "X_train.shape"
   ]
  },
  {
   "cell_type": "code",
   "execution_count": 34,
   "metadata": {},
   "outputs": [],
   "source": [
    "sentiment_nlp = nlp_validation_sets(fold = X_train,validation = X_test,train_data = X_train,\n",
    "                                    max_features=100,method_nlp = \"stem\",ngram = 1)"
   ]
  },
  {
   "cell_type": "code",
   "execution_count": 35,
   "metadata": {},
   "outputs": [],
   "source": [
    "sentiment_nlp.choose_w2v(method = \"tfidf\")"
   ]
  },
  {
   "cell_type": "code",
   "execution_count": 36,
   "metadata": {},
   "outputs": [
    {
     "name": "stdout",
     "output_type": "stream",
     "text": [
      "time elapsed 0.1\n"
     ]
    }
   ],
   "source": [
    "sentiment_nlp.fit()"
   ]
  },
  {
   "cell_type": "code",
   "execution_count": 37,
   "metadata": {},
   "outputs": [
    {
     "data": {
      "text/plain": [
       "(184, 100)"
      ]
     },
     "execution_count": 37,
     "metadata": {},
     "output_type": "execute_result"
    }
   ],
   "source": [
    "X = sentiment_nlp.transform_train()\n",
    "X.shape"
   ]
  },
  {
   "cell_type": "code",
   "execution_count": 38,
   "metadata": {},
   "outputs": [
    {
     "data": {
      "text/plain": [
       "(62, 100)"
      ]
     },
     "execution_count": 38,
     "metadata": {},
     "output_type": "execute_result"
    }
   ],
   "source": [
    "X_test = sentiment_nlp.transform_test()\n",
    "X_test.shape"
   ]
  },
  {
   "cell_type": "markdown",
   "metadata": {},
   "source": [
    "#### 1.4.1.2 Model fitting"
   ]
  },
  {
   "cell_type": "markdown",
   "metadata": {},
   "source": [
    "##### Marks "
   ]
  },
  {
   "cell_type": "code",
   "execution_count": 39,
   "metadata": {},
   "outputs": [
    {
     "name": "stderr",
     "output_type": "stream",
     "text": [
      "/anaconda3/lib/python3.6/site-packages/sklearn/linear_model/logistic.py:432: FutureWarning: Default solver will be changed to 'lbfgs' in 0.22. Specify a solver to silence this warning.\n",
      "  FutureWarning)\n"
     ]
    },
    {
     "data": {
      "text/plain": [
       "LogisticRegression(C=1.0, class_weight=None, dual=False, fit_intercept=True,\n",
       "          intercept_scaling=1, max_iter=100, multi_class='warn',\n",
       "          n_jobs=None, penalty='l2', random_state=None, solver='warn',\n",
       "          tol=0.0001, verbose=0, warm_start=False)"
      ]
     },
     "execution_count": 39,
     "metadata": {},
     "output_type": "execute_result"
    }
   ],
   "source": [
    "from sklearn.linear_model import LogisticRegression\n",
    "from sklearn.metrics import confusion_matrix\n",
    "from sklearn.metrics import accuracy_score\n",
    "\n",
    "lr = LogisticRegression()\n",
    "lr.fit(X,Y_train_mar)"
   ]
  },
  {
   "cell_type": "code",
   "execution_count": 40,
   "metadata": {},
   "outputs": [
    {
     "data": {
      "text/plain": [
       "array([1, 0, 1, 1, 0, 1, 0, 1, 0, 1, 1, 0, 1, 1, 0, 0, 0, 1, 1, 1, 0, 0,\n",
       "       1, 0, 0, 1, 1, 1, 0, 1, 1, 1, 1, 0, 0, 0, 1, 1, 1, 0, 1, 0, 1, 1,\n",
       "       1, 1, 1, 0, 0, 1, 1, 1, 0, 1, 1, 1, 1, 1, 1, 1, 0, 1])"
      ]
     },
     "execution_count": 40,
     "metadata": {},
     "output_type": "execute_result"
    }
   ],
   "source": [
    "pred = lr.predict(X_test)\n",
    "pred"
   ]
  },
  {
   "cell_type": "code",
   "execution_count": 41,
   "metadata": {},
   "outputs": [
    {
     "data": {
      "text/plain": [
       "0.45161290322580644"
      ]
     },
     "execution_count": 41,
     "metadata": {},
     "output_type": "execute_result"
    }
   ],
   "source": [
    "accuracy_score(Y_test_mar,pred)"
   ]
  },
  {
   "cell_type": "code",
   "execution_count": 42,
   "metadata": {},
   "outputs": [
    {
     "name": "stdout",
     "output_type": "stream",
     "text": [
      "no information accuracy 0.4838709677419355\n"
     ]
    }
   ],
   "source": [
    "print(\"no information accuracy\", np.mean(Y_test_mar))"
   ]
  },
  {
   "cell_type": "code",
   "execution_count": 43,
   "metadata": {},
   "outputs": [
    {
     "data": {
      "text/plain": [
       "array([[10, 12],\n",
       "       [22, 18]])"
      ]
     },
     "execution_count": 43,
     "metadata": {},
     "output_type": "execute_result"
    }
   ],
   "source": [
    "confusion_matrix(pred,Y_test_mar)"
   ]
  },
  {
   "cell_type": "markdown",
   "metadata": {},
   "source": [
    "#### Hand-labeled Sentiment"
   ]
  },
  {
   "cell_type": "markdown",
   "metadata": {},
   "source": [
    "#### Random Forest"
   ]
  },
  {
   "cell_type": "code",
   "execution_count": 44,
   "metadata": {},
   "outputs": [
    {
     "name": "stdout",
     "output_type": "stream",
     "text": [
      "Fitting 2 folds for each of 4 candidates, totalling 8 fits\n"
     ]
    },
    {
     "name": "stderr",
     "output_type": "stream",
     "text": [
      "[Parallel(n_jobs=-1)]: Using backend LokyBackend with 4 concurrent workers.\n",
      "[Parallel(n_jobs=-1)]: Done   6 out of   8 | elapsed:    6.5s remaining:    2.2s\n",
      "[Parallel(n_jobs=-1)]: Done   8 out of   8 | elapsed:    6.7s finished\n",
      "/anaconda3/lib/python3.6/site-packages/sklearn/model_selection/_search.py:841: DeprecationWarning: The default of the `iid` parameter will change from True to False in version 0.22 and will be removed in 0.24. This will change numeric results when test-set sizes are unequal.\n",
      "  DeprecationWarning)\n"
     ]
    }
   ],
   "source": [
    "from sklearn.ensemble import RandomForestClassifier\n",
    "from sklearn.model_selection import GridSearchCV\n",
    "\n",
    "rf = RandomForestClassifier()\n",
    "\n",
    "n_estimators = [500]\n",
    "max_features = [.3,.5,.7,1.0]\n",
    "max_depth = [None]\n",
    "\n",
    "param_grid = {'n_estimators': n_estimators,'max_features': max_features,\"max_depth\":max_depth}\n",
    "    \n",
    "grid_search = GridSearchCV(estimator = rf, param_grid = param_grid, \n",
    "                          cv = 2, n_jobs = -1, verbose = 2)\n",
    "\n",
    " \n",
    "# Fit the random search model\n",
    "grid_search.fit(X, Y_train_sen)\n",
    "\n",
    "best_param = grid_search.best_params_\n",
    "\n",
    "rf_d = RandomForestClassifier(n_estimators = best_param[\"n_estimators\"],max_features = best_param[\"max_features\"]\n",
    "                             ,max_depth = best_param[\"max_depth\"])\n",
    "rf_d.fit(X,Y_train_sen)\n",
    "\n",
    "pred = rf_d.predict(X_test)\n"
   ]
  },
  {
   "cell_type": "code",
   "execution_count": 45,
   "metadata": {},
   "outputs": [
    {
     "data": {
      "text/plain": [
       "{'max_depth': None, 'max_features': 0.5, 'n_estimators': 500}"
      ]
     },
     "execution_count": 45,
     "metadata": {},
     "output_type": "execute_result"
    }
   ],
   "source": [
    "best_param"
   ]
  },
  {
   "cell_type": "code",
   "execution_count": 46,
   "metadata": {},
   "outputs": [
    {
     "data": {
      "text/plain": [
       "array([ 0., -1., -1., -1., -1.,  0.,  0.,  0., -1.,  0., -1.,  1.,  0.,\n",
       "        0.,  0.,  0., -1., -1., -1.,  1., -1.,  0.,  0.,  0.,  0.,  0.,\n",
       "       -1.,  1.,  0., -1.,  0.,  0.,  0.,  0., -1.,  0.,  0.,  0., -1.,\n",
       "       -1.,  0.,  0.,  0., -1., -1.,  0.,  0.,  0., -1.,  1., -1.,  0.,\n",
       "        0., -1.,  0.,  0.,  0.,  0., -1.,  0.,  0., -1.])"
      ]
     },
     "execution_count": 46,
     "metadata": {},
     "output_type": "execute_result"
    }
   ],
   "source": [
    "pred"
   ]
  },
  {
   "cell_type": "code",
   "execution_count": 47,
   "metadata": {},
   "outputs": [
    {
     "data": {
      "text/plain": [
       "0.4838709677419355"
      ]
     },
     "execution_count": 47,
     "metadata": {},
     "output_type": "execute_result"
    }
   ],
   "source": [
    "accuracy_score(Y_test_sen,pred)"
   ]
  },
  {
   "cell_type": "code",
   "execution_count": 48,
   "metadata": {},
   "outputs": [
    {
     "name": "stdout",
     "output_type": "stream",
     "text": [
      "no information accuracy 0.45652173913043476\n"
     ]
    }
   ],
   "source": [
    "print(\"no information accuracy\", len(X_train.loc[X_train.Sentiment == 0])/len(X_train))"
   ]
  },
  {
   "cell_type": "code",
   "execution_count": 49,
   "metadata": {},
   "outputs": [
    {
     "data": {
      "text/plain": [
       "array([[ 9,  6,  1],\n",
       "       [ 6, 20,  2],\n",
       "       [ 7, 10,  1]])"
      ]
     },
     "execution_count": 49,
     "metadata": {},
     "output_type": "execute_result"
    }
   ],
   "source": [
    "confusion_matrix(Y_test_sen,pred)"
   ]
  },
  {
   "cell_type": "markdown",
   "metadata": {},
   "source": [
    "#### Gradient Boosting"
   ]
  },
  {
   "cell_type": "code",
   "execution_count": 50,
   "metadata": {},
   "outputs": [
    {
     "name": "stdout",
     "output_type": "stream",
     "text": [
      "Fitting 2 folds for each of 36 candidates, totalling 72 fits\n"
     ]
    },
    {
     "name": "stderr",
     "output_type": "stream",
     "text": [
      "[Parallel(n_jobs=-1)]: Using backend LokyBackend with 4 concurrent workers.\n",
      "[Parallel(n_jobs=-1)]: Done  52 tasks      | elapsed:    8.9s\n",
      "[Parallel(n_jobs=-1)]: Done  72 out of  72 | elapsed:   17.0s finished\n",
      "/anaconda3/lib/python3.6/site-packages/sklearn/model_selection/_search.py:841: DeprecationWarning: The default of the `iid` parameter will change from True to False in version 0.22 and will be removed in 0.24. This will change numeric results when test-set sizes are unequal.\n",
      "  DeprecationWarning)\n"
     ]
    }
   ],
   "source": [
    "#https://scikit-learn.org/stable/modules/generated/sklearn.ensemble.GradientBoostingRegressor.html\n",
    "from sklearn.ensemble import GradientBoostingClassifier\n",
    "\n",
    "from sklearn.model_selection import RandomizedSearchCV\n",
    "from sklearn.model_selection import GridSearchCV\n",
    "\n",
    "\n",
    "gbm = GradientBoostingClassifier()\n",
    "    \n",
    "max_features = [0.3,0.6,0.8]\n",
    "subsample = [1]\n",
    "max_depth = [1,3,6]\n",
    "learning_rate = [.01]\n",
    "n_estimators=[50,100,150,200]\n",
    "\n",
    "param_grid = {'max_features': max_features,\"max_depth\":max_depth,\n",
    "                 \"subsample\":subsample,\"learning_rate\":learning_rate,\"n_estimators\":n_estimators}\n",
    "    \n",
    "\n",
    "grid_search = GridSearchCV(estimator = gbm, param_grid = param_grid, \n",
    "                      cv = 2, n_jobs = -1, verbose = 2)\n",
    "\n",
    "# Fit the grid search model\n",
    "grid_search.fit(X,Y_train_sen)\n",
    "\n",
    "best_param = grid_search.best_params_\n",
    "\n",
    "\n",
    "\n",
    "\n",
    "gbm_d = GradientBoostingClassifier(n_estimators = best_param[\"n_estimators\"],max_features = best_param[\"max_features\"]\n",
    "                             ,max_depth = best_param[\"max_depth\"],learning_rate = best_param[\"learning_rate\"])\n",
    "gbm_d.fit(X,Y_train_sen)\n",
    "\n",
    "pred = gbm_d.predict(X_test)\n"
   ]
  },
  {
   "cell_type": "code",
   "execution_count": 51,
   "metadata": {},
   "outputs": [
    {
     "data": {
      "text/plain": [
       "{'learning_rate': 0.01,\n",
       " 'max_depth': 1,\n",
       " 'max_features': 0.6,\n",
       " 'n_estimators': 50,\n",
       " 'subsample': 1}"
      ]
     },
     "execution_count": 51,
     "metadata": {},
     "output_type": "execute_result"
    }
   ],
   "source": [
    "best_param"
   ]
  },
  {
   "cell_type": "code",
   "execution_count": 52,
   "metadata": {},
   "outputs": [
    {
     "data": {
      "text/plain": [
       "array([ 0., -1., -1.,  0.,  0.,  0.,  0.,  0., -1.,  0., -1.,  0.,  0.,\n",
       "        0.,  0.,  0., -1., -1.,  0., -1., -1.,  0.,  0.,  0.,  0.,  0.,\n",
       "        0.,  0.,  0.,  0.,  0.,  0.,  0.,  0.,  0.,  0., -1.,  0.,  0.,\n",
       "        0.,  0.,  0.,  0., -1., -1.,  0.,  0.,  0., -1.,  0., -1.,  0.,\n",
       "        0., -1., -1.,  0.,  0.,  0., -1.,  0.,  0., -1.])"
      ]
     },
     "execution_count": 52,
     "metadata": {},
     "output_type": "execute_result"
    }
   ],
   "source": [
    "pred"
   ]
  },
  {
   "cell_type": "code",
   "execution_count": 53,
   "metadata": {},
   "outputs": [
    {
     "data": {
      "text/plain": [
       "0.4838709677419355"
      ]
     },
     "execution_count": 53,
     "metadata": {},
     "output_type": "execute_result"
    }
   ],
   "source": [
    "accuracy_score(Y_test_sen,pred)"
   ]
  },
  {
   "cell_type": "code",
   "execution_count": 54,
   "metadata": {},
   "outputs": [
    {
     "name": "stdout",
     "output_type": "stream",
     "text": [
      "no information accuracy 0.45652173913043476\n"
     ]
    }
   ],
   "source": [
    "print(\"no information accuracy\", len(X_train.loc[X_train.Sentiment == 0])/len(X_train))"
   ]
  },
  {
   "cell_type": "code",
   "execution_count": 55,
   "metadata": {},
   "outputs": [
    {
     "data": {
      "text/plain": [
       "array([[ 7,  9,  0],\n",
       "       [ 5, 23,  0],\n",
       "       [ 5, 13,  0]])"
      ]
     },
     "execution_count": 55,
     "metadata": {},
     "output_type": "execute_result"
    }
   ],
   "source": [
    "confusion_matrix(Y_test_sen,pred)"
   ]
  },
  {
   "cell_type": "markdown",
   "metadata": {},
   "source": [
    "#### Prediction  "
   ]
  },
  {
   "cell_type": "code",
   "execution_count": 56,
   "metadata": {},
   "outputs": [
    {
     "name": "stdout",
     "output_type": "stream",
     "text": [
      "time elapsed 8.3\n"
     ]
    }
   ],
   "source": [
    "main_articles_nlp = nlp_validation_sets(fold = X_train,validation = articles,train_data = X_train,\n",
    "                                    max_features=100,method_nlp = \"stem\",ngram = 1)\n",
    "\n",
    "main_articles_nlp.choose_w2v(method = \"count\")\n",
    "main_articles_nlp.fit()\n",
    "X = main_articles_nlp.transform_test()"
   ]
  },
  {
   "cell_type": "code",
   "execution_count": 57,
   "metadata": {},
   "outputs": [
    {
     "data": {
      "text/plain": [
       "(40732, 100)"
      ]
     },
     "execution_count": 57,
     "metadata": {},
     "output_type": "execute_result"
    }
   ],
   "source": [
    "X.shape"
   ]
  },
  {
   "cell_type": "code",
   "execution_count": 58,
   "metadata": {},
   "outputs": [],
   "source": [
    "pred_main_articles = rf_d.predict(X)"
   ]
  },
  {
   "cell_type": "code",
   "execution_count": 59,
   "metadata": {},
   "outputs": [
    {
     "data": {
      "text/plain": [
       "(40732,)"
      ]
     },
     "execution_count": 59,
     "metadata": {},
     "output_type": "execute_result"
    }
   ],
   "source": [
    "pred_main_articles.shape"
   ]
  },
  {
   "cell_type": "code",
   "execution_count": 60,
   "metadata": {},
   "outputs": [],
   "source": [
    "articles[\"predicted_sentiment\"] = pred_main_articles"
   ]
  },
  {
   "cell_type": "code",
   "execution_count": 61,
   "metadata": {},
   "outputs": [
    {
     "data": {
      "text/html": [
       "<div>\n",
       "<style scoped>\n",
       "    .dataframe tbody tr th:only-of-type {\n",
       "        vertical-align: middle;\n",
       "    }\n",
       "\n",
       "    .dataframe tbody tr th {\n",
       "        vertical-align: top;\n",
       "    }\n",
       "\n",
       "    .dataframe thead th {\n",
       "        text-align: right;\n",
       "    }\n",
       "</style>\n",
       "<table border=\"1\" class=\"dataframe\">\n",
       "  <thead>\n",
       "    <tr style=\"text-align: right;\">\n",
       "      <th></th>\n",
       "      <th>Unnamed: 0</th>\n",
       "      <th>index</th>\n",
       "      <th>author</th>\n",
       "      <th>contents</th>\n",
       "      <th>description</th>\n",
       "      <th>publisher</th>\n",
       "      <th>source_url</th>\n",
       "      <th>title</th>\n",
       "      <th>date</th>\n",
       "      <th>time</th>\n",
       "      <th>label</th>\n",
       "      <th>c</th>\n",
       "      <th>marks</th>\n",
       "      <th>rnn sentiment</th>\n",
       "      <th>predicted_sentiment</th>\n",
       "    </tr>\n",
       "    <tr>\n",
       "      <th>timeStamp</th>\n",
       "      <th></th>\n",
       "      <th></th>\n",
       "      <th></th>\n",
       "      <th></th>\n",
       "      <th></th>\n",
       "      <th></th>\n",
       "      <th></th>\n",
       "      <th></th>\n",
       "      <th></th>\n",
       "      <th></th>\n",
       "      <th></th>\n",
       "      <th></th>\n",
       "      <th></th>\n",
       "      <th></th>\n",
       "      <th></th>\n",
       "    </tr>\n",
       "  </thead>\n",
       "  <tbody>\n",
       "    <tr>\n",
       "      <th>2018-01-23</th>\n",
       "      <td>0</td>\n",
       "      <td>0</td>\n",
       "      <td>Stripe.com</td>\n",
       "      <td>complete payments platform engineered growth b...</td>\n",
       "      <td>At Stripe, we’ve long been excited about the p...</td>\n",
       "      <td>Stripe.com</td>\n",
       "      <td>https://stripe.com/blog/ending-bitcoin-support</td>\n",
       "      <td>Ending Bitcoin Support</td>\n",
       "      <td>2018-01-23</td>\n",
       "      <td>00:00:00</td>\n",
       "      <td>0.0</td>\n",
       "      <td>['complete', 'payments', 'platform', 'engineer...</td>\n",
       "      <td>0</td>\n",
       "      <td>1</td>\n",
       "      <td>1.0</td>\n",
       "    </tr>\n",
       "  </tbody>\n",
       "</table>\n",
       "</div>"
      ],
      "text/plain": [
       "            Unnamed: 0  index      author  \\\n",
       "timeStamp                                   \n",
       "2018-01-23           0      0  Stripe.com   \n",
       "\n",
       "                                                     contents  \\\n",
       "timeStamp                                                       \n",
       "2018-01-23  complete payments platform engineered growth b...   \n",
       "\n",
       "                                                  description   publisher  \\\n",
       "timeStamp                                                                   \n",
       "2018-01-23  At Stripe, we’ve long been excited about the p...  Stripe.com   \n",
       "\n",
       "                                                source_url  \\\n",
       "timeStamp                                                    \n",
       "2018-01-23  https://stripe.com/blog/ending-bitcoin-support   \n",
       "\n",
       "                             title        date      time  label  \\\n",
       "timeStamp                                                         \n",
       "2018-01-23  Ending Bitcoin Support  2018-01-23  00:00:00    0.0   \n",
       "\n",
       "                                                            c  marks  \\\n",
       "timeStamp                                                              \n",
       "2018-01-23  ['complete', 'payments', 'platform', 'engineer...      0   \n",
       "\n",
       "            rnn sentiment  predicted_sentiment  \n",
       "timeStamp                                       \n",
       "2018-01-23              1                  1.0  "
      ]
     },
     "execution_count": 61,
     "metadata": {},
     "output_type": "execute_result"
    }
   ],
   "source": [
    "articles.head(1)"
   ]
  },
  {
   "cell_type": "code",
   "execution_count": 62,
   "metadata": {},
   "outputs": [],
   "source": [
    "#articles.to_csv(\"Classified Articles with Predicted Sentiment\")"
   ]
  },
  {
   "cell_type": "markdown",
   "metadata": {},
   "source": [
    "## 3. Relationship between Sentiment and Price "
   ]
  },
  {
   "cell_type": "markdown",
   "metadata": {},
   "source": [
    "We test whether the predicted sentiment has an influence on Bitcoin prices. "
   ]
  },
  {
   "cell_type": "markdown",
   "metadata": {},
   "source": [
    "### 3.1 train /  test split"
   ]
  },
  {
   "cell_type": "code",
   "execution_count": 63,
   "metadata": {},
   "outputs": [
    {
     "data": {
      "text/html": [
       "<div>\n",
       "<style scoped>\n",
       "    .dataframe tbody tr th:only-of-type {\n",
       "        vertical-align: middle;\n",
       "    }\n",
       "\n",
       "    .dataframe tbody tr th {\n",
       "        vertical-align: top;\n",
       "    }\n",
       "\n",
       "    .dataframe thead th {\n",
       "        text-align: right;\n",
       "    }\n",
       "</style>\n",
       "<table border=\"1\" class=\"dataframe\">\n",
       "  <thead>\n",
       "    <tr style=\"text-align: right;\">\n",
       "      <th></th>\n",
       "      <th>Unnamed: 0</th>\n",
       "      <th>index</th>\n",
       "      <th>author</th>\n",
       "      <th>contents</th>\n",
       "      <th>description</th>\n",
       "      <th>publisher</th>\n",
       "      <th>source_url</th>\n",
       "      <th>title</th>\n",
       "      <th>date</th>\n",
       "      <th>time</th>\n",
       "      <th>label</th>\n",
       "      <th>c</th>\n",
       "      <th>marks</th>\n",
       "      <th>rnn sentiment</th>\n",
       "      <th>predicted_sentiment</th>\n",
       "    </tr>\n",
       "    <tr>\n",
       "      <th>timeStamp</th>\n",
       "      <th></th>\n",
       "      <th></th>\n",
       "      <th></th>\n",
       "      <th></th>\n",
       "      <th></th>\n",
       "      <th></th>\n",
       "      <th></th>\n",
       "      <th></th>\n",
       "      <th></th>\n",
       "      <th></th>\n",
       "      <th></th>\n",
       "      <th></th>\n",
       "      <th></th>\n",
       "      <th></th>\n",
       "      <th></th>\n",
       "    </tr>\n",
       "  </thead>\n",
       "  <tbody>\n",
       "    <tr>\n",
       "      <th>2018-01-23</th>\n",
       "      <td>0</td>\n",
       "      <td>0</td>\n",
       "      <td>Stripe.com</td>\n",
       "      <td>complete payments platform engineered growth b...</td>\n",
       "      <td>At Stripe, we’ve long been excited about the p...</td>\n",
       "      <td>Stripe.com</td>\n",
       "      <td>https://stripe.com/blog/ending-bitcoin-support</td>\n",
       "      <td>Ending Bitcoin Support</td>\n",
       "      <td>2018-01-23</td>\n",
       "      <td>00:00:00</td>\n",
       "      <td>0.0</td>\n",
       "      <td>['complete', 'payments', 'platform', 'engineer...</td>\n",
       "      <td>0</td>\n",
       "      <td>1</td>\n",
       "      <td>1.0</td>\n",
       "    </tr>\n",
       "  </tbody>\n",
       "</table>\n",
       "</div>"
      ],
      "text/plain": [
       "            Unnamed: 0  index      author  \\\n",
       "timeStamp                                   \n",
       "2018-01-23           0      0  Stripe.com   \n",
       "\n",
       "                                                     contents  \\\n",
       "timeStamp                                                       \n",
       "2018-01-23  complete payments platform engineered growth b...   \n",
       "\n",
       "                                                  description   publisher  \\\n",
       "timeStamp                                                                   \n",
       "2018-01-23  At Stripe, we’ve long been excited about the p...  Stripe.com   \n",
       "\n",
       "                                                source_url  \\\n",
       "timeStamp                                                    \n",
       "2018-01-23  https://stripe.com/blog/ending-bitcoin-support   \n",
       "\n",
       "                             title        date      time  label  \\\n",
       "timeStamp                                                         \n",
       "2018-01-23  Ending Bitcoin Support  2018-01-23  00:00:00    0.0   \n",
       "\n",
       "                                                            c  marks  \\\n",
       "timeStamp                                                              \n",
       "2018-01-23  ['complete', 'payments', 'platform', 'engineer...      0   \n",
       "\n",
       "            rnn sentiment  predicted_sentiment  \n",
       "timeStamp                                       \n",
       "2018-01-23              1                  1.0  "
      ]
     },
     "execution_count": 63,
     "metadata": {},
     "output_type": "execute_result"
    }
   ],
   "source": [
    "articles.head(1)"
   ]
  },
  {
   "cell_type": "code",
   "execution_count": 64,
   "metadata": {},
   "outputs": [
    {
     "data": {
      "text/plain": [
       "(40732, 15)"
      ]
     },
     "execution_count": 64,
     "metadata": {},
     "output_type": "execute_result"
    }
   ],
   "source": [
    "articles.shape"
   ]
  },
  {
   "cell_type": "code",
   "execution_count": 65,
   "metadata": {},
   "outputs": [
    {
     "data": {
      "text/plain": [
       "(40732, 9)"
      ]
     },
     "execution_count": 65,
     "metadata": {},
     "output_type": "execute_result"
    }
   ],
   "source": [
    "response.shape"
   ]
  },
  {
   "cell_type": "code",
   "execution_count": 66,
   "metadata": {},
   "outputs": [
    {
     "data": {
      "text/html": [
       "<div>\n",
       "<style scoped>\n",
       "    .dataframe tbody tr th:only-of-type {\n",
       "        vertical-align: middle;\n",
       "    }\n",
       "\n",
       "    .dataframe tbody tr th {\n",
       "        vertical-align: top;\n",
       "    }\n",
       "\n",
       "    .dataframe thead th {\n",
       "        text-align: right;\n",
       "    }\n",
       "</style>\n",
       "<table border=\"1\" class=\"dataframe\">\n",
       "  <thead>\n",
       "    <tr style=\"text-align: right;\">\n",
       "      <th></th>\n",
       "      <th>lag_1m</th>\n",
       "      <th>lag_5m</th>\n",
       "      <th>lag_10m</th>\n",
       "      <th>lag_30m</th>\n",
       "      <th>lag_60m</th>\n",
       "      <th>lag_12h</th>\n",
       "      <th>lag_1d</th>\n",
       "      <th>lag_2d</th>\n",
       "      <th>lag_4d</th>\n",
       "    </tr>\n",
       "  </thead>\n",
       "  <tbody>\n",
       "    <tr>\n",
       "      <th>0</th>\n",
       "      <td>-0.000255</td>\n",
       "      <td>-0.004628</td>\n",
       "      <td>0.003677</td>\n",
       "      <td>-0.006573</td>\n",
       "      <td>9.259276e-07</td>\n",
       "      <td>-0.066983</td>\n",
       "      <td>0.008283</td>\n",
       "      <td>0.048753</td>\n",
       "      <td>0.026566</td>\n",
       "    </tr>\n",
       "    <tr>\n",
       "      <th>1</th>\n",
       "      <td>0.004785</td>\n",
       "      <td>0.009881</td>\n",
       "      <td>0.007196</td>\n",
       "      <td>0.009790</td>\n",
       "      <td>5.649444e-03</td>\n",
       "      <td>-0.006864</td>\n",
       "      <td>0.001948</td>\n",
       "      <td>-0.131626</td>\n",
       "      <td>-0.099480</td>\n",
       "    </tr>\n",
       "    <tr>\n",
       "      <th>2</th>\n",
       "      <td>0.004785</td>\n",
       "      <td>0.009881</td>\n",
       "      <td>0.007196</td>\n",
       "      <td>0.009790</td>\n",
       "      <td>5.649444e-03</td>\n",
       "      <td>-0.006864</td>\n",
       "      <td>0.001948</td>\n",
       "      <td>-0.131626</td>\n",
       "      <td>-0.099480</td>\n",
       "    </tr>\n",
       "    <tr>\n",
       "      <th>3</th>\n",
       "      <td>-0.001834</td>\n",
       "      <td>-0.002659</td>\n",
       "      <td>-0.000428</td>\n",
       "      <td>-0.000899</td>\n",
       "      <td>1.532112e-03</td>\n",
       "      <td>-0.017489</td>\n",
       "      <td>-0.006412</td>\n",
       "      <td>-0.138672</td>\n",
       "      <td>-0.107204</td>\n",
       "    </tr>\n",
       "    <tr>\n",
       "      <th>4</th>\n",
       "      <td>-0.001857</td>\n",
       "      <td>-0.000064</td>\n",
       "      <td>0.002453</td>\n",
       "      <td>0.000936</td>\n",
       "      <td>3.372913e-03</td>\n",
       "      <td>-0.015684</td>\n",
       "      <td>-0.004587</td>\n",
       "      <td>-0.138783</td>\n",
       "      <td>-0.105564</td>\n",
       "    </tr>\n",
       "  </tbody>\n",
       "</table>\n",
       "</div>"
      ],
      "text/plain": [
       "     lag_1m    lag_5m   lag_10m   lag_30m       lag_60m   lag_12h    lag_1d  \\\n",
       "0 -0.000255 -0.004628  0.003677 -0.006573  9.259276e-07 -0.066983  0.008283   \n",
       "1  0.004785  0.009881  0.007196  0.009790  5.649444e-03 -0.006864  0.001948   \n",
       "2  0.004785  0.009881  0.007196  0.009790  5.649444e-03 -0.006864  0.001948   \n",
       "3 -0.001834 -0.002659 -0.000428 -0.000899  1.532112e-03 -0.017489 -0.006412   \n",
       "4 -0.001857 -0.000064  0.002453  0.000936  3.372913e-03 -0.015684 -0.004587   \n",
       "\n",
       "     lag_2d    lag_4d  \n",
       "0  0.048753  0.026566  \n",
       "1 -0.131626 -0.099480  \n",
       "2 -0.131626 -0.099480  \n",
       "3 -0.138672 -0.107204  \n",
       "4 -0.138783 -0.105564  "
      ]
     },
     "execution_count": 66,
     "metadata": {},
     "output_type": "execute_result"
    }
   ],
   "source": [
    "response.head()"
   ]
  },
  {
   "cell_type": "code",
   "execution_count": 67,
   "metadata": {},
   "outputs": [],
   "source": [
    "colnames = {\"lag_1m\":60,\"lag_5m\":300,\"lag_10m\":600,\"lag_30m\":1800,\"lag_60m\":3600,\"lag_12h\":43200,\"lag_1d\":86400,\n",
    "           \"lag_2d\":172800,\"lag_4d\": 345600}\n",
    "\n",
    "response = response.set_index(articles.index)\n",
    "for i in colnames:\n",
    "    articles[i] = response[i]"
   ]
  },
  {
   "cell_type": "code",
   "execution_count": null,
   "metadata": {},
   "outputs": [],
   "source": []
  },
  {
   "cell_type": "code",
   "execution_count": 68,
   "metadata": {},
   "outputs": [],
   "source": [
    "from sklearn.model_selection import train_test_split\n",
    "\n",
    "train, test, train_response, test_response = train_test_split(articles,response, test_size = 0.25, random_state = 42)\n",
    "train_naive,test_naive,a,b = train_test_split(benchmark_naive,response, test_size = 0.25, random_state = 42)\n"
   ]
  },
  {
   "cell_type": "code",
   "execution_count": 69,
   "metadata": {},
   "outputs": [
    {
     "data": {
      "text/plain": [
       "(30549, 24)"
      ]
     },
     "execution_count": 69,
     "metadata": {},
     "output_type": "execute_result"
    }
   ],
   "source": [
    "train.shape"
   ]
  },
  {
   "cell_type": "code",
   "execution_count": 70,
   "metadata": {},
   "outputs": [
    {
     "data": {
      "text/plain": [
       "(30549, 9)"
      ]
     },
     "execution_count": 70,
     "metadata": {},
     "output_type": "execute_result"
    }
   ],
   "source": [
    "train_response.shape"
   ]
  },
  {
   "cell_type": "code",
   "execution_count": 71,
   "metadata": {},
   "outputs": [
    {
     "data": {
      "text/plain": [
       "(10183, 24)"
      ]
     },
     "execution_count": 71,
     "metadata": {},
     "output_type": "execute_result"
    }
   ],
   "source": [
    "test.shape"
   ]
  },
  {
   "cell_type": "code",
   "execution_count": 72,
   "metadata": {},
   "outputs": [
    {
     "data": {
      "text/plain": [
       "(40732, 24)"
      ]
     },
     "execution_count": 72,
     "metadata": {},
     "output_type": "execute_result"
    }
   ],
   "source": [
    "articles.shape"
   ]
  },
  {
   "cell_type": "code",
   "execution_count": 73,
   "metadata": {},
   "outputs": [
    {
     "data": {
      "text/plain": [
       "(10183, 9)"
      ]
     },
     "execution_count": 73,
     "metadata": {},
     "output_type": "execute_result"
    }
   ],
   "source": [
    "test_response.shape"
   ]
  },
  {
   "cell_type": "code",
   "execution_count": 74,
   "metadata": {},
   "outputs": [
    {
     "data": {
      "text/plain": [
       "(10183, 24)"
      ]
     },
     "execution_count": 74,
     "metadata": {},
     "output_type": "execute_result"
    }
   ],
   "source": [
    "test.shape"
   ]
  },
  {
   "cell_type": "code",
   "execution_count": 75,
   "metadata": {},
   "outputs": [
    {
     "data": {
      "text/plain": [
       "(30549, 9)"
      ]
     },
     "execution_count": 75,
     "metadata": {},
     "output_type": "execute_result"
    }
   ],
   "source": [
    "train_response.shape"
   ]
  },
  {
   "cell_type": "code",
   "execution_count": 76,
   "metadata": {},
   "outputs": [
    {
     "data": {
      "text/plain": [
       "<matplotlib.axes._subplots.AxesSubplot at 0x1a28cfc940>"
      ]
     },
     "execution_count": 76,
     "metadata": {},
     "output_type": "execute_result"
    },
    {
     "data": {
      "image/png": "[encoded data removed]",
      "text/plain": [
       "<Figure size 432x288 with 1 Axes>"
      ]
     },
     "metadata": {
      "image/png": {
       "height": 261,
       "width": 393
      },
      "needs_background": "light"
     },
     "output_type": "display_data"
    }
   ],
   "source": [
    "sns.boxplot(train_response[\"lag_1d\"])"
   ]
  },
  {
   "cell_type": "code",
   "execution_count": 77,
   "metadata": {},
   "outputs": [],
   "source": [
    "colnames = {\"lag_1m\":60,\"lag_5m\":300,\"lag_10m\":600,\"lag_30m\":1800,\"lag_60m\":3600,\"lag_12h\":43200,\"lag_1d\":86400,\n",
    "           \"lag_2d\":172800,\"lag_4d\": 345600}"
   ]
  },
  {
   "cell_type": "markdown",
   "metadata": {},
   "source": [
    "### 3.2 Mean Difference in Price Change for different Sentiment "
   ]
  },
  {
   "cell_type": "markdown",
   "metadata": {},
   "source": [
    "First, we look at the mean price change for different sentiment. "
   ]
  },
  {
   "cell_type": "code",
   "execution_count": 78,
   "metadata": {},
   "outputs": [
    {
     "data": {
      "text/html": [
       "<div>\n",
       "<style scoped>\n",
       "    .dataframe tbody tr th:only-of-type {\n",
       "        vertical-align: middle;\n",
       "    }\n",
       "\n",
       "    .dataframe tbody tr th {\n",
       "        vertical-align: top;\n",
       "    }\n",
       "\n",
       "    .dataframe thead th {\n",
       "        text-align: right;\n",
       "    }\n",
       "</style>\n",
       "<table border=\"1\" class=\"dataframe\">\n",
       "  <thead>\n",
       "    <tr style=\"text-align: right;\">\n",
       "      <th></th>\n",
       "      <th>Unnamed: 0</th>\n",
       "      <th>index</th>\n",
       "      <th>author</th>\n",
       "      <th>contents</th>\n",
       "      <th>description</th>\n",
       "      <th>publisher</th>\n",
       "      <th>source_url</th>\n",
       "      <th>title</th>\n",
       "      <th>date</th>\n",
       "      <th>time</th>\n",
       "      <th>...</th>\n",
       "      <th>predicted_sentiment</th>\n",
       "      <th>lag_1m</th>\n",
       "      <th>lag_5m</th>\n",
       "      <th>lag_10m</th>\n",
       "      <th>lag_30m</th>\n",
       "      <th>lag_60m</th>\n",
       "      <th>lag_12h</th>\n",
       "      <th>lag_1d</th>\n",
       "      <th>lag_2d</th>\n",
       "      <th>lag_4d</th>\n",
       "    </tr>\n",
       "    <tr>\n",
       "      <th>timeStamp</th>\n",
       "      <th></th>\n",
       "      <th></th>\n",
       "      <th></th>\n",
       "      <th></th>\n",
       "      <th></th>\n",
       "      <th></th>\n",
       "      <th></th>\n",
       "      <th></th>\n",
       "      <th></th>\n",
       "      <th></th>\n",
       "      <th></th>\n",
       "      <th></th>\n",
       "      <th></th>\n",
       "      <th></th>\n",
       "      <th></th>\n",
       "      <th></th>\n",
       "      <th></th>\n",
       "      <th></th>\n",
       "      <th></th>\n",
       "      <th></th>\n",
       "      <th></th>\n",
       "    </tr>\n",
       "  </thead>\n",
       "  <tbody>\n",
       "    <tr>\n",
       "      <th>2018-01-23</th>\n",
       "      <td>0</td>\n",
       "      <td>0</td>\n",
       "      <td>Stripe.com</td>\n",
       "      <td>complete payments platform engineered growth b...</td>\n",
       "      <td>At Stripe, we’ve long been excited about the p...</td>\n",
       "      <td>Stripe.com</td>\n",
       "      <td>https://stripe.com/blog/ending-bitcoin-support</td>\n",
       "      <td>Ending Bitcoin Support</td>\n",
       "      <td>2018-01-23</td>\n",
       "      <td>00:00:00</td>\n",
       "      <td>...</td>\n",
       "      <td>1.0</td>\n",
       "      <td>-0.000255</td>\n",
       "      <td>-0.004628</td>\n",
       "      <td>0.003677</td>\n",
       "      <td>-0.006573</td>\n",
       "      <td>9.259276e-07</td>\n",
       "      <td>-0.066983</td>\n",
       "      <td>0.008283</td>\n",
       "      <td>0.048753</td>\n",
       "      <td>0.026566</td>\n",
       "    </tr>\n",
       "  </tbody>\n",
       "</table>\n",
       "<p>1 rows × 24 columns</p>\n",
       "</div>"
      ],
      "text/plain": [
       "            Unnamed: 0  index      author  \\\n",
       "timeStamp                                   \n",
       "2018-01-23           0      0  Stripe.com   \n",
       "\n",
       "                                                     contents  \\\n",
       "timeStamp                                                       \n",
       "2018-01-23  complete payments platform engineered growth b...   \n",
       "\n",
       "                                                  description   publisher  \\\n",
       "timeStamp                                                                   \n",
       "2018-01-23  At Stripe, we’ve long been excited about the p...  Stripe.com   \n",
       "\n",
       "                                                source_url  \\\n",
       "timeStamp                                                    \n",
       "2018-01-23  https://stripe.com/blog/ending-bitcoin-support   \n",
       "\n",
       "                             title        date      time    ...     \\\n",
       "timeStamp                                                   ...      \n",
       "2018-01-23  Ending Bitcoin Support  2018-01-23  00:00:00    ...      \n",
       "\n",
       "            predicted_sentiment    lag_1m    lag_5m   lag_10m   lag_30m  \\\n",
       "timeStamp                                                                 \n",
       "2018-01-23                  1.0 -0.000255 -0.004628  0.003677 -0.006573   \n",
       "\n",
       "                 lag_60m   lag_12h    lag_1d    lag_2d    lag_4d  \n",
       "timeStamp                                                         \n",
       "2018-01-23  9.259276e-07 -0.066983  0.008283  0.048753  0.026566  \n",
       "\n",
       "[1 rows x 24 columns]"
      ]
     },
     "execution_count": 78,
     "metadata": {},
     "output_type": "execute_result"
    }
   ],
   "source": [
    "articles.head(1)"
   ]
  },
  {
   "cell_type": "code",
   "execution_count": 79,
   "metadata": {},
   "outputs": [
    {
     "data": {
      "text/plain": [
       "0.0022"
      ]
     },
     "execution_count": 79,
     "metadata": {},
     "output_type": "execute_result"
    }
   ],
   "source": [
    "round(np.mean(articles.lag_30m)*100,4)"
   ]
  },
  {
   "cell_type": "code",
   "execution_count": 80,
   "metadata": {},
   "outputs": [
    {
     "data": {
      "text/plain": [
       "-0.0174"
      ]
     },
     "execution_count": 80,
     "metadata": {},
     "output_type": "execute_result"
    }
   ],
   "source": [
    "round(np.mean(articles.lag_30m.loc[articles.predicted_sentiment==0.0])*100,4)"
   ]
  },
  {
   "cell_type": "code",
   "execution_count": 81,
   "metadata": {},
   "outputs": [
    {
     "data": {
      "text/plain": [
       "-0.0071"
      ]
     },
     "execution_count": 81,
     "metadata": {},
     "output_type": "execute_result"
    }
   ],
   "source": [
    "round(np.mean(articles.lag_30m.loc[articles.predicted_sentiment==1.0])*100,4)"
   ]
  },
  {
   "cell_type": "code",
   "execution_count": 82,
   "metadata": {},
   "outputs": [
    {
     "data": {
      "text/plain": [
       "0.0274"
      ]
     },
     "execution_count": 82,
     "metadata": {},
     "output_type": "execute_result"
    }
   ],
   "source": [
    "round(np.mean(articles.lag_30m.loc[articles.predicted_sentiment==-1.0])*100,4)"
   ]
  },
  {
   "cell_type": "code",
   "execution_count": null,
   "metadata": {},
   "outputs": [],
   "source": []
  },
  {
   "cell_type": "code",
   "execution_count": 83,
   "metadata": {},
   "outputs": [
    {
     "data": {
      "text/plain": [
       "-0.0109"
      ]
     },
     "execution_count": 83,
     "metadata": {},
     "output_type": "execute_result"
    }
   ],
   "source": [
    "round(np.mean(articles.lag_30m.loc[articles.marks==0.0])*100,4)"
   ]
  },
  {
   "cell_type": "code",
   "execution_count": 84,
   "metadata": {},
   "outputs": [
    {
     "data": {
      "text/plain": [
       "0.0072"
      ]
     },
     "execution_count": 84,
     "metadata": {},
     "output_type": "execute_result"
    }
   ],
   "source": [
    "round(np.mean(articles.lag_30m.loc[articles.marks==1.0])*100,4)"
   ]
  },
  {
   "cell_type": "markdown",
   "metadata": {},
   "source": [
    "There seems to be a difference in mean price changes for different sentiment. "
   ]
  },
  {
   "cell_type": "markdown",
   "metadata": {},
   "source": [
    "### 3.3 Evaluate difference in price changes using linear regression "
   ]
  },
  {
   "cell_type": "markdown",
   "metadata": {},
   "source": [
    "Since we see that the mean price change is different for different sentiment, we use a logistic regression model to find out whether it is significant. "
   ]
  },
  {
   "cell_type": "code",
   "execution_count": 85,
   "metadata": {},
   "outputs": [
    {
     "name": "stdout",
     "output_type": "stream",
     "text": [
      "OLS for  lag_1m\n",
      "                            OLS Regression Results                            \n",
      "==============================================================================\n",
      "Dep. Variable:                 lag_1m   R-squared:                       0.000\n",
      "Model:                            OLS   Adj. R-squared:                 -0.000\n",
      "Method:                 Least Squares   F-statistic:                    0.2594\n",
      "Date:                Thu, 06 Dec 2018   Prob (F-statistic):              0.611\n",
      "Time:                        15:55:36   Log-Likelihood:             1.9797e+05\n",
      "No. Observations:               40732   AIC:                        -3.959e+05\n",
      "Df Residuals:                   40730   BIC:                        -3.959e+05\n",
      "Df Model:                           1                                         \n",
      "Covariance Type:            nonrobust                                         \n",
      "=======================================================================================\n",
      "                          coef    std err          t      P>|t|      [0.025      0.975]\n",
      "---------------------------------------------------------------------------------------\n",
      "const               -1.194e-05   9.29e-06     -1.285      0.199   -3.02e-05    6.28e-06\n",
      "predicted_sentiment  5.543e-06   1.09e-05      0.509      0.611   -1.58e-05    2.69e-05\n",
      "==============================================================================\n",
      "Omnibus:                     9473.172   Durbin-Watson:                   1.842\n",
      "Prob(Omnibus):                  0.000   Jarque-Bera (JB):           267544.018\n",
      "Skew:                           0.495   Prob(JB):                         0.00\n",
      "Kurtosis:                      15.517   Cond. No.                         1.17\n",
      "==============================================================================\n",
      "\n",
      "Warnings:\n",
      "[1] Standard Errors assume that the covariance matrix of the errors is correctly specified.\n",
      "\n",
      "\n",
      "OLS for  lag_5m\n",
      "                            OLS Regression Results                            \n",
      "==============================================================================\n",
      "Dep. Variable:                 lag_5m   R-squared:                       0.000\n",
      "Model:                            OLS   Adj. R-squared:                 -0.000\n",
      "Method:                 Least Squares   F-statistic:                   0.03781\n",
      "Date:                Thu, 06 Dec 2018   Prob (F-statistic):              0.846\n",
      "Time:                        15:55:36   Log-Likelihood:             1.6591e+05\n",
      "No. Observations:               40732   AIC:                        -3.318e+05\n",
      "Df Residuals:                   40730   BIC:                        -3.318e+05\n",
      "Df Model:                           1                                         \n",
      "Covariance Type:            nonrobust                                         \n",
      "=======================================================================================\n",
      "                          coef    std err          t      P>|t|      [0.025      0.975]\n",
      "---------------------------------------------------------------------------------------\n",
      "const               -2.613e-05   2.04e-05     -1.280      0.201   -6.62e-05    1.39e-05\n",
      "predicted_sentiment -4.649e-06   2.39e-05     -0.194      0.846   -5.15e-05    4.22e-05\n",
      "==============================================================================\n",
      "Omnibus:                     9381.640   Durbin-Watson:                   1.662\n",
      "Prob(Omnibus):                  0.000   Jarque-Bera (JB):           183788.046\n",
      "Skew:                           0.612   Prob(JB):                         0.00\n",
      "Kurtosis:                      13.334   Cond. No.                         1.17\n",
      "==============================================================================\n",
      "\n",
      "Warnings:\n",
      "[1] Standard Errors assume that the covariance matrix of the errors is correctly specified.\n",
      "\n",
      "\n",
      "OLS for  lag_10m\n",
      "                            OLS Regression Results                            \n",
      "==============================================================================\n",
      "Dep. Variable:                lag_10m   R-squared:                       0.000\n",
      "Model:                            OLS   Adj. R-squared:                  0.000\n",
      "Method:                 Least Squares   F-statistic:                     3.271\n",
      "Date:                Thu, 06 Dec 2018   Prob (F-statistic):             0.0705\n",
      "Time:                        15:55:36   Log-Likelihood:             1.5148e+05\n",
      "No. Observations:               40732   AIC:                        -3.030e+05\n",
      "Df Residuals:                   40730   BIC:                        -3.029e+05\n",
      "Df Model:                           1                                         \n",
      "Covariance Type:            nonrobust                                         \n",
      "=======================================================================================\n",
      "                          coef    std err          t      P>|t|      [0.025      0.975]\n",
      "---------------------------------------------------------------------------------------\n",
      "const                2.876e-05   2.91e-05      0.989      0.323   -2.83e-05    8.58e-05\n",
      "predicted_sentiment -6.163e-05   3.41e-05     -1.809      0.071      -0.000    5.16e-06\n",
      "==============================================================================\n",
      "Omnibus:                    11210.075   Durbin-Watson:                   1.567\n",
      "Prob(Omnibus):                  0.000   Jarque-Bera (JB):           249615.597\n",
      "Skew:                           0.798   Prob(JB):                         0.00\n",
      "Kurtosis:                      15.022   Cond. No.                         1.17\n",
      "==============================================================================\n",
      "\n",
      "Warnings:\n",
      "[1] Standard Errors assume that the covariance matrix of the errors is correctly specified.\n",
      "\n",
      "\n",
      "OLS for  lag_30m\n",
      "                            OLS Regression Results                            \n",
      "==============================================================================\n",
      "Dep. Variable:                lag_30m   R-squared:                       0.000\n",
      "Model:                            OLS   Adj. R-squared:                  0.000\n",
      "Method:                 Least Squares   F-statistic:                     8.448\n",
      "Date:                Thu, 06 Dec 2018   Prob (F-statistic):            0.00366\n",
      "Time:                        15:55:36   Log-Likelihood:             1.2957e+05\n",
      "No. Observations:               40732   AIC:                        -2.591e+05\n",
      "Df Residuals:                   40730   BIC:                        -2.591e+05\n",
      "Df Model:                           1                                         \n",
      "Covariance Type:            nonrobust                                         \n",
      "=======================================================================================\n",
      "                          coef    std err          t      P>|t|      [0.025      0.975]\n",
      "---------------------------------------------------------------------------------------\n",
      "const                2.681e-05   4.98e-05      0.538      0.591   -7.09e-05       0.000\n",
      "predicted_sentiment    -0.0002   5.84e-05     -2.906      0.004      -0.000   -5.52e-05\n",
      "==============================================================================\n",
      "Omnibus:                     8920.724   Durbin-Watson:                   1.376\n",
      "Prob(Omnibus):                  0.000   Jarque-Bera (JB):           135380.947\n",
      "Skew:                           0.638   Prob(JB):                         0.00\n",
      "Kurtosis:                      11.840   Cond. No.                         1.17\n",
      "==============================================================================\n",
      "\n",
      "Warnings:\n",
      "[1] Standard Errors assume that the covariance matrix of the errors is correctly specified.\n",
      "\n",
      "\n",
      "OLS for  lag_60m\n",
      "                            OLS Regression Results                            \n",
      "==============================================================================\n",
      "Dep. Variable:                lag_60m   R-squared:                       0.000\n",
      "Model:                            OLS   Adj. R-squared:                 -0.000\n",
      "Method:                 Least Squares   F-statistic:                    0.7683\n",
      "Date:                Thu, 06 Dec 2018   Prob (F-statistic):              0.381\n",
      "Time:                        15:55:36   Log-Likelihood:             1.1617e+05\n",
      "No. Observations:               40732   AIC:                        -2.323e+05\n",
      "Df Residuals:                   40730   BIC:                        -2.323e+05\n",
      "Df Model:                           1                                         \n",
      "Covariance Type:            nonrobust                                         \n",
      "=======================================================================================\n",
      "                          coef    std err          t      P>|t|      [0.025      0.975]\n",
      "---------------------------------------------------------------------------------------\n",
      "const                   0.0002   6.92e-05      2.370      0.018    2.84e-05       0.000\n",
      "predicted_sentiment -7.107e-05   8.11e-05     -0.876      0.381      -0.000    8.79e-05\n",
      "==============================================================================\n",
      "Omnibus:                     5881.061   Durbin-Watson:                   1.324\n",
      "Prob(Omnibus):                  0.000   Jarque-Bera (JB):            49961.077\n",
      "Skew:                           0.435   Prob(JB):                         0.00\n",
      "Kurtosis:                       8.356   Cond. No.                         1.17\n",
      "==============================================================================\n",
      "\n",
      "Warnings:\n",
      "[1] Standard Errors assume that the covariance matrix of the errors is correctly specified.\n",
      "\n",
      "\n",
      "OLS for  lag_12h\n",
      "                            OLS Regression Results                            \n",
      "==============================================================================\n",
      "Dep. Variable:                lag_12h   R-squared:                       0.000\n",
      "Model:                            OLS   Adj. R-squared:                  0.000\n",
      "Method:                 Least Squares   F-statistic:                     14.11\n",
      "Date:                Thu, 06 Dec 2018   Prob (F-statistic):           0.000172\n",
      "Time:                        15:55:36   Log-Likelihood:                 69281.\n",
      "No. Observations:               40732   AIC:                        -1.386e+05\n",
      "Df Residuals:                   40730   BIC:                        -1.385e+05\n",
      "Df Model:                           1                                         \n",
      "Covariance Type:            nonrobust                                         \n",
      "=======================================================================================\n",
      "                          coef    std err          t      P>|t|      [0.025      0.975]\n",
      "---------------------------------------------------------------------------------------\n",
      "const                   0.0025      0.000     11.255      0.000       0.002       0.003\n",
      "predicted_sentiment    -0.0010      0.000     -3.757      0.000      -0.001      -0.000\n",
      "==============================================================================\n",
      "Omnibus:                     6009.944   Durbin-Watson:                   1.035\n",
      "Prob(Omnibus):                  0.000   Jarque-Bera (JB):            33459.944\n",
      "Skew:                           0.595   Prob(JB):                         0.00\n",
      "Kurtosis:                       7.278   Cond. No.                         1.17\n",
      "==============================================================================\n",
      "\n",
      "Warnings:\n",
      "[1] Standard Errors assume that the covariance matrix of the errors is correctly specified.\n",
      "\n",
      "\n",
      "OLS for  lag_1d\n",
      "                            OLS Regression Results                            \n",
      "==============================================================================\n",
      "Dep. Variable:                 lag_1d   R-squared:                       0.000\n",
      "Model:                            OLS   Adj. R-squared:                  0.000\n",
      "Method:                 Least Squares   F-statistic:                     9.651\n",
      "Date:                Thu, 06 Dec 2018   Prob (F-statistic):            0.00189\n",
      "Time:                        15:55:36   Log-Likelihood:                 55206.\n",
      "No. Observations:               40732   AIC:                        -1.104e+05\n",
      "Df Residuals:                   40730   BIC:                        -1.104e+05\n",
      "Df Model:                           1                                         \n",
      "Covariance Type:            nonrobust                                         \n",
      "=======================================================================================\n",
      "                          coef    std err          t      P>|t|      [0.025      0.975]\n",
      "---------------------------------------------------------------------------------------\n",
      "const                   0.0022      0.000      6.985      0.000       0.002       0.003\n",
      "predicted_sentiment    -0.0011      0.000     -3.107      0.002      -0.002      -0.000\n",
      "==============================================================================\n",
      "Omnibus:                     4423.289   Durbin-Watson:                   0.787\n",
      "Prob(Omnibus):                  0.000   Jarque-Bera (JB):            14655.746\n",
      "Skew:                           0.551   Prob(JB):                         0.00\n",
      "Kurtosis:                       5.724   Cond. No.                         1.17\n",
      "==============================================================================\n",
      "\n",
      "Warnings:\n",
      "[1] Standard Errors assume that the covariance matrix of the errors is correctly specified.\n",
      "\n",
      "\n",
      "OLS for  lag_2d\n",
      "                            OLS Regression Results                            \n",
      "==============================================================================\n",
      "Dep. Variable:                 lag_2d   R-squared:                       0.000\n",
      "Model:                            OLS   Adj. R-squared:                  0.000\n",
      "Method:                 Least Squares   F-statistic:                     4.678\n",
      "Date:                Thu, 06 Dec 2018   Prob (F-statistic):             0.0306\n",
      "Time:                        15:55:36   Log-Likelihood:                 42945.\n",
      "No. Observations:               40732   AIC:                        -8.589e+04\n",
      "Df Residuals:                   40730   BIC:                        -8.587e+04\n",
      "Df Model:                           1                                         \n",
      "Covariance Type:            nonrobust                                         \n",
      "=======================================================================================\n",
      "                          coef    std err          t      P>|t|      [0.025      0.975]\n",
      "---------------------------------------------------------------------------------------\n",
      "const                   0.0012      0.000      2.838      0.005       0.000       0.002\n",
      "predicted_sentiment    -0.0011      0.000     -2.163      0.031      -0.002   -9.93e-05\n",
      "==============================================================================\n",
      "Omnibus:                     2280.199   Durbin-Watson:                   0.511\n",
      "Prob(Omnibus):                  0.000   Jarque-Bera (JB):             4879.494\n",
      "Skew:                           0.381   Prob(JB):                         0.00\n",
      "Kurtosis:                       4.515   Cond. No.                         1.17\n",
      "==============================================================================\n",
      "\n",
      "Warnings:\n",
      "[1] Standard Errors assume that the covariance matrix of the errors is correctly specified.\n",
      "\n",
      "\n",
      "OLS for  lag_4d\n",
      "                            OLS Regression Results                            \n",
      "==============================================================================\n",
      "Dep. Variable:                 lag_4d   R-squared:                       0.000\n",
      "Model:                            OLS   Adj. R-squared:                  0.000\n",
      "Method:                 Least Squares   F-statistic:                     5.193\n",
      "Date:                Thu, 06 Dec 2018   Prob (F-statistic):             0.0227\n",
      "Time:                        15:55:36   Log-Likelihood:                 26640.\n",
      "No. Observations:               40732   AIC:                        -5.328e+04\n",
      "Df Residuals:                   40730   BIC:                        -5.326e+04\n",
      "Df Model:                           1                                         \n",
      "Covariance Type:            nonrobust                                         \n",
      "=======================================================================================\n",
      "                          coef    std err          t      P>|t|      [0.025      0.975]\n",
      "---------------------------------------------------------------------------------------\n",
      "const                   0.0059      0.001      9.460      0.000       0.005       0.007\n",
      "predicted_sentiment    -0.0017      0.001     -2.279      0.023      -0.003      -0.000\n",
      "==============================================================================\n",
      "Omnibus:                      408.280   Durbin-Watson:                   0.347\n",
      "Prob(Omnibus):                  0.000   Jarque-Bera (JB):              443.133\n",
      "Skew:                           0.216   Prob(JB):                     5.96e-97\n",
      "Kurtosis:                       3.274   Cond. No.                         1.17\n",
      "==============================================================================\n",
      "\n",
      "Warnings:\n",
      "[1] Standard Errors assume that the covariance matrix of the errors is correctly specified.\n",
      "\n",
      "\n"
     ]
    }
   ],
   "source": [
    "import statsmodels.api as sm\n",
    "\n",
    "for j in colnames:\n",
    "    \n",
    "    lm = sm.OLS(articles[j],sm.add_constant(articles.predicted_sentiment)).fit()\n",
    "    \n",
    "    print(\"OLS for \",j)\n",
    "    print(lm.summary())\n",
    "    print(\"\")\n",
    "    print(\"\")"
   ]
  },
  {
   "cell_type": "markdown",
   "metadata": {},
   "source": [
    "We see that the higher we go in our time lag, the more the signficance of the coefficients in our regression increases. However, although there is a signficicant relationship between sentiment and price, the R-squared is pretty low, indicating that sentiment actually does not carry a lot of predictive capacity. We therefore decided to train our final model, which is trying to predict prices, with both sentiment and vectorized article data. "
   ]
  },
  {
   "cell_type": "code",
   "execution_count": 86,
   "metadata": {},
   "outputs": [
    {
     "name": "stdout",
     "output_type": "stream",
     "text": [
      "OLS for  lag_1m\n",
      "                            OLS Regression Results                            \n",
      "==============================================================================\n",
      "Dep. Variable:                 lag_1m   R-squared:                       0.000\n",
      "Model:                            OLS   Adj. R-squared:                 -0.000\n",
      "Method:                 Least Squares   F-statistic:                    0.5884\n",
      "Date:                Thu, 06 Dec 2018   Prob (F-statistic):              0.443\n",
      "Time:                        15:55:36   Log-Likelihood:             1.9797e+05\n",
      "No. Observations:               40732   AIC:                        -3.959e+05\n",
      "Df Residuals:                   40730   BIC:                        -3.959e+05\n",
      "Df Model:                           1                                         \n",
      "Covariance Type:            nonrobust                                         \n",
      "==============================================================================\n",
      "                 coef    std err          t      P>|t|      [0.025      0.975]\n",
      "------------------------------------------------------------------------------\n",
      "const      -2.335e-05   1.77e-05     -1.320      0.187    -5.8e-05    1.13e-05\n",
      "marks       1.595e-05   2.08e-05      0.767      0.443   -2.48e-05    5.67e-05\n",
      "==============================================================================\n",
      "Omnibus:                     9475.151   Durbin-Watson:                   1.842\n",
      "Prob(Omnibus):                  0.000   Jarque-Bera (JB):           267636.258\n",
      "Skew:                           0.495   Prob(JB):                         0.00\n",
      "Kurtosis:                      15.519   Cond. No.                         3.58\n",
      "==============================================================================\n",
      "\n",
      "Warnings:\n",
      "[1] Standard Errors assume that the covariance matrix of the errors is correctly specified.\n",
      "\n",
      "\n",
      "OLS for  lag_5m\n",
      "                            OLS Regression Results                            \n",
      "==============================================================================\n",
      "Dep. Variable:                 lag_5m   R-squared:                       0.000\n",
      "Model:                            OLS   Adj. R-squared:                  0.000\n",
      "Method:                 Least Squares   F-statistic:                     9.921\n",
      "Date:                Thu, 06 Dec 2018   Prob (F-statistic):            0.00163\n",
      "Time:                        15:55:36   Log-Likelihood:             1.6592e+05\n",
      "No. Observations:               40732   AIC:                        -3.318e+05\n",
      "Df Residuals:                   40730   BIC:                        -3.318e+05\n",
      "Df Model:                           1                                         \n",
      "Covariance Type:            nonrobust                                         \n",
      "==============================================================================\n",
      "                 coef    std err          t      P>|t|      [0.025      0.975]\n",
      "------------------------------------------------------------------------------\n",
      "const         -0.0001   3.89e-05     -3.356      0.001      -0.000   -5.43e-05\n",
      "marks          0.0001   4.57e-05      3.150      0.002    5.43e-05       0.000\n",
      "==============================================================================\n",
      "Omnibus:                     9405.589   Durbin-Watson:                   1.662\n",
      "Prob(Omnibus):                  0.000   Jarque-Bera (JB):           184538.855\n",
      "Skew:                           0.615   Prob(JB):                         0.00\n",
      "Kurtosis:                      13.355   Cond. No.                         3.58\n",
      "==============================================================================\n",
      "\n",
      "Warnings:\n",
      "[1] Standard Errors assume that the covariance matrix of the errors is correctly specified.\n",
      "\n",
      "\n",
      "OLS for  lag_10m\n",
      "                            OLS Regression Results                            \n",
      "==============================================================================\n",
      "Dep. Variable:                lag_10m   R-squared:                       0.000\n",
      "Model:                            OLS   Adj. R-squared:                  0.000\n",
      "Method:                 Least Squares   F-statistic:                     6.322\n",
      "Date:                Thu, 06 Dec 2018   Prob (F-statistic):             0.0119\n",
      "Time:                        15:55:36   Log-Likelihood:             1.5148e+05\n",
      "No. Observations:               40732   AIC:                        -3.030e+05\n",
      "Df Residuals:                   40730   BIC:                        -3.029e+05\n",
      "Df Model:                           1                                         \n",
      "Covariance Type:            nonrobust                                         \n",
      "==============================================================================\n",
      "                 coef    std err          t      P>|t|      [0.025      0.975]\n",
      "------------------------------------------------------------------------------\n",
      "const      -9.132e-05   5.54e-05     -1.649      0.099      -0.000    1.72e-05\n",
      "marks          0.0002   6.51e-05      2.514      0.012    3.61e-05       0.000\n",
      "==============================================================================\n",
      "Omnibus:                    11248.319   Durbin-Watson:                   1.568\n",
      "Prob(Omnibus):                  0.000   Jarque-Bera (JB):           251043.943\n",
      "Skew:                           0.802   Prob(JB):                         0.00\n",
      "Kurtosis:                      15.056   Cond. No.                         3.58\n",
      "==============================================================================\n",
      "\n",
      "Warnings:\n",
      "[1] Standard Errors assume that the covariance matrix of the errors is correctly specified.\n",
      "\n",
      "\n",
      "OLS for  lag_30m\n",
      "                            OLS Regression Results                            \n",
      "==============================================================================\n",
      "Dep. Variable:                lag_30m   R-squared:                       0.000\n",
      "Model:                            OLS   Adj. R-squared:                  0.000\n",
      "Method:                 Least Squares   F-statistic:                     2.647\n",
      "Date:                Thu, 06 Dec 2018   Prob (F-statistic):              0.104\n",
      "Time:                        15:55:36   Log-Likelihood:             1.2956e+05\n",
      "No. Observations:               40732   AIC:                        -2.591e+05\n",
      "Df Residuals:                   40730   BIC:                        -2.591e+05\n",
      "Df Model:                           1                                         \n",
      "Covariance Type:            nonrobust                                         \n",
      "==============================================================================\n",
      "                 coef    std err          t      P>|t|      [0.025      0.975]\n",
      "------------------------------------------------------------------------------\n",
      "const         -0.0001   9.49e-05     -1.148      0.251      -0.000    7.71e-05\n",
      "marks          0.0002      0.000      1.627      0.104   -3.71e-05       0.000\n",
      "==============================================================================\n",
      "Omnibus:                     8941.356   Durbin-Watson:                   1.376\n",
      "Prob(Omnibus):                  0.000   Jarque-Bera (JB):           135923.786\n",
      "Skew:                           0.640   Prob(JB):                         0.00\n",
      "Kurtosis:                      11.857   Cond. No.                         3.58\n",
      "==============================================================================\n",
      "\n",
      "Warnings:\n",
      "[1] Standard Errors assume that the covariance matrix of the errors is correctly specified.\n",
      "\n",
      "\n",
      "OLS for  lag_60m\n",
      "                            OLS Regression Results                            \n",
      "==============================================================================\n",
      "Dep. Variable:                lag_60m   R-squared:                       0.000\n",
      "Model:                            OLS   Adj. R-squared:                  0.000\n",
      "Method:                 Least Squares   F-statistic:                     7.281\n",
      "Date:                Thu, 06 Dec 2018   Prob (F-statistic):            0.00697\n",
      "Time:                        15:55:36   Log-Likelihood:             1.1617e+05\n",
      "No. Observations:               40732   AIC:                        -2.323e+05\n",
      "Df Residuals:                   40730   BIC:                        -2.323e+05\n",
      "Df Model:                           1                                         \n",
      "Covariance Type:            nonrobust                                         \n",
      "==============================================================================\n",
      "                 coef    std err          t      P>|t|      [0.025      0.975]\n",
      "------------------------------------------------------------------------------\n",
      "const         -0.0001      0.000     -1.065      0.287      -0.000       0.000\n",
      "marks          0.0004      0.000      2.698      0.007       0.000       0.001\n",
      "==============================================================================\n",
      "Omnibus:                     5897.620   Durbin-Watson:                   1.324\n",
      "Prob(Omnibus):                  0.000   Jarque-Bera (JB):            50146.005\n",
      "Skew:                           0.437   Prob(JB):                         0.00\n",
      "Kurtosis:                       8.365   Cond. No.                         3.58\n",
      "==============================================================================\n",
      "\n",
      "Warnings:\n",
      "[1] Standard Errors assume that the covariance matrix of the errors is correctly specified.\n",
      "\n",
      "\n",
      "OLS for  lag_12h\n",
      "                            OLS Regression Results                            \n",
      "==============================================================================\n",
      "Dep. Variable:                lag_12h   R-squared:                       0.005\n",
      "Model:                            OLS   Adj. R-squared:                  0.005\n",
      "Method:                 Least Squares   F-statistic:                     211.0\n",
      "Date:                Thu, 06 Dec 2018   Prob (F-statistic):           1.09e-47\n",
      "Time:                        15:55:36   Log-Likelihood:                 69379.\n",
      "No. Observations:               40732   AIC:                        -1.388e+05\n",
      "Df Residuals:                   40730   BIC:                        -1.387e+05\n",
      "Df Model:                           1                                         \n",
      "Covariance Type:            nonrobust                                         \n",
      "==============================================================================\n",
      "                 coef    std err          t      P>|t|      [0.025      0.975]\n",
      "------------------------------------------------------------------------------\n",
      "const         -0.0027      0.000     -6.494      0.000      -0.004      -0.002\n",
      "marks          0.0071      0.000     14.526      0.000       0.006       0.008\n",
      "==============================================================================\n",
      "Omnibus:                     5945.965   Durbin-Watson:                   1.042\n",
      "Prob(Omnibus):                  0.000   Jarque-Bera (JB):            31241.052\n",
      "Skew:                           0.605   Prob(JB):                         0.00\n",
      "Kurtosis:                       7.116   Cond. No.                         3.58\n",
      "==============================================================================\n",
      "\n",
      "Warnings:\n",
      "[1] Standard Errors assume that the covariance matrix of the errors is correctly specified.\n",
      "\n",
      "\n",
      "OLS for  lag_1d\n",
      "                            OLS Regression Results                            \n",
      "==============================================================================\n",
      "Dep. Variable:                 lag_1d   R-squared:                       0.001\n",
      "Model:                            OLS   Adj. R-squared:                  0.001\n",
      "Method:                 Least Squares   F-statistic:                     34.36\n",
      "Date:                Thu, 06 Dec 2018   Prob (F-statistic):           4.62e-09\n",
      "Time:                        15:55:36   Log-Likelihood:                 55219.\n",
      "No. Observations:               40732   AIC:                        -1.104e+05\n",
      "Df Residuals:                   40730   BIC:                        -1.104e+05\n",
      "Df Model:                           1                                         \n",
      "Covariance Type:            nonrobust                                         \n",
      "==============================================================================\n",
      "                 coef    std err          t      P>|t|      [0.025      0.975]\n",
      "------------------------------------------------------------------------------\n",
      "const         -0.0008      0.001     -1.367      0.172      -0.002       0.000\n",
      "marks          0.0041      0.001      5.862      0.000       0.003       0.005\n",
      "==============================================================================\n",
      "Omnibus:                     4370.854   Durbin-Watson:                   0.788\n",
      "Prob(Omnibus):                  0.000   Jarque-Bera (JB):            14077.125\n",
      "Skew:                           0.553   Prob(JB):                         0.00\n",
      "Kurtosis:                       5.659   Cond. No.                         3.58\n",
      "==============================================================================\n",
      "\n",
      "Warnings:\n",
      "[1] Standard Errors assume that the covariance matrix of the errors is correctly specified.\n",
      "\n",
      "\n",
      "OLS for  lag_2d\n",
      "                            OLS Regression Results                            \n",
      "==============================================================================\n",
      "Dep. Variable:                 lag_2d   R-squared:                       0.000\n",
      "Model:                            OLS   Adj. R-squared:                 -0.000\n",
      "Method:                 Least Squares   F-statistic:                    0.2860\n",
      "Date:                Thu, 06 Dec 2018   Prob (F-statistic):              0.593\n",
      "Time:                        15:55:36   Log-Likelihood:                 42943.\n",
      "No. Observations:               40732   AIC:                        -8.588e+04\n",
      "Df Residuals:                   40730   BIC:                        -8.587e+04\n",
      "Df Model:                           1                                         \n",
      "Covariance Type:            nonrobust                                         \n",
      "==============================================================================\n",
      "                 coef    std err          t      P>|t|      [0.025      0.975]\n",
      "------------------------------------------------------------------------------\n",
      "const          0.0015      0.001      1.912      0.056   -3.83e-05       0.003\n",
      "marks         -0.0005      0.001     -0.535      0.593      -0.002       0.001\n",
      "==============================================================================\n",
      "Omnibus:                     2304.937   Durbin-Watson:                   0.511\n",
      "Prob(Omnibus):                  0.000   Jarque-Bera (JB):             4945.843\n",
      "Skew:                           0.384   Prob(JB):                         0.00\n",
      "Kurtosis:                       4.525   Cond. No.                         3.58\n",
      "==============================================================================\n",
      "\n",
      "Warnings:\n",
      "[1] Standard Errors assume that the covariance matrix of the errors is correctly specified.\n",
      "\n",
      "\n",
      "OLS for  lag_4d\n",
      "                            OLS Regression Results                            \n",
      "==============================================================================\n",
      "Dep. Variable:                 lag_4d   R-squared:                       0.003\n",
      "Model:                            OLS   Adj. R-squared:                  0.003\n",
      "Method:                 Least Squares   F-statistic:                     123.2\n",
      "Date:                Thu, 06 Dec 2018   Prob (F-statistic):           1.39e-28\n",
      "Time:                        15:55:36   Log-Likelihood:                 26699.\n",
      "No. Observations:               40732   AIC:                        -5.339e+04\n",
      "Df Residuals:                   40730   BIC:                        -5.338e+04\n",
      "Df Model:                           1                                         \n",
      "Covariance Type:            nonrobust                                         \n",
      "==============================================================================\n",
      "                 coef    std err          t      P>|t|      [0.025      0.975]\n",
      "------------------------------------------------------------------------------\n",
      "const         -0.0053      0.001     -4.505      0.000      -0.008      -0.003\n",
      "marks          0.0155      0.001     11.099      0.000       0.013       0.018\n",
      "==============================================================================\n",
      "Omnibus:                      367.505   Durbin-Watson:                   0.348\n",
      "Prob(Omnibus):                  0.000   Jarque-Bera (JB):              398.400\n",
      "Skew:                           0.203   Prob(JB):                     3.08e-87\n",
      "Kurtosis:                       3.265   Cond. No.                         3.58\n",
      "==============================================================================\n",
      "\n",
      "Warnings:\n",
      "[1] Standard Errors assume that the covariance matrix of the errors is correctly specified.\n",
      "\n",
      "\n"
     ]
    }
   ],
   "source": [
    "import statsmodels.api as sm\n",
    "\n",
    "for j in colnames:\n",
    "    \n",
    "    lm = sm.OLS(articles[j],sm.add_constant(articles.marks)).fit()\n",
    "    \n",
    "    print(\"OLS for \",j)\n",
    "    print(lm.summary())\n",
    "    print(\"\")\n",
    "    print(\"\")\n",
    "\n",
    "\n"
   ]
  },
  {
   "cell_type": "markdown",
   "metadata": {},
   "source": [
    "This relationship also holds true for the labeled data using unsupervised learning (past semester's method). "
   ]
  },
  {
   "cell_type": "code",
   "execution_count": null,
   "metadata": {},
   "outputs": [],
   "source": []
  },
  {
   "cell_type": "markdown",
   "metadata": {},
   "source": [
    "## 4. Article Scoring"
   ]
  },
  {
   "cell_type": "markdown",
   "metadata": {},
   "source": [
    "We use both sentiment and vectorized article text as features to predict prices. Those prediction will be then tranformed into a scoring which represents the signficance of a given article on Bitcoin price change. We do this for daily Bitcoin data based on the insights we got from the EDA and the last section in this notebook, saying that the higher we go in time, the stronger the influence of news data on price. "
   ]
  },
  {
   "cell_type": "markdown",
   "metadata": {},
   "source": [
    "### 4.1 nlp features "
   ]
  },
  {
   "cell_type": "code",
   "execution_count": 87,
   "metadata": {},
   "outputs": [],
   "source": [
    "nlp = nlp_validation_sets(fold = train,validation = test,train_data = articles,max_features=100,method_nlp = \"stem\",ngram = 1)"
   ]
  },
  {
   "cell_type": "code",
   "execution_count": 88,
   "metadata": {},
   "outputs": [],
   "source": [
    "nlp.choose_w2v(method = \"count\")"
   ]
  },
  {
   "cell_type": "code",
   "execution_count": 89,
   "metadata": {},
   "outputs": [
    {
     "name": "stdout",
     "output_type": "stream",
     "text": [
      "time elapsed 16.5\n"
     ]
    }
   ],
   "source": [
    "nlp.fit()"
   ]
  },
  {
   "cell_type": "code",
   "execution_count": 90,
   "metadata": {},
   "outputs": [],
   "source": [
    "X = nlp.transform_train()"
   ]
  },
  {
   "cell_type": "code",
   "execution_count": 91,
   "metadata": {},
   "outputs": [],
   "source": [
    "X_test = nlp.transform_test()"
   ]
  },
  {
   "cell_type": "code",
   "execution_count": 92,
   "metadata": {},
   "outputs": [
    {
     "data": {
      "text/plain": [
       "(30549, 100)"
      ]
     },
     "execution_count": 92,
     "metadata": {},
     "output_type": "execute_result"
    }
   ],
   "source": [
    "X.shape"
   ]
  },
  {
   "cell_type": "code",
   "execution_count": 93,
   "metadata": {},
   "outputs": [
    {
     "data": {
      "text/plain": [
       "(10183, 100)"
      ]
     },
     "execution_count": 93,
     "metadata": {},
     "output_type": "execute_result"
    }
   ],
   "source": [
    "X_test.shape"
   ]
  },
  {
   "cell_type": "markdown",
   "metadata": {},
   "source": [
    "### 4.2 train models and evaluate models "
   ]
  },
  {
   "cell_type": "code",
   "execution_count": 94,
   "metadata": {},
   "outputs": [
    {
     "data": {
      "text/plain": [
       "(30549, 9)"
      ]
     },
     "execution_count": 94,
     "metadata": {},
     "output_type": "execute_result"
    }
   ],
   "source": [
    "train_response.shape"
   ]
  },
  {
   "cell_type": "code",
   "execution_count": 95,
   "metadata": {},
   "outputs": [
    {
     "data": {
      "text/plain": [
       "(30549, 100)"
      ]
     },
     "execution_count": 95,
     "metadata": {},
     "output_type": "execute_result"
    }
   ],
   "source": [
    "X.shape"
   ]
  },
  {
   "cell_type": "code",
   "execution_count": 96,
   "metadata": {},
   "outputs": [
    {
     "data": {
      "text/plain": [
       "(10183, 100)"
      ]
     },
     "execution_count": 96,
     "metadata": {},
     "output_type": "execute_result"
    }
   ],
   "source": [
    "X_test.shape"
   ]
  },
  {
   "cell_type": "code",
   "execution_count": 97,
   "metadata": {},
   "outputs": [
    {
     "data": {
      "text/plain": [
       "(10183, 9)"
      ]
     },
     "execution_count": 97,
     "metadata": {},
     "output_type": "execute_result"
    }
   ],
   "source": [
    "test_response.shape"
   ]
  },
  {
   "cell_type": "markdown",
   "metadata": {},
   "source": [
    "### 4.3 benchmark: naive (use last price change as predictor for current price change)"
   ]
  },
  {
   "cell_type": "markdown",
   "metadata": {},
   "source": [
    "We use a naive model as a benchmark. Naive means that price change = price change (t-1), so the predicted price change is simply the last price change. We do this for different time lags. "
   ]
  },
  {
   "cell_type": "code",
   "execution_count": 98,
   "metadata": {},
   "outputs": [
    {
     "name": "stdout",
     "output_type": "stream",
     "text": [
      "benchmark training error: lag_1m : 1e-05\n",
      "benchmark training error: lag_5m : 3e-05\n",
      "benchmark training error: lag_10m : 7e-05\n",
      "benchmark training error: lag_30m : 0.0002\n",
      "benchmark training error: lag_60m : 0.00041\n",
      "benchmark training error: lag_12h : 0.00396\n",
      "benchmark training error: lag_1d : 0.00889\n",
      "benchmark training error: lag_2d : 0.01603\n",
      "benchmark training error: lag_4d : 0.02818\n"
     ]
    }
   ],
   "source": [
    "from sklearn.metrics import mean_squared_error\n",
    "colnames = {\"lag_1m\":60,\"lag_5m\":300,\"lag_10m\":600,\"lag_30m\":1800,\"lag_60m\":3600,\"lag_12h\":43200,\"lag_1d\":86400,\n",
    "           \"lag_2d\":172800,\"lag_4d\": 345600}\n",
    "\n",
    "for j in colnames:\n",
    "    print(\"benchmark training error:\",j,\":\",round(mean_squared_error(train_response[j],train_naive[j]),5))\n"
   ]
  },
  {
   "cell_type": "code",
   "execution_count": 99,
   "metadata": {},
   "outputs": [
    {
     "name": "stdout",
     "output_type": "stream",
     "text": [
      "benchmark testing error: lag_1m : 1e-05\n",
      "benchmark testing error: lag_5m : 3e-05\n",
      "benchmark testing error: lag_10m : 6e-05\n",
      "benchmark testing error: lag_30m : 0.00019\n",
      "benchmark testing error: lag_60m : 0.0004\n",
      "benchmark testing error: lag_12h : 0.00397\n",
      "benchmark testing error: lag_1d : 0.00893\n",
      "benchmark testing error: lag_2d : 0.01604\n",
      "benchmark testing error: lag_4d : 0.02795\n"
     ]
    }
   ],
   "source": [
    "for j in colnames:\n",
    "    print(\"benchmark testing error:\",j,\":\",round(mean_squared_error(test_response[j],test_naive[j]),5))"
   ]
  },
  {
   "cell_type": "markdown",
   "metadata": {},
   "source": [
    "### 4.4 benchmark: AR-1 linear regresion (regress on past price change)"
   ]
  },
  {
   "cell_type": "markdown",
   "metadata": {},
   "source": [
    "We then compare a autoregressive linear regression as a benchmark. \n",
    "We compute the test error of the linear regression as a fraction of the test error of our naive benchmark. \n",
    "Our models should at least beat the AR-1 linear regression. "
   ]
  },
  {
   "cell_type": "code",
   "execution_count": 100,
   "metadata": {},
   "outputs": [
    {
     "name": "stdout",
     "output_type": "stream",
     "text": [
      "AR-1 linear regression test error: lag_1m 0.52073\n",
      "AR-1 linear regression test error: lag_5m 0.52643\n",
      "AR-1 linear regression test error: lag_10m 0.49202\n",
      "AR-1 linear regression test error: lag_30m 0.49134\n",
      "AR-1 linear regression test error: lag_60m 0.46501\n",
      "AR-1 linear regression test error: lag_12h 0.47748\n",
      "AR-1 linear regression test error: lag_1d 0.42965\n",
      "AR-1 linear regression test error: lag_2d 0.4483\n",
      "AR-1 linear regression test error: lag_4d 0.56196\n"
     ]
    }
   ],
   "source": [
    "from sklearn.linear_model import LinearRegression\n",
    "for j in colnames:\n",
    "    reg = LinearRegression()\n",
    "    reg.fit(train_naive,train_response[j])\n",
    "    #pred = reg.predict(train_naive)\n",
    "    #print(\"linear regression training error:\",j,round(mean_squared_error(pred,train_response[j])/\n",
    "                                                      #mean_squared_error(train_response[j],train_naive[j]),5))\n",
    "    pred = reg.predict(test_naive)\n",
    "    #print(\"\")\n",
    "    print(\"AR-1 linear regression test error:\",j,round(mean_squared_error(pred,test_response[j])/\n",
    "                                                  mean_squared_error(test_response[j],test_naive[j]),5))"
   ]
  },
  {
   "cell_type": "markdown",
   "metadata": {},
   "source": [
    "### 4.5 linear regression / lasso regression with NLP features"
   ]
  },
  {
   "cell_type": "markdown",
   "metadata": {},
   "source": [
    "Before we dive into more complex models, we fit a linear and lasso regression. We do this for all time lags. "
   ]
  },
  {
   "cell_type": "code",
   "execution_count": 101,
   "metadata": {},
   "outputs": [],
   "source": [
    "X = np.concatenate((X.toarray(),train[[\"predicted_sentiment\",\"rnn sentiment\"]].values),axis = 1)"
   ]
  },
  {
   "cell_type": "code",
   "execution_count": 102,
   "metadata": {},
   "outputs": [
    {
     "data": {
      "text/plain": [
       "(30549, 102)"
      ]
     },
     "execution_count": 102,
     "metadata": {},
     "output_type": "execute_result"
    }
   ],
   "source": [
    "X.shape"
   ]
  },
  {
   "cell_type": "code",
   "execution_count": 103,
   "metadata": {},
   "outputs": [],
   "source": [
    "X_test = np.concatenate((X_test.toarray(),test[[\"predicted_sentiment\",\"rnn sentiment\"]].values),axis = 1)"
   ]
  },
  {
   "cell_type": "code",
   "execution_count": 104,
   "metadata": {},
   "outputs": [
    {
     "data": {
      "text/plain": [
       "(10183, 102)"
      ]
     },
     "execution_count": 104,
     "metadata": {},
     "output_type": "execute_result"
    }
   ],
   "source": [
    "X_test.shape"
   ]
  },
  {
   "cell_type": "code",
   "execution_count": 105,
   "metadata": {},
   "outputs": [
    {
     "data": {
      "text/plain": [
       "(10183, 9)"
      ]
     },
     "execution_count": 105,
     "metadata": {},
     "output_type": "execute_result"
    }
   ],
   "source": [
    "test_response.shape"
   ]
  },
  {
   "cell_type": "code",
   "execution_count": 106,
   "metadata": {
    "scrolled": true
   },
   "outputs": [
    {
     "name": "stdout",
     "output_type": "stream",
     "text": [
      "linear regression test error: lag_1m 0.52092\n",
      "linear regression test error: lag_5m 0.52712\n",
      "linear regression test error: lag_10m 0.49376\n",
      "linear regression test error: lag_30m 0.49027\n",
      "linear regression test error: lag_60m 0.46505\n",
      "linear regression test error: lag_12h 0.48629\n",
      "linear regression test error: lag_1d 0.43392\n",
      "linear regression test error: lag_2d 0.44389\n",
      "linear regression test error: lag_4d 0.55156\n"
     ]
    }
   ],
   "source": [
    "# linear regression: train \n",
    "for j in colnames:\n",
    "    reg = LinearRegression()\n",
    "    reg.fit(X,train_response[j])\n",
    "\n",
    "    pred = reg.predict(X_test)\n",
    "    #print(\"\")\n",
    "    print(\"linear regression test error:\",j,round(mean_squared_error(pred,test_response[j])/\n",
    "                                                  mean_squared_error(test_response[j],test_naive[j]),5))"
   ]
  },
  {
   "cell_type": "markdown",
   "metadata": {},
   "source": [
    "### 4.6 lasso regression with NLP features (with 5-fold cross validation)"
   ]
  },
  {
   "cell_type": "code",
   "execution_count": 107,
   "metadata": {},
   "outputs": [
    {
     "name": "stdout",
     "output_type": "stream",
     "text": [
      "lasso R squared: lag_1m 0.0\n",
      "lasso regression test error: lag_1m 0.52028\n",
      "lasso R squared: lag_5m 0.0\n",
      "lasso regression test error: lag_5m 0.52693\n",
      "lasso R squared: lag_10m 0.0\n",
      "lasso regression test error: lag_10m 0.49379\n",
      "lasso R squared: lag_30m 0.0\n",
      "lasso regression test error: lag_30m 0.49205\n",
      "lasso R squared: lag_60m 0.0\n",
      "lasso regression test error: lag_60m 0.46784\n",
      "lasso R squared: lag_12h 0.0\n",
      "lasso regression test error: lag_12h 0.49192\n",
      "lasso R squared: lag_1d 0.0\n",
      "lasso regression test error: lag_1d 0.44055\n",
      "lasso R squared: lag_2d 0.0\n",
      "lasso regression test error: lag_2d 0.45166\n",
      "lasso R squared: lag_4d 0.0\n",
      "lasso regression test error: lag_4d 0.56981\n"
     ]
    }
   ],
   "source": [
    "#from: https://www.kaggle.com/floser/aw6-the-lasso-cross-validated\n",
    "#https://scikit-learn.org/stable/modules/generated/sklearn.linear_model.Lasso.html\n",
    "from sklearn.preprocessing import scale\n",
    "from sklearn.linear_model import Lasso, LassoCV, Ridge, RidgeCV\n",
    "#from sklearn import cross_validation\n",
    "\n",
    "for j in colnames:\n",
    "    alphas = [1,5,10,50,100,1000]\n",
    "    lassocv = LassoCV(alphas=alphas, cv=5, max_iter=100000, normalize=True)\n",
    "    lassocv.fit(X, train_response[j])\n",
    "    lasso = Lasso()\n",
    "    lasso.set_params(alpha=lassocv.alpha_)\n",
    "    #print(\"Alpha=\", lassocv.alpha_)\n",
    "    lasso.fit(X, train_response[j])\n",
    "    #print(\"mse = \",mean_squared_error(y_test, lasso.predict(X_test)))\n",
    "    #print(\"best model coefficients:\")\n",
    "    #pd.Series(lasso.coef_, index=X.columns)\n",
    "    #pred = lasso.predict(X)\n",
    "    #print(\"lasso regression training error:\",j,round(mean_squared_error(pred,train_response[j])/\n",
    "                                                      #mean_squared_error(train_response[j],train_naive[j]),5))\n",
    "    \n",
    "    pred = lasso.predict(X_test)\n",
    "    print(\"lasso R squared:\",j,lasso.score(X,train_response[j]))\n",
    "    print(\"lasso regression test error:\",j,round(mean_squared_error(pred,test_response[j])/\n",
    "                                                  mean_squared_error(test_response[j],test_naive[j]),5))\n",
    "    "
   ]
  },
  {
   "cell_type": "markdown",
   "metadata": {},
   "source": [
    "Both linear and lasso regression do not perform better than a simple AR-1 model. Therefore, we will explore more complex models. "
   ]
  },
  {
   "cell_type": "markdown",
   "metadata": {},
   "source": [
    "### 4.7 random forest regressor with NLP features"
   ]
  },
  {
   "cell_type": "code",
   "execution_count": 108,
   "metadata": {},
   "outputs": [
    {
     "name": "stdout",
     "output_type": "stream",
     "text": [
      "Fitting 2 folds for each of 2 candidates, totalling 4 fits\n"
     ]
    },
    {
     "name": "stderr",
     "output_type": "stream",
     "text": [
      "[Parallel(n_jobs=-1)]: Using backend LokyBackend with 4 concurrent workers.\n",
      "[Parallel(n_jobs=-1)]: Done   4 out of   4 | elapsed:  3.0min finished\n"
     ]
    },
    {
     "name": "stdout",
     "output_type": "stream",
     "text": [
      "random forest test error: lag_1d 0.15027\n",
      "time elapsed: 7.9 minutes\n"
     ]
    }
   ],
   "source": [
    "#from: https://towardsdatascience.com/hyperparameter-tuning-the-random-forest-in-python-using-scikit-learn-28d2aa77dd74\n",
    "#https://scikit-learn.org/stable/modules/generated/sklearn.ensemble.RandomForestClassifier.html\n",
    "\n",
    "#from sklearn.metrics import accuracy_score\n",
    "from sklearn.ensemble import RandomForestRegressor\n",
    "from sklearn.model_selection import RandomizedSearchCV\n",
    "from sklearn.model_selection import GridSearchCV\n",
    "\n",
    "start = time.time()\n",
    "\n",
    "colnames = {\"lag_1m\":60,\"lag_5m\":300,\"lag_10m\":600,\"lag_30m\":1800,\"lag_60m\":3600,\"lag_12h\":43200,\"lag_1d\":86400,\n",
    "           \"lag_2d\":172800,\"lag_4d\": 345600}\n",
    "\n",
    "model = [\"lag_1d\"]\n",
    "\n",
    "for j in model:\n",
    "    \n",
    "    \n",
    "    rf = RandomForestRegressor()\n",
    "    \n",
    "    n_estimators = [500]\n",
    "    max_features = [.3,0.6]\n",
    "    max_depth = [None]\n",
    "\n",
    "    param_grid = {'n_estimators': n_estimators,'max_features': max_features,\"max_depth\":max_depth}\n",
    "    \n",
    "    grid_search = GridSearchCV(estimator = rf, param_grid = param_grid, \n",
    "                          cv = 2, n_jobs = -1, verbose = 2,scoring = \"neg_mean_squared_error\")\n",
    "\n",
    "    #rf_random = RandomizedSearchCV(estimator = rf, param_distributions = random_grid, n_iter = 4, \n",
    "                               #cv = 3, verbose=2, random_state=42, n_jobs = -1)\n",
    "    # Fit the grid search model\n",
    "    grid_search.fit(X, train_response[j])\n",
    "\n",
    "    best_param = grid_search.best_params_\n",
    "\n",
    "    rf_d = RandomForestRegressor(n_estimators = best_param[\"n_estimators\"],max_features = best_param[\"max_features\"]\n",
    "                             ,max_depth = best_param[\"max_depth\"])\n",
    "    rf_d.fit(X,train_response[j])\n",
    "\n",
    "    pred = rf_d.predict(X_test)\n",
    "    pred_rf = rf_d.predict(X_test)\n",
    "\n",
    "    print(\"random forest test error:\",j,round(mean_squared_error(pred,test_response[j])/\n",
    "                                                  mean_squared_error(test_response[j],test_naive[j]),5))\n",
    "   \n",
    "print(\"time elapsed:\",round((time.time()-start)/60,1),\"minutes\")"
   ]
  },
  {
   "cell_type": "markdown",
   "metadata": {},
   "source": [
    "The random forest model performs significantly better than a simple AR-1 model for daily data. It seems that we found a model which is able to extract signal from data. "
   ]
  },
  {
   "cell_type": "code",
   "execution_count": 109,
   "metadata": {},
   "outputs": [
    {
     "data": {
      "text/plain": [
       "{'max_depth': None, 'max_features': 0.3, 'n_estimators': 500}"
      ]
     },
     "execution_count": 109,
     "metadata": {},
     "output_type": "execute_result"
    }
   ],
   "source": [
    "best_param"
   ]
  },
  {
   "cell_type": "code",
   "execution_count": 110,
   "metadata": {},
   "outputs": [
    {
     "data": {
      "text/plain": [
       "Text(0,0.5,'Actual Daily Price Change')"
      ]
     },
     "execution_count": 110,
     "metadata": {},
     "output_type": "execute_result"
    },
    {
     "data": {
      "image/png": "[encoded data removed]",
      "text/plain": [
       "<Figure size 432x288 with 1 Axes>"
      ]
     },
     "metadata": {
      "image/png": {
       "height": 260,
       "width": 434
      },
      "needs_background": "light"
     },
     "output_type": "display_data"
    }
   ],
   "source": [
    "import matplotlib.pyplot as plt\n",
    "plt.plot(pred_rf,test_response[\"lag_1d\"],\"o\")\n",
    "plt.xlabel('Predicted Daily Price Change')\n",
    "plt.ylabel('Actual Daily Price Change')"
   ]
  },
  {
   "cell_type": "markdown",
   "metadata": {},
   "source": [
    "This can be confirmed by a plot showing predicted and actual values of our random forest model. "
   ]
  },
  {
   "cell_type": "markdown",
   "metadata": {},
   "source": [
    "### 4.8 gbm with cv "
   ]
  },
  {
   "cell_type": "markdown",
   "metadata": {},
   "source": [
    "Let's try a second \"complex\" model. "
   ]
  },
  {
   "cell_type": "code",
   "execution_count": 111,
   "metadata": {},
   "outputs": [
    {
     "name": "stdout",
     "output_type": "stream",
     "text": [
      "Fitting 2 folds for each of 6 candidates, totalling 12 fits\n"
     ]
    },
    {
     "name": "stderr",
     "output_type": "stream",
     "text": [
      "[Parallel(n_jobs=-1)]: Using backend LokyBackend with 4 concurrent workers.\n",
      "[Parallel(n_jobs=-1)]: Done  12 out of  12 | elapsed:  1.5min remaining:    0.0s\n",
      "[Parallel(n_jobs=-1)]: Done  12 out of  12 | elapsed:  1.5min finished\n"
     ]
    },
    {
     "name": "stdout",
     "output_type": "stream",
     "text": [
      "gbm test error: lag_1d 0.27967\n",
      "time elapsed: 3.9 minutes\n"
     ]
    }
   ],
   "source": [
    "#https://scikit-learn.org/stable/modules/generated/sklearn.ensemble.GradientBoostingRegressor.html\n",
    "from sklearn.ensemble import GradientBoostingRegressor\n",
    "\n",
    "from sklearn.model_selection import RandomizedSearchCV\n",
    "from sklearn.model_selection import GridSearchCV\n",
    "\n",
    "start = time.time()\n",
    "\n",
    "colnames = {\"lag_1m\":60,\"lag_5m\":300,\"lag_10m\":600,\"lag_30m\":1800,\"lag_60m\":3600,\"lag_12h\":43200,\"lag_1d\":86400,\n",
    "           \"lag_2d\":172800,\"lag_4d\": 345600}\n",
    "\n",
    "model = [\"lag_1d\"]\n",
    "\n",
    "for j in model:\n",
    "    \n",
    "    \n",
    "    #a = np.concatenate((train_dummies,np.array(train_naive[j]).reshape(len(train_naive[j]),1),X),axis = 1)\n",
    "    #b = np.concatenate((test_dummies,np.array(test_naive[j]).reshape(len(test_naive[j]),1),X_test),axis = 1)\n",
    "    \n",
    "    gbm = GradientBoostingRegressor()\n",
    "    \n",
    "    max_features = [0.8]\n",
    "    subsample = [.7]\n",
    "    max_depth = [1,3,6]\n",
    "    learning_rate = [.1]\n",
    "    n_estimators=[100,200]\n",
    "\n",
    "    param_grid = {'max_features': max_features,\"max_depth\":max_depth,\n",
    "                 \"subsample\":subsample,\"learning_rate\":learning_rate,\"n_estimators\":n_estimators}\n",
    "    \n",
    "    grid_search = GridSearchCV(estimator = gbm, param_grid = param_grid, \n",
    "                          cv = 2, n_jobs = -1, verbose = 2,scoring = \"neg_mean_squared_error\")\n",
    "\n",
    "    #rf_random = RandomizedSearchCV(estimator = rf, param_distributions = random_grid, n_iter = 4, \n",
    "                               #cv = 3, verbose=2, random_state=42, n_jobs = -1)\n",
    "    # Fit the grid search model\n",
    "    grid_search.fit(X, train_response[j])\n",
    "\n",
    "    best_param = grid_search.best_params_\n",
    "\n",
    "    gbm_d = GradientBoostingRegressor(max_features = best_param[\"max_features\"],max_depth = best_param[\"max_depth\"],\n",
    "                                      subsample = best_param[\"subsample\"],learning_rate = best_param[\"learning_rate\"],\n",
    "                                    n_estimators = best_param[\"n_estimators\"]\n",
    "                                    )\n",
    "    gbm_d.fit(X,train_response[j])\n",
    "\n",
    "    pred = gbm_d.predict(X_test)\n",
    "    pred_gbm = gbm_d.predict(X_test)\n",
    "\n",
    "    print(\"gbm test error:\",j,round(mean_squared_error(pred,test_response[j])/\n",
    "                                                  mean_squared_error(test_response[j],test_naive[j]),5))\n",
    "    \n",
    "print(\"time elapsed:\",round((time.time()-start)/60,1),\"minutes\")"
   ]
  },
  {
   "cell_type": "markdown",
   "metadata": {},
   "source": [
    "Gradient boosting performs better than a AR-1 model and similar to random forest."
   ]
  },
  {
   "cell_type": "code",
   "execution_count": 112,
   "metadata": {},
   "outputs": [
    {
     "data": {
      "text/plain": [
       "{'learning_rate': 0.1,\n",
       " 'max_depth': 6,\n",
       " 'max_features': 0.8,\n",
       " 'n_estimators': 200,\n",
       " 'subsample': 0.7}"
      ]
     },
     "execution_count": 112,
     "metadata": {},
     "output_type": "execute_result"
    }
   ],
   "source": [
    "best_param"
   ]
  },
  {
   "cell_type": "code",
   "execution_count": 113,
   "metadata": {},
   "outputs": [
    {
     "data": {
      "text/plain": [
       "200"
      ]
     },
     "execution_count": 113,
     "metadata": {},
     "output_type": "execute_result"
    }
   ],
   "source": [
    "gbm_d.n_estimators"
   ]
  },
  {
   "cell_type": "code",
   "execution_count": 114,
   "metadata": {},
   "outputs": [],
   "source": [
    "#grid_search.cv_results_"
   ]
  },
  {
   "cell_type": "code",
   "execution_count": 115,
   "metadata": {},
   "outputs": [
    {
     "data": {
      "text/plain": [
       "[<matplotlib.lines.Line2D at 0x1a375b10b8>]"
      ]
     },
     "execution_count": 115,
     "metadata": {},
     "output_type": "execute_result"
    },
    {
     "data": {
      "image/png": "[encoded data removed]",
      "text/plain": [
       "<Figure size 432x288 with 1 Axes>"
      ]
     },
     "metadata": {
      "image/png": {
       "height": 244,
       "width": 418
      },
      "needs_background": "light"
     },
     "output_type": "display_data"
    }
   ],
   "source": [
    "import matplotlib.pyplot as plt\n",
    "plt.plot(pred,test_response[\"lag_1d\"],\"o\")"
   ]
  },
  {
   "cell_type": "markdown",
   "metadata": {},
   "source": [
    "### 4.9 Final Scoring "
   ]
  },
  {
   "cell_type": "markdown",
   "metadata": {},
   "source": [
    "We take the predicitons from the random forest model to create our final scoring. For the final scoring, we will use min-max scaling of the absolute predicted price change of the random forest model. "
   ]
  },
  {
   "cell_type": "code",
   "execution_count": 116,
   "metadata": {},
   "outputs": [
    {
     "data": {
      "text/plain": [
       "array([-0.0546572 , -0.01654444, -0.02632338, ...,  0.00125568,\n",
       "       -0.01768976,  0.12457519])"
      ]
     },
     "execution_count": 116,
     "metadata": {},
     "output_type": "execute_result"
    }
   ],
   "source": [
    "pred_rf"
   ]
  },
  {
   "cell_type": "code",
   "execution_count": 117,
   "metadata": {},
   "outputs": [],
   "source": [
    "def create_score(prediction):\n",
    "    min_ = np.percentile(abs(prediction),2)\n",
    "    max_ = np.percentile(abs(prediction),98)\n",
    "    \n",
    "    new_list = []\n",
    "    \n",
    "    for i in abs(prediction):\n",
    "        if i < min_:\n",
    "            new_list.append(10)\n",
    "        elif i>max_:\n",
    "            new_list.append(10)\n",
    "        else:\n",
    "            new_list.append(round((i-min_)/(max_-min_)*10))\n",
    "    return new_list"
   ]
  },
  {
   "cell_type": "code",
   "execution_count": 118,
   "metadata": {},
   "outputs": [],
   "source": [
    "scoring = create_score(pred_rf)"
   ]
  },
  {
   "cell_type": "code",
   "execution_count": 119,
   "metadata": {},
   "outputs": [
    {
     "data": {
      "text/plain": [
       "0.0"
      ]
     },
     "execution_count": 119,
     "metadata": {},
     "output_type": "execute_result"
    }
   ],
   "source": [
    "min(scoring)"
   ]
  },
  {
   "cell_type": "code",
   "execution_count": 120,
   "metadata": {},
   "outputs": [
    {
     "data": {
      "text/plain": [
       "10"
      ]
     },
     "execution_count": 120,
     "metadata": {},
     "output_type": "execute_result"
    }
   ],
   "source": [
    "max(scoring)"
   ]
  },
  {
   "cell_type": "markdown",
   "metadata": {},
   "source": [
    "## 5. Evaluation"
   ]
  },
  {
   "cell_type": "markdown",
   "metadata": {},
   "source": [
    "We are doing a quick evaluation of our scoring by looking at the predicted score, the actual and predicted price change and the title of the article, taking a random sample from our predictions. "
   ]
  },
  {
   "cell_type": "code",
   "execution_count": 121,
   "metadata": {},
   "outputs": [
    {
     "data": {
      "text/plain": [
       "Text(0,0.5,'Actual Daily Price Change')"
      ]
     },
     "execution_count": 121,
     "metadata": {},
     "output_type": "execute_result"
    },
    {
     "data": {
      "image/png": "[encoded data removed]",
      "text/plain": [
       "<Figure size 432x288 with 1 Axes>"
      ]
     },
     "metadata": {
      "image/png": {
       "height": 260,
       "width": 434
      },
      "needs_background": "light"
     },
     "output_type": "display_data"
    }
   ],
   "source": [
    "import matplotlib.pyplot as plt\n",
    "plt.plot(pred_rf,test_response[\"lag_1d\"],\"o\")\n",
    "plt.xlabel('Predicted Daily Price Change')\n",
    "plt.ylabel('Actual Daily Price Change')"
   ]
  },
  {
   "cell_type": "code",
   "execution_count": 122,
   "metadata": {},
   "outputs": [],
   "source": [
    "df = pd.DataFrame(scoring,columns = [\"scoring\"])"
   ]
  },
  {
   "cell_type": "code",
   "execution_count": 123,
   "metadata": {},
   "outputs": [],
   "source": [
    "df[\"abs_true_value\"]=abs(test[\"lag_1d\"].values)"
   ]
  },
  {
   "cell_type": "code",
   "execution_count": 124,
   "metadata": {},
   "outputs": [
    {
     "data": {
      "text/html": [
       "<div>\n",
       "<style scoped>\n",
       "    .dataframe tbody tr th:only-of-type {\n",
       "        vertical-align: middle;\n",
       "    }\n",
       "\n",
       "    .dataframe tbody tr th {\n",
       "        vertical-align: top;\n",
       "    }\n",
       "\n",
       "    .dataframe thead th {\n",
       "        text-align: right;\n",
       "    }\n",
       "</style>\n",
       "<table border=\"1\" class=\"dataframe\">\n",
       "  <thead>\n",
       "    <tr style=\"text-align: right;\">\n",
       "      <th></th>\n",
       "      <th>scoring</th>\n",
       "      <th>abs_true_value</th>\n",
       "    </tr>\n",
       "  </thead>\n",
       "  <tbody>\n",
       "    <tr>\n",
       "      <th>0</th>\n",
       "      <td>5.0</td>\n",
       "      <td>0.056587</td>\n",
       "    </tr>\n",
       "    <tr>\n",
       "      <th>1</th>\n",
       "      <td>1.0</td>\n",
       "      <td>0.018110</td>\n",
       "    </tr>\n",
       "    <tr>\n",
       "      <th>2</th>\n",
       "      <td>2.0</td>\n",
       "      <td>0.036806</td>\n",
       "    </tr>\n",
       "    <tr>\n",
       "      <th>3</th>\n",
       "      <td>6.0</td>\n",
       "      <td>0.066091</td>\n",
       "    </tr>\n",
       "    <tr>\n",
       "      <th>4</th>\n",
       "      <td>3.0</td>\n",
       "      <td>0.036708</td>\n",
       "    </tr>\n",
       "  </tbody>\n",
       "</table>\n",
       "</div>"
      ],
      "text/plain": [
       "   scoring  abs_true_value\n",
       "0      5.0        0.056587\n",
       "1      1.0        0.018110\n",
       "2      2.0        0.036806\n",
       "3      6.0        0.066091\n",
       "4      3.0        0.036708"
      ]
     },
     "execution_count": 124,
     "metadata": {},
     "output_type": "execute_result"
    }
   ],
   "source": [
    "df.head()"
   ]
  },
  {
   "cell_type": "code",
   "execution_count": 125,
   "metadata": {},
   "outputs": [],
   "source": [
    "df = round(df.groupby([\"scoring\"]).agg(['mean', 'count']),2)"
   ]
  },
  {
   "cell_type": "code",
   "execution_count": 126,
   "metadata": {},
   "outputs": [],
   "source": [
    "df[\"rel_frequency\"]=df.iloc[:,1].values/len(test)\n",
    "df[\"rel_frequency\"] = round(df[\"rel_frequency\"],2)"
   ]
  },
  {
   "cell_type": "code",
   "execution_count": 127,
   "metadata": {},
   "outputs": [
    {
     "data": {
      "text/html": [
       "<div>\n",
       "<style scoped>\n",
       "    .dataframe tbody tr th:only-of-type {\n",
       "        vertical-align: middle;\n",
       "    }\n",
       "\n",
       "    .dataframe tbody tr th {\n",
       "        vertical-align: top;\n",
       "    }\n",
       "\n",
       "    .dataframe thead tr th {\n",
       "        text-align: left;\n",
       "    }\n",
       "\n",
       "    .dataframe thead tr:last-of-type th {\n",
       "        text-align: right;\n",
       "    }\n",
       "</style>\n",
       "<table border=\"1\" class=\"dataframe\">\n",
       "  <thead>\n",
       "    <tr>\n",
       "      <th></th>\n",
       "      <th colspan=\"2\" halign=\"left\">abs_true_value</th>\n",
       "      <th>rel_frequency</th>\n",
       "    </tr>\n",
       "    <tr>\n",
       "      <th></th>\n",
       "      <th>mean</th>\n",
       "      <th>count</th>\n",
       "      <th></th>\n",
       "    </tr>\n",
       "    <tr>\n",
       "      <th>scoring</th>\n",
       "      <th></th>\n",
       "      <th></th>\n",
       "      <th></th>\n",
       "    </tr>\n",
       "  </thead>\n",
       "  <tbody>\n",
       "    <tr>\n",
       "      <th>0.0</th>\n",
       "      <td>0.03</td>\n",
       "      <td>1594</td>\n",
       "      <td>0.16</td>\n",
       "    </tr>\n",
       "    <tr>\n",
       "      <th>1.0</th>\n",
       "      <td>0.03</td>\n",
       "      <td>2123</td>\n",
       "      <td>0.21</td>\n",
       "    </tr>\n",
       "    <tr>\n",
       "      <th>2.0</th>\n",
       "      <td>0.03</td>\n",
       "      <td>1428</td>\n",
       "      <td>0.14</td>\n",
       "    </tr>\n",
       "    <tr>\n",
       "      <th>3.0</th>\n",
       "      <td>0.04</td>\n",
       "      <td>1423</td>\n",
       "      <td>0.14</td>\n",
       "    </tr>\n",
       "    <tr>\n",
       "      <th>4.0</th>\n",
       "      <td>0.05</td>\n",
       "      <td>1023</td>\n",
       "      <td>0.10</td>\n",
       "    </tr>\n",
       "    <tr>\n",
       "      <th>5.0</th>\n",
       "      <td>0.06</td>\n",
       "      <td>756</td>\n",
       "      <td>0.07</td>\n",
       "    </tr>\n",
       "    <tr>\n",
       "      <th>6.0</th>\n",
       "      <td>0.07</td>\n",
       "      <td>657</td>\n",
       "      <td>0.06</td>\n",
       "    </tr>\n",
       "    <tr>\n",
       "      <th>7.0</th>\n",
       "      <td>0.09</td>\n",
       "      <td>284</td>\n",
       "      <td>0.03</td>\n",
       "    </tr>\n",
       "    <tr>\n",
       "      <th>8.0</th>\n",
       "      <td>0.10</td>\n",
       "      <td>263</td>\n",
       "      <td>0.03</td>\n",
       "    </tr>\n",
       "    <tr>\n",
       "      <th>9.0</th>\n",
       "      <td>0.11</td>\n",
       "      <td>171</td>\n",
       "      <td>0.02</td>\n",
       "    </tr>\n",
       "    <tr>\n",
       "      <th>10.0</th>\n",
       "      <td>0.11</td>\n",
       "      <td>461</td>\n",
       "      <td>0.05</td>\n",
       "    </tr>\n",
       "  </tbody>\n",
       "</table>\n",
       "</div>"
      ],
      "text/plain": [
       "        abs_true_value       rel_frequency\n",
       "                  mean count              \n",
       "scoring                                   \n",
       "0.0               0.03  1594          0.16\n",
       "1.0               0.03  2123          0.21\n",
       "2.0               0.03  1428          0.14\n",
       "3.0               0.04  1423          0.14\n",
       "4.0               0.05  1023          0.10\n",
       "5.0               0.06   756          0.07\n",
       "6.0               0.07   657          0.06\n",
       "7.0               0.09   284          0.03\n",
       "8.0               0.10   263          0.03\n",
       "9.0               0.11   171          0.02\n",
       "10.0              0.11   461          0.05"
      ]
     },
     "execution_count": 127,
     "metadata": {},
     "output_type": "execute_result"
    }
   ],
   "source": [
    "df"
   ]
  },
  {
   "cell_type": "code",
   "execution_count": 128,
   "metadata": {},
   "outputs": [
    {
     "name": "stdout",
     "output_type": "stream",
     "text": [
      "true value: -0.09  predicted value: -0.04  predicted scoring: 4.0\n",
      "\n",
      "Article Title: Uganda’s bitcoin enthusiasts\n",
      "\n",
      "\n",
      "true value: 0.12  predicted value: 0.09  predicted scoring: 9.0\n",
      "\n",
      "Article Title: ICOs and Token Rights: The Need for Governance\n",
      "\n",
      "\n",
      "true value: 0.07  predicted value: 0.01  predicted scoring: 1.0\n",
      "\n",
      "Article Title: EU says stands ready to regulate cryptocurrencies\n",
      "\n",
      "\n",
      "true value: 0.05  predicted value: 0.0  predicted scoring: 0.0\n",
      "\n",
      "Article Title: Vanguard's Joe Davis Says Bitcoin Will Go to Zero\n",
      "\n",
      "\n",
      "true value: 0.03  predicted value: 0.01  predicted scoring: 1.0\n",
      "\n",
      "Article Title: Scammers Are Stealing Bitcoin on Twitter With a Classic Scheme\n",
      "\n",
      "\n",
      "true value: 0.1  predicted value: -0.01  predicted scoring: 1.0\n",
      "\n",
      "Article Title: Coinbase Launches Cryptocurrency Payment Platform for Businesses\n",
      "\n",
      "\n",
      "true value: -0.02  predicted value: -0.01  predicted scoring: 1.0\n",
      "\n",
      "Article Title: Fintech and Blockchain Mavens Launch International Digital Asset Exchange Council ('IDAXC') to Accelerate the Mainstreaming of Rapidly Emerging 'Real-Asset' Crypto Sector\n",
      "\n",
      "\n",
      "true value: 0.02  predicted value: 0.06  predicted scoring: 6.0\n",
      "\n",
      "Article Title: Show HN: Pwned4android – Android lib to check passwords with haveibeenpwned.com\n",
      "\n",
      "\n",
      "true value: -0.02  predicted value: 0.0  predicted scoring: 0.0\n",
      "\n",
      "Article Title: Florida Department of Citrus Employee Allegedly Used Work Computers to Mine Cryptocurrency\n",
      "\n",
      "\n",
      "true value: 0.38  predicted value: 0.02  predicted scoring: 2.0\n",
      "\n",
      "Article Title: US regulators are trying to figure out what to do with cryptocurrency\n",
      "\n",
      "\n"
     ]
    }
   ],
   "source": [
    "import random\n",
    "rand = []\n",
    "for x in range(10):\n",
    "    rand.append(random.randint(0,len(pred_rf)))\n",
    "\n",
    "for i in rand:\n",
    "    print(\"true value:\",round(test_response[\"lag_4d\"].iloc[i],2),\"\",\"predicted value:\",round(pred_rf[i],2),\"\",\n",
    "         \"predicted scoring:\",scoring[i])\n",
    "    print(\"\")\n",
    "    print(\"Article Title:\",test[\"title\"].iloc[i])\n",
    "    print(\"\")\n",
    "    print(\"\")"
   ]
  },
  {
   "cell_type": "markdown",
   "metadata": {},
   "source": [
    "## 6. Appendix"
   ]
  },
  {
   "cell_type": "code",
   "execution_count": null,
   "metadata": {},
   "outputs": [],
   "source": []
  },
  {
   "cell_type": "code",
   "execution_count": null,
   "metadata": {},
   "outputs": [],
   "source": []
  }
 ],
 "metadata": {
  "kernelspec": {
   "display_name": "Python 3",
   "language": "python",
   "name": "python3"
  },
  "language_info": {
   "codemirror_mode": {
    "name": "ipython",
    "version": 3
   },
   "file_extension": ".py",
   "mimetype": "text/x-python",
   "name": "python",
   "nbconvert_exporter": "python",
   "pygments_lexer": "ipython3",
   "version": "3.6.6"
  }
 },
 "nbformat": 4,
 "nbformat_minor": 2
}
