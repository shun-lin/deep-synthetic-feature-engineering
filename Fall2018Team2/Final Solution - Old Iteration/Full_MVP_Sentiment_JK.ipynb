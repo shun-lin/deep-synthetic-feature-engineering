{
 "cells": [
  {
   "cell_type": "markdown",
   "metadata": {},
   "source": [
    "# Predict Prices using Sentiment and ARIMA"
   ]
  },
  {
   "cell_type": "markdown",
   "metadata": {},
   "source": [
    "#### Strategy:\n",
    "1. Predict Sentiment \n",
    "2. Show relationship between sentiment and price\n",
    "3. Create article scoring based on sentiment and price prediction\n"
   ]
  },
  {
   "cell_type": "markdown",
   "metadata": {},
   "source": [
    "### 1. Import and Preprocess Data"
   ]
  },
  {
   "cell_type": "markdown",
   "metadata": {},
   "source": [
    "#### 1.1 Import and pre-process articles"
   ]
  },
  {
   "cell_type": "code",
   "execution_count": 1,
   "metadata": {},
   "outputs": [],
   "source": [
    "import numpy as np \n",
    "import pandas as pd\n",
    "import matplotlib.pyplot as plt\n",
    "import seaborn as sns\n",
    "import datetime as dt\n",
    "\n",
    "from pandas import DataFrame\n",
    "from datetime import datetime,tzinfo\n",
    "from pytz import timezone\n",
    "import time\n",
    "import pytz\n",
    "import csv\n",
    "\n",
    "\n",
    "plt.style.use('fivethirtyeight')\n",
    "%config InlineBackend.figure_format = 'retina'\n",
    "%matplotlib inline"
   ]
  },
  {
   "cell_type": "code",
   "execution_count": 2,
   "metadata": {},
   "outputs": [],
   "source": [
    "articles = pd.read_csv(\"./data/Classified Articles.csv\")\n"
   ]
  },
  {
   "cell_type": "code",
   "execution_count": 3,
   "metadata": {},
   "outputs": [
    {
     "data": {
      "text/html": [
       "<div>\n",
       "<style scoped>\n",
       "    .dataframe tbody tr th:only-of-type {\n",
       "        vertical-align: middle;\n",
       "    }\n",
       "\n",
       "    .dataframe tbody tr th {\n",
       "        vertical-align: top;\n",
       "    }\n",
       "\n",
       "    .dataframe thead th {\n",
       "        text-align: right;\n",
       "    }\n",
       "</style>\n",
       "<table border=\"1\" class=\"dataframe\">\n",
       "  <thead>\n",
       "    <tr style=\"text-align: right;\">\n",
       "      <th></th>\n",
       "      <th>Unnamed: 0</th>\n",
       "      <th>index</th>\n",
       "      <th>author</th>\n",
       "      <th>contents</th>\n",
       "      <th>description</th>\n",
       "      <th>publisher</th>\n",
       "      <th>source_url</th>\n",
       "      <th>title</th>\n",
       "      <th>date</th>\n",
       "      <th>time</th>\n",
       "      <th>label</th>\n",
       "      <th>c</th>\n",
       "      <th>marks</th>\n",
       "    </tr>\n",
       "  </thead>\n",
       "  <tbody>\n",
       "    <tr>\n",
       "      <th>0</th>\n",
       "      <td>0</td>\n",
       "      <td>0</td>\n",
       "      <td>Stripe.com</td>\n",
       "      <td>complete payments platform engineered growth b...</td>\n",
       "      <td>At Stripe, we’ve long been excited about the p...</td>\n",
       "      <td>Stripe.com</td>\n",
       "      <td>https://stripe.com/blog/ending-bitcoin-support</td>\n",
       "      <td>Ending Bitcoin Support</td>\n",
       "      <td>2018-01-23</td>\n",
       "      <td>00:00:00</td>\n",
       "      <td>0.0</td>\n",
       "      <td>['complete', 'payments', 'platform', 'engineer...</td>\n",
       "      <td>0</td>\n",
       "    </tr>\n",
       "  </tbody>\n",
       "</table>\n",
       "</div>"
      ],
      "text/plain": [
       "   Unnamed: 0  index      author  \\\n",
       "0           0      0  Stripe.com   \n",
       "\n",
       "                                            contents  \\\n",
       "0  complete payments platform engineered growth b...   \n",
       "\n",
       "                                         description   publisher  \\\n",
       "0  At Stripe, we’ve long been excited about the p...  Stripe.com   \n",
       "\n",
       "                                       source_url                   title  \\\n",
       "0  https://stripe.com/blog/ending-bitcoin-support  Ending Bitcoin Support   \n",
       "\n",
       "         date      time  label  \\\n",
       "0  2018-01-23  00:00:00    0.0   \n",
       "\n",
       "                                                   c  marks  \n",
       "0  ['complete', 'payments', 'platform', 'engineer...      0  "
      ]
     },
     "execution_count": 3,
     "metadata": {},
     "output_type": "execute_result"
    }
   ],
   "source": [
    "articles.head(1)"
   ]
  },
  {
   "cell_type": "code",
   "execution_count": 4,
   "metadata": {},
   "outputs": [],
   "source": [
    "articles[\"timeStamp\"] = pd.to_datetime(articles['date'] + ' ' + articles['time'])\n",
    "\n",
    "articles = articles.set_index(\"timeStamp\")"
   ]
  },
  {
   "cell_type": "code",
   "execution_count": 5,
   "metadata": {},
   "outputs": [
    {
     "data": {
      "text/html": [
       "<div>\n",
       "<style scoped>\n",
       "    .dataframe tbody tr th:only-of-type {\n",
       "        vertical-align: middle;\n",
       "    }\n",
       "\n",
       "    .dataframe tbody tr th {\n",
       "        vertical-align: top;\n",
       "    }\n",
       "\n",
       "    .dataframe thead th {\n",
       "        text-align: right;\n",
       "    }\n",
       "</style>\n",
       "<table border=\"1\" class=\"dataframe\">\n",
       "  <thead>\n",
       "    <tr style=\"text-align: right;\">\n",
       "      <th></th>\n",
       "      <th>Unnamed: 0</th>\n",
       "      <th>index</th>\n",
       "      <th>author</th>\n",
       "      <th>contents</th>\n",
       "      <th>description</th>\n",
       "      <th>publisher</th>\n",
       "      <th>source_url</th>\n",
       "      <th>title</th>\n",
       "      <th>date</th>\n",
       "      <th>time</th>\n",
       "      <th>label</th>\n",
       "      <th>c</th>\n",
       "      <th>marks</th>\n",
       "    </tr>\n",
       "    <tr>\n",
       "      <th>timeStamp</th>\n",
       "      <th></th>\n",
       "      <th></th>\n",
       "      <th></th>\n",
       "      <th></th>\n",
       "      <th></th>\n",
       "      <th></th>\n",
       "      <th></th>\n",
       "      <th></th>\n",
       "      <th></th>\n",
       "      <th></th>\n",
       "      <th></th>\n",
       "      <th></th>\n",
       "      <th></th>\n",
       "    </tr>\n",
       "  </thead>\n",
       "  <tbody>\n",
       "    <tr>\n",
       "      <th>2018-01-23</th>\n",
       "      <td>0</td>\n",
       "      <td>0</td>\n",
       "      <td>Stripe.com</td>\n",
       "      <td>complete payments platform engineered growth b...</td>\n",
       "      <td>At Stripe, we’ve long been excited about the p...</td>\n",
       "      <td>Stripe.com</td>\n",
       "      <td>https://stripe.com/blog/ending-bitcoin-support</td>\n",
       "      <td>Ending Bitcoin Support</td>\n",
       "      <td>2018-01-23</td>\n",
       "      <td>00:00:00</td>\n",
       "      <td>0.0</td>\n",
       "      <td>['complete', 'payments', 'platform', 'engineer...</td>\n",
       "      <td>0</td>\n",
       "    </tr>\n",
       "  </tbody>\n",
       "</table>\n",
       "</div>"
      ],
      "text/plain": [
       "            Unnamed: 0  index      author  \\\n",
       "timeStamp                                   \n",
       "2018-01-23           0      0  Stripe.com   \n",
       "\n",
       "                                                     contents  \\\n",
       "timeStamp                                                       \n",
       "2018-01-23  complete payments platform engineered growth b...   \n",
       "\n",
       "                                                  description   publisher  \\\n",
       "timeStamp                                                                   \n",
       "2018-01-23  At Stripe, we’ve long been excited about the p...  Stripe.com   \n",
       "\n",
       "                                                source_url  \\\n",
       "timeStamp                                                    \n",
       "2018-01-23  https://stripe.com/blog/ending-bitcoin-support   \n",
       "\n",
       "                             title        date      time  label  \\\n",
       "timeStamp                                                         \n",
       "2018-01-23  Ending Bitcoin Support  2018-01-23  00:00:00    0.0   \n",
       "\n",
       "                                                            c  marks  \n",
       "timeStamp                                                             \n",
       "2018-01-23  ['complete', 'payments', 'platform', 'engineer...      0  "
      ]
     },
     "execution_count": 5,
     "metadata": {},
     "output_type": "execute_result"
    }
   ],
   "source": [
    "articles.head(1)"
   ]
  },
  {
   "cell_type": "code",
   "execution_count": 6,
   "metadata": {},
   "outputs": [
    {
     "data": {
      "text/plain": [
       "40732"
      ]
     },
     "execution_count": 6,
     "metadata": {},
     "output_type": "execute_result"
    }
   ],
   "source": [
    "len(articles)"
   ]
  },
  {
   "cell_type": "code",
   "execution_count": 7,
   "metadata": {},
   "outputs": [
    {
     "data": {
      "text/plain": [
       "Timestamp('2018-01-23 00:00:00')"
      ]
     },
     "execution_count": 7,
     "metadata": {},
     "output_type": "execute_result"
    }
   ],
   "source": [
    "min(articles.index)"
   ]
  },
  {
   "cell_type": "code",
   "execution_count": 8,
   "metadata": {},
   "outputs": [
    {
     "data": {
      "text/plain": [
       "Timestamp('2018-03-27 23:46:45')"
      ]
     },
     "execution_count": 8,
     "metadata": {},
     "output_type": "execute_result"
    }
   ],
   "source": [
    "max(articles.index)"
   ]
  },
  {
   "cell_type": "markdown",
   "metadata": {},
   "source": [
    "#### 1.1.1 Import and Pre-process hand-labeled sentiment "
   ]
  },
  {
   "cell_type": "code",
   "execution_count": 9,
   "metadata": {},
   "outputs": [
    {
     "data": {
      "text/html": [
       "<div>\n",
       "<style scoped>\n",
       "    .dataframe tbody tr th:only-of-type {\n",
       "        vertical-align: middle;\n",
       "    }\n",
       "\n",
       "    .dataframe tbody tr th {\n",
       "        vertical-align: top;\n",
       "    }\n",
       "\n",
       "    .dataframe thead th {\n",
       "        text-align: right;\n",
       "    }\n",
       "</style>\n",
       "<table border=\"1\" class=\"dataframe\">\n",
       "  <thead>\n",
       "    <tr style=\"text-align: right;\">\n",
       "      <th></th>\n",
       "      <th>Name</th>\n",
       "      <th>URL</th>\n",
       "      <th>Sentiment</th>\n",
       "    </tr>\n",
       "  </thead>\n",
       "  <tbody>\n",
       "    <tr>\n",
       "      <th>0</th>\n",
       "      <td>Sudarshan</td>\n",
       "      <td>https://www.wykop.pl/link/4223359/blockchain-a...</td>\n",
       "      <td>0.0</td>\n",
       "    </tr>\n",
       "  </tbody>\n",
       "</table>\n",
       "</div>"
      ],
      "text/plain": [
       "        Name                                                URL  Sentiment\n",
       "0  Sudarshan  https://www.wykop.pl/link/4223359/blockchain-a...        0.0"
      ]
     },
     "execution_count": 9,
     "metadata": {},
     "output_type": "execute_result"
    }
   ],
   "source": [
    "data = pd.read_csv(\"./data/Articles Reading Assignment.csv\")\n",
    "data.head(1)"
   ]
  },
  {
   "cell_type": "code",
   "execution_count": 10,
   "metadata": {},
   "outputs": [
    {
     "data": {
      "text/html": [
       "<div>\n",
       "<style scoped>\n",
       "    .dataframe tbody tr th:only-of-type {\n",
       "        vertical-align: middle;\n",
       "    }\n",
       "\n",
       "    .dataframe tbody tr th {\n",
       "        vertical-align: top;\n",
       "    }\n",
       "\n",
       "    .dataframe thead th {\n",
       "        text-align: right;\n",
       "    }\n",
       "</style>\n",
       "<table border=\"1\" class=\"dataframe\">\n",
       "  <thead>\n",
       "    <tr style=\"text-align: right;\">\n",
       "      <th></th>\n",
       "      <th>Name</th>\n",
       "      <th>URL</th>\n",
       "      <th>Sentiment</th>\n",
       "      <th>contents</th>\n",
       "      <th>title</th>\n",
       "      <th>date</th>\n",
       "      <th>time</th>\n",
       "      <th>marks</th>\n",
       "    </tr>\n",
       "  </thead>\n",
       "  <tbody>\n",
       "    <tr>\n",
       "      <th>0</th>\n",
       "      <td>Sudarshan</td>\n",
       "      <td>https://www.wykop.pl/link/4223359/blockchain-a...</td>\n",
       "      <td>0.0</td>\n",
       "      <td>ciastka strona korzysta z plik w cookies w cel...</td>\n",
       "      <td>Blockchain &amp; Bitcoin Conference Berlin on Apri...</td>\n",
       "      <td>2018-03-21</td>\n",
       "      <td>11:54:35</td>\n",
       "      <td>1</td>\n",
       "    </tr>\n",
       "  </tbody>\n",
       "</table>\n",
       "</div>"
      ],
      "text/plain": [
       "        Name                                                URL  Sentiment  \\\n",
       "0  Sudarshan  https://www.wykop.pl/link/4223359/blockchain-a...        0.0   \n",
       "\n",
       "                                            contents  \\\n",
       "0  ciastka strona korzysta z plik w cookies w cel...   \n",
       "\n",
       "                                               title        date      time  \\\n",
       "0  Blockchain & Bitcoin Conference Berlin on Apri...  2018-03-21  11:54:35   \n",
       "\n",
       "  marks  \n",
       "0     1  "
      ]
     },
     "execution_count": 10,
     "metadata": {},
     "output_type": "execute_result"
    }
   ],
   "source": [
    "data = data.dropna()\n",
    "#data[\"Sentiment\"] += 1\n",
    "#data[\"Sentiment\"] /= 2\n",
    "\n",
    "data[\"contents\"] = [\"\" for i in range(len(data))]\n",
    "data[\"title\"] = [\"\" for i in range(len(data))]\n",
    "data[\"date\"] = [\"\" for i in range(len(data))]\n",
    "data[\"time\"] = [\"\" for i in range(len(data))]\n",
    "data[\"marks\"] = [\"\" for i in range(len(data))]\n",
    "\n",
    "\n",
    "for i, row in data.iterrows():\n",
    "    x = row[\"URL\"]\n",
    "    \n",
    "    key_words = articles[articles[\"source_url\"] == x][:1][\"contents\"].values[0]\n",
    "    data.at[i, \"contents\"] = str(key_words)\n",
    "    \n",
    "    title = articles[articles[\"source_url\"] == x][:1][\"title\"].values[0]\n",
    "    data.at[i, \"title\"] = str(title)\n",
    "    \n",
    "    date = articles[articles[\"source_url\"] == x][:1][\"date\"].values[0]\n",
    "    data.at[i, \"date\"] = date\n",
    "    \n",
    "    time = articles[articles[\"source_url\"] == x][:1][\"time\"].values[0]\n",
    "    data.at[i, \"time\"] = time\n",
    "    \n",
    "    marks = articles[articles[\"source_url\"] == x][:1][\"marks\"].values[0]\n",
    "    data.at[i, \"marks\"] = marks\n",
    "      \n",
    "data.head(1)"
   ]
  },
  {
   "cell_type": "code",
   "execution_count": 11,
   "metadata": {},
   "outputs": [],
   "source": [
    "data[\"timeStamp\"] = pd.to_datetime(data['date'] + ' ' + data['time'])\n",
    "\n",
    "data = data.set_index(\"timeStamp\")"
   ]
  },
  {
   "cell_type": "code",
   "execution_count": 12,
   "metadata": {},
   "outputs": [
    {
     "data": {
      "text/html": [
       "<div>\n",
       "<style scoped>\n",
       "    .dataframe tbody tr th:only-of-type {\n",
       "        vertical-align: middle;\n",
       "    }\n",
       "\n",
       "    .dataframe tbody tr th {\n",
       "        vertical-align: top;\n",
       "    }\n",
       "\n",
       "    .dataframe thead th {\n",
       "        text-align: right;\n",
       "    }\n",
       "</style>\n",
       "<table border=\"1\" class=\"dataframe\">\n",
       "  <thead>\n",
       "    <tr style=\"text-align: right;\">\n",
       "      <th></th>\n",
       "      <th>Name</th>\n",
       "      <th>URL</th>\n",
       "      <th>Sentiment</th>\n",
       "      <th>contents</th>\n",
       "      <th>title</th>\n",
       "      <th>date</th>\n",
       "      <th>time</th>\n",
       "      <th>marks</th>\n",
       "    </tr>\n",
       "    <tr>\n",
       "      <th>timeStamp</th>\n",
       "      <th></th>\n",
       "      <th></th>\n",
       "      <th></th>\n",
       "      <th></th>\n",
       "      <th></th>\n",
       "      <th></th>\n",
       "      <th></th>\n",
       "      <th></th>\n",
       "    </tr>\n",
       "  </thead>\n",
       "  <tbody>\n",
       "    <tr>\n",
       "      <th>2018-03-21 11:54:35</th>\n",
       "      <td>Sudarshan</td>\n",
       "      <td>https://www.wykop.pl/link/4223359/blockchain-a...</td>\n",
       "      <td>0.0</td>\n",
       "      <td>ciastka strona korzysta z plik w cookies w cel...</td>\n",
       "      <td>Blockchain &amp; Bitcoin Conference Berlin on Apri...</td>\n",
       "      <td>2018-03-21</td>\n",
       "      <td>11:54:35</td>\n",
       "      <td>1</td>\n",
       "    </tr>\n",
       "  </tbody>\n",
       "</table>\n",
       "</div>"
      ],
      "text/plain": [
       "                          Name  \\\n",
       "timeStamp                        \n",
       "2018-03-21 11:54:35  Sudarshan   \n",
       "\n",
       "                                                                   URL  \\\n",
       "timeStamp                                                                \n",
       "2018-03-21 11:54:35  https://www.wykop.pl/link/4223359/blockchain-a...   \n",
       "\n",
       "                     Sentiment  \\\n",
       "timeStamp                        \n",
       "2018-03-21 11:54:35        0.0   \n",
       "\n",
       "                                                              contents  \\\n",
       "timeStamp                                                                \n",
       "2018-03-21 11:54:35  ciastka strona korzysta z plik w cookies w cel...   \n",
       "\n",
       "                                                                 title  \\\n",
       "timeStamp                                                                \n",
       "2018-03-21 11:54:35  Blockchain & Bitcoin Conference Berlin on Apri...   \n",
       "\n",
       "                           date      time marks  \n",
       "timeStamp                                        \n",
       "2018-03-21 11:54:35  2018-03-21  11:54:35     1  "
      ]
     },
     "execution_count": 12,
     "metadata": {},
     "output_type": "execute_result"
    }
   ],
   "source": [
    "data.head(1)"
   ]
  },
  {
   "cell_type": "code",
   "execution_count": 13,
   "metadata": {},
   "outputs": [
    {
     "data": {
      "text/plain": [
       "83"
      ]
     },
     "execution_count": 13,
     "metadata": {},
     "output_type": "execute_result"
    }
   ],
   "source": [
    "len(data.loc[data[\"Sentiment\"] == data[\"marks\"]])"
   ]
  },
  {
   "cell_type": "code",
   "execution_count": 14,
   "metadata": {},
   "outputs": [
    {
     "data": {
      "text/plain": [
       "246"
      ]
     },
     "execution_count": 14,
     "metadata": {},
     "output_type": "execute_result"
    }
   ],
   "source": [
    "len(data)"
   ]
  },
  {
   "cell_type": "code",
   "execution_count": 15,
   "metadata": {},
   "outputs": [],
   "source": [
    "data[\"Sentiment\"] = pd.to_numeric(data[\"Sentiment\"])\n",
    "data[\"marks\"] = pd.to_numeric(data[\"marks\"])"
   ]
  },
  {
   "cell_type": "code",
   "execution_count": 16,
   "metadata": {},
   "outputs": [
    {
     "data": {
      "text/html": [
       "<div>\n",
       "<style scoped>\n",
       "    .dataframe tbody tr th:only-of-type {\n",
       "        vertical-align: middle;\n",
       "    }\n",
       "\n",
       "    .dataframe tbody tr th {\n",
       "        vertical-align: top;\n",
       "    }\n",
       "\n",
       "    .dataframe thead th {\n",
       "        text-align: right;\n",
       "    }\n",
       "</style>\n",
       "<table border=\"1\" class=\"dataframe\">\n",
       "  <thead>\n",
       "    <tr style=\"text-align: right;\">\n",
       "      <th></th>\n",
       "      <th>Name</th>\n",
       "      <th>URL</th>\n",
       "      <th>Sentiment</th>\n",
       "      <th>contents</th>\n",
       "      <th>title</th>\n",
       "      <th>date</th>\n",
       "      <th>time</th>\n",
       "      <th>marks</th>\n",
       "    </tr>\n",
       "    <tr>\n",
       "      <th>timeStamp</th>\n",
       "      <th></th>\n",
       "      <th></th>\n",
       "      <th></th>\n",
       "      <th></th>\n",
       "      <th></th>\n",
       "      <th></th>\n",
       "      <th></th>\n",
       "      <th></th>\n",
       "    </tr>\n",
       "  </thead>\n",
       "  <tbody>\n",
       "    <tr>\n",
       "      <th>2018-03-21 11:54:35</th>\n",
       "      <td>Sudarshan</td>\n",
       "      <td>https://www.wykop.pl/link/4223359/blockchain-a...</td>\n",
       "      <td>0.0</td>\n",
       "      <td>ciastka strona korzysta z plik w cookies w cel...</td>\n",
       "      <td>Blockchain &amp; Bitcoin Conference Berlin on Apri...</td>\n",
       "      <td>2018-03-21</td>\n",
       "      <td>11:54:35</td>\n",
       "      <td>1</td>\n",
       "    </tr>\n",
       "  </tbody>\n",
       "</table>\n",
       "</div>"
      ],
      "text/plain": [
       "                          Name  \\\n",
       "timeStamp                        \n",
       "2018-03-21 11:54:35  Sudarshan   \n",
       "\n",
       "                                                                   URL  \\\n",
       "timeStamp                                                                \n",
       "2018-03-21 11:54:35  https://www.wykop.pl/link/4223359/blockchain-a...   \n",
       "\n",
       "                     Sentiment  \\\n",
       "timeStamp                        \n",
       "2018-03-21 11:54:35        0.0   \n",
       "\n",
       "                                                              contents  \\\n",
       "timeStamp                                                                \n",
       "2018-03-21 11:54:35  ciastka strona korzysta z plik w cookies w cel...   \n",
       "\n",
       "                                                                 title  \\\n",
       "timeStamp                                                                \n",
       "2018-03-21 11:54:35  Blockchain & Bitcoin Conference Berlin on Apri...   \n",
       "\n",
       "                           date      time  marks  \n",
       "timeStamp                                         \n",
       "2018-03-21 11:54:35  2018-03-21  11:54:35      1  "
      ]
     },
     "execution_count": 16,
     "metadata": {},
     "output_type": "execute_result"
    }
   ],
   "source": [
    "data.head(1)"
   ]
  },
  {
   "cell_type": "markdown",
   "metadata": {},
   "source": [
    "#### 1.2 Import and pre-process Bitcoin price data "
   ]
  },
  {
   "cell_type": "code",
   "execution_count": 17,
   "metadata": {},
   "outputs": [],
   "source": [
    "# import data: bitcoin prices\n",
    "btc = pd.read_csv(\"./data/coinbaseUSD_1-min_data_2014-12-01_to_2018-03-27.csv\")\n",
    "\n",
    "# preprocess bitcoin price data \n",
    "btc.Timestamp = pd.to_datetime(btc.Timestamp, unit='s')\n",
    "btc.Timestamp = btc.Timestamp.dt.tz_localize('UTC')\n",
    "\n",
    "btc['log_close'] = np.log(btc.Close) - np.log(btc.Close.shift(1))\n",
    "btc['Date'] = pd.to_datetime(btc['Timestamp']).dt.date\n",
    "\n",
    "min_periods = 43200 # 60minutes*24hours*30days \n",
    "\n",
    "price=btc['Close']\n",
    "# Calculate the sd and volatility\n",
    "mean=price.rolling(min_periods).mean()\n",
    "sd=price.rolling(min_periods).std()\n",
    "vol = price.rolling(min_periods).std() * np.sqrt(min_periods) \n",
    "btc['Average']=mean\n",
    "btc['Volatility']=vol\n",
    "btc['SD']=sd\n",
    "\n",
    "price_log=btc['log_close']\n",
    "# Calculate the sd and volatility\n",
    "mean=price_log.rolling(min_periods).mean()\n",
    "sd=price_log.rolling(min_periods).std()\n",
    "vol = price_log.rolling(min_periods).std() * np.sqrt(min_periods) \n",
    "btc['Average_log']=mean\n",
    "btc['Volatility_log']=vol\n",
    "btc['SD_log']=sd\n",
    "\n",
    "index_1 = btc[btc.Date == datetime.date(dt.datetime.strptime('01/23/18', '%x'))].index[0]\n",
    "index_2 = btc[btc.Date == datetime.date(dt.datetime.strptime('03/27/18', '%x'))].index[0]\n",
    "btc_1= btc.loc[index_1:index_2]\n",
    "\n",
    "btc_1 = btc_1.set_index(\"Timestamp\")\n"
   ]
  },
  {
   "cell_type": "code",
   "execution_count": 18,
   "metadata": {},
   "outputs": [
    {
     "data": {
      "text/plain": [
       "Timestamp('2018-03-27 23:46:45')"
      ]
     },
     "execution_count": 18,
     "metadata": {},
     "output_type": "execute_result"
    }
   ],
   "source": [
    "max(articles.index)"
   ]
  },
  {
   "cell_type": "code",
   "execution_count": 19,
   "metadata": {},
   "outputs": [
    {
     "data": {
      "text/plain": [
       "Timestamp('2018-01-23 00:00:00')"
      ]
     },
     "execution_count": 19,
     "metadata": {},
     "output_type": "execute_result"
    }
   ],
   "source": [
    "min(articles.index)"
   ]
  },
  {
   "cell_type": "markdown",
   "metadata": {},
   "source": [
    "Plot data"
   ]
  },
  {
   "cell_type": "code",
   "execution_count": 20,
   "metadata": {},
   "outputs": [
    {
     "data": {
      "image/png": "[encoded data removed]",
      "text/plain": [
       "<Figure size 432x288 with 1 Axes>"
      ]
     },
     "metadata": {
      "image/png": {
       "height": 246,
       "width": 448
      },
      "needs_background": "light"
     },
     "output_type": "display_data"
    },
    {
     "data": {
      "image/png": "[encoded data removed]",
      "text/plain": [
       "<Figure size 432x288 with 1 Axes>"
      ]
     },
     "metadata": {
      "image/png": {
       "height": 244,
       "width": 447
      },
      "needs_background": "light"
     },
     "output_type": "display_data"
    }
   ],
   "source": [
    "btc_close = btc_1['Close']\n",
    "plt.plot(btc_close)\n",
    "plt.show()\n",
    "\n",
    "\n",
    "btc_log_close = btc_1['log_close']\n",
    "plt.plot(btc_log_close)\n",
    "plt.show()\n"
   ]
  },
  {
   "cell_type": "markdown",
   "metadata": {},
   "source": [
    "Create function to change Bitcoin-Price to any time frame"
   ]
  },
  {
   "cell_type": "markdown",
   "metadata": {},
   "source": [
    "### 1.3 Create lags of responses and merge data from 1 and 2"
   ]
  },
  {
   "cell_type": "code",
   "execution_count": 21,
   "metadata": {},
   "outputs": [
    {
     "name": "stdout",
     "output_type": "stream",
     "text": [
      "time elapsed: 24.2 minutes\n"
     ]
    }
   ],
   "source": [
    "# create response add response with multiple lags in seconds\n",
    "import datetime\n",
    "import time\n",
    "\n",
    "start = time.time()\n",
    "\n",
    "response = pd.DataFrame()\n",
    "benchmark_naive = pd.DataFrame()\n",
    "\n",
    "# 1 minute, 5 minutes, 10 minutes, 30 minutes, 60 minutes, 12 hours, 1 day, 2 days, 4 days \n",
    "colnames = {\"lag_1m\":60,\"lag_5m\":300,\"lag_10m\":600,\"lag_30m\":1800,\"lag_60m\":3600,\"lag_12h\":43200,\"lag_1d\":86400,\n",
    "            \"lag_2d\":172800,\"lag_4d\" : 345600}\n",
    "\n",
    "\n",
    "train_time = pd.to_datetime(articles.index)\n",
    "\n",
    "for colname in colnames:\n",
    "    count = 0\n",
    "    stock_return = []\n",
    "    stock_return_naive = []\n",
    "    lag = colnames[colname]\n",
    "    \n",
    "    for i in train_time:\n",
    "        count +=1\n",
    "        try:\n",
    "            start_price = btc_1.Close.iloc[btc_1.index.get_loc(i,method = \"nearest\")]\n",
    "            end_price = btc_1.Close.iloc[btc_1.index.get_loc((i+datetime.timedelta(0,lag)),method = \"nearest\")]\n",
    "            stock_return.append(end_price/start_price-1)\n",
    "            \n",
    "            end_price_naive = btc_1.Close.iloc[btc_1.index.get_loc(i,method = \"nearest\")]\n",
    "            start_price_naive = btc_1.Close.iloc[btc_1.index.get_loc((i-datetime.timedelta(0,lag)),method = \"nearest\")]\n",
    "            stock_return_naive.append(end_price_naive/start_price_naive-1)\n",
    "            \n",
    "            #if lag ==86400:\n",
    "               # print(start_price,i)\n",
    "                #print(end_price,(i+datetime.timedelta(0,lag)))\n",
    "                #print(\"\")\n",
    "        except:\n",
    "            stock_return.append(0)\n",
    "            stock_return_naive.append(0)\n",
    "            print(\"exception raised\")\n",
    "        #if count ==10:\n",
    "            #break\n",
    "    response[colname] = stock_return\n",
    "    benchmark_naive[colname] = stock_return_naive\n",
    "    \n",
    "\n",
    "print(\"time elapsed:\",round((time.time()-start)/60,1),\"minutes\")"
   ]
  },
  {
   "cell_type": "code",
   "execution_count": 22,
   "metadata": {},
   "outputs": [
    {
     "data": {
      "text/html": [
       "<div>\n",
       "<style scoped>\n",
       "    .dataframe tbody tr th:only-of-type {\n",
       "        vertical-align: middle;\n",
       "    }\n",
       "\n",
       "    .dataframe tbody tr th {\n",
       "        vertical-align: top;\n",
       "    }\n",
       "\n",
       "    .dataframe thead th {\n",
       "        text-align: right;\n",
       "    }\n",
       "</style>\n",
       "<table border=\"1\" class=\"dataframe\">\n",
       "  <thead>\n",
       "    <tr style=\"text-align: right;\">\n",
       "      <th></th>\n",
       "      <th>lag_1m</th>\n",
       "      <th>lag_5m</th>\n",
       "      <th>lag_10m</th>\n",
       "      <th>lag_30m</th>\n",
       "      <th>lag_60m</th>\n",
       "      <th>lag_12h</th>\n",
       "      <th>lag_1d</th>\n",
       "      <th>lag_2d</th>\n",
       "      <th>lag_4d</th>\n",
       "    </tr>\n",
       "  </thead>\n",
       "  <tbody>\n",
       "    <tr>\n",
       "      <th>0</th>\n",
       "      <td>-0.000255</td>\n",
       "      <td>-0.004628</td>\n",
       "      <td>0.003677</td>\n",
       "      <td>-0.006573</td>\n",
       "      <td>9.259276e-07</td>\n",
       "      <td>-0.066983</td>\n",
       "      <td>0.008283</td>\n",
       "      <td>0.048753</td>\n",
       "      <td>0.026566</td>\n",
       "    </tr>\n",
       "  </tbody>\n",
       "</table>\n",
       "</div>"
      ],
      "text/plain": [
       "     lag_1m    lag_5m   lag_10m   lag_30m       lag_60m   lag_12h    lag_1d  \\\n",
       "0 -0.000255 -0.004628  0.003677 -0.006573  9.259276e-07 -0.066983  0.008283   \n",
       "\n",
       "     lag_2d    lag_4d  \n",
       "0  0.048753  0.026566  "
      ]
     },
     "execution_count": 22,
     "metadata": {},
     "output_type": "execute_result"
    }
   ],
   "source": [
    "response.head(1)"
   ]
  },
  {
   "cell_type": "code",
   "execution_count": 23,
   "metadata": {},
   "outputs": [
    {
     "data": {
      "text/html": [
       "<div>\n",
       "<style scoped>\n",
       "    .dataframe tbody tr th:only-of-type {\n",
       "        vertical-align: middle;\n",
       "    }\n",
       "\n",
       "    .dataframe tbody tr th {\n",
       "        vertical-align: top;\n",
       "    }\n",
       "\n",
       "    .dataframe thead th {\n",
       "        text-align: right;\n",
       "    }\n",
       "</style>\n",
       "<table border=\"1\" class=\"dataframe\">\n",
       "  <thead>\n",
       "    <tr style=\"text-align: right;\">\n",
       "      <th></th>\n",
       "      <th>lag_1m</th>\n",
       "      <th>lag_5m</th>\n",
       "      <th>lag_10m</th>\n",
       "      <th>lag_30m</th>\n",
       "      <th>lag_60m</th>\n",
       "      <th>lag_12h</th>\n",
       "      <th>lag_1d</th>\n",
       "      <th>lag_2d</th>\n",
       "      <th>lag_4d</th>\n",
       "    </tr>\n",
       "  </thead>\n",
       "  <tbody>\n",
       "    <tr>\n",
       "      <th>0</th>\n",
       "      <td>0.0</td>\n",
       "      <td>0.0</td>\n",
       "      <td>0.0</td>\n",
       "      <td>0.0</td>\n",
       "      <td>0.0</td>\n",
       "      <td>0.0</td>\n",
       "      <td>0.0</td>\n",
       "      <td>0.0</td>\n",
       "      <td>0.0</td>\n",
       "    </tr>\n",
       "  </tbody>\n",
       "</table>\n",
       "</div>"
      ],
      "text/plain": [
       "   lag_1m  lag_5m  lag_10m  lag_30m  lag_60m  lag_12h  lag_1d  lag_2d  lag_4d\n",
       "0     0.0     0.0      0.0      0.0      0.0      0.0     0.0     0.0     0.0"
      ]
     },
     "execution_count": 23,
     "metadata": {},
     "output_type": "execute_result"
    }
   ],
   "source": [
    "benchmark_naive.head(1)"
   ]
  },
  {
   "cell_type": "markdown",
   "metadata": {},
   "source": [
    "### 1.4.1 Sentiment Assignment "
   ]
  },
  {
   "cell_type": "code",
   "execution_count": 24,
   "metadata": {},
   "outputs": [
    {
     "data": {
      "text/html": [
       "<div>\n",
       "<style scoped>\n",
       "    .dataframe tbody tr th:only-of-type {\n",
       "        vertical-align: middle;\n",
       "    }\n",
       "\n",
       "    .dataframe tbody tr th {\n",
       "        vertical-align: top;\n",
       "    }\n",
       "\n",
       "    .dataframe thead th {\n",
       "        text-align: right;\n",
       "    }\n",
       "</style>\n",
       "<table border=\"1\" class=\"dataframe\">\n",
       "  <thead>\n",
       "    <tr style=\"text-align: right;\">\n",
       "      <th></th>\n",
       "      <th>Name</th>\n",
       "      <th>URL</th>\n",
       "      <th>Sentiment</th>\n",
       "      <th>contents</th>\n",
       "      <th>title</th>\n",
       "      <th>date</th>\n",
       "      <th>time</th>\n",
       "      <th>marks</th>\n",
       "    </tr>\n",
       "    <tr>\n",
       "      <th>timeStamp</th>\n",
       "      <th></th>\n",
       "      <th></th>\n",
       "      <th></th>\n",
       "      <th></th>\n",
       "      <th></th>\n",
       "      <th></th>\n",
       "      <th></th>\n",
       "      <th></th>\n",
       "    </tr>\n",
       "  </thead>\n",
       "  <tbody>\n",
       "    <tr>\n",
       "      <th>2018-03-21 11:54:35</th>\n",
       "      <td>Sudarshan</td>\n",
       "      <td>https://www.wykop.pl/link/4223359/blockchain-a...</td>\n",
       "      <td>0.0</td>\n",
       "      <td>ciastka strona korzysta z plik w cookies w cel...</td>\n",
       "      <td>Blockchain &amp; Bitcoin Conference Berlin on Apri...</td>\n",
       "      <td>2018-03-21</td>\n",
       "      <td>11:54:35</td>\n",
       "      <td>1</td>\n",
       "    </tr>\n",
       "  </tbody>\n",
       "</table>\n",
       "</div>"
      ],
      "text/plain": [
       "                          Name  \\\n",
       "timeStamp                        \n",
       "2018-03-21 11:54:35  Sudarshan   \n",
       "\n",
       "                                                                   URL  \\\n",
       "timeStamp                                                                \n",
       "2018-03-21 11:54:35  https://www.wykop.pl/link/4223359/blockchain-a...   \n",
       "\n",
       "                     Sentiment  \\\n",
       "timeStamp                        \n",
       "2018-03-21 11:54:35        0.0   \n",
       "\n",
       "                                                              contents  \\\n",
       "timeStamp                                                                \n",
       "2018-03-21 11:54:35  ciastka strona korzysta z plik w cookies w cel...   \n",
       "\n",
       "                                                                 title  \\\n",
       "timeStamp                                                                \n",
       "2018-03-21 11:54:35  Blockchain & Bitcoin Conference Berlin on Apri...   \n",
       "\n",
       "                           date      time  marks  \n",
       "timeStamp                                         \n",
       "2018-03-21 11:54:35  2018-03-21  11:54:35      1  "
      ]
     },
     "execution_count": 24,
     "metadata": {},
     "output_type": "execute_result"
    }
   ],
   "source": [
    "data.head(1)"
   ]
  },
  {
   "cell_type": "code",
   "execution_count": 25,
   "metadata": {},
   "outputs": [
    {
     "data": {
      "text/plain": [
       "246"
      ]
     },
     "execution_count": 25,
     "metadata": {},
     "output_type": "execute_result"
    }
   ],
   "source": [
    "len(data)"
   ]
  },
  {
   "cell_type": "markdown",
   "metadata": {},
   "source": [
    "#### 1.4.1.1 NLP "
   ]
  },
  {
   "cell_type": "code",
   "execution_count": 26,
   "metadata": {},
   "outputs": [],
   "source": [
    "# create class which handles NLP tokenization, stemming/lemmatizing and tranformation to vector \n",
    "class nlp_validation_sets:\n",
    "    \n",
    "    def __init__(self,fold,validation,train_data,max_features=10,method_nlp = \"stem\",ngram = 1):\n",
    "        self.fold = fold\n",
    "        self.validation = validation\n",
    "        self.max_features = max_features \n",
    "        self.method_nlp = method_nlp\n",
    "        self.ngram = ngram\n",
    "        self.train_data = train_data\n",
    "        \n",
    "        self.stemmed_word_list = []\n",
    "        self.tokenized_word_list = []\n",
    "        self.stemmed_word_list_only_bad = []\n",
    "        self.tokenized_word_list_only_bad = []\n",
    "        self.stemmed_word_list_val = []\n",
    "        self.tokenized_word_list_val = []\n",
    "        self.stemmed_word_list_train = []\n",
    "        self.tokenized_word_list_train = []\n",
    "    \n",
    "    def choose_w2v(self,method = \"tfidf\"):\n",
    "        from sklearn.feature_extraction.text import CountVectorizer\n",
    "        from sklearn.feature_extraction.text import TfidfVectorizer\n",
    "        \n",
    "        if method == \"tfidf\":\n",
    "            self.tfidf = TfidfVectorizer(max_features = self.max_features,ngram_range =(1,self.ngram),\n",
    "                                        max_df = 1.0,min_df = 1)\n",
    "        if method == \"count\":\n",
    "            self.tfidf = CountVectorizer(max_features = self.max_features,ngram_range = (1,self.ngram),\n",
    "                                        max_df = 1.0,min_df = 1)\n",
    "        \n",
    "    def fit(self):\n",
    "        import time \n",
    "        from nltk.stem.porter import PorterStemmer\n",
    "        from nltk.corpus import stopwords\n",
    "        import re\n",
    "         \n",
    "        start = time.time()\n",
    "        stop_words_english = set(stopwords.words('english'))\n",
    "        \n",
    "        stem = PorterStemmer()\n",
    "\n",
    "        \n",
    "        for text in self.fold.contents:\n",
    "            wordList = re.sub(\"[^\\w]\", \" \",text).split()\n",
    "            stem_words = []\n",
    "            token_words = []\n",
    "    \n",
    "            for word in wordList: \n",
    "                if not word.lower() in stop_words_english: \n",
    "                    stem_words.append(stem.stem(word.lower()))\n",
    "                    token_words.append(word.lower())\n",
    "    \n",
    "            self.stemmed_word_list.append(\" \".join(str(x) for x in stem_words))\n",
    "            self.tokenized_word_list.append(\" \".join(str(x) for x in token_words))\n",
    "            \n",
    "        for text in self.train_data.contents:\n",
    "            wordList = re.sub(\"[^\\w]\", \" \",text).split()\n",
    "            stem_words = []\n",
    "            token_words = []\n",
    "    \n",
    "            for word in wordList: \n",
    "                if not word.lower() in stop_words_english: \n",
    "                    stem_words.append(stem.stem(word.lower()))\n",
    "                    token_words.append(word.lower())\n",
    "    \n",
    "            self.stemmed_word_list_train.append(\" \".join(str(x) for x in stem_words))\n",
    "            self.tokenized_word_list_train.append(\" \".join(str(x) for x in token_words))\n",
    "        \n",
    "        \n",
    "        if self.method_nlp == \"stem\":\n",
    "            self.tfidf.fit(self.stemmed_word_list_train)\n",
    "        if self.method_nlp == \"token\":\n",
    "            self.tfidf.fit(self.tokenized_word_list_train)\n",
    "                \n",
    "                \n",
    "        for text in self.validation.contents:\n",
    "            wordList = re.sub(\"[^\\w]\", \" \",text).split()\n",
    "            stem_words = []\n",
    "            token_words = []\n",
    "    \n",
    "            for word in wordList: \n",
    "                if not word.lower() in stop_words_english: \n",
    "                    stem_words.append(stem.stem(word.lower()))\n",
    "                    token_words.append(word.lower())\n",
    "    \n",
    "            self.stemmed_word_list_val.append(\" \".join(str(x) for x in stem_words))\n",
    "            self.tokenized_word_list_val.append(\" \".join(str(x) for x in token_words))\n",
    "    \n",
    "        print(\"time elapsed\",round((time.time()-start)/60,1))\n",
    "        \n",
    "    def transform_test(self):\n",
    "        if self.method_nlp == \"stem\":\n",
    "            return self.tfidf.transform(self.stemmed_word_list_val)\n",
    "        if self.method_nlp == \"token\":\n",
    "            return self.tfidf.transform(self.tokenized_word_list_val)\n",
    "            \n",
    "    \n",
    "    def transform_train(self):\n",
    "        return self.tfidf.transform(self.stemmed_word_list)\n",
    "                    "
   ]
  },
  {
   "cell_type": "code",
   "execution_count": 27,
   "metadata": {},
   "outputs": [],
   "source": [
    "from sklearn.model_selection import train_test_split\n",
    "\n",
    "X_train, X_test, Y_train_sen, Y_test_sen = train_test_split(data,data.Sentiment, test_size = 0.25, random_state = 42)\n",
    "X_train, X_test, Y_train_mar, Y_test_mar = train_test_split(data,data.marks, test_size = 0.25, random_state = 42)"
   ]
  },
  {
   "cell_type": "code",
   "execution_count": 28,
   "metadata": {},
   "outputs": [
    {
     "data": {
      "text/plain": [
       "(62, 8)"
      ]
     },
     "execution_count": 28,
     "metadata": {},
     "output_type": "execute_result"
    }
   ],
   "source": [
    "X_test.shape"
   ]
  },
  {
   "cell_type": "code",
   "execution_count": 29,
   "metadata": {},
   "outputs": [
    {
     "data": {
      "text/plain": [
       "(184, 8)"
      ]
     },
     "execution_count": 29,
     "metadata": {},
     "output_type": "execute_result"
    }
   ],
   "source": [
    "X_train.shape"
   ]
  },
  {
   "cell_type": "code",
   "execution_count": 30,
   "metadata": {},
   "outputs": [],
   "source": [
    "sentiment_nlp = nlp_validation_sets(fold = X_train,validation = X_test,train_data = X_train,\n",
    "                                    max_features=100,method_nlp = \"stem\",ngram = 1)"
   ]
  },
  {
   "cell_type": "code",
   "execution_count": 31,
   "metadata": {},
   "outputs": [],
   "source": [
    "sentiment_nlp.choose_w2v(method = \"tfidf\")"
   ]
  },
  {
   "cell_type": "code",
   "execution_count": 32,
   "metadata": {},
   "outputs": [
    {
     "name": "stdout",
     "output_type": "stream",
     "text": [
      "time elapsed 0.1\n"
     ]
    }
   ],
   "source": [
    "sentiment_nlp.fit()"
   ]
  },
  {
   "cell_type": "code",
   "execution_count": 33,
   "metadata": {},
   "outputs": [
    {
     "data": {
      "text/plain": [
       "(184, 100)"
      ]
     },
     "execution_count": 33,
     "metadata": {},
     "output_type": "execute_result"
    }
   ],
   "source": [
    "X = sentiment_nlp.transform_train()\n",
    "X.shape"
   ]
  },
  {
   "cell_type": "code",
   "execution_count": 34,
   "metadata": {},
   "outputs": [
    {
     "data": {
      "text/plain": [
       "(62, 100)"
      ]
     },
     "execution_count": 34,
     "metadata": {},
     "output_type": "execute_result"
    }
   ],
   "source": [
    "X_test = sentiment_nlp.transform_test()\n",
    "X_test.shape"
   ]
  },
  {
   "cell_type": "markdown",
   "metadata": {},
   "source": [
    "#### 1.4.1.2 Model fitting"
   ]
  },
  {
   "cell_type": "markdown",
   "metadata": {},
   "source": [
    "##### Marks "
   ]
  },
  {
   "cell_type": "code",
   "execution_count": 35,
   "metadata": {},
   "outputs": [
    {
     "name": "stderr",
     "output_type": "stream",
     "text": [
      "/anaconda3/lib/python3.6/site-packages/sklearn/linear_model/logistic.py:432: FutureWarning: Default solver will be changed to 'lbfgs' in 0.22. Specify a solver to silence this warning.\n",
      "  FutureWarning)\n"
     ]
    },
    {
     "data": {
      "text/plain": [
       "LogisticRegression(C=1.0, class_weight=None, dual=False, fit_intercept=True,\n",
       "          intercept_scaling=1, max_iter=100, multi_class='warn',\n",
       "          n_jobs=None, penalty='l2', random_state=None, solver='warn',\n",
       "          tol=0.0001, verbose=0, warm_start=False)"
      ]
     },
     "execution_count": 35,
     "metadata": {},
     "output_type": "execute_result"
    }
   ],
   "source": [
    "from sklearn.linear_model import LogisticRegression\n",
    "from sklearn.metrics import confusion_matrix\n",
    "from sklearn.metrics import accuracy_score\n",
    "\n",
    "lr = LogisticRegression()\n",
    "lr.fit(X,Y_train_mar)"
   ]
  },
  {
   "cell_type": "code",
   "execution_count": 36,
   "metadata": {},
   "outputs": [
    {
     "data": {
      "text/plain": [
       "array([1, 0, 1, 1, 0, 1, 0, 1, 0, 1, 1, 0, 1, 1, 0, 0, 0, 1, 1, 1, 0, 0,\n",
       "       1, 0, 0, 1, 1, 1, 0, 1, 1, 1, 1, 0, 0, 0, 1, 1, 1, 0, 1, 0, 1, 1,\n",
       "       1, 1, 1, 0, 0, 1, 1, 1, 0, 1, 1, 1, 1, 1, 1, 1, 0, 1])"
      ]
     },
     "execution_count": 36,
     "metadata": {},
     "output_type": "execute_result"
    }
   ],
   "source": [
    "pred = lr.predict(X_test)\n",
    "pred"
   ]
  },
  {
   "cell_type": "code",
   "execution_count": 37,
   "metadata": {},
   "outputs": [
    {
     "data": {
      "text/plain": [
       "0.45161290322580644"
      ]
     },
     "execution_count": 37,
     "metadata": {},
     "output_type": "execute_result"
    }
   ],
   "source": [
    "accuracy_score(Y_test_mar,pred)"
   ]
  },
  {
   "cell_type": "code",
   "execution_count": 38,
   "metadata": {},
   "outputs": [
    {
     "name": "stdout",
     "output_type": "stream",
     "text": [
      "no information accuracy 0.4838709677419355\n"
     ]
    }
   ],
   "source": [
    "print(\"no information accuracy\", np.mean(Y_test_mar))"
   ]
  },
  {
   "cell_type": "code",
   "execution_count": 39,
   "metadata": {},
   "outputs": [
    {
     "data": {
      "text/plain": [
       "array([[10, 12],\n",
       "       [22, 18]])"
      ]
     },
     "execution_count": 39,
     "metadata": {},
     "output_type": "execute_result"
    }
   ],
   "source": [
    "confusion_matrix(pred,Y_test_mar)"
   ]
  },
  {
   "cell_type": "markdown",
   "metadata": {},
   "source": [
    "#### Hand-labeled Sentiment"
   ]
  },
  {
   "cell_type": "markdown",
   "metadata": {},
   "source": [
    "#### Random Forest"
   ]
  },
  {
   "cell_type": "code",
   "execution_count": 40,
   "metadata": {},
   "outputs": [
    {
     "name": "stdout",
     "output_type": "stream",
     "text": [
      "Fitting 2 folds for each of 4 candidates, totalling 8 fits\n"
     ]
    },
    {
     "name": "stderr",
     "output_type": "stream",
     "text": [
      "[Parallel(n_jobs=-1)]: Using backend LokyBackend with 4 concurrent workers.\n",
      "[Parallel(n_jobs=-1)]: Done   6 out of   8 | elapsed:    5.8s remaining:    1.9s\n",
      "[Parallel(n_jobs=-1)]: Done   8 out of   8 | elapsed:    6.0s finished\n",
      "/anaconda3/lib/python3.6/site-packages/sklearn/model_selection/_search.py:841: DeprecationWarning: The default of the `iid` parameter will change from True to False in version 0.22 and will be removed in 0.24. This will change numeric results when test-set sizes are unequal.\n",
      "  DeprecationWarning)\n"
     ]
    }
   ],
   "source": [
    "from sklearn.ensemble import RandomForestClassifier\n",
    "from sklearn.model_selection import GridSearchCV\n",
    "\n",
    "rf = RandomForestClassifier()\n",
    "\n",
    "n_estimators = [500]\n",
    "max_features = [.3,.5,.7,1.0]\n",
    "max_depth = [None]\n",
    "\n",
    "param_grid = {'n_estimators': n_estimators,'max_features': max_features,\"max_depth\":max_depth}\n",
    "    \n",
    "grid_search = GridSearchCV(estimator = rf, param_grid = param_grid, \n",
    "                          cv = 2, n_jobs = -1, verbose = 2)\n",
    "\n",
    " \n",
    "# Fit the random search model\n",
    "grid_search.fit(X, Y_train_sen)\n",
    "\n",
    "best_param = grid_search.best_params_\n",
    "\n",
    "rf_d = RandomForestClassifier(n_estimators = best_param[\"n_estimators\"],max_features = best_param[\"max_features\"]\n",
    "                             ,max_depth = best_param[\"max_depth\"])\n",
    "rf_d.fit(X,Y_train_sen)\n",
    "\n",
    "pred = rf_d.predict(X_test)\n"
   ]
  },
  {
   "cell_type": "code",
   "execution_count": 41,
   "metadata": {},
   "outputs": [
    {
     "data": {
      "text/plain": [
       "{'max_depth': None, 'max_features': 0.3, 'n_estimators': 500}"
      ]
     },
     "execution_count": 41,
     "metadata": {},
     "output_type": "execute_result"
    }
   ],
   "source": [
    "best_param"
   ]
  },
  {
   "cell_type": "code",
   "execution_count": 42,
   "metadata": {},
   "outputs": [
    {
     "data": {
      "text/plain": [
       "array([ 0., -1., -1., -1., -1.,  0.,  0.,  0., -1.,  0., -1.,  1.,  0.,\n",
       "        0.,  0.,  0., -1., -1., -1.,  1., -1.,  0.,  0.,  0.,  0.,  0.,\n",
       "       -1.,  0.,  0., -1.,  0.,  0.,  0.,  0., -1.,  0.,  0.,  0., -1.,\n",
       "       -1.,  0.,  0.,  0., -1., -1.,  0.,  0.,  0., -1.,  0.,  0.,  0.,\n",
       "        0., -1.,  0.,  0.,  0.,  0., -1.,  0.,  0., -1.])"
      ]
     },
     "execution_count": 42,
     "metadata": {},
     "output_type": "execute_result"
    }
   ],
   "source": [
    "pred"
   ]
  },
  {
   "cell_type": "code",
   "execution_count": 43,
   "metadata": {},
   "outputs": [
    {
     "data": {
      "text/plain": [
       "0.532258064516129"
      ]
     },
     "execution_count": 43,
     "metadata": {},
     "output_type": "execute_result"
    }
   ],
   "source": [
    "accuracy_score(Y_test_sen,pred)"
   ]
  },
  {
   "cell_type": "code",
   "execution_count": 44,
   "metadata": {},
   "outputs": [
    {
     "name": "stdout",
     "output_type": "stream",
     "text": [
      "no information accuracy 0.45652173913043476\n"
     ]
    }
   ],
   "source": [
    "print(\"no information accuracy\", len(X_train.loc[X_train.Sentiment == 0])/len(X_train))"
   ]
  },
  {
   "cell_type": "code",
   "execution_count": 45,
   "metadata": {},
   "outputs": [
    {
     "data": {
      "text/plain": [
       "array([[ 9,  6,  1],\n",
       "       [ 5, 23,  0],\n",
       "       [ 7, 10,  1]])"
      ]
     },
     "execution_count": 45,
     "metadata": {},
     "output_type": "execute_result"
    }
   ],
   "source": [
    "confusion_matrix(Y_test_sen,pred)"
   ]
  },
  {
   "cell_type": "markdown",
   "metadata": {},
   "source": [
    "#### Gradient Boosting"
   ]
  },
  {
   "cell_type": "code",
   "execution_count": 46,
   "metadata": {},
   "outputs": [
    {
     "name": "stdout",
     "output_type": "stream",
     "text": [
      "Fitting 2 folds for each of 36 candidates, totalling 72 fits\n"
     ]
    },
    {
     "name": "stderr",
     "output_type": "stream",
     "text": [
      "[Parallel(n_jobs=-1)]: Using backend LokyBackend with 4 concurrent workers.\n",
      "[Parallel(n_jobs=-1)]: Done  52 tasks      | elapsed:    8.6s\n",
      "[Parallel(n_jobs=-1)]: Done  72 out of  72 | elapsed:   16.6s finished\n",
      "/anaconda3/lib/python3.6/site-packages/sklearn/model_selection/_search.py:841: DeprecationWarning: The default of the `iid` parameter will change from True to False in version 0.22 and will be removed in 0.24. This will change numeric results when test-set sizes are unequal.\n",
      "  DeprecationWarning)\n"
     ]
    }
   ],
   "source": [
    "#https://scikit-learn.org/stable/modules/generated/sklearn.ensemble.GradientBoostingRegressor.html\n",
    "from sklearn.ensemble import GradientBoostingClassifier\n",
    "\n",
    "from sklearn.model_selection import RandomizedSearchCV\n",
    "from sklearn.model_selection import GridSearchCV\n",
    "\n",
    "\n",
    "gbm = GradientBoostingClassifier()\n",
    "    \n",
    "max_features = [0.3,0.6,0.8]\n",
    "subsample = [1]\n",
    "max_depth = [1,3,6]\n",
    "learning_rate = [.01]\n",
    "n_estimators=[50,100,150,200]\n",
    "\n",
    "param_grid = {'max_features': max_features,\"max_depth\":max_depth,\n",
    "                 \"subsample\":subsample,\"learning_rate\":learning_rate,\"n_estimators\":n_estimators}\n",
    "    \n",
    "\n",
    "grid_search = GridSearchCV(estimator = gbm, param_grid = param_grid, \n",
    "                      cv = 2, n_jobs = -1, verbose = 2)\n",
    "\n",
    "# Fit the random search model\n",
    "grid_search.fit(X,Y_train_sen)\n",
    "\n",
    "best_param = grid_search.best_params_\n",
    "\n",
    "\n",
    "\n",
    "\n",
    "gbm_d = GradientBoostingClassifier(n_estimators = best_param[\"n_estimators\"],max_features = best_param[\"max_features\"]\n",
    "                             ,max_depth = best_param[\"max_depth\"],learning_rate = best_param[\"learning_rate\"])\n",
    "gbm_d.fit(X,Y_train_sen)\n",
    "\n",
    "pred = gbm_d.predict(X_test)\n"
   ]
  },
  {
   "cell_type": "code",
   "execution_count": 47,
   "metadata": {},
   "outputs": [
    {
     "data": {
      "text/plain": [
       "{'learning_rate': 0.01,\n",
       " 'max_depth': 6,\n",
       " 'max_features': 0.3,\n",
       " 'n_estimators': 100,\n",
       " 'subsample': 1}"
      ]
     },
     "execution_count": 47,
     "metadata": {},
     "output_type": "execute_result"
    }
   ],
   "source": [
    "best_param"
   ]
  },
  {
   "cell_type": "code",
   "execution_count": 48,
   "metadata": {},
   "outputs": [
    {
     "data": {
      "text/plain": [
       "array([ 0., -1., -1., -1., -1.,  0.,  1.,  0., -1.,  0., -1.,  0.,  0.,\n",
       "        0.,  0.,  0.,  0.,  1., -1.,  0., -1.,  0.,  0.,  1.,  0.,  0.,\n",
       "        1.,  0.,  0., -1.,  0.,  0.,  0.,  0., -1.,  0.,  0.,  0., -1.,\n",
       "       -1.,  1.,  0.,  0., -1., -1.,  0.,  0.,  0., -1.,  0.,  0.,  0.,\n",
       "        1., -1.,  1.,  0.,  0.,  0., -1.,  0.,  0., -1.])"
      ]
     },
     "execution_count": 48,
     "metadata": {},
     "output_type": "execute_result"
    }
   ],
   "source": [
    "pred"
   ]
  },
  {
   "cell_type": "code",
   "execution_count": 49,
   "metadata": {},
   "outputs": [
    {
     "data": {
      "text/plain": [
       "0.5"
      ]
     },
     "execution_count": 49,
     "metadata": {},
     "output_type": "execute_result"
    }
   ],
   "source": [
    "accuracy_score(Y_test_sen,pred)"
   ]
  },
  {
   "cell_type": "code",
   "execution_count": 50,
   "metadata": {},
   "outputs": [
    {
     "name": "stdout",
     "output_type": "stream",
     "text": [
      "no information accuracy 0.45652173913043476\n"
     ]
    }
   ],
   "source": [
    "print(\"no information accuracy\", len(X_train.loc[X_train.Sentiment == 0])/len(X_train))"
   ]
  },
  {
   "cell_type": "code",
   "execution_count": 51,
   "metadata": {},
   "outputs": [
    {
     "data": {
      "text/plain": [
       "array([[ 8,  6,  2],\n",
       "       [ 4, 21,  3],\n",
       "       [ 6, 10,  2]])"
      ]
     },
     "execution_count": 51,
     "metadata": {},
     "output_type": "execute_result"
    }
   ],
   "source": [
    "confusion_matrix(Y_test_sen,pred)"
   ]
  },
  {
   "cell_type": "markdown",
   "metadata": {},
   "source": [
    "#### Prediction  "
   ]
  },
  {
   "cell_type": "code",
   "execution_count": 52,
   "metadata": {},
   "outputs": [
    {
     "name": "stdout",
     "output_type": "stream",
     "text": [
      "time elapsed 8.6\n"
     ]
    }
   ],
   "source": [
    "main_articles_nlp = nlp_validation_sets(fold = X_train,validation = articles,train_data = X_train,\n",
    "                                    max_features=100,method_nlp = \"stem\",ngram = 1)\n",
    "\n",
    "main_articles_nlp.choose_w2v(method = \"count\")\n",
    "main_articles_nlp.fit()\n",
    "X = main_articles_nlp.transform_test()"
   ]
  },
  {
   "cell_type": "code",
   "execution_count": 53,
   "metadata": {},
   "outputs": [
    {
     "data": {
      "text/plain": [
       "(40732, 100)"
      ]
     },
     "execution_count": 53,
     "metadata": {},
     "output_type": "execute_result"
    }
   ],
   "source": [
    "X.shape"
   ]
  },
  {
   "cell_type": "code",
   "execution_count": 54,
   "metadata": {},
   "outputs": [],
   "source": [
    "pred_main_articles = rf_d.predict(X)"
   ]
  },
  {
   "cell_type": "code",
   "execution_count": 55,
   "metadata": {},
   "outputs": [
    {
     "data": {
      "text/plain": [
       "(40732,)"
      ]
     },
     "execution_count": 55,
     "metadata": {},
     "output_type": "execute_result"
    }
   ],
   "source": [
    "pred_main_articles.shape"
   ]
  },
  {
   "cell_type": "code",
   "execution_count": 56,
   "metadata": {},
   "outputs": [],
   "source": [
    "articles[\"predicted_sentiment\"] = pred_main_articles"
   ]
  },
  {
   "cell_type": "code",
   "execution_count": 57,
   "metadata": {},
   "outputs": [
    {
     "data": {
      "text/html": [
       "<div>\n",
       "<style scoped>\n",
       "    .dataframe tbody tr th:only-of-type {\n",
       "        vertical-align: middle;\n",
       "    }\n",
       "\n",
       "    .dataframe tbody tr th {\n",
       "        vertical-align: top;\n",
       "    }\n",
       "\n",
       "    .dataframe thead th {\n",
       "        text-align: right;\n",
       "    }\n",
       "</style>\n",
       "<table border=\"1\" class=\"dataframe\">\n",
       "  <thead>\n",
       "    <tr style=\"text-align: right;\">\n",
       "      <th></th>\n",
       "      <th>Unnamed: 0</th>\n",
       "      <th>index</th>\n",
       "      <th>author</th>\n",
       "      <th>contents</th>\n",
       "      <th>description</th>\n",
       "      <th>publisher</th>\n",
       "      <th>source_url</th>\n",
       "      <th>title</th>\n",
       "      <th>date</th>\n",
       "      <th>time</th>\n",
       "      <th>label</th>\n",
       "      <th>c</th>\n",
       "      <th>marks</th>\n",
       "      <th>predicted_sentiment</th>\n",
       "    </tr>\n",
       "    <tr>\n",
       "      <th>timeStamp</th>\n",
       "      <th></th>\n",
       "      <th></th>\n",
       "      <th></th>\n",
       "      <th></th>\n",
       "      <th></th>\n",
       "      <th></th>\n",
       "      <th></th>\n",
       "      <th></th>\n",
       "      <th></th>\n",
       "      <th></th>\n",
       "      <th></th>\n",
       "      <th></th>\n",
       "      <th></th>\n",
       "      <th></th>\n",
       "    </tr>\n",
       "  </thead>\n",
       "  <tbody>\n",
       "    <tr>\n",
       "      <th>2018-01-23</th>\n",
       "      <td>0</td>\n",
       "      <td>0</td>\n",
       "      <td>Stripe.com</td>\n",
       "      <td>complete payments platform engineered growth b...</td>\n",
       "      <td>At Stripe, we’ve long been excited about the p...</td>\n",
       "      <td>Stripe.com</td>\n",
       "      <td>https://stripe.com/blog/ending-bitcoin-support</td>\n",
       "      <td>Ending Bitcoin Support</td>\n",
       "      <td>2018-01-23</td>\n",
       "      <td>00:00:00</td>\n",
       "      <td>0.0</td>\n",
       "      <td>['complete', 'payments', 'platform', 'engineer...</td>\n",
       "      <td>0</td>\n",
       "      <td>1.0</td>\n",
       "    </tr>\n",
       "  </tbody>\n",
       "</table>\n",
       "</div>"
      ],
      "text/plain": [
       "            Unnamed: 0  index      author  \\\n",
       "timeStamp                                   \n",
       "2018-01-23           0      0  Stripe.com   \n",
       "\n",
       "                                                     contents  \\\n",
       "timeStamp                                                       \n",
       "2018-01-23  complete payments platform engineered growth b...   \n",
       "\n",
       "                                                  description   publisher  \\\n",
       "timeStamp                                                                   \n",
       "2018-01-23  At Stripe, we’ve long been excited about the p...  Stripe.com   \n",
       "\n",
       "                                                source_url  \\\n",
       "timeStamp                                                    \n",
       "2018-01-23  https://stripe.com/blog/ending-bitcoin-support   \n",
       "\n",
       "                             title        date      time  label  \\\n",
       "timeStamp                                                         \n",
       "2018-01-23  Ending Bitcoin Support  2018-01-23  00:00:00    0.0   \n",
       "\n",
       "                                                            c  marks  \\\n",
       "timeStamp                                                              \n",
       "2018-01-23  ['complete', 'payments', 'platform', 'engineer...      0   \n",
       "\n",
       "            predicted_sentiment  \n",
       "timeStamp                        \n",
       "2018-01-23                  1.0  "
      ]
     },
     "execution_count": 57,
     "metadata": {},
     "output_type": "execute_result"
    }
   ],
   "source": [
    "articles.head(1)"
   ]
  },
  {
   "cell_type": "code",
   "execution_count": 58,
   "metadata": {},
   "outputs": [],
   "source": [
    "#articles.to_csv(\"Classified Articles with Predicted Sentiment\")"
   ]
  },
  {
   "cell_type": "markdown",
   "metadata": {},
   "source": [
    "## 2. Relationship between Sentiment and Price "
   ]
  },
  {
   "cell_type": "markdown",
   "metadata": {},
   "source": [
    "### 2.1 train test split"
   ]
  },
  {
   "cell_type": "code",
   "execution_count": 59,
   "metadata": {},
   "outputs": [
    {
     "data": {
      "text/html": [
       "<div>\n",
       "<style scoped>\n",
       "    .dataframe tbody tr th:only-of-type {\n",
       "        vertical-align: middle;\n",
       "    }\n",
       "\n",
       "    .dataframe tbody tr th {\n",
       "        vertical-align: top;\n",
       "    }\n",
       "\n",
       "    .dataframe thead th {\n",
       "        text-align: right;\n",
       "    }\n",
       "</style>\n",
       "<table border=\"1\" class=\"dataframe\">\n",
       "  <thead>\n",
       "    <tr style=\"text-align: right;\">\n",
       "      <th></th>\n",
       "      <th>Unnamed: 0</th>\n",
       "      <th>index</th>\n",
       "      <th>author</th>\n",
       "      <th>contents</th>\n",
       "      <th>description</th>\n",
       "      <th>publisher</th>\n",
       "      <th>source_url</th>\n",
       "      <th>title</th>\n",
       "      <th>date</th>\n",
       "      <th>time</th>\n",
       "      <th>label</th>\n",
       "      <th>c</th>\n",
       "      <th>marks</th>\n",
       "      <th>predicted_sentiment</th>\n",
       "    </tr>\n",
       "    <tr>\n",
       "      <th>timeStamp</th>\n",
       "      <th></th>\n",
       "      <th></th>\n",
       "      <th></th>\n",
       "      <th></th>\n",
       "      <th></th>\n",
       "      <th></th>\n",
       "      <th></th>\n",
       "      <th></th>\n",
       "      <th></th>\n",
       "      <th></th>\n",
       "      <th></th>\n",
       "      <th></th>\n",
       "      <th></th>\n",
       "      <th></th>\n",
       "    </tr>\n",
       "  </thead>\n",
       "  <tbody>\n",
       "    <tr>\n",
       "      <th>2018-01-23</th>\n",
       "      <td>0</td>\n",
       "      <td>0</td>\n",
       "      <td>Stripe.com</td>\n",
       "      <td>complete payments platform engineered growth b...</td>\n",
       "      <td>At Stripe, we’ve long been excited about the p...</td>\n",
       "      <td>Stripe.com</td>\n",
       "      <td>https://stripe.com/blog/ending-bitcoin-support</td>\n",
       "      <td>Ending Bitcoin Support</td>\n",
       "      <td>2018-01-23</td>\n",
       "      <td>00:00:00</td>\n",
       "      <td>0.0</td>\n",
       "      <td>['complete', 'payments', 'platform', 'engineer...</td>\n",
       "      <td>0</td>\n",
       "      <td>1.0</td>\n",
       "    </tr>\n",
       "  </tbody>\n",
       "</table>\n",
       "</div>"
      ],
      "text/plain": [
       "            Unnamed: 0  index      author  \\\n",
       "timeStamp                                   \n",
       "2018-01-23           0      0  Stripe.com   \n",
       "\n",
       "                                                     contents  \\\n",
       "timeStamp                                                       \n",
       "2018-01-23  complete payments platform engineered growth b...   \n",
       "\n",
       "                                                  description   publisher  \\\n",
       "timeStamp                                                                   \n",
       "2018-01-23  At Stripe, we’ve long been excited about the p...  Stripe.com   \n",
       "\n",
       "                                                source_url  \\\n",
       "timeStamp                                                    \n",
       "2018-01-23  https://stripe.com/blog/ending-bitcoin-support   \n",
       "\n",
       "                             title        date      time  label  \\\n",
       "timeStamp                                                         \n",
       "2018-01-23  Ending Bitcoin Support  2018-01-23  00:00:00    0.0   \n",
       "\n",
       "                                                            c  marks  \\\n",
       "timeStamp                                                              \n",
       "2018-01-23  ['complete', 'payments', 'platform', 'engineer...      0   \n",
       "\n",
       "            predicted_sentiment  \n",
       "timeStamp                        \n",
       "2018-01-23                  1.0  "
      ]
     },
     "execution_count": 59,
     "metadata": {},
     "output_type": "execute_result"
    }
   ],
   "source": [
    "articles.head(1)"
   ]
  },
  {
   "cell_type": "code",
   "execution_count": 60,
   "metadata": {},
   "outputs": [
    {
     "data": {
      "text/plain": [
       "(40732, 14)"
      ]
     },
     "execution_count": 60,
     "metadata": {},
     "output_type": "execute_result"
    }
   ],
   "source": [
    "articles.shape"
   ]
  },
  {
   "cell_type": "code",
   "execution_count": 61,
   "metadata": {},
   "outputs": [
    {
     "data": {
      "text/plain": [
       "(40732, 9)"
      ]
     },
     "execution_count": 61,
     "metadata": {},
     "output_type": "execute_result"
    }
   ],
   "source": [
    "response.shape"
   ]
  },
  {
   "cell_type": "code",
   "execution_count": 62,
   "metadata": {},
   "outputs": [
    {
     "data": {
      "text/html": [
       "<div>\n",
       "<style scoped>\n",
       "    .dataframe tbody tr th:only-of-type {\n",
       "        vertical-align: middle;\n",
       "    }\n",
       "\n",
       "    .dataframe tbody tr th {\n",
       "        vertical-align: top;\n",
       "    }\n",
       "\n",
       "    .dataframe thead th {\n",
       "        text-align: right;\n",
       "    }\n",
       "</style>\n",
       "<table border=\"1\" class=\"dataframe\">\n",
       "  <thead>\n",
       "    <tr style=\"text-align: right;\">\n",
       "      <th></th>\n",
       "      <th>lag_1m</th>\n",
       "      <th>lag_5m</th>\n",
       "      <th>lag_10m</th>\n",
       "      <th>lag_30m</th>\n",
       "      <th>lag_60m</th>\n",
       "      <th>lag_12h</th>\n",
       "      <th>lag_1d</th>\n",
       "      <th>lag_2d</th>\n",
       "      <th>lag_4d</th>\n",
       "    </tr>\n",
       "  </thead>\n",
       "  <tbody>\n",
       "    <tr>\n",
       "      <th>0</th>\n",
       "      <td>-0.000255</td>\n",
       "      <td>-0.004628</td>\n",
       "      <td>0.003677</td>\n",
       "      <td>-0.006573</td>\n",
       "      <td>9.259276e-07</td>\n",
       "      <td>-0.066983</td>\n",
       "      <td>0.008283</td>\n",
       "      <td>0.048753</td>\n",
       "      <td>0.026566</td>\n",
       "    </tr>\n",
       "    <tr>\n",
       "      <th>1</th>\n",
       "      <td>0.004785</td>\n",
       "      <td>0.009881</td>\n",
       "      <td>0.007196</td>\n",
       "      <td>0.009790</td>\n",
       "      <td>5.649444e-03</td>\n",
       "      <td>-0.006864</td>\n",
       "      <td>0.001948</td>\n",
       "      <td>-0.131626</td>\n",
       "      <td>-0.099480</td>\n",
       "    </tr>\n",
       "    <tr>\n",
       "      <th>2</th>\n",
       "      <td>0.004785</td>\n",
       "      <td>0.009881</td>\n",
       "      <td>0.007196</td>\n",
       "      <td>0.009790</td>\n",
       "      <td>5.649444e-03</td>\n",
       "      <td>-0.006864</td>\n",
       "      <td>0.001948</td>\n",
       "      <td>-0.131626</td>\n",
       "      <td>-0.099480</td>\n",
       "    </tr>\n",
       "    <tr>\n",
       "      <th>3</th>\n",
       "      <td>-0.001834</td>\n",
       "      <td>-0.002659</td>\n",
       "      <td>-0.000428</td>\n",
       "      <td>-0.000899</td>\n",
       "      <td>1.532112e-03</td>\n",
       "      <td>-0.017489</td>\n",
       "      <td>-0.006412</td>\n",
       "      <td>-0.138672</td>\n",
       "      <td>-0.107204</td>\n",
       "    </tr>\n",
       "    <tr>\n",
       "      <th>4</th>\n",
       "      <td>-0.001857</td>\n",
       "      <td>-0.000064</td>\n",
       "      <td>0.002453</td>\n",
       "      <td>0.000936</td>\n",
       "      <td>3.372913e-03</td>\n",
       "      <td>-0.015684</td>\n",
       "      <td>-0.004587</td>\n",
       "      <td>-0.138783</td>\n",
       "      <td>-0.105564</td>\n",
       "    </tr>\n",
       "  </tbody>\n",
       "</table>\n",
       "</div>"
      ],
      "text/plain": [
       "     lag_1m    lag_5m   lag_10m   lag_30m       lag_60m   lag_12h    lag_1d  \\\n",
       "0 -0.000255 -0.004628  0.003677 -0.006573  9.259276e-07 -0.066983  0.008283   \n",
       "1  0.004785  0.009881  0.007196  0.009790  5.649444e-03 -0.006864  0.001948   \n",
       "2  0.004785  0.009881  0.007196  0.009790  5.649444e-03 -0.006864  0.001948   \n",
       "3 -0.001834 -0.002659 -0.000428 -0.000899  1.532112e-03 -0.017489 -0.006412   \n",
       "4 -0.001857 -0.000064  0.002453  0.000936  3.372913e-03 -0.015684 -0.004587   \n",
       "\n",
       "     lag_2d    lag_4d  \n",
       "0  0.048753  0.026566  \n",
       "1 -0.131626 -0.099480  \n",
       "2 -0.131626 -0.099480  \n",
       "3 -0.138672 -0.107204  \n",
       "4 -0.138783 -0.105564  "
      ]
     },
     "execution_count": 62,
     "metadata": {},
     "output_type": "execute_result"
    }
   ],
   "source": [
    "response.head()"
   ]
  },
  {
   "cell_type": "code",
   "execution_count": 63,
   "metadata": {},
   "outputs": [],
   "source": [
    "colnames = {\"lag_1m\":60,\"lag_5m\":300,\"lag_10m\":600,\"lag_30m\":1800,\"lag_60m\":3600,\"lag_12h\":43200,\"lag_1d\":86400,\n",
    "           \"lag_2d\":172800,\"lag_4d\": 345600}\n",
    "\n",
    "response = response.set_index(articles.index)\n",
    "for i in colnames:\n",
    "    articles[i] = response[i]"
   ]
  },
  {
   "cell_type": "code",
   "execution_count": 64,
   "metadata": {},
   "outputs": [],
   "source": [
    "split = .75\n",
    "train = articles.iloc[0:(round(len(articles)*split)),:]\n",
    "test = articles.iloc[-(round(len(articles)*(1-split))):]\n",
    "\n",
    "train_response = response.iloc[0:(round(len(response)*split)),:]\n",
    "test_response = response.iloc[-(round(len(response)*(1-split))):]\n",
    "\n",
    "train_naive = benchmark_naive.iloc[0:(round(len(benchmark_naive)*split)),:]\n",
    "\n",
    "test_naive = benchmark_naive.iloc[-(round(len(benchmark_naive)*(1-split))):]\n"
   ]
  },
  {
   "cell_type": "code",
   "execution_count": 65,
   "metadata": {},
   "outputs": [],
   "source": [
    "#from sklearn.model_selection import train_test_split\n",
    "\n",
    "#train, train_response, test, test_response = train_test_split(articles,response, test_size = 0.25, random_state = 42)\n",
    "#train_naive,a,test_naive,b = train_test_split(benchmark_naivee,response, test_size = 0.25, random_state = 42)\n"
   ]
  },
  {
   "cell_type": "code",
   "execution_count": 66,
   "metadata": {},
   "outputs": [
    {
     "data": {
      "text/plain": [
       "(40732, 23)"
      ]
     },
     "execution_count": 66,
     "metadata": {},
     "output_type": "execute_result"
    }
   ],
   "source": [
    "articles.shape"
   ]
  },
  {
   "cell_type": "code",
   "execution_count": 67,
   "metadata": {},
   "outputs": [
    {
     "data": {
      "text/plain": [
       "(30549, 23)"
      ]
     },
     "execution_count": 67,
     "metadata": {},
     "output_type": "execute_result"
    }
   ],
   "source": [
    "train.shape"
   ]
  },
  {
   "cell_type": "code",
   "execution_count": 68,
   "metadata": {},
   "outputs": [
    {
     "data": {
      "text/plain": [
       "(10183, 23)"
      ]
     },
     "execution_count": 68,
     "metadata": {},
     "output_type": "execute_result"
    }
   ],
   "source": [
    "test.shape"
   ]
  },
  {
   "cell_type": "code",
   "execution_count": 69,
   "metadata": {},
   "outputs": [
    {
     "data": {
      "text/plain": [
       "(30549, 9)"
      ]
     },
     "execution_count": 69,
     "metadata": {},
     "output_type": "execute_result"
    }
   ],
   "source": [
    "train_response.shape"
   ]
  },
  {
   "cell_type": "code",
   "execution_count": 70,
   "metadata": {},
   "outputs": [
    {
     "data": {
      "text/plain": [
       "<matplotlib.axes._subplots.AxesSubplot at 0x1a2f6ccd68>"
      ]
     },
     "execution_count": 70,
     "metadata": {},
     "output_type": "execute_result"
    },
    {
     "data": {
      "image/png": "[encoded data removed]",
      "text/plain": [
       "<Figure size 432x288 with 1 Axes>"
      ]
     },
     "metadata": {
      "image/png": {
       "height": 261,
       "width": 393
      },
      "needs_background": "light"
     },
     "output_type": "display_data"
    }
   ],
   "source": [
    "sns.boxplot(train_response[\"lag_1d\"])"
   ]
  },
  {
   "cell_type": "code",
   "execution_count": 71,
   "metadata": {},
   "outputs": [],
   "source": [
    "colnames = {\"lag_1m\":60,\"lag_5m\":300,\"lag_10m\":600,\"lag_30m\":1800,\"lag_60m\":3600,\"lag_12h\":43200,\"lag_1d\":86400,\n",
    "           \"lag_2d\":172800,\"lag_4d\": 345600}"
   ]
  },
  {
   "cell_type": "markdown",
   "metadata": {},
   "source": [
    "### 2.2 Mean Difference for Sentiment "
   ]
  },
  {
   "cell_type": "code",
   "execution_count": 72,
   "metadata": {},
   "outputs": [
    {
     "data": {
      "text/html": [
       "<div>\n",
       "<style scoped>\n",
       "    .dataframe tbody tr th:only-of-type {\n",
       "        vertical-align: middle;\n",
       "    }\n",
       "\n",
       "    .dataframe tbody tr th {\n",
       "        vertical-align: top;\n",
       "    }\n",
       "\n",
       "    .dataframe thead th {\n",
       "        text-align: right;\n",
       "    }\n",
       "</style>\n",
       "<table border=\"1\" class=\"dataframe\">\n",
       "  <thead>\n",
       "    <tr style=\"text-align: right;\">\n",
       "      <th></th>\n",
       "      <th>Unnamed: 0</th>\n",
       "      <th>index</th>\n",
       "      <th>author</th>\n",
       "      <th>contents</th>\n",
       "      <th>description</th>\n",
       "      <th>publisher</th>\n",
       "      <th>source_url</th>\n",
       "      <th>title</th>\n",
       "      <th>date</th>\n",
       "      <th>time</th>\n",
       "      <th>...</th>\n",
       "      <th>predicted_sentiment</th>\n",
       "      <th>lag_1m</th>\n",
       "      <th>lag_5m</th>\n",
       "      <th>lag_10m</th>\n",
       "      <th>lag_30m</th>\n",
       "      <th>lag_60m</th>\n",
       "      <th>lag_12h</th>\n",
       "      <th>lag_1d</th>\n",
       "      <th>lag_2d</th>\n",
       "      <th>lag_4d</th>\n",
       "    </tr>\n",
       "    <tr>\n",
       "      <th>timeStamp</th>\n",
       "      <th></th>\n",
       "      <th></th>\n",
       "      <th></th>\n",
       "      <th></th>\n",
       "      <th></th>\n",
       "      <th></th>\n",
       "      <th></th>\n",
       "      <th></th>\n",
       "      <th></th>\n",
       "      <th></th>\n",
       "      <th></th>\n",
       "      <th></th>\n",
       "      <th></th>\n",
       "      <th></th>\n",
       "      <th></th>\n",
       "      <th></th>\n",
       "      <th></th>\n",
       "      <th></th>\n",
       "      <th></th>\n",
       "      <th></th>\n",
       "      <th></th>\n",
       "    </tr>\n",
       "  </thead>\n",
       "  <tbody>\n",
       "    <tr>\n",
       "      <th>2018-01-23</th>\n",
       "      <td>0</td>\n",
       "      <td>0</td>\n",
       "      <td>Stripe.com</td>\n",
       "      <td>complete payments platform engineered growth b...</td>\n",
       "      <td>At Stripe, we’ve long been excited about the p...</td>\n",
       "      <td>Stripe.com</td>\n",
       "      <td>https://stripe.com/blog/ending-bitcoin-support</td>\n",
       "      <td>Ending Bitcoin Support</td>\n",
       "      <td>2018-01-23</td>\n",
       "      <td>00:00:00</td>\n",
       "      <td>...</td>\n",
       "      <td>1.0</td>\n",
       "      <td>-0.000255</td>\n",
       "      <td>-0.004628</td>\n",
       "      <td>0.003677</td>\n",
       "      <td>-0.006573</td>\n",
       "      <td>9.259276e-07</td>\n",
       "      <td>-0.066983</td>\n",
       "      <td>0.008283</td>\n",
       "      <td>0.048753</td>\n",
       "      <td>0.026566</td>\n",
       "    </tr>\n",
       "  </tbody>\n",
       "</table>\n",
       "<p>1 rows × 23 columns</p>\n",
       "</div>"
      ],
      "text/plain": [
       "            Unnamed: 0  index      author  \\\n",
       "timeStamp                                   \n",
       "2018-01-23           0      0  Stripe.com   \n",
       "\n",
       "                                                     contents  \\\n",
       "timeStamp                                                       \n",
       "2018-01-23  complete payments platform engineered growth b...   \n",
       "\n",
       "                                                  description   publisher  \\\n",
       "timeStamp                                                                   \n",
       "2018-01-23  At Stripe, we’ve long been excited about the p...  Stripe.com   \n",
       "\n",
       "                                                source_url  \\\n",
       "timeStamp                                                    \n",
       "2018-01-23  https://stripe.com/blog/ending-bitcoin-support   \n",
       "\n",
       "                             title        date      time    ...     \\\n",
       "timeStamp                                                   ...      \n",
       "2018-01-23  Ending Bitcoin Support  2018-01-23  00:00:00    ...      \n",
       "\n",
       "            predicted_sentiment    lag_1m    lag_5m   lag_10m   lag_30m  \\\n",
       "timeStamp                                                                 \n",
       "2018-01-23                  1.0 -0.000255 -0.004628  0.003677 -0.006573   \n",
       "\n",
       "                 lag_60m   lag_12h    lag_1d    lag_2d    lag_4d  \n",
       "timeStamp                                                         \n",
       "2018-01-23  9.259276e-07 -0.066983  0.008283  0.048753  0.026566  \n",
       "\n",
       "[1 rows x 23 columns]"
      ]
     },
     "execution_count": 72,
     "metadata": {},
     "output_type": "execute_result"
    }
   ],
   "source": [
    "articles.head(1)"
   ]
  },
  {
   "cell_type": "code",
   "execution_count": 73,
   "metadata": {},
   "outputs": [
    {
     "data": {
      "text/plain": [
       "0.0022"
      ]
     },
     "execution_count": 73,
     "metadata": {},
     "output_type": "execute_result"
    }
   ],
   "source": [
    "round(np.mean(articles.lag_30m)*100,4)"
   ]
  },
  {
   "cell_type": "code",
   "execution_count": 74,
   "metadata": {},
   "outputs": [
    {
     "data": {
      "text/plain": [
       "-0.0194"
      ]
     },
     "execution_count": 74,
     "metadata": {},
     "output_type": "execute_result"
    }
   ],
   "source": [
    "round(np.mean(articles.lag_30m.loc[articles.predicted_sentiment==0.0])*100,4)"
   ]
  },
  {
   "cell_type": "code",
   "execution_count": 75,
   "metadata": {},
   "outputs": [
    {
     "data": {
      "text/plain": [
       "-0.0037"
      ]
     },
     "execution_count": 75,
     "metadata": {},
     "output_type": "execute_result"
    }
   ],
   "source": [
    "round(np.mean(articles.lag_30m.loc[articles.predicted_sentiment==1.0])*100,4)"
   ]
  },
  {
   "cell_type": "code",
   "execution_count": 76,
   "metadata": {},
   "outputs": [
    {
     "data": {
      "text/plain": [
       "0.0261"
      ]
     },
     "execution_count": 76,
     "metadata": {},
     "output_type": "execute_result"
    }
   ],
   "source": [
    "round(np.mean(articles.lag_30m.loc[articles.predicted_sentiment==-1.0])*100,4)"
   ]
  },
  {
   "cell_type": "code",
   "execution_count": null,
   "metadata": {},
   "outputs": [],
   "source": []
  },
  {
   "cell_type": "code",
   "execution_count": 77,
   "metadata": {},
   "outputs": [
    {
     "data": {
      "text/plain": [
       "-0.0109"
      ]
     },
     "execution_count": 77,
     "metadata": {},
     "output_type": "execute_result"
    }
   ],
   "source": [
    "round(np.mean(articles.lag_30m.loc[articles.marks==0.0])*100,4)"
   ]
  },
  {
   "cell_type": "code",
   "execution_count": 78,
   "metadata": {},
   "outputs": [
    {
     "data": {
      "text/plain": [
       "0.0072"
      ]
     },
     "execution_count": 78,
     "metadata": {},
     "output_type": "execute_result"
    }
   ],
   "source": [
    "round(np.mean(articles.lag_30m.loc[articles.marks==1.0])*100,4)"
   ]
  },
  {
   "cell_type": "markdown",
   "metadata": {},
   "source": [
    "### 2.3 Evaluate difference using linear regression "
   ]
  },
  {
   "cell_type": "code",
   "execution_count": 79,
   "metadata": {},
   "outputs": [
    {
     "name": "stdout",
     "output_type": "stream",
     "text": [
      "OLS for  lag_1m\n",
      "                            OLS Regression Results                            \n",
      "==============================================================================\n",
      "Dep. Variable:                 lag_1m   R-squared:                       0.000\n",
      "Model:                            OLS   Adj. R-squared:                  0.000\n",
      "Method:                 Least Squares   F-statistic:                     3.063\n",
      "Date:                Sun, 02 Dec 2018   Prob (F-statistic):             0.0801\n",
      "Time:                        20:12:51   Log-Likelihood:             1.9797e+05\n",
      "No. Observations:               40732   AIC:                        -3.959e+05\n",
      "Df Residuals:                   40730   BIC:                        -3.959e+05\n",
      "Df Model:                           1                                         \n",
      "Covariance Type:            nonrobust                                         \n",
      "=======================================================================================\n",
      "                          coef    std err          t      P>|t|      [0.025      0.975]\n",
      "---------------------------------------------------------------------------------------\n",
      "const                -1.05e-05   9.32e-06     -1.126      0.260   -2.88e-05    7.77e-06\n",
      "predicted_sentiment  1.985e-05   1.13e-05      1.750      0.080   -2.38e-06    4.21e-05\n",
      "==============================================================================\n",
      "Omnibus:                     9476.336   Durbin-Watson:                   1.842\n",
      "Prob(Omnibus):                  0.000   Jarque-Bera (JB):           267475.126\n",
      "Skew:                           0.495   Prob(JB):                         0.00\n",
      "Kurtosis:                      15.515   Cond. No.                         1.24\n",
      "==============================================================================\n",
      "\n",
      "Warnings:\n",
      "[1] Standard Errors assume that the covariance matrix of the errors is correctly specified.\n",
      "\n",
      "\n",
      "OLS for  lag_5m\n",
      "                            OLS Regression Results                            \n",
      "==============================================================================\n",
      "Dep. Variable:                 lag_5m   R-squared:                       0.000\n",
      "Model:                            OLS   Adj. R-squared:                  0.000\n",
      "Method:                 Least Squares   F-statistic:                     2.804\n",
      "Date:                Sun, 02 Dec 2018   Prob (F-statistic):             0.0940\n",
      "Time:                        20:12:51   Log-Likelihood:             1.6591e+05\n",
      "No. Observations:               40732   AIC:                        -3.318e+05\n",
      "Df Residuals:                   40730   BIC:                        -3.318e+05\n",
      "Df Model:                           1                                         \n",
      "Covariance Type:            nonrobust                                         \n",
      "=======================================================================================\n",
      "                          coef    std err          t      P>|t|      [0.025      0.975]\n",
      "---------------------------------------------------------------------------------------\n",
      "const               -2.351e-05   2.05e-05     -1.148      0.251   -6.36e-05    1.66e-05\n",
      "predicted_sentiment  4.171e-05   2.49e-05      1.675      0.094   -7.11e-06    9.05e-05\n",
      "==============================================================================\n",
      "Omnibus:                     9388.499   Durbin-Watson:                   1.662\n",
      "Prob(Omnibus):                  0.000   Jarque-Bera (JB):           183785.307\n",
      "Skew:                           0.613   Prob(JB):                         0.00\n",
      "Kurtosis:                      13.334   Cond. No.                         1.24\n",
      "==============================================================================\n",
      "\n",
      "Warnings:\n",
      "[1] Standard Errors assume that the covariance matrix of the errors is correctly specified.\n",
      "\n",
      "\n",
      "OLS for  lag_10m\n",
      "                            OLS Regression Results                            \n",
      "==============================================================================\n",
      "Dep. Variable:                lag_10m   R-squared:                       0.000\n",
      "Model:                            OLS   Adj. R-squared:                 -0.000\n",
      "Method:                 Least Squares   F-statistic:                    0.5642\n",
      "Date:                Sun, 02 Dec 2018   Prob (F-statistic):              0.453\n",
      "Time:                        20:12:51   Log-Likelihood:             1.5148e+05\n",
      "No. Observations:               40732   AIC:                        -3.030e+05\n",
      "Df Residuals:                   40730   BIC:                        -3.029e+05\n",
      "Df Model:                           1                                         \n",
      "Covariance Type:            nonrobust                                         \n",
      "=======================================================================================\n",
      "                          coef    std err          t      P>|t|      [0.025      0.975]\n",
      "---------------------------------------------------------------------------------------\n",
      "const                2.544e-05   2.92e-05      0.872      0.383   -3.18e-05    8.26e-05\n",
      "predicted_sentiment -2.667e-05   3.55e-05     -0.751      0.453   -9.62e-05    4.29e-05\n",
      "==============================================================================\n",
      "Omnibus:                    11220.458   Durbin-Watson:                   1.567\n",
      "Prob(Omnibus):                  0.000   Jarque-Bera (JB):           249818.178\n",
      "Skew:                           0.800   Prob(JB):                         0.00\n",
      "Kurtosis:                      15.027   Cond. No.                         1.24\n",
      "==============================================================================\n",
      "\n",
      "Warnings:\n",
      "[1] Standard Errors assume that the covariance matrix of the errors is correctly specified.\n",
      "\n",
      "\n",
      "OLS for  lag_30m\n",
      "                            OLS Regression Results                            \n",
      "==============================================================================\n",
      "Dep. Variable:                lag_30m   R-squared:                       0.000\n",
      "Model:                            OLS   Adj. R-squared:                  0.000\n",
      "Method:                 Least Squares   F-statistic:                     6.826\n",
      "Date:                Sun, 02 Dec 2018   Prob (F-statistic):            0.00899\n",
      "Time:                        20:12:51   Log-Likelihood:             1.2957e+05\n",
      "No. Observations:               40732   AIC:                        -2.591e+05\n",
      "Df Residuals:                   40730   BIC:                        -2.591e+05\n",
      "Df Model:                           1                                         \n",
      "Covariance Type:            nonrobust                                         \n",
      "=======================================================================================\n",
      "                          coef    std err          t      P>|t|      [0.025      0.975]\n",
      "---------------------------------------------------------------------------------------\n",
      "const                1.204e-05      5e-05      0.241      0.810   -8.59e-05       0.000\n",
      "predicted_sentiment    -0.0002   6.08e-05     -2.613      0.009      -0.000   -3.97e-05\n",
      "==============================================================================\n",
      "Omnibus:                     8918.746   Durbin-Watson:                   1.376\n",
      "Prob(Omnibus):                  0.000   Jarque-Bera (JB):           135258.056\n",
      "Skew:                           0.638   Prob(JB):                         0.00\n",
      "Kurtosis:                      11.836   Cond. No.                         1.24\n",
      "==============================================================================\n",
      "\n",
      "Warnings:\n",
      "[1] Standard Errors assume that the covariance matrix of the errors is correctly specified.\n",
      "\n",
      "\n",
      "OLS for  lag_60m\n",
      "                            OLS Regression Results                            \n",
      "==============================================================================\n",
      "Dep. Variable:                lag_60m   R-squared:                       0.000\n",
      "Model:                            OLS   Adj. R-squared:                  0.000\n",
      "Method:                 Least Squares   F-statistic:                     1.783\n",
      "Date:                Sun, 02 Dec 2018   Prob (F-statistic):              0.182\n",
      "Time:                        20:12:51   Log-Likelihood:             1.1617e+05\n",
      "No. Observations:               40732   AIC:                        -2.323e+05\n",
      "Df Residuals:                   40730   BIC:                        -2.323e+05\n",
      "Df Model:                           1                                         \n",
      "Covariance Type:            nonrobust                                         \n",
      "=======================================================================================\n",
      "                          coef    std err          t      P>|t|      [0.025      0.975]\n",
      "---------------------------------------------------------------------------------------\n",
      "const                   0.0002   6.94e-05      2.231      0.026    1.88e-05       0.000\n",
      "predicted_sentiment    -0.0001   8.45e-05     -1.335      0.182      -0.000    5.28e-05\n",
      "==============================================================================\n",
      "Omnibus:                     5879.503   Durbin-Watson:                   1.324\n",
      "Prob(Omnibus):                  0.000   Jarque-Bera (JB):            49951.299\n",
      "Skew:                           0.434   Prob(JB):                         0.00\n",
      "Kurtosis:                       8.355   Cond. No.                         1.24\n",
      "==============================================================================\n",
      "\n",
      "Warnings:\n",
      "[1] Standard Errors assume that the covariance matrix of the errors is correctly specified.\n",
      "\n",
      "\n",
      "OLS for  lag_12h\n",
      "                            OLS Regression Results                            \n",
      "==============================================================================\n",
      "Dep. Variable:                lag_12h   R-squared:                       0.001\n",
      "Model:                            OLS   Adj. R-squared:                  0.001\n",
      "Method:                 Least Squares   F-statistic:                     23.29\n",
      "Date:                Sun, 02 Dec 2018   Prob (F-statistic):           1.39e-06\n",
      "Time:                        20:12:51   Log-Likelihood:                 69285.\n",
      "No. Observations:               40732   AIC:                        -1.386e+05\n",
      "Df Residuals:                   40730   BIC:                        -1.385e+05\n",
      "Df Model:                           1                                         \n",
      "Covariance Type:            nonrobust                                         \n",
      "=======================================================================================\n",
      "                          coef    std err          t      P>|t|      [0.025      0.975]\n",
      "---------------------------------------------------------------------------------------\n",
      "const                   0.0024      0.000     10.728      0.000       0.002       0.003\n",
      "predicted_sentiment    -0.0013      0.000     -4.826      0.000      -0.002      -0.001\n",
      "==============================================================================\n",
      "Omnibus:                     6003.575   Durbin-Watson:                   1.035\n",
      "Prob(Omnibus):                  0.000   Jarque-Bera (JB):            33465.715\n",
      "Skew:                           0.594   Prob(JB):                         0.00\n",
      "Kurtosis:                       7.279   Cond. No.                         1.24\n",
      "==============================================================================\n",
      "\n",
      "Warnings:\n",
      "[1] Standard Errors assume that the covariance matrix of the errors is correctly specified.\n",
      "\n",
      "\n",
      "OLS for  lag_1d\n",
      "                            OLS Regression Results                            \n",
      "==============================================================================\n",
      "Dep. Variable:                 lag_1d   R-squared:                       0.001\n",
      "Model:                            OLS   Adj. R-squared:                  0.001\n",
      "Method:                 Least Squares   F-statistic:                     23.17\n",
      "Date:                Sun, 02 Dec 2018   Prob (F-statistic):           1.49e-06\n",
      "Time:                        20:12:51   Log-Likelihood:                 55213.\n",
      "No. Observations:               40732   AIC:                        -1.104e+05\n",
      "Df Residuals:                   40730   BIC:                        -1.104e+05\n",
      "Df Model:                           1                                         \n",
      "Covariance Type:            nonrobust                                         \n",
      "=======================================================================================\n",
      "                          coef    std err          t      P>|t|      [0.025      0.975]\n",
      "---------------------------------------------------------------------------------------\n",
      "const                   0.0020      0.000      6.489      0.000       0.001       0.003\n",
      "predicted_sentiment    -0.0018      0.000     -4.813      0.000      -0.003      -0.001\n",
      "==============================================================================\n",
      "Omnibus:                     4414.404   Durbin-Watson:                   0.786\n",
      "Prob(Omnibus):                  0.000   Jarque-Bera (JB):            14638.824\n",
      "Skew:                           0.550   Prob(JB):                         0.00\n",
      "Kurtosis:                       5.723   Cond. No.                         1.24\n",
      "==============================================================================\n",
      "\n",
      "Warnings:\n",
      "[1] Standard Errors assume that the covariance matrix of the errors is correctly specified.\n",
      "\n",
      "\n",
      "OLS for  lag_2d\n",
      "                            OLS Regression Results                            \n",
      "==============================================================================\n",
      "Dep. Variable:                 lag_2d   R-squared:                       0.000\n",
      "Model:                            OLS   Adj. R-squared:                  0.000\n",
      "Method:                 Least Squares   F-statistic:                     11.76\n",
      "Date:                Sun, 02 Dec 2018   Prob (F-statistic):           0.000607\n",
      "Time:                        20:12:51   Log-Likelihood:                 42949.\n",
      "No. Observations:               40732   AIC:                        -8.589e+04\n",
      "Df Residuals:                   40730   BIC:                        -8.588e+04\n",
      "Df Model:                           1                                         \n",
      "Covariance Type:            nonrobust                                         \n",
      "=======================================================================================\n",
      "                          coef    std err          t      P>|t|      [0.025      0.975]\n",
      "---------------------------------------------------------------------------------------\n",
      "const                   0.0010      0.000      2.491      0.013       0.000       0.002\n",
      "predicted_sentiment    -0.0017      0.001     -3.429      0.001      -0.003      -0.001\n",
      "==============================================================================\n",
      "Omnibus:                     2275.878   Durbin-Watson:                   0.510\n",
      "Prob(Omnibus):                  0.000   Jarque-Bera (JB):             4873.105\n",
      "Skew:                           0.380   Prob(JB):                         0.00\n",
      "Kurtosis:                       4.515   Cond. No.                         1.24\n",
      "==============================================================================\n",
      "\n",
      "Warnings:\n",
      "[1] Standard Errors assume that the covariance matrix of the errors is correctly specified.\n",
      "\n",
      "\n",
      "OLS for  lag_4d\n",
      "                            OLS Regression Results                            \n",
      "==============================================================================\n",
      "Dep. Variable:                 lag_4d   R-squared:                       0.000\n",
      "Model:                            OLS   Adj. R-squared:                 -0.000\n",
      "Method:                 Least Squares   F-statistic:                    0.1710\n",
      "Date:                Sun, 02 Dec 2018   Prob (F-statistic):              0.679\n",
      "Time:                        20:12:51   Log-Likelihood:                 26638.\n",
      "No. Observations:               40732   AIC:                        -5.327e+04\n",
      "Df Residuals:                   40730   BIC:                        -5.325e+04\n",
      "Df Model:                           1                                         \n",
      "Covariance Type:            nonrobust                                         \n",
      "=======================================================================================\n",
      "                          coef    std err          t      P>|t|      [0.025      0.975]\n",
      "---------------------------------------------------------------------------------------\n",
      "const                   0.0058      0.001      9.332      0.000       0.005       0.007\n",
      "predicted_sentiment    -0.0003      0.001     -0.414      0.679      -0.002       0.001\n",
      "==============================================================================\n",
      "Omnibus:                      414.749   Durbin-Watson:                   0.347\n",
      "Prob(Omnibus):                  0.000   Jarque-Bera (JB):              450.892\n",
      "Skew:                           0.217   Prob(JB):                     1.23e-98\n",
      "Kurtosis:                       3.278   Cond. No.                         1.24\n",
      "==============================================================================\n",
      "\n",
      "Warnings:\n",
      "[1] Standard Errors assume that the covariance matrix of the errors is correctly specified.\n",
      "\n",
      "\n"
     ]
    }
   ],
   "source": [
    "import statsmodels.api as sm\n",
    "\n",
    "for j in colnames:\n",
    "    \n",
    "    lm = sm.OLS(articles[j],sm.add_constant(articles.predicted_sentiment)).fit()\n",
    "    \n",
    "    print(\"OLS for \",j)\n",
    "    print(lm.summary())\n",
    "    print(\"\")\n",
    "    print(\"\")"
   ]
  },
  {
   "cell_type": "code",
   "execution_count": 80,
   "metadata": {},
   "outputs": [
    {
     "name": "stdout",
     "output_type": "stream",
     "text": [
      "OLS for  lag_1m\n",
      "                            OLS Regression Results                            \n",
      "==============================================================================\n",
      "Dep. Variable:                 lag_1m   R-squared:                       0.000\n",
      "Model:                            OLS   Adj. R-squared:                 -0.000\n",
      "Method:                 Least Squares   F-statistic:                    0.5884\n",
      "Date:                Sun, 02 Dec 2018   Prob (F-statistic):              0.443\n",
      "Time:                        20:12:51   Log-Likelihood:             1.9797e+05\n",
      "No. Observations:               40732   AIC:                        -3.959e+05\n",
      "Df Residuals:                   40730   BIC:                        -3.959e+05\n",
      "Df Model:                           1                                         \n",
      "Covariance Type:            nonrobust                                         \n",
      "==============================================================================\n",
      "                 coef    std err          t      P>|t|      [0.025      0.975]\n",
      "------------------------------------------------------------------------------\n",
      "const      -2.335e-05   1.77e-05     -1.320      0.187    -5.8e-05    1.13e-05\n",
      "marks       1.595e-05   2.08e-05      0.767      0.443   -2.48e-05    5.67e-05\n",
      "==============================================================================\n",
      "Omnibus:                     9475.151   Durbin-Watson:                   1.842\n",
      "Prob(Omnibus):                  0.000   Jarque-Bera (JB):           267636.258\n",
      "Skew:                           0.495   Prob(JB):                         0.00\n",
      "Kurtosis:                      15.519   Cond. No.                         3.58\n",
      "==============================================================================\n",
      "\n",
      "Warnings:\n",
      "[1] Standard Errors assume that the covariance matrix of the errors is correctly specified.\n",
      "\n",
      "\n",
      "OLS for  lag_5m\n",
      "                            OLS Regression Results                            \n",
      "==============================================================================\n",
      "Dep. Variable:                 lag_5m   R-squared:                       0.000\n",
      "Model:                            OLS   Adj. R-squared:                  0.000\n",
      "Method:                 Least Squares   F-statistic:                     9.921\n",
      "Date:                Sun, 02 Dec 2018   Prob (F-statistic):            0.00163\n",
      "Time:                        20:12:51   Log-Likelihood:             1.6592e+05\n",
      "No. Observations:               40732   AIC:                        -3.318e+05\n",
      "Df Residuals:                   40730   BIC:                        -3.318e+05\n",
      "Df Model:                           1                                         \n",
      "Covariance Type:            nonrobust                                         \n",
      "==============================================================================\n",
      "                 coef    std err          t      P>|t|      [0.025      0.975]\n",
      "------------------------------------------------------------------------------\n",
      "const         -0.0001   3.89e-05     -3.356      0.001      -0.000   -5.43e-05\n",
      "marks          0.0001   4.57e-05      3.150      0.002    5.43e-05       0.000\n",
      "==============================================================================\n",
      "Omnibus:                     9405.589   Durbin-Watson:                   1.662\n",
      "Prob(Omnibus):                  0.000   Jarque-Bera (JB):           184538.855\n",
      "Skew:                           0.615   Prob(JB):                         0.00\n",
      "Kurtosis:                      13.355   Cond. No.                         3.58\n",
      "==============================================================================\n",
      "\n",
      "Warnings:\n",
      "[1] Standard Errors assume that the covariance matrix of the errors is correctly specified.\n",
      "\n",
      "\n",
      "OLS for  lag_10m\n",
      "                            OLS Regression Results                            \n",
      "==============================================================================\n",
      "Dep. Variable:                lag_10m   R-squared:                       0.000\n",
      "Model:                            OLS   Adj. R-squared:                  0.000\n",
      "Method:                 Least Squares   F-statistic:                     6.322\n",
      "Date:                Sun, 02 Dec 2018   Prob (F-statistic):             0.0119\n",
      "Time:                        20:12:51   Log-Likelihood:             1.5148e+05\n",
      "No. Observations:               40732   AIC:                        -3.030e+05\n",
      "Df Residuals:                   40730   BIC:                        -3.029e+05\n",
      "Df Model:                           1                                         \n",
      "Covariance Type:            nonrobust                                         \n",
      "==============================================================================\n",
      "                 coef    std err          t      P>|t|      [0.025      0.975]\n",
      "------------------------------------------------------------------------------\n",
      "const      -9.132e-05   5.54e-05     -1.649      0.099      -0.000    1.72e-05\n",
      "marks          0.0002   6.51e-05      2.514      0.012    3.61e-05       0.000\n",
      "==============================================================================\n",
      "Omnibus:                    11248.319   Durbin-Watson:                   1.568\n",
      "Prob(Omnibus):                  0.000   Jarque-Bera (JB):           251043.943\n",
      "Skew:                           0.802   Prob(JB):                         0.00\n",
      "Kurtosis:                      15.056   Cond. No.                         3.58\n",
      "==============================================================================\n",
      "\n",
      "Warnings:\n",
      "[1] Standard Errors assume that the covariance matrix of the errors is correctly specified.\n",
      "\n",
      "\n",
      "OLS for  lag_30m\n",
      "                            OLS Regression Results                            \n",
      "==============================================================================\n",
      "Dep. Variable:                lag_30m   R-squared:                       0.000\n",
      "Model:                            OLS   Adj. R-squared:                  0.000\n",
      "Method:                 Least Squares   F-statistic:                     2.647\n",
      "Date:                Sun, 02 Dec 2018   Prob (F-statistic):              0.104\n",
      "Time:                        20:12:51   Log-Likelihood:             1.2956e+05\n",
      "No. Observations:               40732   AIC:                        -2.591e+05\n",
      "Df Residuals:                   40730   BIC:                        -2.591e+05\n",
      "Df Model:                           1                                         \n",
      "Covariance Type:            nonrobust                                         \n",
      "==============================================================================\n",
      "                 coef    std err          t      P>|t|      [0.025      0.975]\n",
      "------------------------------------------------------------------------------\n",
      "const         -0.0001   9.49e-05     -1.148      0.251      -0.000    7.71e-05\n",
      "marks          0.0002      0.000      1.627      0.104   -3.71e-05       0.000\n",
      "==============================================================================\n",
      "Omnibus:                     8941.356   Durbin-Watson:                   1.376\n",
      "Prob(Omnibus):                  0.000   Jarque-Bera (JB):           135923.786\n",
      "Skew:                           0.640   Prob(JB):                         0.00\n",
      "Kurtosis:                      11.857   Cond. No.                         3.58\n",
      "==============================================================================\n",
      "\n",
      "Warnings:\n",
      "[1] Standard Errors assume that the covariance matrix of the errors is correctly specified.\n",
      "\n",
      "\n",
      "OLS for  lag_60m\n",
      "                            OLS Regression Results                            \n",
      "==============================================================================\n",
      "Dep. Variable:                lag_60m   R-squared:                       0.000\n",
      "Model:                            OLS   Adj. R-squared:                  0.000\n",
      "Method:                 Least Squares   F-statistic:                     7.281\n",
      "Date:                Sun, 02 Dec 2018   Prob (F-statistic):            0.00697\n",
      "Time:                        20:12:51   Log-Likelihood:             1.1617e+05\n",
      "No. Observations:               40732   AIC:                        -2.323e+05\n",
      "Df Residuals:                   40730   BIC:                        -2.323e+05\n",
      "Df Model:                           1                                         \n",
      "Covariance Type:            nonrobust                                         \n",
      "==============================================================================\n",
      "                 coef    std err          t      P>|t|      [0.025      0.975]\n",
      "------------------------------------------------------------------------------\n",
      "const         -0.0001      0.000     -1.065      0.287      -0.000       0.000\n",
      "marks          0.0004      0.000      2.698      0.007       0.000       0.001\n",
      "==============================================================================\n",
      "Omnibus:                     5897.620   Durbin-Watson:                   1.324\n",
      "Prob(Omnibus):                  0.000   Jarque-Bera (JB):            50146.005\n",
      "Skew:                           0.437   Prob(JB):                         0.00\n",
      "Kurtosis:                       8.365   Cond. No.                         3.58\n",
      "==============================================================================\n",
      "\n",
      "Warnings:\n",
      "[1] Standard Errors assume that the covariance matrix of the errors is correctly specified.\n",
      "\n",
      "\n",
      "OLS for  lag_12h\n",
      "                            OLS Regression Results                            \n",
      "==============================================================================\n",
      "Dep. Variable:                lag_12h   R-squared:                       0.005\n",
      "Model:                            OLS   Adj. R-squared:                  0.005\n",
      "Method:                 Least Squares   F-statistic:                     211.0\n",
      "Date:                Sun, 02 Dec 2018   Prob (F-statistic):           1.09e-47\n",
      "Time:                        20:12:51   Log-Likelihood:                 69379.\n",
      "No. Observations:               40732   AIC:                        -1.388e+05\n",
      "Df Residuals:                   40730   BIC:                        -1.387e+05\n",
      "Df Model:                           1                                         \n",
      "Covariance Type:            nonrobust                                         \n",
      "==============================================================================\n",
      "                 coef    std err          t      P>|t|      [0.025      0.975]\n",
      "------------------------------------------------------------------------------\n",
      "const         -0.0027      0.000     -6.494      0.000      -0.004      -0.002\n",
      "marks          0.0071      0.000     14.526      0.000       0.006       0.008\n",
      "==============================================================================\n",
      "Omnibus:                     5945.965   Durbin-Watson:                   1.042\n",
      "Prob(Omnibus):                  0.000   Jarque-Bera (JB):            31241.052\n",
      "Skew:                           0.605   Prob(JB):                         0.00\n",
      "Kurtosis:                       7.116   Cond. No.                         3.58\n",
      "==============================================================================\n",
      "\n",
      "Warnings:\n",
      "[1] Standard Errors assume that the covariance matrix of the errors is correctly specified.\n",
      "\n",
      "\n",
      "OLS for  lag_1d\n",
      "                            OLS Regression Results                            \n",
      "==============================================================================\n",
      "Dep. Variable:                 lag_1d   R-squared:                       0.001\n",
      "Model:                            OLS   Adj. R-squared:                  0.001\n",
      "Method:                 Least Squares   F-statistic:                     34.36\n",
      "Date:                Sun, 02 Dec 2018   Prob (F-statistic):           4.62e-09\n",
      "Time:                        20:12:51   Log-Likelihood:                 55219.\n",
      "No. Observations:               40732   AIC:                        -1.104e+05\n",
      "Df Residuals:                   40730   BIC:                        -1.104e+05\n",
      "Df Model:                           1                                         \n",
      "Covariance Type:            nonrobust                                         \n",
      "==============================================================================\n",
      "                 coef    std err          t      P>|t|      [0.025      0.975]\n",
      "------------------------------------------------------------------------------\n",
      "const         -0.0008      0.001     -1.367      0.172      -0.002       0.000\n",
      "marks          0.0041      0.001      5.862      0.000       0.003       0.005\n",
      "==============================================================================\n",
      "Omnibus:                     4370.854   Durbin-Watson:                   0.788\n",
      "Prob(Omnibus):                  0.000   Jarque-Bera (JB):            14077.125\n",
      "Skew:                           0.553   Prob(JB):                         0.00\n",
      "Kurtosis:                       5.659   Cond. No.                         3.58\n",
      "==============================================================================\n",
      "\n",
      "Warnings:\n",
      "[1] Standard Errors assume that the covariance matrix of the errors is correctly specified.\n",
      "\n",
      "\n",
      "OLS for  lag_2d\n",
      "                            OLS Regression Results                            \n",
      "==============================================================================\n",
      "Dep. Variable:                 lag_2d   R-squared:                       0.000\n",
      "Model:                            OLS   Adj. R-squared:                 -0.000\n",
      "Method:                 Least Squares   F-statistic:                    0.2860\n",
      "Date:                Sun, 02 Dec 2018   Prob (F-statistic):              0.593\n",
      "Time:                        20:12:51   Log-Likelihood:                 42943.\n",
      "No. Observations:               40732   AIC:                        -8.588e+04\n",
      "Df Residuals:                   40730   BIC:                        -8.587e+04\n",
      "Df Model:                           1                                         \n",
      "Covariance Type:            nonrobust                                         \n",
      "==============================================================================\n",
      "                 coef    std err          t      P>|t|      [0.025      0.975]\n",
      "------------------------------------------------------------------------------\n",
      "const          0.0015      0.001      1.912      0.056   -3.83e-05       0.003\n",
      "marks         -0.0005      0.001     -0.535      0.593      -0.002       0.001\n",
      "==============================================================================\n",
      "Omnibus:                     2304.937   Durbin-Watson:                   0.511\n",
      "Prob(Omnibus):                  0.000   Jarque-Bera (JB):             4945.843\n",
      "Skew:                           0.384   Prob(JB):                         0.00\n",
      "Kurtosis:                       4.525   Cond. No.                         3.58\n",
      "==============================================================================\n",
      "\n",
      "Warnings:\n",
      "[1] Standard Errors assume that the covariance matrix of the errors is correctly specified.\n",
      "\n",
      "\n",
      "OLS for  lag_4d\n",
      "                            OLS Regression Results                            \n",
      "==============================================================================\n",
      "Dep. Variable:                 lag_4d   R-squared:                       0.003\n",
      "Model:                            OLS   Adj. R-squared:                  0.003\n",
      "Method:                 Least Squares   F-statistic:                     123.2\n",
      "Date:                Sun, 02 Dec 2018   Prob (F-statistic):           1.39e-28\n",
      "Time:                        20:12:51   Log-Likelihood:                 26699.\n",
      "No. Observations:               40732   AIC:                        -5.339e+04\n",
      "Df Residuals:                   40730   BIC:                        -5.338e+04\n",
      "Df Model:                           1                                         \n",
      "Covariance Type:            nonrobust                                         \n",
      "==============================================================================\n",
      "                 coef    std err          t      P>|t|      [0.025      0.975]\n",
      "------------------------------------------------------------------------------\n",
      "const         -0.0053      0.001     -4.505      0.000      -0.008      -0.003\n",
      "marks          0.0155      0.001     11.099      0.000       0.013       0.018\n",
      "==============================================================================\n",
      "Omnibus:                      367.505   Durbin-Watson:                   0.348\n",
      "Prob(Omnibus):                  0.000   Jarque-Bera (JB):              398.400\n",
      "Skew:                           0.203   Prob(JB):                     3.08e-87\n",
      "Kurtosis:                       3.265   Cond. No.                         3.58\n",
      "==============================================================================\n",
      "\n",
      "Warnings:\n",
      "[1] Standard Errors assume that the covariance matrix of the errors is correctly specified.\n",
      "\n",
      "\n"
     ]
    }
   ],
   "source": [
    "import statsmodels.api as sm\n",
    "\n",
    "for j in colnames:\n",
    "    \n",
    "    lm = sm.OLS(articles[j],sm.add_constant(articles.marks)).fit()\n",
    "    \n",
    "    print(\"OLS for \",j)\n",
    "    print(lm.summary())\n",
    "    print(\"\")\n",
    "    print(\"\")\n",
    "\n",
    "\n"
   ]
  },
  {
   "cell_type": "markdown",
   "metadata": {},
   "source": [
    "#### what if we add past price as additional predictor?"
   ]
  },
  {
   "cell_type": "code",
   "execution_count": null,
   "metadata": {},
   "outputs": [],
   "source": []
  },
  {
   "cell_type": "markdown",
   "metadata": {},
   "source": [
    "## 3. Article Scoring"
   ]
  },
  {
   "cell_type": "markdown",
   "metadata": {},
   "source": [
    "### 3.1 nlp features "
   ]
  },
  {
   "cell_type": "code",
   "execution_count": 81,
   "metadata": {},
   "outputs": [],
   "source": [
    "nlp = nlp_validation_sets(fold = train,validation = test,train_data = articles,max_features=100,method_nlp = \"stem\",ngram = 1)"
   ]
  },
  {
   "cell_type": "code",
   "execution_count": 82,
   "metadata": {},
   "outputs": [],
   "source": [
    "nlp.choose_w2v(method = \"count\")"
   ]
  },
  {
   "cell_type": "code",
   "execution_count": 83,
   "metadata": {},
   "outputs": [
    {
     "name": "stdout",
     "output_type": "stream",
     "text": [
      "time elapsed 16.6\n"
     ]
    }
   ],
   "source": [
    "nlp.fit()"
   ]
  },
  {
   "cell_type": "code",
   "execution_count": 84,
   "metadata": {},
   "outputs": [],
   "source": [
    "X = nlp.transform_train()"
   ]
  },
  {
   "cell_type": "code",
   "execution_count": 85,
   "metadata": {},
   "outputs": [],
   "source": [
    "X_test = nlp.transform_test()"
   ]
  },
  {
   "cell_type": "code",
   "execution_count": 86,
   "metadata": {},
   "outputs": [
    {
     "data": {
      "text/plain": [
       "(30549, 100)"
      ]
     },
     "execution_count": 86,
     "metadata": {},
     "output_type": "execute_result"
    }
   ],
   "source": [
    "X.shape"
   ]
  },
  {
   "cell_type": "code",
   "execution_count": 87,
   "metadata": {},
   "outputs": [
    {
     "data": {
      "text/plain": [
       "(10183, 100)"
      ]
     },
     "execution_count": 87,
     "metadata": {},
     "output_type": "execute_result"
    }
   ],
   "source": [
    "X_test.shape"
   ]
  },
  {
   "cell_type": "markdown",
   "metadata": {},
   "source": [
    "### 3.2 train models and evaluate models "
   ]
  },
  {
   "cell_type": "code",
   "execution_count": 88,
   "metadata": {},
   "outputs": [
    {
     "data": {
      "text/plain": [
       "(30549, 9)"
      ]
     },
     "execution_count": 88,
     "metadata": {},
     "output_type": "execute_result"
    }
   ],
   "source": [
    "train_response.shape"
   ]
  },
  {
   "cell_type": "code",
   "execution_count": 89,
   "metadata": {},
   "outputs": [
    {
     "data": {
      "text/plain": [
       "(30549, 100)"
      ]
     },
     "execution_count": 89,
     "metadata": {},
     "output_type": "execute_result"
    }
   ],
   "source": [
    "X.shape"
   ]
  },
  {
   "cell_type": "code",
   "execution_count": 90,
   "metadata": {},
   "outputs": [
    {
     "data": {
      "text/plain": [
       "(10183, 100)"
      ]
     },
     "execution_count": 90,
     "metadata": {},
     "output_type": "execute_result"
    }
   ],
   "source": [
    "X_test.shape"
   ]
  },
  {
   "cell_type": "code",
   "execution_count": 91,
   "metadata": {},
   "outputs": [
    {
     "data": {
      "text/plain": [
       "(10183, 9)"
      ]
     },
     "execution_count": 91,
     "metadata": {},
     "output_type": "execute_result"
    }
   ],
   "source": [
    "test_response.shape"
   ]
  },
  {
   "cell_type": "markdown",
   "metadata": {},
   "source": [
    "### 3.3 benchmark: naive (use last price change as predictor for current price change)"
   ]
  },
  {
   "cell_type": "code",
   "execution_count": 92,
   "metadata": {},
   "outputs": [
    {
     "name": "stdout",
     "output_type": "stream",
     "text": [
      "benchmark training error: lag_1m : 1e-05\n",
      "benchmark training error: lag_5m : 4e-05\n",
      "benchmark training error: lag_10m : 8e-05\n",
      "benchmark training error: lag_30m : 0.00022\n",
      "benchmark training error: lag_60m : 0.00046\n",
      "benchmark training error: lag_12h : 0.00448\n",
      "benchmark training error: lag_1d : 0.01014\n",
      "benchmark training error: lag_2d : 0.01779\n",
      "benchmark training error: lag_4d : 0.03036\n"
     ]
    }
   ],
   "source": [
    "from sklearn.metrics import mean_squared_error\n",
    "colnames = {\"lag_1m\":60,\"lag_5m\":300,\"lag_10m\":600,\"lag_30m\":1800,\"lag_60m\":3600,\"lag_12h\":43200,\"lag_1d\":86400,\n",
    "           \"lag_2d\":172800,\"lag_4d\": 345600}\n",
    "\n",
    "for j in colnames:\n",
    "    print(\"benchmark training error:\",j,\":\",round(mean_squared_error(train_response[j],train_naive[j]),5))\n"
   ]
  },
  {
   "cell_type": "code",
   "execution_count": 93,
   "metadata": {},
   "outputs": [
    {
     "name": "stdout",
     "output_type": "stream",
     "text": [
      "benchmark testing error: lag_1m : 0.0\n",
      "benchmark testing error: lag_5m : 2e-05\n",
      "benchmark testing error: lag_10m : 4e-05\n",
      "benchmark testing error: lag_30m : 0.00012\n",
      "benchmark testing error: lag_60m : 0.00026\n",
      "benchmark testing error: lag_12h : 0.00241\n",
      "benchmark testing error: lag_1d : 0.00515\n",
      "benchmark testing error: lag_2d : 0.01076\n",
      "benchmark testing error: lag_4d : 0.02143\n"
     ]
    }
   ],
   "source": [
    "for j in colnames:\n",
    "    print(\"benchmark testing error:\",j,\":\",round(mean_squared_error(test_response[j],test_naive[j]),5))"
   ]
  },
  {
   "cell_type": "markdown",
   "metadata": {},
   "source": [
    "### 3.4 benchmark: AR-1 linear regresion (use weighted past price change as predictor for current price change)"
   ]
  },
  {
   "cell_type": "code",
   "execution_count": 94,
   "metadata": {},
   "outputs": [
    {
     "name": "stdout",
     "output_type": "stream",
     "text": [
      "AR-1 linear regression test error: lag_1m 0.54613\n",
      "AR-1 linear regression test error: lag_5m 0.49525\n",
      "AR-1 linear regression test error: lag_10m 0.46112\n",
      "AR-1 linear regression test error: lag_30m 0.55106\n",
      "AR-1 linear regression test error: lag_60m 0.51859\n",
      "AR-1 linear regression test error: lag_12h 0.51994\n",
      "AR-1 linear regression test error: lag_1d 0.47396\n",
      "AR-1 linear regression test error: lag_2d 0.43152\n",
      "AR-1 linear regression test error: lag_4d 0.3684\n"
     ]
    }
   ],
   "source": [
    "from sklearn.linear_model import LinearRegression\n",
    "for j in colnames:\n",
    "    reg = LinearRegression()\n",
    "    reg.fit(train_naive,train_response[j])\n",
    "    #pred = reg.predict(train_naive)\n",
    "    #print(\"linear regression training error:\",j,round(mean_squared_error(pred,train_response[j])/\n",
    "                                                      #mean_squared_error(train_response[j],train_naive[j]),5))\n",
    "    pred = reg.predict(test_naive)\n",
    "    #print(\"\")\n",
    "    print(\"AR-1 linear regression test error:\",j,round(mean_squared_error(pred,test_response[j])/\n",
    "                                                  mean_squared_error(test_response[j],test_naive[j]),5))"
   ]
  },
  {
   "cell_type": "markdown",
   "metadata": {},
   "source": [
    "### 3.5 linear regression with NLP features"
   ]
  },
  {
   "cell_type": "markdown",
   "metadata": {},
   "source": [
    "#### 2.3.1 NLP features only"
   ]
  },
  {
   "cell_type": "code",
   "execution_count": null,
   "metadata": {},
   "outputs": [],
   "source": []
  },
  {
   "cell_type": "code",
   "execution_count": 95,
   "metadata": {},
   "outputs": [],
   "source": [
    "X = np.concatenate((X.toarray(),train[[\"predicted_sentiment\"]].values),axis = 1)"
   ]
  },
  {
   "cell_type": "code",
   "execution_count": 96,
   "metadata": {},
   "outputs": [
    {
     "data": {
      "text/plain": [
       "(30549, 101)"
      ]
     },
     "execution_count": 96,
     "metadata": {},
     "output_type": "execute_result"
    }
   ],
   "source": [
    "X.shape"
   ]
  },
  {
   "cell_type": "code",
   "execution_count": 97,
   "metadata": {},
   "outputs": [],
   "source": [
    "X_test = np.concatenate((X_test.toarray(),test[[\"predicted_sentiment\"]].values),axis = 1)"
   ]
  },
  {
   "cell_type": "code",
   "execution_count": 98,
   "metadata": {},
   "outputs": [
    {
     "data": {
      "text/plain": [
       "(10183, 101)"
      ]
     },
     "execution_count": 98,
     "metadata": {},
     "output_type": "execute_result"
    }
   ],
   "source": [
    "X_test.shape"
   ]
  },
  {
   "cell_type": "code",
   "execution_count": 99,
   "metadata": {},
   "outputs": [
    {
     "data": {
      "text/plain": [
       "(10183, 9)"
      ]
     },
     "execution_count": 99,
     "metadata": {},
     "output_type": "execute_result"
    }
   ],
   "source": [
    "test_response.shape"
   ]
  },
  {
   "cell_type": "code",
   "execution_count": 100,
   "metadata": {
    "scrolled": true
   },
   "outputs": [
    {
     "name": "stdout",
     "output_type": "stream",
     "text": [
      "linear regression test error: lag_1m 0.56194\n",
      "linear regression test error: lag_5m 0.50535\n",
      "linear regression test error: lag_10m 0.46886\n",
      "linear regression test error: lag_30m 0.55115\n",
      "linear regression test error: lag_60m 0.51192\n",
      "linear regression test error: lag_12h 0.50627\n",
      "linear regression test error: lag_1d 0.46692\n",
      "linear regression test error: lag_2d 0.45098\n",
      "linear regression test error: lag_4d 0.40238\n"
     ]
    }
   ],
   "source": [
    "# linear regression: train \n",
    "#a = np.concatenate((X,train_dummies),axis = 1)\n",
    "#b = np.concatenate((X_test,test_dummies),axis = 1)\n",
    "for j in colnames:\n",
    "    reg = LinearRegression()\n",
    "    reg.fit(X,train_response[j])\n",
    "    #pred = reg.predict(X)\n",
    "    #print(\"linear regression training error:\",j,round(mean_squared_error(pred,train_response[j])/\n",
    "       #                                               mean_squared_error(train_response[j],train_naive[j]),5))\n",
    "    pred = reg.predict(X_test)\n",
    "    #print(\"\")\n",
    "    print(\"linear regression test error:\",j,round(mean_squared_error(pred,test_response[j])/\n",
    "                                                  mean_squared_error(test_response[j],test_naive[j]),5))"
   ]
  },
  {
   "cell_type": "markdown",
   "metadata": {},
   "source": [
    "### 3.6 lasso regression with NLP features (with 5-fold cross validation)"
   ]
  },
  {
   "cell_type": "code",
   "execution_count": 101,
   "metadata": {},
   "outputs": [
    {
     "name": "stdout",
     "output_type": "stream",
     "text": [
      "lasso R squared: lag_1m 0.0\n",
      "lasso regression test error: lag_1m 0.5476\n",
      "lasso R squared: lag_5m 0.0\n",
      "lasso regression test error: lag_5m 0.49422\n",
      "lasso R squared: lag_10m 0.0\n",
      "lasso regression test error: lag_10m 0.45997\n",
      "lasso R squared: lag_30m 0.0\n",
      "lasso regression test error: lag_30m 0.54255\n",
      "lasso R squared: lag_60m 0.0\n",
      "lasso regression test error: lag_60m 0.50502\n",
      "lasso R squared: lag_12h 0.0\n",
      "lasso regression test error: lag_12h 0.49033\n",
      "lasso R squared: lag_1d 0.0\n",
      "lasso regression test error: lag_1d 0.45278\n",
      "lasso R squared: lag_2d 0.0\n",
      "lasso regression test error: lag_2d 0.42895\n",
      "lasso R squared: lag_4d 0.0\n",
      "lasso regression test error: lag_4d 0.36935\n"
     ]
    }
   ],
   "source": [
    "#from: https://www.kaggle.com/floser/aw6-the-lasso-cross-validated\n",
    "#https://scikit-learn.org/stable/modules/generated/sklearn.linear_model.Lasso.html\n",
    "from sklearn.preprocessing import scale\n",
    "from sklearn.linear_model import Lasso, LassoCV, Ridge, RidgeCV\n",
    "#from sklearn import cross_validation\n",
    "\n",
    "for j in colnames:\n",
    "    alphas = [1,5,10,50,100,1000]\n",
    "    lassocv = LassoCV(alphas=alphas, cv=5, max_iter=100000, normalize=True)\n",
    "    lassocv.fit(X, train_response[j])\n",
    "    lasso = Lasso()\n",
    "    lasso.set_params(alpha=lassocv.alpha_)\n",
    "    #print(\"Alpha=\", lassocv.alpha_)\n",
    "    lasso.fit(X, train_response[j])\n",
    "    #print(\"mse = \",mean_squared_error(y_test, lasso.predict(X_test)))\n",
    "    #print(\"best model coefficients:\")\n",
    "    #pd.Series(lasso.coef_, index=X.columns)\n",
    "    #pred = lasso.predict(X)\n",
    "    #print(\"lasso regression training error:\",j,round(mean_squared_error(pred,train_response[j])/\n",
    "                                                      #mean_squared_error(train_response[j],train_naive[j]),5))\n",
    "    \n",
    "    pred = lasso.predict(X_test)\n",
    "    print(\"lasso R squared:\",j,lasso.score(X,train_response[j]))\n",
    "    print(\"lasso regression test error:\",j,round(mean_squared_error(pred,test_response[j])/\n",
    "                                                  mean_squared_error(test_response[j],test_naive[j]),5))\n",
    "    "
   ]
  },
  {
   "cell_type": "markdown",
   "metadata": {},
   "source": [
    "### 3.7 random forest regressor with NLP features"
   ]
  },
  {
   "cell_type": "code",
   "execution_count": 102,
   "metadata": {},
   "outputs": [
    {
     "name": "stdout",
     "output_type": "stream",
     "text": [
      "Fitting 2 folds for each of 1 candidates, totalling 2 fits\n"
     ]
    },
    {
     "name": "stderr",
     "output_type": "stream",
     "text": [
      "[Parallel(n_jobs=-1)]: Using backend LokyBackend with 4 concurrent workers.\n",
      "[Parallel(n_jobs=-1)]: Done   2 out of   2 | elapsed:   55.8s finished\n"
     ]
    },
    {
     "name": "stdout",
     "output_type": "stream",
     "text": [
      "random forest test error: lag_1d 0.42437\n",
      "time elapsed: 5.8 minutes\n"
     ]
    }
   ],
   "source": [
    "#from: https://towardsdatascience.com/hyperparameter-tuning-the-random-forest-in-python-using-scikit-learn-28d2aa77dd74\n",
    "#https://scikit-learn.org/stable/modules/generated/sklearn.ensemble.RandomForestClassifier.html\n",
    "\n",
    "#from sklearn.metrics import accuracy_score\n",
    "from sklearn.ensemble import RandomForestRegressor\n",
    "from sklearn.model_selection import RandomizedSearchCV\n",
    "from sklearn.model_selection import GridSearchCV\n",
    "\n",
    "start = time.time()\n",
    "\n",
    "colnames = {\"lag_1m\":60,\"lag_5m\":300,\"lag_10m\":600,\"lag_30m\":1800,\"lag_60m\":3600,\"lag_12h\":43200,\"lag_1d\":86400,\n",
    "           \"lag_2d\":172800,\"lag_4d\": 345600}\n",
    "\n",
    "model = [\"lag_1d\"]\n",
    "count = 0\n",
    "for j in model:\n",
    "    count+=1\n",
    "    \n",
    "    #a = np.concatenate((train_dummies,np.array(train_naive[j]).reshape(len(train_naive[j]),1),X),axis = 1)\n",
    "    #b = np.concatenate((test_dummies,np.array(test_naive[j]).reshape(len(test_naive[j]),1),X_test),axis = 1)\n",
    "    \n",
    "    rf = RandomForestRegressor()\n",
    "    \n",
    "    n_estimators = [500]\n",
    "    max_features = [.3]\n",
    "    max_depth = [None]\n",
    "\n",
    "    param_grid = {'n_estimators': n_estimators,'max_features': max_features,\"max_depth\":max_depth}\n",
    "    \n",
    "    grid_search = GridSearchCV(estimator = rf, param_grid = param_grid, \n",
    "                          cv = 2, n_jobs = -1, verbose = 2,scoring = \"neg_mean_squared_error\")\n",
    "\n",
    "    #rf_random = RandomizedSearchCV(estimator = rf, param_distributions = random_grid, n_iter = 4, \n",
    "                               #cv = 3, verbose=2, random_state=42, n_jobs = -1)\n",
    "    # Fit the random search model\n",
    "    grid_search.fit(X, train_response[j])\n",
    "\n",
    "    best_param = grid_search.best_params_\n",
    "\n",
    "    rf_d = RandomForestRegressor(n_estimators = best_param[\"n_estimators\"],max_features = best_param[\"max_features\"]\n",
    "                             ,max_depth = best_param[\"max_depth\"])\n",
    "    rf_d.fit(X,train_response[j])\n",
    "\n",
    "    pred = rf_d.predict(X_test)\n",
    "    pred_rf = rf_d.predict(X_test)\n",
    "\n",
    "    print(\"random forest test error:\",j,round(mean_squared_error(pred,test_response[j])/\n",
    "                                                  mean_squared_error(test_response[j],test_naive[j]),5))\n",
    "    #if count>0:\n",
    "       # break \n",
    "print(\"time elapsed:\",round((time.time()-start)/60,1),\"minutes\")"
   ]
  },
  {
   "cell_type": "code",
   "execution_count": 103,
   "metadata": {},
   "outputs": [
    {
     "data": {
      "text/plain": [
       "{'max_depth': None, 'max_features': 0.3, 'n_estimators': 500}"
      ]
     },
     "execution_count": 103,
     "metadata": {},
     "output_type": "execute_result"
    }
   ],
   "source": [
    "best_param"
   ]
  },
  {
   "cell_type": "code",
   "execution_count": 104,
   "metadata": {},
   "outputs": [
    {
     "data": {
      "text/plain": [
       "[<matplotlib.lines.Line2D at 0x1a3dfa78d0>]"
      ]
     },
     "execution_count": 104,
     "metadata": {},
     "output_type": "execute_result"
    },
    {
     "data": {
      "image/png": "[encoded data removed]",
      "text/plain": [
       "<Figure size 432x288 with 1 Axes>"
      ]
     },
     "metadata": {
      "image/png": {
       "height": 244,
       "width": 425
      },
      "needs_background": "light"
     },
     "output_type": "display_data"
    }
   ],
   "source": [
    "import matplotlib.pyplot as plt\n",
    "plt.plot(pred,test_response[\"lag_1d\"],\"o\")"
   ]
  },
  {
   "cell_type": "code",
   "execution_count": 105,
   "metadata": {},
   "outputs": [
    {
     "data": {
      "text/plain": [
       "[<matplotlib.lines.Line2D at 0x1a3dfa4208>]"
      ]
     },
     "execution_count": 105,
     "metadata": {},
     "output_type": "execute_result"
    },
    {
     "data": {
      "image/png": "[encoded data removed]",
      "text/plain": [
       "<Figure size 432x288 with 1 Axes>"
      ]
     },
     "metadata": {
      "image/png": {
       "height": 244,
       "width": 424
      },
      "needs_background": "light"
     },
     "output_type": "display_data"
    }
   ],
   "source": [
    "plt.plot(test_naive[\"lag_1d\"],test_response[\"lag_1d\"],\"o\")"
   ]
  },
  {
   "cell_type": "code",
   "execution_count": 106,
   "metadata": {},
   "outputs": [
    {
     "name": "stdout",
     "output_type": "stream",
     "text": [
      "true value: -0.06  predicted value: 0.0\n",
      "true value: 0.0  predicted value: 0.0\n",
      "true value: -0.05  predicted value: -0.01\n",
      "true value: 0.03  predicted value: 0.04\n",
      "true value: -0.07  predicted value: -0.01\n",
      "true value: 0.0  predicted value: 0.01\n",
      "true value: -0.25  predicted value: -0.0\n",
      "true value: -0.04  predicted value: -0.01\n",
      "true value: -0.06  predicted value: -0.0\n",
      "true value: -0.03  predicted value: 0.0\n"
     ]
    }
   ],
   "source": [
    "import random\n",
    "rand = []\n",
    "for x in range(10):\n",
    "    rand.append(random.randint(0,len(pred)))\n",
    "\n",
    "for i in rand:\n",
    "    print(\"true value:\",round(test_response[\"lag_4d\"].iloc[i],2),\"\",\"predicted value:\",round(pred[i],2))\n",
    "    #print(i)\n"
   ]
  },
  {
   "cell_type": "code",
   "execution_count": 107,
   "metadata": {},
   "outputs": [
    {
     "name": "stdout",
     "output_type": "stream",
     "text": [
      "Twitter CEO Jack Dorsey Predicts That Bitcoin Will Be The World’s ‘Single Currency’ Within 10 Years\n",
      "Twitter to ban cryptocurrency adverts on its platform\n",
      "Bitcoin: Child sexual abuse images found embedded within cryptocurrency's blockchain\n",
      "Cryptocurrency litecoin falls 10% after payments processor 'LitePay' closes; 'We got too excited,' coin founder says\n",
      "Bitcoin falls as exchange faces government warning in Japan\n",
      "An exchange giant lays out its defense of a bitcoin product that could transform the cryptocurrency\n",
      "Blockchain Expands Beyond Bitcoin To Amazon, Nvidia, Alibaba\n",
      "Bitcoin Returns Above $9K But ‘Death Cross’ Still a Risk\n",
      "Crypto Markets React Following Reported Japanese Pressure on Binance\n",
      "“Weekly what changed in crypto” by Alte.Capital — 19–26 March 2018\n"
     ]
    }
   ],
   "source": [
    "for i in rand:\n",
    "    print(test[\"title\"].iloc[i])\n",
    "    #print(i)"
   ]
  },
  {
   "cell_type": "markdown",
   "metadata": {},
   "source": [
    "### 3.8 gbm with cv "
   ]
  },
  {
   "cell_type": "code",
   "execution_count": 108,
   "metadata": {},
   "outputs": [
    {
     "name": "stdout",
     "output_type": "stream",
     "text": [
      "gbm test error: lag_1d 0.45582\n",
      "time elapsed: 0.3 minutes\n"
     ]
    }
   ],
   "source": [
    "#https://scikit-learn.org/stable/modules/generated/sklearn.ensemble.GradientBoostingRegressor.html\n",
    "from sklearn.ensemble import GradientBoostingRegressor\n",
    "\n",
    "from sklearn.model_selection import RandomizedSearchCV\n",
    "from sklearn.model_selection import GridSearchCV\n",
    "\n",
    "start = time.time()\n",
    "\n",
    "colnames = {\"lag_1m\":60,\"lag_5m\":300,\"lag_10m\":600,\"lag_30m\":1800,\"lag_60m\":3600,\"lag_12h\":43200,\"lag_1d\":86400,\n",
    "           \"lag_2d\":172800,\"lag_4d\": 345600}\n",
    "\n",
    "model = [\"lag_1d\"]\n",
    "count = 0\n",
    "for j in model:\n",
    "    count+=1\n",
    "    \n",
    "    #a = np.concatenate((train_dummies,np.array(train_naive[j]).reshape(len(train_naive[j]),1),X),axis = 1)\n",
    "    #b = np.concatenate((test_dummies,np.array(test_naive[j]).reshape(len(test_naive[j]),1),X_test),axis = 1)\n",
    "    \n",
    "    gbm = GradientBoostingRegressor(n_estimators = 500,validation_fraction = .75,\n",
    "                                     n_iter_no_change = 2)\n",
    "    \n",
    "    max_features = [0.6,0.8]\n",
    "    subsample = [.7]\n",
    "    max_depth = [1,5]\n",
    "    learning_rate = [.01]\n",
    "    n_estimators=[200]\n",
    "\n",
    "    param_grid = {'max_features': max_features,\"max_depth\":max_depth,\n",
    "                 \"subsample\":subsample,\"learning_rate\":learning_rate}\n",
    "    \n",
    "    #grid_search = GridSearchCV(estimator = gbm, param_grid = param_grid, \n",
    "    #                      cv = 2, n_jobs = -1, verbose = 2,scoring = \"neg_mean_squared_error\")\n",
    "\n",
    "    #rf_random = RandomizedSearchCV(estimator = rf, param_distributions = random_grid, n_iter = 4, \n",
    "                               #cv = 3, verbose=2, random_state=42, n_jobs = -1)\n",
    "    # Fit the random search model\n",
    "    #grid_search.fit(X, train_response[j])\n",
    "\n",
    "    #best_param = grid_search.best_params_\n",
    "\n",
    "    gbm_d = GradientBoostingRegressor(\n",
    "                                    )\n",
    "    gbm_d.fit(X,train_response[j])\n",
    "\n",
    "    pred = gbm_d.predict(X_test)\n",
    "    pred_gbm = gbm_d.predict(X_test)\n",
    "\n",
    "    print(\"gbm test error:\",j,round(mean_squared_error(pred,test_response[j])/\n",
    "                                                  mean_squared_error(test_response[j],test_naive[j]),5))\n",
    "    #if count>0:\n",
    "       # break \n",
    "print(\"time elapsed:\",round((time.time()-start)/60,1),\"minutes\")"
   ]
  },
  {
   "cell_type": "code",
   "execution_count": 109,
   "metadata": {},
   "outputs": [
    {
     "data": {
      "text/plain": [
       "{'max_depth': None, 'max_features': 0.3, 'n_estimators': 500}"
      ]
     },
     "execution_count": 109,
     "metadata": {},
     "output_type": "execute_result"
    }
   ],
   "source": [
    "best_param"
   ]
  },
  {
   "cell_type": "code",
   "execution_count": 110,
   "metadata": {},
   "outputs": [
    {
     "data": {
      "text/plain": [
       "100"
      ]
     },
     "execution_count": 110,
     "metadata": {},
     "output_type": "execute_result"
    }
   ],
   "source": [
    "gbm_d.n_estimators"
   ]
  },
  {
   "cell_type": "code",
   "execution_count": 111,
   "metadata": {},
   "outputs": [],
   "source": [
    "#grid_search.cv_results_"
   ]
  },
  {
   "cell_type": "code",
   "execution_count": 112,
   "metadata": {},
   "outputs": [
    {
     "data": {
      "text/plain": [
       "[<matplotlib.lines.Line2D at 0x1a3df98b70>]"
      ]
     },
     "execution_count": 112,
     "metadata": {},
     "output_type": "execute_result"
    },
    {
     "data": {
      "image/png": "[encoded data removed]",
      "text/plain": [
       "<Figure size 432x288 with 1 Axes>"
      ]
     },
     "metadata": {
      "image/png": {
       "height": 244,
       "width": 424
      },
      "needs_background": "light"
     },
     "output_type": "display_data"
    }
   ],
   "source": [
    "import matplotlib.pyplot as plt\n",
    "plt.plot(pred,test_response[\"lag_1d\"],\"o\")"
   ]
  },
  {
   "cell_type": "code",
   "execution_count": 113,
   "metadata": {},
   "outputs": [
    {
     "name": "stdout",
     "output_type": "stream",
     "text": [
      "true value: 0.02  predicted value: -0.0\n",
      "true value: -0.05  predicted value: 0.01\n",
      "true value: 0.16  predicted value: 0.0\n",
      "true value: 0.0  predicted value: 0.01\n",
      "true value: 0.0  predicted value: 0.0\n",
      "true value: -0.07  predicted value: 0.01\n",
      "true value: -0.22  predicted value: 0.0\n",
      "true value: 0.08  predicted value: 0.0\n",
      "true value: -0.07  predicted value: 0.0\n",
      "true value: -0.06  predicted value: 0.01\n"
     ]
    }
   ],
   "source": [
    "import random\n",
    "rand = []\n",
    "for x in range(10):\n",
    "    rand.append(random.randint(0,len(pred)))\n",
    "\n",
    "for i in rand:\n",
    "    print(\"true value:\",round(test_response[\"lag_4d\"].iloc[i],2),\"\",\"predicted value:\",round(pred[i],2))\n",
    "    #print(i)\n",
    "\n"
   ]
  },
  {
   "cell_type": "markdown",
   "metadata": {},
   "source": [
    "#An error ocurred while starting the kernel\n",
    "OMP: Error #15: Initializing libomp.dylib, but found libiomp5.dylib already initialized.\n",
    "OMP: Hint This means that multiple copies of the OpenMP runtime have been linked into the program. That is dangerous, since it can degrade performance or cause incorrect results. The best thing to do is to ensure that only a single OpenMP runtime is linked into the process, e.g. by avoiding static linking of the OpenMP runtime in any library. As an unsafe, unsupported, undocumented workaround you can set the environment variable KMP_DUPLICATE_LIB_OK=TRUE to allow the program to continue to execute, but that may cause crashes or silently produce incorrect results. For more information, please see http://openmp.llvm.org/"
   ]
  },
  {
   "cell_type": "markdown",
   "metadata": {},
   "source": [
    "### 3.9 Final Scoring "
   ]
  },
  {
   "cell_type": "code",
   "execution_count": 119,
   "metadata": {},
   "outputs": [
    {
     "data": {
      "text/plain": [
       "array([ 0.00029039,  0.00855995, -0.01421857, ..., -0.00201887,\n",
       "       -0.03877727, -0.00459745])"
      ]
     },
     "execution_count": 119,
     "metadata": {},
     "output_type": "execute_result"
    }
   ],
   "source": [
    "pred_rf"
   ]
  },
  {
   "cell_type": "code",
   "execution_count": 117,
   "metadata": {},
   "outputs": [],
   "source": [
    "t = pred_rf.reshape(1,-1)"
   ]
  },
  {
   "cell_type": "code",
   "execution_count": 118,
   "metadata": {},
   "outputs": [
    {
     "data": {
      "text/plain": [
       "array([[ 0.00029039,  0.00855995, -0.01421857, ..., -0.00201887,\n",
       "        -0.03877727, -0.00459745]])"
      ]
     },
     "execution_count": 118,
     "metadata": {},
     "output_type": "execute_result"
    }
   ],
   "source": [
    "t"
   ]
  },
  {
   "cell_type": "code",
   "execution_count": 120,
   "metadata": {},
   "outputs": [],
   "source": [
    "# use min max scaling at 90% quantile and take number * 10 \n",
    "\n",
    "#https://docs.scipy.org/doc/numpy/reference/generated/numpy.percentile.html\n",
    "#https://scikit-learn.org/stable/modules/generated/sklearn.preprocessing.MinMaxScaler.html\n",
    "\n",
    "from sklearn import preprocessing\n",
    "\n",
    "min_max_scaler = preprocessing.MinMaxScaler()\n",
    "\n",
    "scoring= min_max_scaler.fit_transform(abs(t)*10)\n",
    "\n",
    "\n",
    "\n"
   ]
  },
  {
   "cell_type": "code",
   "execution_count": 123,
   "metadata": {},
   "outputs": [
    {
     "data": {
      "text/plain": [
       "array([[0., 0., 0., ..., 0., 0., 0.]])"
      ]
     },
     "execution_count": 123,
     "metadata": {},
     "output_type": "execute_result"
    }
   ],
   "source": [
    "scoring"
   ]
  },
  {
   "cell_type": "markdown",
   "metadata": {},
   "source": [
    "## 4. Evaluation"
   ]
  },
  {
   "cell_type": "code",
   "execution_count": null,
   "metadata": {},
   "outputs": [],
   "source": []
  },
  {
   "cell_type": "code",
   "execution_count": 125,
   "metadata": {},
   "outputs": [
    {
     "data": {
      "text/plain": [
       "[<matplotlib.lines.Line2D at 0x1cd426d0f0>]"
      ]
     },
     "execution_count": 125,
     "metadata": {},
     "output_type": "execute_result"
    },
    {
     "data": {
      "image/png": "[encoded data removed]",
      "text/plain": [
       "<Figure size 432x288 with 1 Axes>"
      ]
     },
     "metadata": {
      "image/png": {
       "height": 244,
       "width": 425
      },
      "needs_background": "light"
     },
     "output_type": "display_data"
    }
   ],
   "source": [
    "import matplotlib.pyplot as plt\n",
    "plt.plot(pred_rf,test_response[\"lag_1d\"],\"o\")"
   ]
  },
  {
   "cell_type": "markdown",
   "metadata": {},
   "source": [
    "## 5. Appendix"
   ]
  },
  {
   "cell_type": "code",
   "execution_count": null,
   "metadata": {},
   "outputs": [],
   "source": []
  },
  {
   "cell_type": "code",
   "execution_count": null,
   "metadata": {},
   "outputs": [],
   "source": []
  }
 ],
 "metadata": {
  "kernelspec": {
   "display_name": "Python 3",
   "language": "python",
   "name": "python3"
  },
  "language_info": {
   "codemirror_mode": {
    "name": "ipython",
    "version": 3
   },
   "file_extension": ".py",
   "mimetype": "text/x-python",
   "name": "python",
   "nbconvert_exporter": "python",
   "pygments_lexer": "ipython3",
   "version": "3.6.1"
  }
 },
 "nbformat": 4,
 "nbformat_minor": 2
}
