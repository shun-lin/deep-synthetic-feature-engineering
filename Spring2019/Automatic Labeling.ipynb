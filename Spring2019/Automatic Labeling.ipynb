{
 "cells": [
  {
   "cell_type": "markdown",
   "metadata": {
    "slideshow": {
     "slide_type": "slide"
    }
   },
   "source": [
    "# Automatic Labeling\n",
    "\n",
    "Let's explore some ways to automate labeling of articles. Manual labeling is both inaccurate and prone to human bias/error. \n",
    "\n",
    "Idea : Use price change as the measure of impact of articles\n",
    "\n",
    "Notebook overview\n",
    "\n",
    "2) Refactor code from \"Fall2018Team1\" and \"Fall2018Team2\" to import data into the ipython notebook\n",
    "\n",
    "3) Use K-Mean technique to try to classify articles into neutral/positive/negative impacts on the price\n",
    "\n",
    "4) Data points for each article: \n",
    "\n",
    "1. The difference in price between the date of publish and t days later (you define t or look at last semester's code to see what works best for them, pretty sure they already did some work on this)\n",
    "2. Number of words saying price up or down\n",
    "3. Publisher\n",
    "4. Timing\n",
    "5. etc. find some features that you think is helpful!\n",
    "\n",
    "5). Run K-Mean (you choose k) on the data and after it is done see if the machine learn to cluster articles that are neutral together, positive together, or negative together\n"
   ]
  },
  {
   "cell_type": "markdown",
   "metadata": {
    "slideshow": {
     "slide_type": "slide"
    }
   },
   "source": [
    "## Understanding the dataset\n",
    "\n",
    "First we wanted to load in the dataset, and understand some of the features and dimensions that we were working in. To do so, we analyzed some of the dataframes, checked for null values, found some statistical descriptions, and plotted some of the features as they relate to each other."
   ]
  },
  {
   "cell_type": "code",
   "execution_count": 1,
   "metadata": {
    "slideshow": {
     "slide_type": "notes"
    }
   },
   "outputs": [],
   "source": [
    "# imports\n",
    "import pandas as pd\n",
    "import numpy as np\n",
    "import matplotlib.pyplot as plt"
   ]
  },
  {
   "cell_type": "code",
   "execution_count": 2,
   "metadata": {
    "slideshow": {
     "slide_type": "slide"
    }
   },
   "outputs": [
    {
     "data": {
      "text/html": [
       "<div>\n",
       "<style scoped>\n",
       "    .dataframe tbody tr th:only-of-type {\n",
       "        vertical-align: middle;\n",
       "    }\n",
       "\n",
       "    .dataframe tbody tr th {\n",
       "        vertical-align: top;\n",
       "    }\n",
       "\n",
       "    .dataframe thead th {\n",
       "        text-align: right;\n",
       "    }\n",
       "</style>\n",
       "<table border=\"1\" class=\"dataframe\">\n",
       "  <thead>\n",
       "    <tr style=\"text-align: right;\">\n",
       "      <th></th>\n",
       "      <th>author</th>\n",
       "      <th>contents</th>\n",
       "      <th>description</th>\n",
       "      <th>publisher</th>\n",
       "      <th>source_url</th>\n",
       "      <th>title</th>\n",
       "      <th>date</th>\n",
       "      <th>time</th>\n",
       "      <th>Open</th>\n",
       "      <th>High</th>\n",
       "      <th>...</th>\n",
       "      <th>Average</th>\n",
       "      <th>Volatility</th>\n",
       "      <th>SD</th>\n",
       "      <th>publisherLabel</th>\n",
       "      <th>Mark</th>\n",
       "      <th>publisher_L</th>\n",
       "      <th>author_L</th>\n",
       "      <th>score_sentiment</th>\n",
       "      <th>magnitude_sentiment</th>\n",
       "      <th>tfidf</th>\n",
       "    </tr>\n",
       "  </thead>\n",
       "  <tbody>\n",
       "    <tr>\n",
       "      <th>0</th>\n",
       "      <td>Bitcoinist.net</td>\n",
       "      <td>real time prices vires numeris bitcoin ethereu...</td>\n",
       "      <td>israel finance ministry bank israel considerin...</td>\n",
       "      <td>Bitcoinist.com</td>\n",
       "      <td>http://bitcoinist.com/kosher-crypto-bitcoen-se...</td>\n",
       "      <td>Kosher Crypto BitCoen Is Setting a Course for ...</td>\n",
       "      <td>2/2/18</td>\n",
       "      <td>0:00:08</td>\n",
       "      <td>8547.864403</td>\n",
       "      <td>8562.224306</td>\n",
       "      <td>...</td>\n",
       "      <td>12603.49354</td>\n",
       "      <td>433909.3344</td>\n",
       "      <td>2087.647258</td>\n",
       "      <td>96.0</td>\n",
       "      <td>0.0</td>\n",
       "      <td>3.0</td>\n",
       "      <td>-1.0</td>\n",
       "      <td>0.4</td>\n",
       "      <td>0.4</td>\n",
       "      <td>0.31545</td>\n",
       "    </tr>\n",
       "    <tr>\n",
       "      <th>1</th>\n",
       "      <td>Michelle Fox</td>\n",
       "      <td>var postloadfunctions var foresee enabled var ...</td>\n",
       "      <td>bitcoin may still drop rally back year early b...</td>\n",
       "      <td>CNBC</td>\n",
       "      <td>https://www.cnbc.com/2018/02/01/bitcoin-near-b...</td>\n",
       "      <td>Bitcoin near bottom, will rally to $20,000 thi...</td>\n",
       "      <td>2/2/18</td>\n",
       "      <td>0:02:00</td>\n",
       "      <td>8547.864403</td>\n",
       "      <td>8562.224306</td>\n",
       "      <td>...</td>\n",
       "      <td>12603.49354</td>\n",
       "      <td>433909.3344</td>\n",
       "      <td>2087.647258</td>\n",
       "      <td>146.0</td>\n",
       "      <td>0.0</td>\n",
       "      <td>3.0</td>\n",
       "      <td>0.0</td>\n",
       "      <td>0.1</td>\n",
       "      <td>0.1</td>\n",
       "      <td>0.49858</td>\n",
       "    </tr>\n",
       "    <tr>\n",
       "      <th>2</th>\n",
       "      <td>Scott Scanlon</td>\n",
       "      <td>core cryptocurrency networks miners people use...</td>\n",
       "      <td>core cryptocurrency networks miners people use...</td>\n",
       "      <td>Youbrandinc.com</td>\n",
       "      <td>https://www.youbrandinc.com/crytocurrency/brai...</td>\n",
       "      <td>Brain Genius Submerges His Bitcoin Mining Rig ...</td>\n",
       "      <td>2/2/18</td>\n",
       "      <td>0:03:08</td>\n",
       "      <td>8547.864403</td>\n",
       "      <td>8562.224306</td>\n",
       "      <td>...</td>\n",
       "      <td>12603.49354</td>\n",
       "      <td>433909.3344</td>\n",
       "      <td>2087.647258</td>\n",
       "      <td>1181.0</td>\n",
       "      <td>0.0</td>\n",
       "      <td>-1.0</td>\n",
       "      <td>-1.0</td>\n",
       "      <td>0.4</td>\n",
       "      <td>0.4</td>\n",
       "      <td>0.31795</td>\n",
       "    </tr>\n",
       "    <tr>\n",
       "      <th>3</th>\n",
       "      <td>Bruce Kleinman</td>\n",
       "      <td>demons digital gold part already done please r...</td>\n",
       "      <td>demons digital gold part</td>\n",
       "      <td>Hackernoon.com</td>\n",
       "      <td>https://hackernoon.com/remediation-wherefore-a...</td>\n",
       "      <td>Remediation, wherefore art thou?</td>\n",
       "      <td>2/2/18</td>\n",
       "      <td>0:18:34</td>\n",
       "      <td>8547.864403</td>\n",
       "      <td>8562.224306</td>\n",
       "      <td>...</td>\n",
       "      <td>12603.49354</td>\n",
       "      <td>433909.3344</td>\n",
       "      <td>2087.647258</td>\n",
       "      <td>452.0</td>\n",
       "      <td>0.0</td>\n",
       "      <td>3.0</td>\n",
       "      <td>0.0</td>\n",
       "      <td>0.2</td>\n",
       "      <td>0.2</td>\n",
       "      <td>0.97540</td>\n",
       "    </tr>\n",
       "    <tr>\n",
       "      <th>4</th>\n",
       "      <td>Jason Murphy</td>\n",
       "      <td>email password remember feb systems underpinni...</td>\n",
       "      <td>systems underpinning bitcoin truly revolutiona...</td>\n",
       "      <td>Crikey.com.au</td>\n",
       "      <td>https://www.crikey.com.au/2018/02/02/cryptotra...</td>\n",
       "      <td>Cryptotragedy: what if bitcoin’s greatest stre...</td>\n",
       "      <td>2/2/18</td>\n",
       "      <td>0:25:09</td>\n",
       "      <td>8547.864403</td>\n",
       "      <td>8562.224306</td>\n",
       "      <td>...</td>\n",
       "      <td>12603.49354</td>\n",
       "      <td>433909.3344</td>\n",
       "      <td>2087.647258</td>\n",
       "      <td>220.0</td>\n",
       "      <td>0.0</td>\n",
       "      <td>0.0</td>\n",
       "      <td>0.0</td>\n",
       "      <td>0.8</td>\n",
       "      <td>0.8</td>\n",
       "      <td>0.33696</td>\n",
       "    </tr>\n",
       "  </tbody>\n",
       "</table>\n",
       "<p>5 rows × 25 columns</p>\n",
       "</div>"
      ],
      "text/plain": [
       "           author                                           contents  \\\n",
       "0  Bitcoinist.net  real time prices vires numeris bitcoin ethereu...   \n",
       "1    Michelle Fox  var postloadfunctions var foresee enabled var ...   \n",
       "2   Scott Scanlon  core cryptocurrency networks miners people use...   \n",
       "3  Bruce Kleinman  demons digital gold part already done please r...   \n",
       "4    Jason Murphy  email password remember feb systems underpinni...   \n",
       "\n",
       "                                         description        publisher  \\\n",
       "0  israel finance ministry bank israel considerin...   Bitcoinist.com   \n",
       "1  bitcoin may still drop rally back year early b...             CNBC   \n",
       "2  core cryptocurrency networks miners people use...  Youbrandinc.com   \n",
       "3                           demons digital gold part   Hackernoon.com   \n",
       "4  systems underpinning bitcoin truly revolutiona...    Crikey.com.au   \n",
       "\n",
       "                                          source_url  \\\n",
       "0  http://bitcoinist.com/kosher-crypto-bitcoen-se...   \n",
       "1  https://www.cnbc.com/2018/02/01/bitcoin-near-b...   \n",
       "2  https://www.youbrandinc.com/crytocurrency/brai...   \n",
       "3  https://hackernoon.com/remediation-wherefore-a...   \n",
       "4  https://www.crikey.com.au/2018/02/02/cryptotra...   \n",
       "\n",
       "                                               title    date     time  \\\n",
       "0  Kosher Crypto BitCoen Is Setting a Course for ...  2/2/18  0:00:08   \n",
       "1  Bitcoin near bottom, will rally to $20,000 thi...  2/2/18  0:02:00   \n",
       "2  Brain Genius Submerges His Bitcoin Mining Rig ...  2/2/18  0:03:08   \n",
       "3                   Remediation, wherefore art thou?  2/2/18  0:18:34   \n",
       "4  Cryptotragedy: what if bitcoin’s greatest stre...  2/2/18  0:25:09   \n",
       "\n",
       "          Open         High   ...         Average   Volatility           SD  \\\n",
       "0  8547.864403  8562.224306   ...     12603.49354  433909.3344  2087.647258   \n",
       "1  8547.864403  8562.224306   ...     12603.49354  433909.3344  2087.647258   \n",
       "2  8547.864403  8562.224306   ...     12603.49354  433909.3344  2087.647258   \n",
       "3  8547.864403  8562.224306   ...     12603.49354  433909.3344  2087.647258   \n",
       "4  8547.864403  8562.224306   ...     12603.49354  433909.3344  2087.647258   \n",
       "\n",
       "   publisherLabel  Mark  publisher_L  author_L  score_sentiment  \\\n",
       "0            96.0   0.0          3.0      -1.0              0.4   \n",
       "1           146.0   0.0          3.0       0.0              0.1   \n",
       "2          1181.0   0.0         -1.0      -1.0              0.4   \n",
       "3           452.0   0.0          3.0       0.0              0.2   \n",
       "4           220.0   0.0          0.0       0.0              0.8   \n",
       "\n",
       "   magnitude_sentiment    tfidf  \n",
       "0                  0.4  0.31545  \n",
       "1                  0.1  0.49858  \n",
       "2                  0.4  0.31795  \n",
       "3                  0.2  0.97540  \n",
       "4                  0.8  0.33696  \n",
       "\n",
       "[5 rows x 25 columns]"
      ]
     },
     "execution_count": 2,
     "metadata": {},
     "output_type": "execute_result"
    }
   ],
   "source": [
    "# load data --> dataframe\n",
    "data = pd.read_csv(\"news_score.csv\")\n",
    "data.head()"
   ]
  },
  {
   "cell_type": "code",
   "execution_count": 3,
   "metadata": {
    "slideshow": {
     "slide_type": "subslide"
    }
   },
   "outputs": [
    {
     "data": {
      "text/plain": [
       "author                 0\n",
       "contents               0\n",
       "description            0\n",
       "publisher              0\n",
       "source_url             0\n",
       "title                  0\n",
       "date                   0\n",
       "time                   0\n",
       "Open                   0\n",
       "High                   0\n",
       "Low                    0\n",
       "Close                  0\n",
       "Volume_(BTC)           0\n",
       "Volume_(Currency)      0\n",
       "Weighted_Price         0\n",
       "Average                0\n",
       "Volatility             0\n",
       "SD                     0\n",
       "publisherLabel         0\n",
       "Mark                   0\n",
       "publisher_L            0\n",
       "author_L               0\n",
       "score_sentiment        0\n",
       "magnitude_sentiment    0\n",
       "tfidf                  0\n",
       "dtype: int64"
      ]
     },
     "execution_count": 3,
     "metadata": {},
     "output_type": "execute_result"
    }
   ],
   "source": [
    "# check for null values\n",
    "data.isnull().sum()"
   ]
  },
  {
   "cell_type": "code",
   "execution_count": 4,
   "metadata": {
    "slideshow": {
     "slide_type": "subslide"
    }
   },
   "outputs": [
    {
     "data": {
      "text/html": [
       "<div>\n",
       "<style scoped>\n",
       "    .dataframe tbody tr th:only-of-type {\n",
       "        vertical-align: middle;\n",
       "    }\n",
       "\n",
       "    .dataframe tbody tr th {\n",
       "        vertical-align: top;\n",
       "    }\n",
       "\n",
       "    .dataframe thead th {\n",
       "        text-align: right;\n",
       "    }\n",
       "</style>\n",
       "<table border=\"1\" class=\"dataframe\">\n",
       "  <thead>\n",
       "    <tr style=\"text-align: right;\">\n",
       "      <th></th>\n",
       "      <th>Open</th>\n",
       "      <th>High</th>\n",
       "      <th>Low</th>\n",
       "      <th>Close</th>\n",
       "      <th>Volume_(BTC)</th>\n",
       "      <th>Volume_(Currency)</th>\n",
       "      <th>Weighted_Price</th>\n",
       "      <th>Average</th>\n",
       "      <th>Volatility</th>\n",
       "      <th>SD</th>\n",
       "      <th>publisherLabel</th>\n",
       "      <th>Mark</th>\n",
       "      <th>publisher_L</th>\n",
       "      <th>author_L</th>\n",
       "      <th>score_sentiment</th>\n",
       "      <th>magnitude_sentiment</th>\n",
       "      <th>tfidf</th>\n",
       "    </tr>\n",
       "  </thead>\n",
       "  <tbody>\n",
       "    <tr>\n",
       "      <th>count</th>\n",
       "      <td>7054.000000</td>\n",
       "      <td>7054.000000</td>\n",
       "      <td>7054.000000</td>\n",
       "      <td>7054.000000</td>\n",
       "      <td>7054.000000</td>\n",
       "      <td>7054.000000</td>\n",
       "      <td>7054.000000</td>\n",
       "      <td>7054.000000</td>\n",
       "      <td>7054.000000</td>\n",
       "      <td>7054.000000</td>\n",
       "      <td>7054.000000</td>\n",
       "      <td>7054.000000</td>\n",
       "      <td>7054.000000</td>\n",
       "      <td>7054.000000</td>\n",
       "      <td>7054.000000</td>\n",
       "      <td>7054.000000</td>\n",
       "      <td>7054.000000</td>\n",
       "    </tr>\n",
       "    <tr>\n",
       "      <th>mean</th>\n",
       "      <td>8182.139135</td>\n",
       "      <td>8190.604925</td>\n",
       "      <td>8173.207231</td>\n",
       "      <td>8182.071572</td>\n",
       "      <td>25.751414</td>\n",
       "      <td>199728.969814</td>\n",
       "      <td>8181.904584</td>\n",
       "      <td>10701.182909</td>\n",
       "      <td>293362.833360</td>\n",
       "      <td>1411.442590</td>\n",
       "      <td>615.735753</td>\n",
       "      <td>-0.175787</td>\n",
       "      <td>1.412815</td>\n",
       "      <td>0.465126</td>\n",
       "      <td>0.053884</td>\n",
       "      <td>0.375801</td>\n",
       "      <td>0.407626</td>\n",
       "    </tr>\n",
       "    <tr>\n",
       "      <th>std</th>\n",
       "      <td>682.239671</td>\n",
       "      <td>678.133716</td>\n",
       "      <td>686.505293</td>\n",
       "      <td>682.132607</td>\n",
       "      <td>16.902330</td>\n",
       "      <td>110347.430735</td>\n",
       "      <td>682.283876</td>\n",
       "      <td>894.026932</td>\n",
       "      <td>116731.998826</td>\n",
       "      <td>561.627091</td>\n",
       "      <td>378.364278</td>\n",
       "      <td>0.529577</td>\n",
       "      <td>1.579945</td>\n",
       "      <td>1.260539</td>\n",
       "      <td>0.481763</td>\n",
       "      <td>0.273717</td>\n",
       "      <td>0.186565</td>\n",
       "    </tr>\n",
       "    <tr>\n",
       "      <th>min</th>\n",
       "      <td>6806.927451</td>\n",
       "      <td>6826.417535</td>\n",
       "      <td>6786.712438</td>\n",
       "      <td>6807.273597</td>\n",
       "      <td>9.265880</td>\n",
       "      <td>74305.946820</td>\n",
       "      <td>6806.651598</td>\n",
       "      <td>9786.788157</td>\n",
       "      <td>180619.004500</td>\n",
       "      <td>869.003591</td>\n",
       "      <td>0.000000</td>\n",
       "      <td>-1.000000</td>\n",
       "      <td>-1.000000</td>\n",
       "      <td>-1.000000</td>\n",
       "      <td>-2.000000</td>\n",
       "      <td>-2.000000</td>\n",
       "      <td>0.157630</td>\n",
       "    </tr>\n",
       "    <tr>\n",
       "      <th>25%</th>\n",
       "      <td>7905.440896</td>\n",
       "      <td>7917.342931</td>\n",
       "      <td>7892.443951</td>\n",
       "      <td>7905.416028</td>\n",
       "      <td>13.935292</td>\n",
       "      <td>121295.129200</td>\n",
       "      <td>7904.972491</td>\n",
       "      <td>10090.346930</td>\n",
       "      <td>192710.683500</td>\n",
       "      <td>927.179708</td>\n",
       "      <td>202.000000</td>\n",
       "      <td>0.000000</td>\n",
       "      <td>0.000000</td>\n",
       "      <td>-1.000000</td>\n",
       "      <td>-0.300000</td>\n",
       "      <td>0.200000</td>\n",
       "      <td>0.281280</td>\n",
       "    </tr>\n",
       "    <tr>\n",
       "      <th>50%</th>\n",
       "      <td>8310.115639</td>\n",
       "      <td>8313.456646</td>\n",
       "      <td>8306.793611</td>\n",
       "      <td>8310.097187</td>\n",
       "      <td>18.984345</td>\n",
       "      <td>154043.483800</td>\n",
       "      <td>8310.129580</td>\n",
       "      <td>10130.017600</td>\n",
       "      <td>231620.464900</td>\n",
       "      <td>1114.384481</td>\n",
       "      <td>643.000000</td>\n",
       "      <td>0.000000</td>\n",
       "      <td>2.000000</td>\n",
       "      <td>0.000000</td>\n",
       "      <td>0.000000</td>\n",
       "      <td>0.300000</td>\n",
       "      <td>0.329700</td>\n",
       "    </tr>\n",
       "    <tr>\n",
       "      <th>75%</th>\n",
       "      <td>8617.131229</td>\n",
       "      <td>8620.755771</td>\n",
       "      <td>8613.696326</td>\n",
       "      <td>8617.348722</td>\n",
       "      <td>35.615632</td>\n",
       "      <td>297975.902000</td>\n",
       "      <td>8617.210484</td>\n",
       "      <td>11592.976650</td>\n",
       "      <td>437801.267600</td>\n",
       "      <td>2106.372331</td>\n",
       "      <td>967.000000</td>\n",
       "      <td>0.000000</td>\n",
       "      <td>3.000000</td>\n",
       "      <td>1.000000</td>\n",
       "      <td>0.400000</td>\n",
       "      <td>0.600000</td>\n",
       "      <td>0.491838</td>\n",
       "    </tr>\n",
       "    <tr>\n",
       "      <th>max</th>\n",
       "      <td>9435.828417</td>\n",
       "      <td>9441.771257</td>\n",
       "      <td>9429.061993</td>\n",
       "      <td>9435.448514</td>\n",
       "      <td>63.421083</td>\n",
       "      <td>432929.362400</td>\n",
       "      <td>9435.411315</td>\n",
       "      <td>12603.493540</td>\n",
       "      <td>452638.412200</td>\n",
       "      <td>2177.757576</td>\n",
       "      <td>1186.000000</td>\n",
       "      <td>1.000000</td>\n",
       "      <td>3.000000</td>\n",
       "      <td>3.000000</td>\n",
       "      <td>0.900000</td>\n",
       "      <td>0.900000</td>\n",
       "      <td>1.633640</td>\n",
       "    </tr>\n",
       "  </tbody>\n",
       "</table>\n",
       "</div>"
      ],
      "text/plain": [
       "              Open         High          Low        Close  Volume_(BTC)  \\\n",
       "count  7054.000000  7054.000000  7054.000000  7054.000000   7054.000000   \n",
       "mean   8182.139135  8190.604925  8173.207231  8182.071572     25.751414   \n",
       "std     682.239671   678.133716   686.505293   682.132607     16.902330   \n",
       "min    6806.927451  6826.417535  6786.712438  6807.273597      9.265880   \n",
       "25%    7905.440896  7917.342931  7892.443951  7905.416028     13.935292   \n",
       "50%    8310.115639  8313.456646  8306.793611  8310.097187     18.984345   \n",
       "75%    8617.131229  8620.755771  8613.696326  8617.348722     35.615632   \n",
       "max    9435.828417  9441.771257  9429.061993  9435.448514     63.421083   \n",
       "\n",
       "       Volume_(Currency)  Weighted_Price       Average     Volatility  \\\n",
       "count        7054.000000     7054.000000   7054.000000    7054.000000   \n",
       "mean       199728.969814     8181.904584  10701.182909  293362.833360   \n",
       "std        110347.430735      682.283876    894.026932  116731.998826   \n",
       "min         74305.946820     6806.651598   9786.788157  180619.004500   \n",
       "25%        121295.129200     7904.972491  10090.346930  192710.683500   \n",
       "50%        154043.483800     8310.129580  10130.017600  231620.464900   \n",
       "75%        297975.902000     8617.210484  11592.976650  437801.267600   \n",
       "max        432929.362400     9435.411315  12603.493540  452638.412200   \n",
       "\n",
       "                SD  publisherLabel         Mark  publisher_L     author_L  \\\n",
       "count  7054.000000     7054.000000  7054.000000  7054.000000  7054.000000   \n",
       "mean   1411.442590      615.735753    -0.175787     1.412815     0.465126   \n",
       "std     561.627091      378.364278     0.529577     1.579945     1.260539   \n",
       "min     869.003591        0.000000    -1.000000    -1.000000    -1.000000   \n",
       "25%     927.179708      202.000000     0.000000     0.000000    -1.000000   \n",
       "50%    1114.384481      643.000000     0.000000     2.000000     0.000000   \n",
       "75%    2106.372331      967.000000     0.000000     3.000000     1.000000   \n",
       "max    2177.757576     1186.000000     1.000000     3.000000     3.000000   \n",
       "\n",
       "       score_sentiment  magnitude_sentiment        tfidf  \n",
       "count      7054.000000          7054.000000  7054.000000  \n",
       "mean          0.053884             0.375801     0.407626  \n",
       "std           0.481763             0.273717     0.186565  \n",
       "min          -2.000000            -2.000000     0.157630  \n",
       "25%          -0.300000             0.200000     0.281280  \n",
       "50%           0.000000             0.300000     0.329700  \n",
       "75%           0.400000             0.600000     0.491838  \n",
       "max           0.900000             0.900000     1.633640  "
      ]
     },
     "execution_count": 4,
     "metadata": {},
     "output_type": "execute_result"
    }
   ],
   "source": [
    "data.describe()"
   ]
  },
  {
   "cell_type": "code",
   "execution_count": 5,
   "metadata": {
    "slideshow": {
     "slide_type": "slide"
    }
   },
   "outputs": [
    {
     "data": {
      "text/html": [
       "<div>\n",
       "<style scoped>\n",
       "    .dataframe tbody tr th:only-of-type {\n",
       "        vertical-align: middle;\n",
       "    }\n",
       "\n",
       "    .dataframe tbody tr th {\n",
       "        vertical-align: top;\n",
       "    }\n",
       "\n",
       "    .dataframe thead th {\n",
       "        text-align: right;\n",
       "    }\n",
       "</style>\n",
       "<table border=\"1\" class=\"dataframe\">\n",
       "  <thead>\n",
       "    <tr style=\"text-align: right;\">\n",
       "      <th></th>\n",
       "      <th>Open</th>\n",
       "      <th>High</th>\n",
       "      <th>Low</th>\n",
       "      <th>Close</th>\n",
       "      <th>Volume_(BTC)</th>\n",
       "      <th>Volume_(Currency)</th>\n",
       "      <th>Weighted_Price</th>\n",
       "      <th>Average</th>\n",
       "      <th>Volatility</th>\n",
       "      <th>SD</th>\n",
       "      <th>publisherLabel</th>\n",
       "      <th>Mark</th>\n",
       "      <th>publisher_L</th>\n",
       "      <th>author_L</th>\n",
       "      <th>score_sentiment</th>\n",
       "      <th>magnitude_sentiment</th>\n",
       "      <th>tfidf</th>\n",
       "    </tr>\n",
       "  </thead>\n",
       "  <tbody>\n",
       "    <tr>\n",
       "      <th>0</th>\n",
       "      <td>8547.864403</td>\n",
       "      <td>8562.224306</td>\n",
       "      <td>8533.223049</td>\n",
       "      <td>8547.647486</td>\n",
       "      <td>35.615632</td>\n",
       "      <td>300510.2071</td>\n",
       "      <td>8547.594042</td>\n",
       "      <td>12603.49354</td>\n",
       "      <td>433909.3344</td>\n",
       "      <td>2087.647258</td>\n",
       "      <td>96.0</td>\n",
       "      <td>0.0</td>\n",
       "      <td>3.0</td>\n",
       "      <td>-1.0</td>\n",
       "      <td>0.4</td>\n",
       "      <td>0.4</td>\n",
       "      <td>0.31545</td>\n",
       "    </tr>\n",
       "    <tr>\n",
       "      <th>1</th>\n",
       "      <td>8547.864403</td>\n",
       "      <td>8562.224306</td>\n",
       "      <td>8533.223049</td>\n",
       "      <td>8547.647486</td>\n",
       "      <td>35.615632</td>\n",
       "      <td>300510.2071</td>\n",
       "      <td>8547.594042</td>\n",
       "      <td>12603.49354</td>\n",
       "      <td>433909.3344</td>\n",
       "      <td>2087.647258</td>\n",
       "      <td>146.0</td>\n",
       "      <td>0.0</td>\n",
       "      <td>3.0</td>\n",
       "      <td>0.0</td>\n",
       "      <td>0.1</td>\n",
       "      <td>0.1</td>\n",
       "      <td>0.49858</td>\n",
       "    </tr>\n",
       "    <tr>\n",
       "      <th>2</th>\n",
       "      <td>8547.864403</td>\n",
       "      <td>8562.224306</td>\n",
       "      <td>8533.223049</td>\n",
       "      <td>8547.647486</td>\n",
       "      <td>35.615632</td>\n",
       "      <td>300510.2071</td>\n",
       "      <td>8547.594042</td>\n",
       "      <td>12603.49354</td>\n",
       "      <td>433909.3344</td>\n",
       "      <td>2087.647258</td>\n",
       "      <td>1181.0</td>\n",
       "      <td>0.0</td>\n",
       "      <td>-1.0</td>\n",
       "      <td>-1.0</td>\n",
       "      <td>0.4</td>\n",
       "      <td>0.4</td>\n",
       "      <td>0.31795</td>\n",
       "    </tr>\n",
       "    <tr>\n",
       "      <th>3</th>\n",
       "      <td>8547.864403</td>\n",
       "      <td>8562.224306</td>\n",
       "      <td>8533.223049</td>\n",
       "      <td>8547.647486</td>\n",
       "      <td>35.615632</td>\n",
       "      <td>300510.2071</td>\n",
       "      <td>8547.594042</td>\n",
       "      <td>12603.49354</td>\n",
       "      <td>433909.3344</td>\n",
       "      <td>2087.647258</td>\n",
       "      <td>452.0</td>\n",
       "      <td>0.0</td>\n",
       "      <td>3.0</td>\n",
       "      <td>0.0</td>\n",
       "      <td>0.2</td>\n",
       "      <td>0.2</td>\n",
       "      <td>0.97540</td>\n",
       "    </tr>\n",
       "    <tr>\n",
       "      <th>4</th>\n",
       "      <td>8547.864403</td>\n",
       "      <td>8562.224306</td>\n",
       "      <td>8533.223049</td>\n",
       "      <td>8547.647486</td>\n",
       "      <td>35.615632</td>\n",
       "      <td>300510.2071</td>\n",
       "      <td>8547.594042</td>\n",
       "      <td>12603.49354</td>\n",
       "      <td>433909.3344</td>\n",
       "      <td>2087.647258</td>\n",
       "      <td>220.0</td>\n",
       "      <td>0.0</td>\n",
       "      <td>0.0</td>\n",
       "      <td>0.0</td>\n",
       "      <td>0.8</td>\n",
       "      <td>0.8</td>\n",
       "      <td>0.33696</td>\n",
       "    </tr>\n",
       "  </tbody>\n",
       "</table>\n",
       "</div>"
      ],
      "text/plain": [
       "          Open         High          Low        Close  Volume_(BTC)  \\\n",
       "0  8547.864403  8562.224306  8533.223049  8547.647486     35.615632   \n",
       "1  8547.864403  8562.224306  8533.223049  8547.647486     35.615632   \n",
       "2  8547.864403  8562.224306  8533.223049  8547.647486     35.615632   \n",
       "3  8547.864403  8562.224306  8533.223049  8547.647486     35.615632   \n",
       "4  8547.864403  8562.224306  8533.223049  8547.647486     35.615632   \n",
       "\n",
       "   Volume_(Currency)  Weighted_Price      Average   Volatility           SD  \\\n",
       "0        300510.2071     8547.594042  12603.49354  433909.3344  2087.647258   \n",
       "1        300510.2071     8547.594042  12603.49354  433909.3344  2087.647258   \n",
       "2        300510.2071     8547.594042  12603.49354  433909.3344  2087.647258   \n",
       "3        300510.2071     8547.594042  12603.49354  433909.3344  2087.647258   \n",
       "4        300510.2071     8547.594042  12603.49354  433909.3344  2087.647258   \n",
       "\n",
       "   publisherLabel  Mark  publisher_L  author_L  score_sentiment  \\\n",
       "0            96.0   0.0          3.0      -1.0              0.4   \n",
       "1           146.0   0.0          3.0       0.0              0.1   \n",
       "2          1181.0   0.0         -1.0      -1.0              0.4   \n",
       "3           452.0   0.0          3.0       0.0              0.2   \n",
       "4           220.0   0.0          0.0       0.0              0.8   \n",
       "\n",
       "   magnitude_sentiment    tfidf  \n",
       "0                  0.4  0.31545  \n",
       "1                  0.1  0.49858  \n",
       "2                  0.4  0.31795  \n",
       "3                  0.2  0.97540  \n",
       "4                  0.8  0.33696  "
      ]
     },
     "execution_count": 5,
     "metadata": {},
     "output_type": "execute_result"
    }
   ],
   "source": [
    "# right now only concerned about numerical values for k-means generation\n",
    "\n",
    "data = data.select_dtypes(include=['int', 'float64'])\n",
    "data.head()"
   ]
  },
  {
   "cell_type": "markdown",
   "metadata": {
    "collapsed": true,
    "slideshow": {
     "slide_type": "subslide"
    }
   },
   "source": [
    "We notice some interesting trends and we want to visualize those trends"
   ]
  },
  {
   "cell_type": "code",
   "execution_count": 6,
   "metadata": {
    "scrolled": true,
    "slideshow": {
     "slide_type": "slide"
    }
   },
   "outputs": [
    {
     "data": {
      "image/png": "[encoded data removed]",
      "text/plain": [
       "<Figure size 432x288 with 1 Axes>"
      ]
     },
     "metadata": {
      "needs_background": "light"
     },
     "output_type": "display_data"
    }
   ],
   "source": [
    "# plot the data to see what it looks like\n",
    "\n",
    "plt.scatter(data[\"High\"], data[\"Volatility\"], alpha = 0.3)\n",
    "plt.show()"
   ]
  },
  {
   "cell_type": "code",
   "execution_count": 7,
   "metadata": {
    "slideshow": {
     "slide_type": "slide"
    }
   },
   "outputs": [
    {
     "data": {
      "image/png": "[encoded data removed]",
      "text/plain": [
       "<Figure size 432x288 with 1 Axes>"
      ]
     },
     "metadata": {
      "needs_background": "light"
     },
     "output_type": "display_data"
    }
   ],
   "source": [
    "plt.scatter(data[\"Average\"], data[\"Volatility\"], alpha = 0.3)\n",
    "plt.show()"
   ]
  },
  {
   "cell_type": "code",
   "execution_count": 8,
   "metadata": {
    "slideshow": {
     "slide_type": "slide"
    }
   },
   "outputs": [
    {
     "data": {
      "image/png": "[encoded data removed]",
      "text/plain": [
       "<Figure size 432x288 with 1 Axes>"
      ]
     },
     "metadata": {
      "needs_background": "light"
     },
     "output_type": "display_data"
    }
   ],
   "source": [
    "plt.scatter(data[\"Average\"], data[\"score_sentiment\"], alpha=0.3)\n",
    "plt.show()"
   ]
  },
  {
   "cell_type": "code",
   "execution_count": 9,
   "metadata": {
    "slideshow": {
     "slide_type": "slide"
    }
   },
   "outputs": [
    {
     "data": {
      "image/png": "[encoded data removed]",
      "text/plain": [
       "<Figure size 432x288 with 1 Axes>"
      ]
     },
     "metadata": {
      "needs_background": "light"
     },
     "output_type": "display_data"
    }
   ],
   "source": [
    "plt.scatter(data[\"Average\"], data[\"tfidf\"], alpha=0.3)\n",
    "plt.show()"
   ]
  },
  {
   "cell_type": "markdown",
   "metadata": {
    "slideshow": {
     "slide_type": "slide"
    }
   },
   "source": [
    "## K-Means Classification\n",
    "\n",
    "We construct a classifier that only considers the integer / float columns of the dataframe, and runs k-means to classify the data into 3 groups. From these 3 groups, we can group them into expected price increase, expected price decrease, and no expected price change."
   ]
  },
  {
   "cell_type": "code",
   "execution_count": 10,
   "metadata": {
    "slideshow": {
     "slide_type": "notes"
    }
   },
   "outputs": [],
   "source": [
    "from sklearn.cluster import KMeans\n",
    "from sklearn.model_selection import train_test_split"
   ]
  },
  {
   "cell_type": "markdown",
   "metadata": {
    "slideshow": {
     "slide_type": "subslide"
    }
   },
   "source": [
    "First we construct a y-value based on the price change of the day. If the price change is less than $0.10, we consider it negligible."
   ]
  },
  {
   "cell_type": "code",
   "execution_count": 11,
   "metadata": {
    "slideshow": {
     "slide_type": "notes"
    }
   },
   "outputs": [
    {
     "name": "stdout",
     "output_type": "stream",
     "text": [
      "(array([2024, 2025, 2026, ..., 7051, 7052, 7053]),)\n",
      "(array([   0,    1,    2, ..., 6813, 6814, 6815]),)\n",
      "(array([2949, 2950, 2951, 2952, 2953, 2954, 2955, 2956, 2957, 2958, 2959,\n",
      "       2960, 2961, 2962, 2963, 2964, 2965, 2966, 2967, 2968, 2969, 2970,\n",
      "       2971, 2972, 2973, 2974, 2975, 2976, 2977, 2978, 2979, 2980, 2981,\n",
      "       2982, 2983, 2984, 2985, 2986, 2987, 2988, 2989, 2990, 2991, 2992,\n",
      "       2993, 2994, 2995, 2996, 2997, 2998, 2999, 3000, 3001, 3002, 3003,\n",
      "       3004, 3005, 3006, 3007, 3008, 3009, 3010, 3011, 3012, 3013, 3014,\n",
      "       3015, 3016, 3017, 3018, 3019, 3020, 3021, 3022, 3023, 3024, 3025,\n",
      "       3026, 3027, 3028, 3029, 3030, 3031, 3032, 3033, 3034, 3035, 3036,\n",
      "       3037, 3038, 3039, 3040, 3041, 3042, 3043, 3044, 3045, 3046, 3047,\n",
      "       3048, 3049, 3050, 3051, 3052, 3053, 3054, 3055, 3056, 3057, 3058,\n",
      "       3059, 3060, 3061, 3062, 3063, 3064, 3065, 3066, 3067, 3068, 3069,\n",
      "       3070, 3071, 3072, 3073, 3074, 3075, 3076, 3077, 3078, 3079, 3080,\n",
      "       3081, 3082, 3083, 3084, 3085, 3086, 3087, 3088, 3089, 3090, 3091,\n",
      "       3092, 3093, 3094, 3095, 3096, 3097, 3098, 3099, 3100, 3101, 3102,\n",
      "       3103, 3104, 3105, 3106, 3107, 3108, 3109, 3110, 3111, 3112, 3113,\n",
      "       3114, 3115, 3116, 3117, 3118, 3119, 3120, 3121, 3122, 3123, 3124,\n",
      "       3125, 3126, 3127, 3128, 3129, 3130, 3131, 3132, 3133, 3134, 3135,\n",
      "       3136, 3137, 3138, 3139, 3140, 3141, 3142, 3143, 3144, 3145, 3146,\n",
      "       3147, 3148, 3149, 3150, 3151, 3152, 3153, 3154, 3155, 3156, 3157,\n",
      "       3158, 3159, 3160, 3161, 3162, 3163, 3164, 3165, 3166, 3167, 3168,\n",
      "       3169, 3170, 3171, 3172, 3173, 3174, 3175, 3176, 3177, 3178, 3179,\n",
      "       3180, 3181, 3182, 3183, 3184, 3185, 3186, 3187, 3188, 3189, 3190,\n",
      "       3191, 3192, 3193, 3194, 3195, 3196, 3197, 3198, 3199, 3200, 3201,\n",
      "       3202]),)\n"
     ]
    }
   ],
   "source": [
    "price_change = data['Close'] - data['Open']\n",
    "price_change = price_change.map(lambda x: 0 if abs(x) > 0.1 else np.sign(x))\n",
    "print(np.where(price_change == -1))\n",
    "print(np.where(price_change == 0))\n",
    "print(np.where(price_change == 1))"
   ]
  },
  {
   "cell_type": "code",
   "execution_count": 12,
   "metadata": {},
   "outputs": [
    {
     "data": {
      "text/html": [
       "<div>\n",
       "<style scoped>\n",
       "    .dataframe tbody tr th:only-of-type {\n",
       "        vertical-align: middle;\n",
       "    }\n",
       "\n",
       "    .dataframe tbody tr th {\n",
       "        vertical-align: top;\n",
       "    }\n",
       "\n",
       "    .dataframe thead th {\n",
       "        text-align: right;\n",
       "    }\n",
       "</style>\n",
       "<table border=\"1\" class=\"dataframe\">\n",
       "  <thead>\n",
       "    <tr style=\"text-align: right;\">\n",
       "      <th></th>\n",
       "      <th>Open</th>\n",
       "      <th>High</th>\n",
       "      <th>Low</th>\n",
       "      <th>Close</th>\n",
       "      <th>Volume_(BTC)</th>\n",
       "      <th>Volume_(Currency)</th>\n",
       "      <th>Weighted_Price</th>\n",
       "      <th>Average</th>\n",
       "      <th>Volatility</th>\n",
       "      <th>SD</th>\n",
       "      <th>publisherLabel</th>\n",
       "      <th>Mark</th>\n",
       "      <th>publisher_L</th>\n",
       "      <th>author_L</th>\n",
       "      <th>score_sentiment</th>\n",
       "      <th>magnitude_sentiment</th>\n",
       "      <th>tfidf</th>\n",
       "    </tr>\n",
       "  </thead>\n",
       "  <tbody>\n",
       "    <tr>\n",
       "      <th>0</th>\n",
       "      <td>8547.864403</td>\n",
       "      <td>8562.224306</td>\n",
       "      <td>8533.223049</td>\n",
       "      <td>8547.647486</td>\n",
       "      <td>35.615632</td>\n",
       "      <td>300510.2071</td>\n",
       "      <td>8547.594042</td>\n",
       "      <td>12603.49354</td>\n",
       "      <td>433909.3344</td>\n",
       "      <td>2087.647258</td>\n",
       "      <td>96.0</td>\n",
       "      <td>0.0</td>\n",
       "      <td>3.0</td>\n",
       "      <td>-1.0</td>\n",
       "      <td>0.4</td>\n",
       "      <td>0.4</td>\n",
       "      <td>0.31545</td>\n",
       "    </tr>\n",
       "    <tr>\n",
       "      <th>1</th>\n",
       "      <td>8547.864403</td>\n",
       "      <td>8562.224306</td>\n",
       "      <td>8533.223049</td>\n",
       "      <td>8547.647486</td>\n",
       "      <td>35.615632</td>\n",
       "      <td>300510.2071</td>\n",
       "      <td>8547.594042</td>\n",
       "      <td>12603.49354</td>\n",
       "      <td>433909.3344</td>\n",
       "      <td>2087.647258</td>\n",
       "      <td>146.0</td>\n",
       "      <td>0.0</td>\n",
       "      <td>3.0</td>\n",
       "      <td>0.0</td>\n",
       "      <td>0.1</td>\n",
       "      <td>0.1</td>\n",
       "      <td>0.49858</td>\n",
       "    </tr>\n",
       "    <tr>\n",
       "      <th>2</th>\n",
       "      <td>8547.864403</td>\n",
       "      <td>8562.224306</td>\n",
       "      <td>8533.223049</td>\n",
       "      <td>8547.647486</td>\n",
       "      <td>35.615632</td>\n",
       "      <td>300510.2071</td>\n",
       "      <td>8547.594042</td>\n",
       "      <td>12603.49354</td>\n",
       "      <td>433909.3344</td>\n",
       "      <td>2087.647258</td>\n",
       "      <td>1181.0</td>\n",
       "      <td>0.0</td>\n",
       "      <td>-1.0</td>\n",
       "      <td>-1.0</td>\n",
       "      <td>0.4</td>\n",
       "      <td>0.4</td>\n",
       "      <td>0.31795</td>\n",
       "    </tr>\n",
       "    <tr>\n",
       "      <th>3</th>\n",
       "      <td>8547.864403</td>\n",
       "      <td>8562.224306</td>\n",
       "      <td>8533.223049</td>\n",
       "      <td>8547.647486</td>\n",
       "      <td>35.615632</td>\n",
       "      <td>300510.2071</td>\n",
       "      <td>8547.594042</td>\n",
       "      <td>12603.49354</td>\n",
       "      <td>433909.3344</td>\n",
       "      <td>2087.647258</td>\n",
       "      <td>452.0</td>\n",
       "      <td>0.0</td>\n",
       "      <td>3.0</td>\n",
       "      <td>0.0</td>\n",
       "      <td>0.2</td>\n",
       "      <td>0.2</td>\n",
       "      <td>0.97540</td>\n",
       "    </tr>\n",
       "    <tr>\n",
       "      <th>4</th>\n",
       "      <td>8547.864403</td>\n",
       "      <td>8562.224306</td>\n",
       "      <td>8533.223049</td>\n",
       "      <td>8547.647486</td>\n",
       "      <td>35.615632</td>\n",
       "      <td>300510.2071</td>\n",
       "      <td>8547.594042</td>\n",
       "      <td>12603.49354</td>\n",
       "      <td>433909.3344</td>\n",
       "      <td>2087.647258</td>\n",
       "      <td>220.0</td>\n",
       "      <td>0.0</td>\n",
       "      <td>0.0</td>\n",
       "      <td>0.0</td>\n",
       "      <td>0.8</td>\n",
       "      <td>0.8</td>\n",
       "      <td>0.33696</td>\n",
       "    </tr>\n",
       "  </tbody>\n",
       "</table>\n",
       "</div>"
      ],
      "text/plain": [
       "          Open         High          Low        Close  Volume_(BTC)  \\\n",
       "0  8547.864403  8562.224306  8533.223049  8547.647486     35.615632   \n",
       "1  8547.864403  8562.224306  8533.223049  8547.647486     35.615632   \n",
       "2  8547.864403  8562.224306  8533.223049  8547.647486     35.615632   \n",
       "3  8547.864403  8562.224306  8533.223049  8547.647486     35.615632   \n",
       "4  8547.864403  8562.224306  8533.223049  8547.647486     35.615632   \n",
       "\n",
       "   Volume_(Currency)  Weighted_Price      Average   Volatility           SD  \\\n",
       "0        300510.2071     8547.594042  12603.49354  433909.3344  2087.647258   \n",
       "1        300510.2071     8547.594042  12603.49354  433909.3344  2087.647258   \n",
       "2        300510.2071     8547.594042  12603.49354  433909.3344  2087.647258   \n",
       "3        300510.2071     8547.594042  12603.49354  433909.3344  2087.647258   \n",
       "4        300510.2071     8547.594042  12603.49354  433909.3344  2087.647258   \n",
       "\n",
       "   publisherLabel  Mark  publisher_L  author_L  score_sentiment  \\\n",
       "0            96.0   0.0          3.0      -1.0              0.4   \n",
       "1           146.0   0.0          3.0       0.0              0.1   \n",
       "2          1181.0   0.0         -1.0      -1.0              0.4   \n",
       "3           452.0   0.0          3.0       0.0              0.2   \n",
       "4           220.0   0.0          0.0       0.0              0.8   \n",
       "\n",
       "   magnitude_sentiment    tfidf  \n",
       "0                  0.4  0.31545  \n",
       "1                  0.1  0.49858  \n",
       "2                  0.4  0.31795  \n",
       "3                  0.2  0.97540  \n",
       "4                  0.8  0.33696  "
      ]
     },
     "execution_count": 12,
     "metadata": {},
     "output_type": "execute_result"
    }
   ],
   "source": [
    "data.head()"
   ]
  },
  {
   "cell_type": "markdown",
   "metadata": {
    "slideshow": {
     "slide_type": "slide"
    }
   },
   "source": [
    "Here we split our data into training and validation sets, allocating 20% of our data to validation."
   ]
  },
  {
   "cell_type": "code",
   "execution_count": 13,
   "metadata": {
    "slideshow": {
     "slide_type": "subslide"
    }
   },
   "outputs": [],
   "source": [
    "X_train, X_validation, Y_train, Y_validation = train_test_split(data, price_change, test_size = 0.2, random_state = 42)"
   ]
  },
  {
   "cell_type": "markdown",
   "metadata": {
    "slideshow": {
     "slide_type": "subslide"
    }
   },
   "source": [
    "Now we run K-means clustering for 3 clusters (positive price change, negative price change, no price change), with a tolerance level of 0.1"
   ]
  },
  {
   "cell_type": "code",
   "execution_count": 14,
   "metadata": {
    "scrolled": true,
    "slideshow": {
     "slide_type": "subslide"
    }
   },
   "outputs": [],
   "source": [
    "kmeans = KMeans(n_clusters=3, tol = 0.1, random_state=0).fit(X_train)"
   ]
  },
  {
   "cell_type": "markdown",
   "metadata": {
    "slideshow": {
     "slide_type": "subslide"
    }
   },
   "source": [
    "Below we have listed the median features of data in the predicted positive price change group, negatived price change group, and zero price group."
   ]
  },
  {
   "cell_type": "code",
   "execution_count": 15,
   "metadata": {
    "scrolled": true,
    "slideshow": {
     "slide_type": "notes"
    }
   },
   "outputs": [
    {
     "data": {
      "text/plain": [
       "array([[ 8.47919408e+03,  8.48388885e+03,  8.47422870e+03,\n",
       "         8.47913558e+03,  1.54835088e+01,  1.30156784e+05,\n",
       "         8.47905796e+03,  1.00457292e+04,  2.02840850e+05,\n",
       "         9.75918493e+02,  6.12595448e+02, -1.77809388e-01,\n",
       "         1.43385491e+00,  4.73115220e-01,  7.40256055e-02,\n",
       "         4.07226177e-01,  3.99986344e-01],\n",
       "       [ 8.15262331e+03,  8.16477520e+03,  8.13963862e+03,\n",
       "         8.15230895e+03,  3.18621865e+01,  2.52402360e+05,\n",
       "         8.15215734e+03,  1.18556841e+04,  4.39195364e+05,\n",
       "         2.11307968e+03,  6.11130496e+02, -2.60283688e-01,\n",
       "         1.38794326e+00,  4.00000000e-01,  3.85106394e-02,\n",
       "         3.15815606e-01,  4.26833376e-01],\n",
       "       [ 6.80692745e+03,  6.82641754e+03,  6.78671244e+03,\n",
       "         6.80727360e+03,  6.34210829e+01,  4.32929362e+05,\n",
       "         6.80665160e+03,  1.15929766e+04,  4.44376688e+05,\n",
       "         2.13800834e+03,  6.14651811e+02,  2.08166817e-15,\n",
       "         1.46239554e+00,  5.51532033e-01, -1.12813361e-02,\n",
       "         3.38161563e-01,  4.06753315e-01]])"
      ]
     },
     "execution_count": 15,
     "metadata": {},
     "output_type": "execute_result"
    }
   ],
   "source": [
    "kmeans.cluster_centers_"
   ]
  },
  {
   "cell_type": "markdown",
   "metadata": {
    "slideshow": {
     "slide_type": "notes"
    }
   },
   "source": [
    "Our training accuracy is as shown below."
   ]
  },
  {
   "cell_type": "code",
   "execution_count": 16,
   "metadata": {
    "slideshow": {
     "slide_type": "notes"
    }
   },
   "outputs": [],
   "source": [
    "from sklearn.metrics import accuracy_score"
   ]
  },
  {
   "cell_type": "code",
   "execution_count": 17,
   "metadata": {
    "slideshow": {
     "slide_type": "notes"
    }
   },
   "outputs": [
    {
     "name": "stdout",
     "output_type": "stream",
     "text": [
      "[282, 1128, 0]\n"
     ]
    },
    {
     "data": {
      "text/plain": [
       "0"
      ]
     },
     "execution_count": 17,
     "metadata": {},
     "output_type": "execute_result"
    }
   ],
   "source": [
    "Y_training_predictions = kmeans.predict(X_train)\n",
    "\n",
    "# for each cluser, find count of labels 1, 0 , -1\n",
    "# label cluster as max of count of labels\n",
    "\n",
    "clusters = [0, 1, 2]\n",
    "\n",
    "clusterA = np.where(Y_training_predictions == 0)\n",
    "clusterB = np.where(Y_training_predictions == 1)\n",
    "clusterC = np.where(Y_training_predictions == 2)\n",
    "\n",
    "# C = no_Change\n",
    "# A = up\n",
    "# B = up\n",
    "\n",
    "clusterA = clusterB\n",
    "\n",
    "X_train.iloc[clusterA]\n",
    "Y_train.iloc[clusterA]\n",
    "\n",
    "# print(type(np.where(Y_train.iloc[clusterA] == -1)))\n",
    "predict_down = np.where(Y_train.iloc[clusterA] == -1)[0]\n",
    "predict_up = np.where(Y_train.iloc[clusterA] == 1)[0]\n",
    "predict_zero = np.where(Y_train.iloc[clusterA] == 0)[0]\n",
    "\n",
    "print([len(predict_down), len(predict_zero), len(predict_up)])\n",
    "predicted_class = np.argmax([len(predict_down), len(predict_zero), len(predict_up)]) - 1\n",
    "predicted_class\n",
    "\n",
    "\n",
    "# accuracy_score(X_train)"
   ]
  },
  {
   "cell_type": "code",
   "execution_count": 18,
   "metadata": {
    "slideshow": {
     "slide_type": "notes"
    }
   },
   "outputs": [
    {
     "name": "stdout",
     "output_type": "stream",
     "text": [
      "KMeans Cluster (array([   0,    2,    3, ..., 5639, 5640, 5641]),) is predicted no change\n",
      "KMeans Cluster (array([   1,    5,    7, ..., 5626, 5634, 5642]),) is predicted no change\n",
      "KMeans Cluster (array([   4,   10,   14,   16,   18,   29,   41,   61,   67,   78,  108,\n",
      "        119,  134,  144,  155,  159,  161,  163,  167,  172,  185,  190,\n",
      "        191,  200,  208,  212,  215,  221,  222,  238,  243,  247,  260,\n",
      "        275,  295,  302,  306,  315,  317,  319,  322,  334,  339,  360,\n",
      "        372,  386,  391,  398,  415,  422,  431,  435,  468,  492,  497,\n",
      "        505,  508,  510,  525,  526,  548,  551,  557,  560,  564,  565,\n",
      "        573,  578,  588,  601,  607,  609,  610,  617,  625,  635,  639,\n",
      "        648,  653,  654,  656,  664,  666,  673,  675,  679,  696,  705,\n",
      "        706,  712,  717,  719,  721,  733,  736,  743,  759,  760,  769,\n",
      "        792,  799,  807,  819,  826,  842,  847,  867,  870,  874,  882,\n",
      "        884,  895,  901,  903,  905,  923,  943,  955,  957,  972,  985,\n",
      "        993,  996,  999, 1007, 1015, 1023, 1025, 1028, 1041, 1051, 1063,\n",
      "       1070, 1076, 1083, 1101, 1131, 1132, 1134, 1151, 1156, 1157, 1164,\n",
      "       1170, 1186, 1206, 1211, 1214, 1215, 1224, 1232, 1235, 1237, 1244,\n",
      "       1255, 1259, 1276, 1278, 1281, 1284, 1295, 1301, 1302, 1307, 1323,\n",
      "       1324, 1336, 1351, 1383, 1402, 1417, 1423, 1430, 1434, 1438, 1442,\n",
      "       1443, 1451, 1460, 1466, 1479, 1483, 1487, 1499, 1511, 1512, 1517,\n",
      "       1519, 1522, 1524, 1529, 1531, 1537, 1570, 1603, 1604, 1606, 1611,\n",
      "       1641, 1646, 1661, 1669, 1674, 1687, 1689, 1693, 1698, 1706, 1710,\n",
      "       1719, 1720, 1746, 1752, 1753, 1766, 1770, 1772, 1782, 1824, 1829,\n",
      "       1839, 1855, 1865, 1882, 1884, 1885, 1886, 1889, 1890, 1892, 1898,\n",
      "       1906, 1910, 1911, 1922, 1923, 1926, 1927, 1930, 1943, 1948, 1959,\n",
      "       1962, 1966, 1983, 1985, 1986, 1994, 1998, 2012, 2013, 2014, 2017,\n",
      "       2034, 2038, 2041, 2050, 2061, 2063, 2066, 2067, 2072, 2090, 2111,\n",
      "       2114, 2115, 2119, 2126, 2134, 2156, 2157, 2163, 2168, 2170, 2187,\n",
      "       2191, 2199, 2203, 2214, 2215, 2224, 2227, 2229, 2231, 2236, 2251,\n",
      "       2255, 2289, 2293, 2298, 2304, 2307, 2318, 2321, 2327, 2329, 2331,\n",
      "       2350, 2366, 2368, 2373, 2380, 2381, 2393, 2406, 2408, 2409, 2416,\n",
      "       2424, 2426, 2427, 2432, 2443, 2455, 2461, 2472, 2489, 2501, 2506,\n",
      "       2508, 2519, 2525, 2526, 2528, 2534, 2537, 2543, 2549, 2556, 2567,\n",
      "       2568, 2570, 2574, 2579, 2584, 2594, 2601, 2613, 2622, 2626, 2627,\n",
      "       2641, 2645, 2653, 2661, 2662, 2676, 2683, 2684, 2692, 2696, 2704,\n",
      "       2709, 2711, 2718, 2720, 2744, 2752, 2761, 2773, 2780, 2785, 2796,\n",
      "       2812, 2817, 2825, 2834, 2842, 2846, 2859, 2872, 2874, 2885, 2886,\n",
      "       2893, 2899, 2904, 2914, 2916, 2919, 2922, 2934, 2936, 2940, 2942,\n",
      "       2947, 2951, 2958, 2981, 2985, 2987, 2990, 2992, 3009, 3016, 3024,\n",
      "       3028, 3036, 3043, 3092, 3102, 3115, 3157, 3173, 3181, 3182, 3187,\n",
      "       3195, 3196, 3198, 3204, 3209, 3212, 3217, 3234, 3238, 3254, 3265,\n",
      "       3269, 3270, 3275, 3280, 3284, 3315, 3318, 3328, 3343, 3345, 3346,\n",
      "       3351, 3355, 3362, 3370, 3373, 3375, 3385, 3395, 3396, 3397, 3399,\n",
      "       3405, 3413, 3415, 3446, 3447, 3461, 3471, 3474, 3481, 3482, 3486,\n",
      "       3499, 3514, 3516, 3518, 3521, 3531, 3536, 3542, 3551, 3555, 3557,\n",
      "       3560, 3561, 3563, 3564, 3571, 3574, 3578, 3607, 3628, 3630, 3634,\n",
      "       3636, 3640, 3642, 3651, 3665, 3673, 3679, 3703, 3707, 3711, 3721,\n",
      "       3726, 3738, 3746, 3752, 3765, 3766, 3786, 3789, 3793, 3794, 3825,\n",
      "       3854, 3860, 3863, 3866, 3877, 3879, 3881, 3882, 3903, 3906, 3911,\n",
      "       3916, 3929, 3940, 3941, 3945, 3951, 3952, 3954, 3955, 3969, 3970,\n",
      "       3971, 3977, 3986, 3990, 3994, 4012, 4023, 4024, 4039, 4048, 4064,\n",
      "       4068, 4078, 4103, 4110, 4123, 4134, 4138, 4143, 4145, 4152, 4156,\n",
      "       4168, 4177, 4187, 4205, 4207, 4224, 4230, 4233, 4241, 4244, 4263,\n",
      "       4283, 4284, 4315, 4319, 4341, 4363, 4369, 4373, 4374, 4379, 4399,\n",
      "       4418, 4434, 4437, 4444, 4449, 4456, 4460, 4466, 4470, 4480, 4481,\n",
      "       4493, 4508, 4513, 4514, 4519, 4524, 4526, 4531, 4540, 4541, 4542,\n",
      "       4552, 4581, 4590, 4595, 4600, 4602, 4610, 4613, 4617, 4623, 4624,\n",
      "       4638, 4656, 4673, 4675, 4688, 4693, 4696, 4704, 4730, 4731, 4734,\n",
      "       4735, 4742, 4747, 4753, 4761, 4764, 4779, 4781, 4783, 4790, 4804,\n",
      "       4811, 4812, 4818, 4837, 4846, 4852, 4858, 4863, 4873, 4883, 4884,\n",
      "       4887, 4889, 4890, 4910, 4913, 4914, 4915, 4918, 4921, 4922, 4929,\n",
      "       4930, 4935, 4938, 4947, 4956, 4970, 4979, 5000, 5002, 5015, 5024,\n",
      "       5048, 5052, 5064, 5067, 5078, 5099, 5104, 5119, 5121, 5122, 5158,\n",
      "       5162, 5169, 5174, 5189, 5199, 5203, 5209, 5213, 5224, 5242, 5264,\n",
      "       5274, 5278, 5281, 5305, 5307, 5311, 5316, 5318, 5344, 5350, 5353,\n",
      "       5354, 5359, 5360, 5365, 5369, 5374, 5388, 5391, 5408, 5411, 5415,\n",
      "       5423, 5433, 5439, 5446, 5447, 5457, 5464, 5470, 5473, 5480, 5494,\n",
      "       5522, 5545, 5552, 5559, 5567, 5568, 5575, 5578, 5595, 5597, 5598,\n",
      "       5603, 5616, 5625]),) is predicted no change\n"
     ]
    }
   ],
   "source": [
    "Y_training_predictions = kmeans.predict(X_train)\n",
    "\n",
    "# for each cluser, find count of labels 1, 0 , -1\n",
    "# label cluster as max of count of labels\n",
    "\n",
    "group_number = [0, 1, 2]\n",
    "\n",
    "for group_id in group_number:\n",
    "    cluster = np.where(Y_training_predictions == group_id)\n",
    "\n",
    "    X_train.iloc[cluster]\n",
    "    Y_train.iloc[cluster]\n",
    "\n",
    "    predict_down = np.where(Y_train.iloc[cluster] == -1)[0]\n",
    "    predict_up = np.where(Y_train.iloc[cluster] == 1)[0]\n",
    "    predict_zero = np.where(Y_train.iloc[cluster] == 0)[0]\n",
    "\n",
    "    predicted_class = np.argmax([len(predict_down), len(predict_zero), len(predict_up)]) - 1\n",
    "    predicted_string = lambda predicted_class: \"up\" if predicted_class == 1 else (\"down\" if predicted_class == -1 else \"no change\")\n",
    "    print(\"KMeans Cluster \" + str(cluster) + \" is predicted \" + predicted_string(predicted_class))\n",
    "\n",
    "\n",
    "# accuracy_score(X_train)"
   ]
  },
  {
   "cell_type": "markdown",
   "metadata": {
    "slideshow": {
     "slide_type": "slide"
    }
   },
   "source": [
    "Our validation score is as shown below."
   ]
  },
  {
   "cell_type": "code",
   "execution_count": 19,
   "metadata": {
    "slideshow": {
     "slide_type": "subslide"
    }
   },
   "outputs": [
    {
     "data": {
      "text/plain": [
       "-2560904540356.089"
      ]
     },
     "execution_count": 19,
     "metadata": {},
     "output_type": "execute_result"
    }
   ],
   "source": [
    "Y_validation_prediction = kmeans.predict(X_validation)\n",
    "kmeans.score(X_validation)"
   ]
  }
 ],
 "metadata": {
  "celltoolbar": "Slideshow",
  "kernelspec": {
   "display_name": "Python 3",
   "language": "python",
   "name": "python3"
  },
  "language_info": {
   "codemirror_mode": {
    "name": "ipython",
    "version": 3
   },
   "file_extension": ".py",
   "mimetype": "text/x-python",
   "name": "python",
   "nbconvert_exporter": "python",
   "pygments_lexer": "ipython3",
   "version": "3.7.2"
  }
 },
 "nbformat": 4,
 "nbformat_minor": 2
}
