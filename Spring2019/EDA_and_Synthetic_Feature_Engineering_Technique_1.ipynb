{
 "cells": [
  {
   "cell_type": "code",
   "execution_count": 1,
   "metadata": {
    "slideshow": {
     "slide_type": "notes"
    }
   },
   "outputs": [],
   "source": [
    "#import packages and datasets"
   ]
  },
  {
   "cell_type": "code",
   "execution_count": 2,
   "metadata": {
    "slideshow": {
     "slide_type": "notes"
    }
   },
   "outputs": [],
   "source": [
    "#!pip install featuretools\n",
    "import numpy as np\n",
    "import pandas as pd\n",
    "import matplotlib.pyplot as plt\n",
    "import seaborn as sns\n",
    "import featuretools as ft"
   ]
  },
  {
   "cell_type": "code",
   "execution_count": 25,
   "metadata": {
    "slideshow": {
     "slide_type": "slide"
    }
   },
   "outputs": [
    {
     "data": {
      "text/plain": [
       "Index(['author', 'contents', 'description', 'publisher', 'source_url', 'title',\n",
       "       'date', 'time', 'Open', 'High', 'Low', 'Close', 'Volume_(BTC)',\n",
       "       'Volume_(Currency)', 'Weighted_Price', 'Average', 'Volatility', 'SD',\n",
       "       'publisherLabel', 'Mark', 'publisher_L', 'author_L', 'score_sentiment',\n",
       "       'magnitude_sentiment', 'tfidf', 'ID'],\n",
       "      dtype='object')"
      ]
     },
     "execution_count": 25,
     "metadata": {},
     "output_type": "execute_result"
    }
   ],
   "source": [
    "df = pd.read_csv('news_score.csv')\n",
    "df['ID'] = df.index\n",
    "df.head()\n",
    "df.columns"
   ]
  },
  {
   "cell_type": "code",
   "execution_count": 4,
   "metadata": {
    "slideshow": {
     "slide_type": "subslide"
    }
   },
   "outputs": [
    {
     "name": "stdout",
     "output_type": "stream",
     "text": [
      "<class 'pandas.core.frame.DataFrame'>\n",
      "RangeIndex: 7054 entries, 0 to 7053\n",
      "Data columns (total 26 columns):\n",
      "author                 7054 non-null object\n",
      "contents               7054 non-null object\n",
      "description            7054 non-null object\n",
      "publisher              7054 non-null object\n",
      "source_url             7054 non-null object\n",
      "title                  7054 non-null object\n",
      "date                   7054 non-null object\n",
      "time                   7054 non-null object\n",
      "Open                   7054 non-null float64\n",
      "High                   7054 non-null float64\n",
      "Low                    7054 non-null float64\n",
      "Close                  7054 non-null float64\n",
      "Volume_(BTC)           7054 non-null float64\n",
      "Volume_(Currency)      7054 non-null float64\n",
      "Weighted_Price         7054 non-null float64\n",
      "Average                7054 non-null float64\n",
      "Volatility             7054 non-null float64\n",
      "SD                     7054 non-null float64\n",
      "publisherLabel         7054 non-null float64\n",
      "Mark                   7054 non-null float64\n",
      "publisher_L            7054 non-null float64\n",
      "author_L               7054 non-null float64\n",
      "score_sentiment        7054 non-null float64\n",
      "magnitude_sentiment    7054 non-null float64\n",
      "tfidf                  7054 non-null float64\n",
      "ID                     7054 non-null int64\n",
      "dtypes: float64(17), int64(1), object(8)\n",
      "memory usage: 1.4+ MB\n"
     ]
    }
   ],
   "source": [
    "df.info()"
   ]
  },
  {
   "cell_type": "code",
   "execution_count": 5,
   "metadata": {
    "slideshow": {
     "slide_type": "subslide"
    }
   },
   "outputs": [
    {
     "data": {
      "text/html": [
       "<div>\n",
       "<style scoped>\n",
       "    .dataframe tbody tr th:only-of-type {\n",
       "        vertical-align: middle;\n",
       "    }\n",
       "\n",
       "    .dataframe tbody tr th {\n",
       "        vertical-align: top;\n",
       "    }\n",
       "\n",
       "    .dataframe thead th {\n",
       "        text-align: right;\n",
       "    }\n",
       "</style>\n",
       "<table border=\"1\" class=\"dataframe\">\n",
       "  <thead>\n",
       "    <tr style=\"text-align: right;\">\n",
       "      <th></th>\n",
       "      <th>Open</th>\n",
       "      <th>High</th>\n",
       "      <th>Low</th>\n",
       "      <th>Close</th>\n",
       "      <th>Volume_(BTC)</th>\n",
       "      <th>Volume_(Currency)</th>\n",
       "      <th>Weighted_Price</th>\n",
       "      <th>Average</th>\n",
       "      <th>Volatility</th>\n",
       "      <th>SD</th>\n",
       "      <th>publisherLabel</th>\n",
       "      <th>Mark</th>\n",
       "      <th>publisher_L</th>\n",
       "      <th>author_L</th>\n",
       "      <th>score_sentiment</th>\n",
       "      <th>magnitude_sentiment</th>\n",
       "      <th>tfidf</th>\n",
       "      <th>ID</th>\n",
       "    </tr>\n",
       "  </thead>\n",
       "  <tbody>\n",
       "    <tr>\n",
       "      <th>count</th>\n",
       "      <td>7054.000000</td>\n",
       "      <td>7054.000000</td>\n",
       "      <td>7054.000000</td>\n",
       "      <td>7054.000000</td>\n",
       "      <td>7054.000000</td>\n",
       "      <td>7054.000000</td>\n",
       "      <td>7054.000000</td>\n",
       "      <td>7054.000000</td>\n",
       "      <td>7054.000000</td>\n",
       "      <td>7054.000000</td>\n",
       "      <td>7054.000000</td>\n",
       "      <td>7054.000000</td>\n",
       "      <td>7054.000000</td>\n",
       "      <td>7054.000000</td>\n",
       "      <td>7054.000000</td>\n",
       "      <td>7054.000000</td>\n",
       "      <td>7054.000000</td>\n",
       "      <td>7054.000000</td>\n",
       "    </tr>\n",
       "    <tr>\n",
       "      <th>mean</th>\n",
       "      <td>8182.139135</td>\n",
       "      <td>8190.604925</td>\n",
       "      <td>8173.207231</td>\n",
       "      <td>8182.071572</td>\n",
       "      <td>25.751414</td>\n",
       "      <td>199728.969814</td>\n",
       "      <td>8181.904584</td>\n",
       "      <td>10701.182909</td>\n",
       "      <td>293362.833360</td>\n",
       "      <td>1411.442590</td>\n",
       "      <td>615.735753</td>\n",
       "      <td>-0.175787</td>\n",
       "      <td>1.412815</td>\n",
       "      <td>0.465126</td>\n",
       "      <td>0.053884</td>\n",
       "      <td>0.375801</td>\n",
       "      <td>0.407626</td>\n",
       "      <td>3526.500000</td>\n",
       "    </tr>\n",
       "    <tr>\n",
       "      <th>std</th>\n",
       "      <td>682.239671</td>\n",
       "      <td>678.133716</td>\n",
       "      <td>686.505293</td>\n",
       "      <td>682.132607</td>\n",
       "      <td>16.902330</td>\n",
       "      <td>110347.430735</td>\n",
       "      <td>682.283876</td>\n",
       "      <td>894.026932</td>\n",
       "      <td>116731.998826</td>\n",
       "      <td>561.627091</td>\n",
       "      <td>378.364278</td>\n",
       "      <td>0.529577</td>\n",
       "      <td>1.579945</td>\n",
       "      <td>1.260539</td>\n",
       "      <td>0.481763</td>\n",
       "      <td>0.273717</td>\n",
       "      <td>0.186565</td>\n",
       "      <td>2036.458732</td>\n",
       "    </tr>\n",
       "    <tr>\n",
       "      <th>min</th>\n",
       "      <td>6806.927451</td>\n",
       "      <td>6826.417535</td>\n",
       "      <td>6786.712438</td>\n",
       "      <td>6807.273597</td>\n",
       "      <td>9.265880</td>\n",
       "      <td>74305.946820</td>\n",
       "      <td>6806.651598</td>\n",
       "      <td>9786.788157</td>\n",
       "      <td>180619.004500</td>\n",
       "      <td>869.003591</td>\n",
       "      <td>0.000000</td>\n",
       "      <td>-1.000000</td>\n",
       "      <td>-1.000000</td>\n",
       "      <td>-1.000000</td>\n",
       "      <td>-2.000000</td>\n",
       "      <td>-2.000000</td>\n",
       "      <td>0.157630</td>\n",
       "      <td>0.000000</td>\n",
       "    </tr>\n",
       "    <tr>\n",
       "      <th>25%</th>\n",
       "      <td>7905.440896</td>\n",
       "      <td>7917.342931</td>\n",
       "      <td>7892.443951</td>\n",
       "      <td>7905.416028</td>\n",
       "      <td>13.935292</td>\n",
       "      <td>121295.129200</td>\n",
       "      <td>7904.972491</td>\n",
       "      <td>10090.346930</td>\n",
       "      <td>192710.683500</td>\n",
       "      <td>927.179708</td>\n",
       "      <td>202.000000</td>\n",
       "      <td>0.000000</td>\n",
       "      <td>0.000000</td>\n",
       "      <td>-1.000000</td>\n",
       "      <td>-0.300000</td>\n",
       "      <td>0.200000</td>\n",
       "      <td>0.281280</td>\n",
       "      <td>1763.250000</td>\n",
       "    </tr>\n",
       "    <tr>\n",
       "      <th>50%</th>\n",
       "      <td>8310.115639</td>\n",
       "      <td>8313.456646</td>\n",
       "      <td>8306.793611</td>\n",
       "      <td>8310.097187</td>\n",
       "      <td>18.984345</td>\n",
       "      <td>154043.483800</td>\n",
       "      <td>8310.129580</td>\n",
       "      <td>10130.017600</td>\n",
       "      <td>231620.464900</td>\n",
       "      <td>1114.384481</td>\n",
       "      <td>643.000000</td>\n",
       "      <td>0.000000</td>\n",
       "      <td>2.000000</td>\n",
       "      <td>0.000000</td>\n",
       "      <td>0.000000</td>\n",
       "      <td>0.300000</td>\n",
       "      <td>0.329700</td>\n",
       "      <td>3526.500000</td>\n",
       "    </tr>\n",
       "    <tr>\n",
       "      <th>75%</th>\n",
       "      <td>8617.131229</td>\n",
       "      <td>8620.755771</td>\n",
       "      <td>8613.696326</td>\n",
       "      <td>8617.348722</td>\n",
       "      <td>35.615632</td>\n",
       "      <td>297975.902000</td>\n",
       "      <td>8617.210484</td>\n",
       "      <td>11592.976650</td>\n",
       "      <td>437801.267600</td>\n",
       "      <td>2106.372331</td>\n",
       "      <td>967.000000</td>\n",
       "      <td>0.000000</td>\n",
       "      <td>3.000000</td>\n",
       "      <td>1.000000</td>\n",
       "      <td>0.400000</td>\n",
       "      <td>0.600000</td>\n",
       "      <td>0.491838</td>\n",
       "      <td>5289.750000</td>\n",
       "    </tr>\n",
       "    <tr>\n",
       "      <th>max</th>\n",
       "      <td>9435.828417</td>\n",
       "      <td>9441.771257</td>\n",
       "      <td>9429.061993</td>\n",
       "      <td>9435.448514</td>\n",
       "      <td>63.421083</td>\n",
       "      <td>432929.362400</td>\n",
       "      <td>9435.411315</td>\n",
       "      <td>12603.493540</td>\n",
       "      <td>452638.412200</td>\n",
       "      <td>2177.757576</td>\n",
       "      <td>1186.000000</td>\n",
       "      <td>1.000000</td>\n",
       "      <td>3.000000</td>\n",
       "      <td>3.000000</td>\n",
       "      <td>0.900000</td>\n",
       "      <td>0.900000</td>\n",
       "      <td>1.633640</td>\n",
       "      <td>7053.000000</td>\n",
       "    </tr>\n",
       "  </tbody>\n",
       "</table>\n",
       "</div>"
      ],
      "text/plain": [
       "              Open         High          Low        Close  Volume_(BTC)  \\\n",
       "count  7054.000000  7054.000000  7054.000000  7054.000000   7054.000000   \n",
       "mean   8182.139135  8190.604925  8173.207231  8182.071572     25.751414   \n",
       "std     682.239671   678.133716   686.505293   682.132607     16.902330   \n",
       "min    6806.927451  6826.417535  6786.712438  6807.273597      9.265880   \n",
       "25%    7905.440896  7917.342931  7892.443951  7905.416028     13.935292   \n",
       "50%    8310.115639  8313.456646  8306.793611  8310.097187     18.984345   \n",
       "75%    8617.131229  8620.755771  8613.696326  8617.348722     35.615632   \n",
       "max    9435.828417  9441.771257  9429.061993  9435.448514     63.421083   \n",
       "\n",
       "       Volume_(Currency)  Weighted_Price       Average     Volatility  \\\n",
       "count        7054.000000     7054.000000   7054.000000    7054.000000   \n",
       "mean       199728.969814     8181.904584  10701.182909  293362.833360   \n",
       "std        110347.430735      682.283876    894.026932  116731.998826   \n",
       "min         74305.946820     6806.651598   9786.788157  180619.004500   \n",
       "25%        121295.129200     7904.972491  10090.346930  192710.683500   \n",
       "50%        154043.483800     8310.129580  10130.017600  231620.464900   \n",
       "75%        297975.902000     8617.210484  11592.976650  437801.267600   \n",
       "max        432929.362400     9435.411315  12603.493540  452638.412200   \n",
       "\n",
       "                SD  publisherLabel         Mark  publisher_L     author_L  \\\n",
       "count  7054.000000     7054.000000  7054.000000  7054.000000  7054.000000   \n",
       "mean   1411.442590      615.735753    -0.175787     1.412815     0.465126   \n",
       "std     561.627091      378.364278     0.529577     1.579945     1.260539   \n",
       "min     869.003591        0.000000    -1.000000    -1.000000    -1.000000   \n",
       "25%     927.179708      202.000000     0.000000     0.000000    -1.000000   \n",
       "50%    1114.384481      643.000000     0.000000     2.000000     0.000000   \n",
       "75%    2106.372331      967.000000     0.000000     3.000000     1.000000   \n",
       "max    2177.757576     1186.000000     1.000000     3.000000     3.000000   \n",
       "\n",
       "       score_sentiment  magnitude_sentiment        tfidf           ID  \n",
       "count      7054.000000          7054.000000  7054.000000  7054.000000  \n",
       "mean          0.053884             0.375801     0.407626  3526.500000  \n",
       "std           0.481763             0.273717     0.186565  2036.458732  \n",
       "min          -2.000000            -2.000000     0.157630     0.000000  \n",
       "25%          -0.300000             0.200000     0.281280  1763.250000  \n",
       "50%           0.000000             0.300000     0.329700  3526.500000  \n",
       "75%           0.400000             0.600000     0.491838  5289.750000  \n",
       "max           0.900000             0.900000     1.633640  7053.000000  "
      ]
     },
     "execution_count": 5,
     "metadata": {},
     "output_type": "execute_result"
    }
   ],
   "source": [
    "df.describe()"
   ]
  },
  {
   "cell_type": "markdown",
   "metadata": {
    "slideshow": {
     "slide_type": "notes"
    }
   },
   "source": [
    "## Visulization"
   ]
  },
  {
   "cell_type": "code",
   "execution_count": 6,
   "metadata": {
    "slideshow": {
     "slide_type": "slide"
    }
   },
   "outputs": [
    {
     "data": {
      "text/plain": [
       "Text(0, 0.5, 'Frequency')"
      ]
     },
     "execution_count": 6,
     "metadata": {},
     "output_type": "execute_result"
    },
    {
     "data": {
      "image/png": "[encoded data removed]",
      "text/plain": [
       "<Figure size 432x288 with 1 Axes>"
      ]
     },
     "metadata": {
      "needs_background": "light"
     },
     "output_type": "display_data"
    }
   ],
   "source": [
    "plt.hist(df['score_sentiment'], bins = np.arange(-2.1, 1, 0.2), color = 'blue', edgecolor = 'black', linewidth = 0.8)\n",
    "plt.title('Distribution of Score Sentiment', fontsize = 17)\n",
    "plt.xlabel('Score Sentiment')\n",
    "plt.ylabel('Frequency')"
   ]
  },
  {
   "cell_type": "code",
   "execution_count": 7,
   "metadata": {
    "slideshow": {
     "slide_type": "slide"
    }
   },
   "outputs": [
    {
     "data": {
      "text/plain": [
       "Text(0, 0.5, 'Frequency')"
      ]
     },
     "execution_count": 7,
     "metadata": {},
     "output_type": "execute_result"
    },
    {
     "data": {
      "image/png": "[encoded data removed]",
      "text/plain": [
       "<Figure size 432x288 with 1 Axes>"
      ]
     },
     "metadata": {
      "needs_background": "light"
     },
     "output_type": "display_data"
    }
   ],
   "source": [
    "plt.hist(df['magnitude_sentiment'], bins = np.arange(-2.1, 1, 0.2), color = 'pink', edgecolor = 'black', linewidth = 0.8)\n",
    "plt.title('Distribution of Magnitude Sentiment', fontsize = 17)\n",
    "plt.xlabel('Magnitude Sentiment')\n",
    "plt.ylabel('Frequency')"
   ]
  },
  {
   "cell_type": "code",
   "execution_count": 8,
   "metadata": {
    "slideshow": {
     "slide_type": "slide"
    }
   },
   "outputs": [
    {
     "data": {
      "text/plain": [
       "Text(0, 0.5, 'Frequency')"
      ]
     },
     "execution_count": 8,
     "metadata": {},
     "output_type": "execute_result"
    },
    {
     "data": {
      "image/png": "[encoded data removed]",
      "text/plain": [
       "<Figure size 432x288 with 1 Axes>"
      ]
     },
     "metadata": {
      "needs_background": "light"
     },
     "output_type": "display_data"
    }
   ],
   "source": [
    "plt.hist(df['Close'] - df['Open'], bins = np.arange(-1.2, 0.4, 0.15), color = 'red', edgecolor = 'black', linewidth = 0.8)\n",
    "plt.title('Distribution of BTC Close-Minus-Open', fontsize = 17)\n",
    "plt.xlabel('Close Minus Open')\n",
    "plt.ylabel('Frequency')"
   ]
  },
  {
   "cell_type": "code",
   "execution_count": 9,
   "metadata": {
    "slideshow": {
     "slide_type": "slide"
    }
   },
   "outputs": [
    {
     "data": {
      "text/plain": [
       "Text(0, 0.5, 'Frequency')"
      ]
     },
     "execution_count": 9,
     "metadata": {},
     "output_type": "execute_result"
    },
    {
     "data": {
      "image/png": "[encoded data removed]",
      "text/plain": [
       "<Figure size 432x288 with 1 Axes>"
      ]
     },
     "metadata": {
      "needs_background": "light"
     },
     "output_type": "display_data"
    }
   ],
   "source": [
    "plt.hist(df['High'] - df['Low'], bins = np.arange(5, 40, 3), color = 'turquoise', edgecolor = 'black', linewidth = 0.8)\n",
    "plt.title('Distribution of BTC High-Minus-Low', fontsize = 17)\n",
    "plt.xlabel('High Minus Low')\n",
    "plt.ylabel('Frequency')"
   ]
  },
  {
   "cell_type": "code",
   "execution_count": 10,
   "metadata": {
    "slideshow": {
     "slide_type": "notes"
    }
   },
   "outputs": [],
   "source": [
    "#Apply DFS Techniques"
   ]
  },
  {
   "cell_type": "code",
   "execution_count": 14,
   "metadata": {
    "slideshow": {
     "slide_type": "notes"
    }
   },
   "outputs": [
    {
     "name": "stdout",
     "output_type": "stream",
     "text": [
      "out of 7054 articles we see that there are 2981 duplications.\n"
     ]
    }
   ],
   "source": [
    "es = ft.EntitySet(id = 'df')\n",
    "z = dict()\n",
    "dup_count = 0\n",
    "for x in df['title']:\n",
    "    if x in z:\n",
    "        dup_count += 1\n",
    "    else:\n",
    "        z[x] = 1\n",
    "print(\"out of \" + str(len(df)) + \" articles we see that there are \" + str(dup_count) + \" duplications.\")"
   ]
  },
  {
   "cell_type": "code",
   "execution_count": 34,
   "metadata": {
    "slideshow": {
     "slide_type": "slide"
    }
   },
   "outputs": [
    {
     "data": {
      "text/plain": [
       "[<Variable: index (dtype = index)>,\n",
       " <Variable: author (dtype = categorical)>,\n",
       " <Variable: contents (dtype = text)>,\n",
       " <Variable: description (dtype = text)>,\n",
       " <Variable: publisher (dtype = categorical)>,\n",
       " <Variable: source_url (dtype = text)>,\n",
       " <Variable: title (dtype = text)>,\n",
       " <Variable: date (dtype: datetime_time_index, format: None)>,\n",
       " <Variable: time (dtype: datetime, format: None)>,\n",
       " <Variable: Open (dtype = numeric)>,\n",
       " <Variable: High (dtype = numeric)>,\n",
       " <Variable: Low (dtype = numeric)>,\n",
       " <Variable: Close (dtype = numeric)>,\n",
       " <Variable: Volume_(BTC) (dtype = numeric)>,\n",
       " <Variable: Volume_(Currency) (dtype = numeric)>,\n",
       " <Variable: Weighted_Price (dtype = numeric)>,\n",
       " <Variable: Average (dtype = numeric)>,\n",
       " <Variable: Volatility (dtype = numeric)>,\n",
       " <Variable: SD (dtype = numeric)>,\n",
       " <Variable: publisherLabel (dtype = numeric)>,\n",
       " <Variable: Mark (dtype = numeric)>,\n",
       " <Variable: publisher_L (dtype = numeric)>,\n",
       " <Variable: author_L (dtype = numeric)>,\n",
       " <Variable: score_sentiment (dtype = numeric)>,\n",
       " <Variable: magnitude_sentiment (dtype = numeric)>,\n",
       " <Variable: tfidf (dtype = numeric)>,\n",
       " <Variable: ID (dtype = numeric)>]"
      ]
     },
     "execution_count": 34,
     "metadata": {},
     "output_type": "execute_result"
    }
   ],
   "source": [
    "es = es.entity_from_dataframe(entity_id = 'df', dataframe = df, \n",
    "                              index = 'index', time_index = 'date')\n",
    "es\n",
    "es[\"df\"].variables"
   ]
  },
  {
   "cell_type": "code",
   "execution_count": 35,
   "metadata": {
    "slideshow": {
     "slide_type": "slide"
    }
   },
   "outputs": [
    {
     "data": {
      "text/html": [
       "<div>\n",
       "<style scoped>\n",
       "    .dataframe tbody tr th:only-of-type {\n",
       "        vertical-align: middle;\n",
       "    }\n",
       "\n",
       "    .dataframe tbody tr th {\n",
       "        vertical-align: top;\n",
       "    }\n",
       "\n",
       "    .dataframe thead th {\n",
       "        text-align: right;\n",
       "    }\n",
       "</style>\n",
       "<table border=\"1\" class=\"dataframe\">\n",
       "  <thead>\n",
       "    <tr style=\"text-align: right;\">\n",
       "      <th></th>\n",
       "      <th>author</th>\n",
       "      <th>publisher</th>\n",
       "      <th>Open</th>\n",
       "      <th>High</th>\n",
       "      <th>Low</th>\n",
       "      <th>Close</th>\n",
       "      <th>Volume_(BTC)</th>\n",
       "      <th>Volume_(Currency)</th>\n",
       "      <th>Weighted_Price</th>\n",
       "      <th>Average</th>\n",
       "      <th>...</th>\n",
       "      <th>Close * tfidf</th>\n",
       "      <th>author_L * Volume_(Currency)</th>\n",
       "      <th>Mark * score_sentiment</th>\n",
       "      <th>score_sentiment * Volume_(Currency)</th>\n",
       "      <th>DAY(date)</th>\n",
       "      <th>DAY(time)</th>\n",
       "      <th>WEEKDAY(date)</th>\n",
       "      <th>WEEKDAY(time)</th>\n",
       "      <th>MONTH(date)</th>\n",
       "      <th>MONTH(time)</th>\n",
       "    </tr>\n",
       "    <tr>\n",
       "      <th>index</th>\n",
       "      <th></th>\n",
       "      <th></th>\n",
       "      <th></th>\n",
       "      <th></th>\n",
       "      <th></th>\n",
       "      <th></th>\n",
       "      <th></th>\n",
       "      <th></th>\n",
       "      <th></th>\n",
       "      <th></th>\n",
       "      <th></th>\n",
       "      <th></th>\n",
       "      <th></th>\n",
       "      <th></th>\n",
       "      <th></th>\n",
       "      <th></th>\n",
       "      <th></th>\n",
       "      <th></th>\n",
       "      <th></th>\n",
       "      <th></th>\n",
       "      <th></th>\n",
       "    </tr>\n",
       "  </thead>\n",
       "  <tbody>\n",
       "    <tr>\n",
       "      <th>0</th>\n",
       "      <td>Bitcoinist.net</td>\n",
       "      <td>Bitcoinist.com</td>\n",
       "      <td>8547.864403</td>\n",
       "      <td>8562.224306</td>\n",
       "      <td>8533.223049</td>\n",
       "      <td>8547.647486</td>\n",
       "      <td>35.615632</td>\n",
       "      <td>300510.2071</td>\n",
       "      <td>8547.594042</td>\n",
       "      <td>12603.49354</td>\n",
       "      <td>...</td>\n",
       "      <td>2696.355399</td>\n",
       "      <td>-300510.2071</td>\n",
       "      <td>0.0</td>\n",
       "      <td>120204.084643</td>\n",
       "      <td>2</td>\n",
       "      <td>17</td>\n",
       "      <td>4</td>\n",
       "      <td>6</td>\n",
       "      <td>2</td>\n",
       "      <td>3</td>\n",
       "    </tr>\n",
       "    <tr>\n",
       "      <th>1</th>\n",
       "      <td>Michelle Fox</td>\n",
       "      <td>CNBC</td>\n",
       "      <td>8547.864403</td>\n",
       "      <td>8562.224306</td>\n",
       "      <td>8533.223049</td>\n",
       "      <td>8547.647486</td>\n",
       "      <td>35.615632</td>\n",
       "      <td>300510.2071</td>\n",
       "      <td>8547.594042</td>\n",
       "      <td>12603.49354</td>\n",
       "      <td>...</td>\n",
       "      <td>4261.686084</td>\n",
       "      <td>0.0000</td>\n",
       "      <td>0.0</td>\n",
       "      <td>30051.021011</td>\n",
       "      <td>2</td>\n",
       "      <td>17</td>\n",
       "      <td>4</td>\n",
       "      <td>6</td>\n",
       "      <td>2</td>\n",
       "      <td>3</td>\n",
       "    </tr>\n",
       "    <tr>\n",
       "      <th>2</th>\n",
       "      <td>Scott Scanlon</td>\n",
       "      <td>Youbrandinc.com</td>\n",
       "      <td>8547.864403</td>\n",
       "      <td>8562.224306</td>\n",
       "      <td>8533.223049</td>\n",
       "      <td>8547.647486</td>\n",
       "      <td>35.615632</td>\n",
       "      <td>300510.2071</td>\n",
       "      <td>8547.594042</td>\n",
       "      <td>12603.49354</td>\n",
       "      <td>...</td>\n",
       "      <td>2717.724518</td>\n",
       "      <td>-300510.2071</td>\n",
       "      <td>0.0</td>\n",
       "      <td>120204.084643</td>\n",
       "      <td>2</td>\n",
       "      <td>17</td>\n",
       "      <td>4</td>\n",
       "      <td>6</td>\n",
       "      <td>2</td>\n",
       "      <td>3</td>\n",
       "    </tr>\n",
       "    <tr>\n",
       "      <th>3</th>\n",
       "      <td>Bruce Kleinman</td>\n",
       "      <td>Hackernoon.com</td>\n",
       "      <td>8547.864403</td>\n",
       "      <td>8562.224306</td>\n",
       "      <td>8533.223049</td>\n",
       "      <td>8547.647486</td>\n",
       "      <td>35.615632</td>\n",
       "      <td>300510.2071</td>\n",
       "      <td>8547.594042</td>\n",
       "      <td>12603.49354</td>\n",
       "      <td>...</td>\n",
       "      <td>8337.375358</td>\n",
       "      <td>0.0000</td>\n",
       "      <td>0.0</td>\n",
       "      <td>60102.042322</td>\n",
       "      <td>2</td>\n",
       "      <td>17</td>\n",
       "      <td>4</td>\n",
       "      <td>6</td>\n",
       "      <td>2</td>\n",
       "      <td>3</td>\n",
       "    </tr>\n",
       "    <tr>\n",
       "      <th>4</th>\n",
       "      <td>Jason Murphy</td>\n",
       "      <td>Crikey.com.au</td>\n",
       "      <td>8547.864403</td>\n",
       "      <td>8562.224306</td>\n",
       "      <td>8533.223049</td>\n",
       "      <td>8547.647486</td>\n",
       "      <td>35.615632</td>\n",
       "      <td>300510.2071</td>\n",
       "      <td>8547.594042</td>\n",
       "      <td>12603.49354</td>\n",
       "      <td>...</td>\n",
       "      <td>2880.215297</td>\n",
       "      <td>0.0000</td>\n",
       "      <td>0.0</td>\n",
       "      <td>240408.169286</td>\n",
       "      <td>2</td>\n",
       "      <td>17</td>\n",
       "      <td>4</td>\n",
       "      <td>6</td>\n",
       "      <td>2</td>\n",
       "      <td>3</td>\n",
       "    </tr>\n",
       "  </tbody>\n",
       "</table>\n",
       "<p>5 rows × 179 columns</p>\n",
       "</div>"
      ],
      "text/plain": [
       "               author        publisher         Open         High          Low  \\\n",
       "index                                                                           \n",
       "0      Bitcoinist.net   Bitcoinist.com  8547.864403  8562.224306  8533.223049   \n",
       "1        Michelle Fox             CNBC  8547.864403  8562.224306  8533.223049   \n",
       "2       Scott Scanlon  Youbrandinc.com  8547.864403  8562.224306  8533.223049   \n",
       "3      Bruce Kleinman   Hackernoon.com  8547.864403  8562.224306  8533.223049   \n",
       "4        Jason Murphy    Crikey.com.au  8547.864403  8562.224306  8533.223049   \n",
       "\n",
       "             Close  Volume_(BTC)  Volume_(Currency)  Weighted_Price  \\\n",
       "index                                                                 \n",
       "0      8547.647486     35.615632        300510.2071     8547.594042   \n",
       "1      8547.647486     35.615632        300510.2071     8547.594042   \n",
       "2      8547.647486     35.615632        300510.2071     8547.594042   \n",
       "3      8547.647486     35.615632        300510.2071     8547.594042   \n",
       "4      8547.647486     35.615632        300510.2071     8547.594042   \n",
       "\n",
       "           Average     ...       Close * tfidf  author_L * Volume_(Currency)  \\\n",
       "index                  ...                                                     \n",
       "0      12603.49354     ...         2696.355399                  -300510.2071   \n",
       "1      12603.49354     ...         4261.686084                        0.0000   \n",
       "2      12603.49354     ...         2717.724518                  -300510.2071   \n",
       "3      12603.49354     ...         8337.375358                        0.0000   \n",
       "4      12603.49354     ...         2880.215297                        0.0000   \n",
       "\n",
       "       Mark * score_sentiment  score_sentiment * Volume_(Currency)  DAY(date)  \\\n",
       "index                                                                           \n",
       "0                         0.0                        120204.084643          2   \n",
       "1                         0.0                         30051.021011          2   \n",
       "2                         0.0                        120204.084643          2   \n",
       "3                         0.0                         60102.042322          2   \n",
       "4                         0.0                        240408.169286          2   \n",
       "\n",
       "       DAY(time)  WEEKDAY(date)  WEEKDAY(time)  MONTH(date)  MONTH(time)  \n",
       "index                                                                     \n",
       "0             17              4              6            2            3  \n",
       "1             17              4              6            2            3  \n",
       "2             17              4              6            2            3  \n",
       "3             17              4              6            2            3  \n",
       "4             17              4              6            2            3  \n",
       "\n",
       "[5 rows x 179 columns]"
      ]
     },
     "execution_count": 35,
     "metadata": {},
     "output_type": "execute_result"
    }
   ],
   "source": [
    "# TODO: normalization and deep synthetic feature extraction\n",
    "features, feature_names = ft.dfs(entityset=es, target_entity='df',\n",
    "                                 agg_primitives=[\"mean\", \"max\", \"min\", \"std\", \"skew\"],\n",
    "                                 trans_primitives=['multiply_numeric', 'day', 'weekday', 'month'], max_depth = 1)\n",
    "\n",
    "features.head()"
   ]
  },
  {
   "cell_type": "code",
   "execution_count": null,
   "metadata": {},
   "outputs": [],
   "source": []
  }
 ],
 "metadata": {
  "celltoolbar": "Slideshow",
  "kernelspec": {
   "display_name": "Python 3",
   "language": "python",
   "name": "python3"
  },
  "language_info": {
   "codemirror_mode": {
    "name": "ipython",
    "version": 3
   },
   "file_extension": ".py",
   "mimetype": "text/x-python",
   "name": "python",
   "nbconvert_exporter": "python",
   "pygments_lexer": "ipython3",
   "version": "3.7.2"
  }
 },
 "nbformat": 4,
 "nbformat_minor": 2
}
